{
 "cells": [
  {
   "cell_type": "markdown",
   "metadata": {},
   "source": [
    "<span style=\"font-size:2em; color:blue\">\n",
    "    Tema 18: El TAD de las tablas\n",
    "</span>  \n",
    "\n",
    "----------\n",
    "\n",
    "[José A. Alonso](https://www.cs.us.es/~jalonso)  \n",
    "[Departamento de Ciencias de la Computación e I.A.](https://www.cs.us.es)  \n",
    "[Universidad de Sevilla](http://www.us.es)  \n",
    "Sevilla, 5 de agosto de 2019"
   ]
  },
  {
   "cell_type": "markdown",
   "metadata": {},
   "source": [
    "> __Notas:__ \n",
    "+ La versión interactiva de este tema se encuentra en [Binder](https://mybinder.org/v2/gh/jaalonso/Temas_interactivos_de_PF_con_Haskell/master?urlpath=lab/tree/temas/Tema-18.ipynb).\n",
    "+ Se desactiva el [corrector estilo de Haskell](https://github.com/gibiansky/IHaskell/wiki#opt-no-lint)."
   ]
  },
  {
   "cell_type": "code",
   "execution_count": 1,
   "metadata": {},
   "outputs": [],
   "source": [
    ":opt no-lint"
   ]
  },
  {
   "cell_type": "markdown",
   "metadata": {},
   "source": [
    "# El tipo predefinido de las tablas (\"arrays\")"
   ]
  },
  {
   "cell_type": "markdown",
   "metadata": {},
   "source": [
    "## La clase de los índices de las tablas\n",
    "\n",
    "+ La clase de los índices de las tablas es `Ix`.\n",
    "\n",
    "+ `Ix` se encuentra en la librería `Data.Ix`\n",
    "\n",
    "+ Información de la clase `Ix`:\n",
    "\n",
    "```sesion\n",
    "ghci> :info Ix\n",
    "class (Ord a) => Ix a where\n",
    "  range :: (a, a) -> [a]\n",
    "  index :: (a, a) -> a -> Int\n",
    "  inRange :: (a, a) -> a -> Bool\n",
    "  rangeSize :: (a, a) -> Int\n",
    "instance Ix Ordering -- Defined in GHC.Arr\n",
    "instance Ix Integer -- Defined in GHC.Arr\n",
    "instance Ix Int -- Defined in GHC.Arr\n",
    "instance Ix Char -- Defined in GHC.Arr\n",
    "instance Ix Bool -- Defined in GHC.Arr\n",
    "instance (Ix a, Ix b) => Ix (a, b)\n",
    "```\n",
    " "
   ]
  },
  {
   "cell_type": "code",
   "execution_count": 2,
   "metadata": {},
   "outputs": [
    {
     "data": {},
     "metadata": {},
     "output_type": "display_data"
    },
    {
     "data": {
      "text/html": [
       "<div style='background: rgb(247, 247, 247);'><form><textarea id='code'>class Ord a => Ix a where\n",
       "  range :: (a, a) -> [a]\n",
       "  index :: (a, a) -> a -> Int\n",
       "  GHC.Arr.unsafeIndex :: (a, a) -> a -> Int\n",
       "  inRange :: (a, a) -> a -> Bool\n",
       "  rangeSize :: (a, a) -> Int\n",
       "  GHC.Arr.unsafeRangeSize :: (a, a) -> Int\n",
       "  {-# MINIMAL range, (index | unsafeIndex), inRange #-}\n",
       "  \t-- Defined in ‘GHC.Arr’\n",
       "instance Ix Word -- Defined in ‘GHC.Arr’\n",
       "instance Ix Ordering -- Defined in ‘GHC.Arr’\n",
       "instance Ix Integer -- Defined in ‘GHC.Arr’\n",
       "instance Ix Int -- Defined in ‘GHC.Arr’\n",
       "instance Ix Char -- Defined in ‘GHC.Arr’\n",
       "instance Ix Bool -- Defined in ‘GHC.Arr’\n",
       "instance (Ix a1, Ix a2, Ix a3, Ix a4, Ix a5) => Ix (a1, a2, a3, a4, a5) -- Defined in ‘GHC.Arr’\n",
       "instance (Ix a1, Ix a2, Ix a3, Ix a4) => Ix (a1, a2, a3, a4) -- Defined in ‘GHC.Arr’\n",
       "instance (Ix a1, Ix a2, Ix a3) => Ix (a1, a2, a3) -- Defined in ‘GHC.Arr’\n",
       "instance (Ix a, Ix b) => Ix (a, b) -- Defined in ‘GHC.Arr’\n",
       "instance Ix () -- Defined in ‘GHC.Arr’\n",
       "</textarea></form></div><script>CodeMirror.fromTextArea(document.getElementById('code'), {mode: 'haskell', readOnly: 'nocursor'});</script>"
      ],
      "text/plain": [
       "class Ord a => Ix a where\n",
       "  range :: (a, a) -> [a]\n",
       "  index :: (a, a) -> a -> Int\n",
       "  GHC.Arr.unsafeIndex :: (a, a) -> a -> Int\n",
       "  inRange :: (a, a) -> a -> Bool\n",
       "  rangeSize :: (a, a) -> Int\n",
       "  GHC.Arr.unsafeRangeSize :: (a, a) -> Int\n",
       "  {-# MINIMAL range, (index | unsafeIndex), inRange #-}\n",
       "  \t-- Defined in ‘GHC.Arr’\n",
       "instance Ix Word -- Defined in ‘GHC.Arr’\n",
       "instance Ix Ordering -- Defined in ‘GHC.Arr’\n",
       "instance Ix Integer -- Defined in ‘GHC.Arr’\n",
       "instance Ix Int -- Defined in ‘GHC.Arr’\n",
       "instance Ix Char -- Defined in ‘GHC.Arr’\n",
       "instance Ix Bool -- Defined in ‘GHC.Arr’\n",
       "instance (Ix a1, Ix a2, Ix a3, Ix a4, Ix a5) => Ix (a1, a2, a3, a4, a5) -- Defined in ‘GHC.Arr’\n",
       "instance (Ix a1, Ix a2, Ix a3, Ix a4) => Ix (a1, a2, a3, a4) -- Defined in ‘GHC.Arr’\n",
       "instance (Ix a1, Ix a2, Ix a3) => Ix (a1, a2, a3) -- Defined in ‘GHC.Arr’\n",
       "instance (Ix a, Ix b) => Ix (a, b) -- Defined in ‘GHC.Arr’\n",
       "instance Ix () -- Defined in ‘GHC.Arr’"
      ]
     },
     "metadata": {},
     "output_type": "display_data"
    }
   ],
   "source": [
    "import Data.Ix\n",
    ":info Ix"
   ]
  },
  {
   "cell_type": "markdown",
   "metadata": {},
   "source": [
    "+ `(range (m,n))` es la lista de los índices desde `m` hasta `n`, en el orden del\n",
    "  índice. Por ejemplo,"
   ]
  },
  {
   "cell_type": "code",
   "execution_count": 3,
   "metadata": {},
   "outputs": [
    {
     "data": {
      "text/plain": [
       "[0,1,2,3,4]"
      ]
     },
     "metadata": {},
     "output_type": "display_data"
    }
   ],
   "source": [
    "range (0,4)          "
   ]
  },
  {
   "cell_type": "code",
   "execution_count": 4,
   "metadata": {},
   "outputs": [
    {
     "data": {
      "text/plain": [
       "[3,4,5,6,7,8,9]"
      ]
     },
     "metadata": {},
     "output_type": "display_data"
    }
   ],
   "source": [
    "range (3,9)          "
   ]
  },
  {
   "cell_type": "code",
   "execution_count": 5,
   "metadata": {},
   "outputs": [
    {
     "data": {
      "text/plain": [
       "\"bcdef\""
      ]
     },
     "metadata": {},
     "output_type": "display_data"
    }
   ],
   "source": [
    "range ('b','f')      "
   ]
  },
  {
   "cell_type": "code",
   "execution_count": 6,
   "metadata": {},
   "outputs": [
    {
     "data": {
      "text/plain": [
       "[(0,0),(0,1),(0,2),(1,0),(1,1),(1,2)]"
      ]
     },
     "metadata": {},
     "output_type": "display_data"
    }
   ],
   "source": [
    "range ((0,0),(1,2))  "
   ]
  },
  {
   "cell_type": "markdown",
   "metadata": {},
   "source": [
    "+ `(index (m,n) i)` es el ordinal del índice `i` dentro del rango `(m,n)`. Por\n",
    "  ejemplo,"
   ]
  },
  {
   "cell_type": "code",
   "execution_count": 7,
   "metadata": {},
   "outputs": [
    {
     "data": {
      "text/plain": [
       "2"
      ]
     },
     "metadata": {},
     "output_type": "display_data"
    }
   ],
   "source": [
    "index (3,9) 5              "
   ]
  },
  {
   "cell_type": "code",
   "execution_count": 8,
   "metadata": {},
   "outputs": [
    {
     "data": {
      "text/plain": [
       "3"
      ]
     },
     "metadata": {},
     "output_type": "display_data"
    }
   ],
   "source": [
    "index ('b','f') 'e'        "
   ]
  },
  {
   "cell_type": "code",
   "execution_count": 9,
   "metadata": {},
   "outputs": [
    {
     "data": {
      "text/plain": [
       "4"
      ]
     },
     "metadata": {},
     "output_type": "display_data"
    }
   ],
   "source": [
    "index ((0,0),(1,2)) (1,1)  "
   ]
  },
  {
   "cell_type": "markdown",
   "metadata": {},
   "source": [
    "+ `(inRange (m,n) i)` se verifica si el índice `i` está dentro del rango\n",
    "  limitado por `m` y `n`. Por ejemplo,"
   ]
  },
  {
   "cell_type": "code",
   "execution_count": 10,
   "metadata": {},
   "outputs": [
    {
     "data": {
      "text/plain": [
       "True"
      ]
     },
     "metadata": {},
     "output_type": "display_data"
    }
   ],
   "source": [
    "inRange (0,4) 3              "
   ]
  },
  {
   "cell_type": "code",
   "execution_count": 11,
   "metadata": {},
   "outputs": [
    {
     "data": {
      "text/plain": [
       "False"
      ]
     },
     "metadata": {},
     "output_type": "display_data"
    }
   ],
   "source": [
    "inRange (0,4) 7              "
   ]
  },
  {
   "cell_type": "code",
   "execution_count": 12,
   "metadata": {},
   "outputs": [
    {
     "data": {
      "text/plain": [
       "True"
      ]
     },
     "metadata": {},
     "output_type": "display_data"
    }
   ],
   "source": [
    "inRange ((0,0),(1,2)) (1,1)  "
   ]
  },
  {
   "cell_type": "code",
   "execution_count": 13,
   "metadata": {},
   "outputs": [
    {
     "data": {
      "text/plain": [
       "False"
      ]
     },
     "metadata": {},
     "output_type": "display_data"
    }
   ],
   "source": [
    "inRange ((0,0),(1,2)) (1,5)  "
   ]
  },
  {
   "cell_type": "markdown",
   "metadata": {},
   "source": [
    "+ `(rangeSize (m,n))` es el número de elementos en el rango limitado por `m` y\n",
    "  `n`. Por ejemplo,"
   ]
  },
  {
   "cell_type": "code",
   "execution_count": 14,
   "metadata": {},
   "outputs": [
    {
     "data": {
      "text/plain": [
       "7"
      ]
     },
     "metadata": {},
     "output_type": "display_data"
    }
   ],
   "source": [
    "rangeSize (3,9)          "
   ]
  },
  {
   "cell_type": "code",
   "execution_count": 15,
   "metadata": {},
   "outputs": [
    {
     "data": {
      "text/plain": [
       "5"
      ]
     },
     "metadata": {},
     "output_type": "display_data"
    }
   ],
   "source": [
    "rangeSize ('b','f')      "
   ]
  },
  {
   "cell_type": "code",
   "execution_count": 16,
   "metadata": {},
   "outputs": [
    {
     "data": {
      "text/plain": [
       "6"
      ]
     },
     "metadata": {},
     "output_type": "display_data"
    }
   ],
   "source": [
    "rangeSize ((0,0),(1,2))  "
   ]
  },
  {
   "cell_type": "markdown",
   "metadata": {},
   "source": [
    "## El tipo predefinido de las tablas (\"arrays\")\n",
    "\n",
    "+ La librería de las tablas es `Data.Array`.\n",
    "\n",
    "+ Para usar las tablas hay que escribir al principio del fichero"
   ]
  },
  {
   "cell_type": "code",
   "execution_count": 17,
   "metadata": {},
   "outputs": [],
   "source": [
    "import Data.Array"
   ]
  },
  {
   "cell_type": "markdown",
   "metadata": {},
   "source": [
    "+ Al importar `Data.Array` también se importa `Data.Ix`.\n",
    "\n",
    "+ `(Array i v)` es el tipo de las tablas con índice en `i` y valores en `v`.\n",
    "\n",
    "**Creación de tablas**\n",
    "\n",
    "+ `(array (m,n) ivs)` es la tabla de índices en el rango limitado por `m` y `n`\n",
    "  definida por la lista de asociación `ivs` (cuyos elementos son pares de la\n",
    "  forma (índice, valor)). Por ejemplo,"
   ]
  },
  {
   "cell_type": "code",
   "execution_count": 18,
   "metadata": {},
   "outputs": [
    {
     "data": {
      "text/plain": [
       "array (1,3) [(1,2),(2,4),(3,6)]"
      ]
     },
     "metadata": {},
     "output_type": "display_data"
    }
   ],
   "source": [
    "array (1,3) [(3,6),(1,2),(2,4)]"
   ]
  },
  {
   "cell_type": "code",
   "execution_count": 19,
   "metadata": {},
   "outputs": [
    {
     "data": {
      "text/plain": [
       "array (1,3) [(1,2),(2,4),(3,6)]"
      ]
     },
     "metadata": {},
     "output_type": "display_data"
    }
   ],
   "source": [
    "array (1,3) [(i,2*i) | i <- [1..3]]"
   ]
  },
  {
   "cell_type": "markdown",
   "metadata": {},
   "source": [
    "**Ejemplos de definiciones de tablas**\n",
    "\n",
    "+ `(cuadrados n)` es un vector de n+1 elementos tal que su elemento\n",
    "  i-ésimo es x². Por ejemplo,\n",
    "\n",
    "```sesion\n",
    "ghci> cuadrados 5\n",
    "array (0,5) [(0,0),(1,1),(2,4),(3,9),(4,16),(5,25)]\n",
    "```"
   ]
  },
  {
   "cell_type": "code",
   "execution_count": 20,
   "metadata": {},
   "outputs": [],
   "source": [
    "cuadrados :: Int -> Array Int Int\n",
    "cuadrados n = array (0,n) [(i,i^2) | i <- [0..n]]"
   ]
  },
  {
   "cell_type": "code",
   "execution_count": 21,
   "metadata": {},
   "outputs": [
    {
     "data": {
      "text/plain": [
       "array (0,5) [(0,0),(1,1),(2,4),(3,9),(4,16),(5,25)]"
      ]
     },
     "metadata": {},
     "output_type": "display_data"
    }
   ],
   "source": [
    "cuadrados 5"
   ]
  },
  {
   "cell_type": "markdown",
   "metadata": {},
   "source": [
    "+ `v` es un vector con 4 elementos de tipo carácter. Por ejemplo,"
   ]
  },
  {
   "cell_type": "code",
   "execution_count": 22,
   "metadata": {},
   "outputs": [],
   "source": [
    "v :: Array Integer Char\n",
    "v = array (1,4) [(3,'c'),(2,'a'), (1,'f'), (4,'e')]"
   ]
  },
  {
   "cell_type": "code",
   "execution_count": 23,
   "metadata": {},
   "outputs": [
    {
     "data": {
      "text/plain": [
       "array (1,4) [(1,'f'),(2,'a'),(3,'c'),(4,'e')]"
      ]
     },
     "metadata": {},
     "output_type": "display_data"
    }
   ],
   "source": [
    "v"
   ]
  },
  {
   "cell_type": "markdown",
   "metadata": {},
   "source": [
    "+ `m` es la matriz con 2 filas y 3 columnas tal que el elemento de la posición\n",
    "  (i,j) es el producto de i por j."
   ]
  },
  {
   "cell_type": "code",
   "execution_count": 24,
   "metadata": {},
   "outputs": [],
   "source": [
    "m :: Array (Int, Int) Int\n",
    "m = array ((1,1),(2,3)) [((i,j),i*j) | i <- [1..2], j <- [1..3]]"
   ]
  },
  {
   "cell_type": "code",
   "execution_count": 25,
   "metadata": {},
   "outputs": [
    {
     "data": {
      "text/plain": [
       "array ((1,1),(2,3)) [((1,1),1),((1,2),2),((1,3),3),((2,1),2),((2,2),4),((2,3),6)]"
      ]
     },
     "metadata": {},
     "output_type": "display_data"
    }
   ],
   "source": [
    "m"
   ]
  },
  {
   "cell_type": "markdown",
   "metadata": {},
   "source": [
    "+ Una tabla está indefinida si algún índice está fuera de rango."
   ]
  },
  {
   "cell_type": "code",
   "execution_count": 26,
   "metadata": {},
   "outputs": [
    {
     "data": {
      "text/plain": [
       "array (1,4) [(1,1),(2,4),(3,9),(4,16)]"
      ]
     },
     "metadata": {},
     "output_type": "display_data"
    }
   ],
   "source": [
    "array (1,4) [(i , i*i) | i <- [1..4]]"
   ]
  },
  {
   "cell_type": "code",
   "execution_count": 27,
   "metadata": {},
   "outputs": [
    {
     "ename": "",
     "evalue": "",
     "header": "MessageHeader {mhIdentifiers = [\"0ecff1c4-3f64-40b6-ba5a-884ee820c208\"], mhParentHeader = Just (MessageHeader {mhIdentifiers = [\"0ecff1c4-3f64-40b6-ba5a-884ee820c208\"], mhParentHeader = Nothing, mhMetadata = Metadata (fromList [(\"deletedCells\",Array []),(\"cellId\",String \"00e967b3-b0cf-4813-86e0-3067c29d29e2\")]), mhMessageId = UUID {uuidToString = \"26184ccb-b586-4beb-af43-b3a48c8b6533\"}, mhSessionId = UUID {uuidToString = \"0ecff1c4-3f64-40b6-ba5a-884ee820c208\"}, mhUsername = \"\", mhMsgType = ExecuteRequestMessage}), mhMetadata = Metadata (fromList []), mhMessageId = UUID {uuidToString = \"e96812fb-7a4a-474d-9006-e14ff74ee9c3\"}, mhSessionId = UUID {uuidToString = \"0ecff1c4-3f64-40b6-ba5a-884ee820c208\"}, mhUsername = \"\", mhMsgType = ExecuteErrorMessage}",
     "output_type": "error",
     "traceback": [
      "Ix{Integer}.index: Index (5) out of range ((1,4))"
     ]
    }
   ],
   "source": [
    "array (1,4) [(i , i*i) | i <- [1..5]]"
   ]
  },
  {
   "cell_type": "code",
   "execution_count": 28,
   "metadata": {},
   "outputs": [
    {
     "ename": "",
     "evalue": "",
     "header": "MessageHeader {mhIdentifiers = [\"0ecff1c4-3f64-40b6-ba5a-884ee820c208\"], mhParentHeader = Just (MessageHeader {mhIdentifiers = [\"0ecff1c4-3f64-40b6-ba5a-884ee820c208\"], mhParentHeader = Nothing, mhMetadata = Metadata (fromList [(\"deletedCells\",Array []),(\"cellId\",String \"1d3a6cf7-d42a-4a6e-a71f-68f6a8b275fb\")]), mhMessageId = UUID {uuidToString = \"0677a6ae-d7c2-4c34-81a5-e83a926eeb63\"}, mhSessionId = UUID {uuidToString = \"0ecff1c4-3f64-40b6-ba5a-884ee820c208\"}, mhUsername = \"\", mhMsgType = ExecuteRequestMessage}), mhMetadata = Metadata (fromList []), mhMessageId = UUID {uuidToString = \"ecf5dc7c-dce2-41be-9d83-f4a7728bd753\"}, mhSessionId = UUID {uuidToString = \"0ecff1c4-3f64-40b6-ba5a-884ee820c208\"}, mhUsername = \"\", mhMsgType = ExecuteErrorMessage}",
     "output_type": "error",
     "traceback": [
      "(Array.!): undefined array element"
     ]
    }
   ],
   "source": [
    "array (1,4) [(i , i*i) | i <- [1..3]]"
   ]
  },
  {
   "cell_type": "markdown",
   "metadata": {},
   "source": [
    "**Descomposición de tablas**\n",
    "\n",
    "+ `(t ! i)` es el valor del índice `i` en la tabla `t`. Por ejemplo,"
   ]
  },
  {
   "cell_type": "code",
   "execution_count": 29,
   "metadata": {},
   "outputs": [
    {
     "data": {
      "text/plain": [
       "array (1,4) [(1,'f'),(2,'a'),(3,'c'),(4,'e')]"
      ]
     },
     "metadata": {},
     "output_type": "display_data"
    }
   ],
   "source": [
    "v"
   ]
  },
  {
   "cell_type": "code",
   "execution_count": 30,
   "metadata": {},
   "outputs": [
    {
     "data": {
      "text/plain": [
       "'c'"
      ]
     },
     "metadata": {},
     "output_type": "display_data"
    }
   ],
   "source": [
    "v!3"
   ]
  },
  {
   "cell_type": "code",
   "execution_count": 31,
   "metadata": {},
   "outputs": [
    {
     "data": {
      "text/plain": [
       "array ((1,1),(2,3)) [((1,1),1),((1,2),2),((1,3),3),((2,1),2),((2,2),4),((2,3),6)]"
      ]
     },
     "metadata": {},
     "output_type": "display_data"
    }
   ],
   "source": [
    "m"
   ]
  },
  {
   "cell_type": "code",
   "execution_count": 32,
   "metadata": {},
   "outputs": [
    {
     "data": {
      "text/plain": [
       "6"
      ]
     },
     "metadata": {},
     "output_type": "display_data"
    }
   ],
   "source": [
    "m!(2,3)"
   ]
  },
  {
   "cell_type": "markdown",
   "metadata": {},
   "source": [
    "+ `(bounds t)` es el rango de la tabla `t`. Por ejemplo,"
   ]
  },
  {
   "cell_type": "code",
   "execution_count": 33,
   "metadata": {},
   "outputs": [
    {
     "data": {
      "text/plain": [
       "((1,1),(2,3))"
      ]
     },
     "metadata": {},
     "output_type": "display_data"
    }
   ],
   "source": [
    "bounds m  "
   ]
  },
  {
   "cell_type": "markdown",
   "metadata": {},
   "source": [
    "+ `(indices t)` es la lista de los índices de la tabla\n",
    "    `t`. Por ejemplo, "
   ]
  },
  {
   "cell_type": "code",
   "execution_count": 34,
   "metadata": {},
   "outputs": [
    {
     "data": {
      "text/plain": [
       "[(1,1),(1,2),(1,3),(2,1),(2,2),(2,3)]"
      ]
     },
     "metadata": {},
     "output_type": "display_data"
    }
   ],
   "source": [
    "indices m  "
   ]
  },
  {
   "cell_type": "markdown",
   "metadata": {},
   "source": [
    "+ `(elems t)` es la lista de los elementos de la tabla `t`. Por ejemplo,"
   ]
  },
  {
   "cell_type": "code",
   "execution_count": 35,
   "metadata": {},
   "outputs": [
    {
     "data": {
      "text/plain": [
       "[1,2,3,2,4,6]"
      ]
     },
     "metadata": {},
     "output_type": "display_data"
    }
   ],
   "source": [
    "elems m"
   ]
  },
  {
   "cell_type": "markdown",
   "metadata": {},
   "source": [
    "+ `(assocs t)` es la lista de asociaciones de la tabla `t`. Por ejemplo,"
   ]
  },
  {
   "cell_type": "code",
   "execution_count": 36,
   "metadata": {},
   "outputs": [
    {
     "data": {
      "text/plain": [
       "[((1,1),1),((1,2),2),((1,3),3),((2,1),2),((2,2),4),((2,3),6)]"
      ]
     },
     "metadata": {},
     "output_type": "display_data"
    }
   ],
   "source": [
    "assocs m"
   ]
  },
  {
   "cell_type": "markdown",
   "metadata": {},
   "source": [
    "**Modificación de tablas**\n",
    "\n",
    "+ `(t // ivs)` es la tabla `t` asignándole a los índices de la lista de\n",
    "  asociación `ivs` sus correspondientes valores. Por ejemplo,"
   ]
  },
  {
   "cell_type": "code",
   "execution_count": 37,
   "metadata": {},
   "outputs": [
    {
     "data": {
      "text/plain": [
       "array ((1,1),(2,3)) [((1,1),4),((1,2),2),((1,3),3),((2,1),2),((2,2),8),((2,3),6)]"
      ]
     },
     "metadata": {},
     "output_type": "display_data"
    }
   ],
   "source": [
    "m // [((1,1),4), ((2,2),8)]"
   ]
  },
  {
   "cell_type": "code",
   "execution_count": 38,
   "metadata": {},
   "outputs": [
    {
     "data": {
      "text/plain": [
       "array ((1,1),(2,3)) [((1,1),1),((1,2),2),((1,3),3),((2,1),2),((2,2),4),((2,3),6)]"
      ]
     },
     "metadata": {},
     "output_type": "display_data"
    }
   ],
   "source": [
    "m"
   ]
  },
  {
   "cell_type": "markdown",
   "metadata": {},
   "source": [
    "**Definición de tabla por recursión**\n",
    "\n",
    "+ `(fibs n)` es el vector formado por los `n` primeros términos de la sucesión\n",
    "  de Fibonacci. Por ejemplo,\n",
    "\n",
    "```sesion\n",
    "ghci> fibs 7\n",
    "array (0,7) [(0,1),(1,1),(2,2),(3,3),\n",
    "             (4,5),(5,8),(6,13),(7,21)]\n",
    "```"
   ]
  },
  {
   "cell_type": "code",
   "execution_count": 39,
   "metadata": {},
   "outputs": [],
   "source": [
    "fibs :: Int -> Array Int Int\n",
    "fibs n = a where \n",
    "    a = array (0,n) \n",
    "              ([(0,1),(1,1)] ++ \n",
    "               [(i,a!(i-1)+a!(i-2)) | i <- [2..n]])"
   ]
  },
  {
   "cell_type": "code",
   "execution_count": 40,
   "metadata": {},
   "outputs": [
    {
     "data": {
      "text/plain": [
       "array (0,7) [(0,1),(1,1),(2,2),(3,3),(4,5),(5,8),(6,13),(7,21)]"
      ]
     },
     "metadata": {},
     "output_type": "display_data"
    }
   ],
   "source": [
    "fibs 7"
   ]
  },
  {
   "cell_type": "markdown",
   "metadata": {},
   "source": [
    "**Otras funciones de creación de tablas**\n",
    "\n",
    "+ `(listArray (m,n) vs)` es la tabla cuyo rango es `(m,n)` y cuya lista de\n",
    "  valores es `vs`. Por ejemplo,"
   ]
  },
  {
   "cell_type": "code",
   "execution_count": 41,
   "metadata": {},
   "outputs": [
    {
     "data": {
      "text/plain": [
       "array (2,5) [(2,'R'),(3,'o'),(4,'m'),(5,'a')]"
      ]
     },
     "metadata": {},
     "output_type": "display_data"
    }
   ],
   "source": [
    "listArray (2,5) \"Roma\""
   ]
  },
  {
   "cell_type": "code",
   "execution_count": 42,
   "metadata": {},
   "outputs": [
    {
     "data": {
      "text/plain": [
       "array ((1,2),(2,4)) [((1,2),5),((1,3),6),((1,4),7),((2,2),8),((2,3),9),((2,4),10)]"
      ]
     },
     "metadata": {},
     "output_type": "display_data"
    }
   ],
   "source": [
    "listArray ((1,2),(2,4)) [5..12] "
   ]
  },
  {
   "cell_type": "markdown",
   "metadata": {},
   "source": [
    "**Construcción acumulativa de tablas**\n",
    "\n",
    "+ `(accumArray f v (m,n) ivs)` es la tabla de rango `(m,n)` tal que el valor\n",
    "  del índice `i` se obtiene acumulando la aplicación de la función `f` al valor\n",
    "  inicial `v` y a los valores de la lista de asociación `ivs` cuyo índice es\n",
    "  `i`. Por ejemplo,"
   ]
  },
  {
   "cell_type": "code",
   "execution_count": 43,
   "metadata": {},
   "outputs": [
    {
     "data": {
      "text/plain": [
       "array (1,3) [(1,6),(2,5),(3,0)]"
      ]
     },
     "metadata": {},
     "output_type": "display_data"
    }
   ],
   "source": [
    "accumArray (+) 0 (1,3) [(1,4),(2,5),(1,2)]"
   ]
  },
  {
   "cell_type": "code",
   "execution_count": 44,
   "metadata": {},
   "outputs": [
    {
     "data": {
      "text/plain": [
       "array (1,3) [(1,8),(2,5),(3,1)]"
      ]
     },
     "metadata": {},
     "output_type": "display_data"
    }
   ],
   "source": [
    "accumArray (*) 1 (1,3) [(1,4),(2,5),(1,2)]"
   ]
  },
  {
   "cell_type": "markdown",
   "metadata": {},
   "source": [
    "+ `(histograma r is)` es el vector formado contando cuantas veces aparecen los\n",
    "  elementos del rango r en la lista de índices is. Por ejemplo,\n",
    "\n",
    "```sesion\n",
    "ghci> histograma (0,5) [3,1,4,1,5,4,2,7]\n",
    "array (0,5) [(0,0),(1,2),(2,1),(3,1),(4,2),(5,1)]\n",
    "```"
   ]
  },
  {
   "cell_type": "code",
   "execution_count": 45,
   "metadata": {},
   "outputs": [],
   "source": [
    "histograma :: (Ix a, Num b) => (a,a) -> [a] -> Array a b\n",
    "histograma r is = \n",
    "    accumArray (+) 0 r [(i,1) | i <- is, inRange r i]"
   ]
  },
  {
   "cell_type": "code",
   "execution_count": 46,
   "metadata": {},
   "outputs": [
    {
     "data": {
      "text/plain": [
       "array (0,5) [(0,0),(1,2),(2,1),(3,1),(4,2),(5,1)]"
      ]
     },
     "metadata": {},
     "output_type": "display_data"
    }
   ],
   "source": [
    "histograma (0,5) [3,1,4,1,5,4,2,7]"
   ]
  },
  {
   "cell_type": "markdown",
   "metadata": {},
   "source": [
    "# Especificación del TAD de las tablas"
   ]
  },
  {
   "cell_type": "markdown",
   "metadata": {},
   "source": [
    "## Signatura del TAD de las tablas\n",
    "\n",
    "+ Signatura:\n",
    "\n",
    "```sesion\n",
    "tabla    :: Eq i => [(i,v)] -> Tabla i v           \n",
    "valor    :: Eq i => Tabla i v -> i -> v            \n",
    "modifica :: Eq i => (i,v) -> Tabla i v -> Tabla i v\n",
    "```\n",
    "\n",
    "+ Descripción de las operaciones:\n",
    "    + `(tabla ivs)` es la tabla correspondiente a la lista de asociación `ivs`\n",
    "      (que es una lista de pares formados por los índices y los valores).\n",
    "    + `(valor t i)` es el valor del índice `i` en la tabla `t`.\n",
    "    + `(modifica (i,v) t)` es la tabla obtenida modificando en la tabla `t` el\n",
    "       valor de `i` por `v`."
   ]
  },
  {
   "cell_type": "markdown",
   "metadata": {},
   "source": [
    "## Propiedades del TAD de las tablas\n",
    "\n",
    "+ `modifica (i,v') (modifica (i,v) t) = modifica (i,v') t`\n",
    "\n",
    "+ Si `i /= i'`, entonces  \n",
    "  `modifica (i',v') (modifica (i,v) t) = modifica (i,v) (modifica (i',v') t) `\n",
    "\n",
    "+ `valor (modifica (i,v) t) i = v`\n",
    "\n",
    "+ Si `i /= i'`, entonces  \n",
    "  `valor (modifica (i,v) (modifica (k',v') t)) i' = valor (modifica (k',v') t) i'`"
   ]
  },
  {
   "cell_type": "markdown",
   "metadata": {},
   "source": [
    "# Implementaciones del TAD de las tablas"
   ]
  },
  {
   "cell_type": "markdown",
   "metadata": {},
   "source": [
    "## Las tablas como funciones"
   ]
  },
  {
   "cell_type": "code",
   "execution_count": 47,
   "metadata": {},
   "outputs": [],
   "source": [
    "module TablaConFunciones  \n",
    "  (Tabla,\n",
    "   tabla,   -- Eq i => [(i,v)] -> Tabla i v           \n",
    "   valor,   -- Eq i => Tabla i v -> i -> v            \n",
    "   modifica -- Eq i => (i,v) -> Tabla i v -> Tabla i v\n",
    "  ) where\n",
    "\n",
    "-- Las tablas como funciones.\n",
    "newtype Tabla i v = Tbl (i -> v)\n",
    "\n",
    "-- Procedimiento de escritura.\n",
    "instance Show (Tabla i v) where\n",
    "  showsPrec _ _ = showString \"<<Una tabla>>\" \n",
    "\n",
    "-- Ejemplos de tablas:\n",
    "--    ghci> t1\n",
    "--    <<Una tabla>>\n",
    "t1, t2 :: Tabla Int Int\n",
    "t1 = tabla [(i,f i) | i <- [1..6] ] \n",
    "     where f x | x < 3     = x\n",
    "               | otherwise = 3-x\n",
    "t2 = tabla [(4,89), (1,90), (2,67)]\n",
    "    \n",
    "-- (valor t i) es el valor del índice i en la tabla t. Por ejemplo, \n",
    "--    valor t1 6  ==  -3\n",
    "--    valor t2 2  ==  67\n",
    "--    valor t2 5  ==  *** Exception: fuera de rango\n",
    "valor :: Eq i => Tabla i v -> i -> v\n",
    "valor (Tbl f) i = f i\n",
    "\n",
    "-- (modifica (i,v) t) es la tabla obtenida modificando en la tabla t el\n",
    "-- valor de i por v. Por ejemplo, \n",
    "--    valor t1 6                   ==  -3\n",
    "--    valor (modifica (6,9) t1) 6  ==  9\n",
    "modifica :: Eq i => (i,v) -> Tabla i v -> Tabla i v\n",
    "modifica (i,v) (Tbl f) = Tbl g\n",
    "  where g j | j == i    = v\n",
    "            | otherwise = f j\n",
    "\n",
    "-- (tabla ivs) es la tabla correspondiente a la lista de asociación\n",
    "-- ivs (que es una lista de pares formados por los índices y los\n",
    "-- valores). Por ejemplo,\n",
    "--    ghci> tabla [(4,89), (1,90), (2,67)]\n",
    "--    <<Una tabla>>\n",
    "tabla :: Eq i => [(i,v)] -> Tabla i v\n",
    "tabla = foldr modifica (Tbl (\\_ -> error \"fuera de rango\"))"
   ]
  },
  {
   "cell_type": "markdown",
   "metadata": {},
   "source": [
    "+ Ejemplos"
   ]
  },
  {
   "cell_type": "code",
   "execution_count": 48,
   "metadata": {},
   "outputs": [],
   "source": [
    "t1, t2 :: Tabla Int Int\n",
    "t1 = tabla [(i,f i) | i <- [1..6] ] \n",
    "     where f x | x < 3     = x\n",
    "               | otherwise = 3-x\n",
    "t2 = tabla [(4,89), (1,90), (2,67)]"
   ]
  },
  {
   "cell_type": "code",
   "execution_count": 49,
   "metadata": {},
   "outputs": [
    {
     "data": {
      "text/plain": [
       "-3"
      ]
     },
     "metadata": {},
     "output_type": "display_data"
    }
   ],
   "source": [
    "valor t1 6"
   ]
  },
  {
   "cell_type": "code",
   "execution_count": 50,
   "metadata": {},
   "outputs": [
    {
     "data": {
      "text/plain": [
       "67"
      ]
     },
     "metadata": {},
     "output_type": "display_data"
    }
   ],
   "source": [
    "valor t2 2"
   ]
  },
  {
   "cell_type": "code",
   "execution_count": 51,
   "metadata": {},
   "outputs": [
    {
     "ename": "",
     "evalue": "",
     "header": "MessageHeader {mhIdentifiers = [\"0ecff1c4-3f64-40b6-ba5a-884ee820c208\"], mhParentHeader = Just (MessageHeader {mhIdentifiers = [\"0ecff1c4-3f64-40b6-ba5a-884ee820c208\"], mhParentHeader = Nothing, mhMetadata = Metadata (fromList [(\"deletedCells\",Array []),(\"cellId\",String \"64b80eae-578c-4ed4-a11f-7c00d1f058df\")]), mhMessageId = UUID {uuidToString = \"722f7dd5-b907-446a-b7e0-3d446f94b12b\"}, mhSessionId = UUID {uuidToString = \"0ecff1c4-3f64-40b6-ba5a-884ee820c208\"}, mhUsername = \"\", mhMsgType = ExecuteRequestMessage}), mhMetadata = Metadata (fromList []), mhMessageId = UUID {uuidToString = \"0622c5bd-7335-4996-99c1-e03b22a890a8\"}, mhSessionId = UUID {uuidToString = \"0ecff1c4-3f64-40b6-ba5a-884ee820c208\"}, mhUsername = \"\", mhMsgType = ExecuteErrorMessage}",
     "output_type": "error",
     "traceback": [
      "fuera de rango\nCallStack (from HasCallStack):\n  error, called at TablaConFunciones.hs:46:36 in main:TablaConFunciones"
     ]
    }
   ],
   "source": [
    "valor t2 5"
   ]
  },
  {
   "cell_type": "code",
   "execution_count": 52,
   "metadata": {},
   "outputs": [
    {
     "data": {
      "text/plain": [
       "9"
      ]
     },
     "metadata": {},
     "output_type": "display_data"
    }
   ],
   "source": [
    "valor (modifica (6,9) t1) 6"
   ]
  },
  {
   "cell_type": "code",
   "execution_count": 53,
   "metadata": {},
   "outputs": [
    {
     "data": {
      "text/plain": [
       "<<Una tabla>>"
      ]
     },
     "metadata": {},
     "output_type": "display_data"
    }
   ],
   "source": [
    "tabla [(4,89), (1,90), (2,67)]"
   ]
  },
  {
   "cell_type": "markdown",
   "metadata": {},
   "source": [
    "+ Se borra la implementación"
   ]
  },
  {
   "cell_type": "code",
   "execution_count": 54,
   "metadata": {},
   "outputs": [],
   "source": [
    ":m - TablaConFunciones  "
   ]
  },
  {
   "cell_type": "markdown",
   "metadata": {},
   "source": [
    "## Las tablas como listas de asociación"
   ]
  },
  {
   "cell_type": "code",
   "execution_count": 55,
   "metadata": {},
   "outputs": [],
   "source": [
    "module TablaConListasDeAsociacion \n",
    "  (Tabla,\n",
    "   tabla,   -- Eq i => [(i,v)] -> Tabla i v           \n",
    "   valor,   -- Eq i => Tabla i v -> i -> v            \n",
    "   modifica -- Eq i => (i,v) -> Tabla i v -> Tabla i v\n",
    "  ) where\n",
    "\n",
    "-- Las tablas como listas de asociación.\n",
    "newtype Tabla i v = Tbl [(i,v)]\n",
    "  deriving Show\n",
    "\n",
    "-- Ejemplos de tabla:\n",
    "--    ghci> t1\n",
    "--    Tbl [(1,1),(2,2),(3,0),(4,-1),(5,-2),(6,-3)]\n",
    "--    ghci> t2\n",
    "--    Tbl [(4,89),(1,90),(2,67)]\n",
    "t1, t2 :: Tabla Int Int\n",
    "t1 = tabla [(i,f i) | i <- [1..6] ] \n",
    "  where f x | x < 3     = x\n",
    "            | otherwise = 3-x\n",
    "t2 = tabla [(4,89), (1,90), (2,67)]\n",
    "    \n",
    "-- (tabla ivs) es la tabla correspondiente a la lista de asociación\n",
    "-- ivs (que es una lista de pares formados por los índices y los\n",
    "-- valores). Por ejemplo,\n",
    "--    tabla [(4,89), (1,90), (2,67)]  ==  Tbl [(4,89),(1,90),(2,67)]\n",
    "tabla :: Eq i => [(i,v)] -> Tabla i v\n",
    "tabla ivs = Tbl ivs\n",
    "\n",
    "-- (valor t i) es el valor del índice i en la tabla t. Por ejemplo, \n",
    "--    valor t1 6  ==  -3\n",
    "--    valor t2 2  ==  67\n",
    "--    valor t2 5  ==  *** Exception: fuera de rango\n",
    "valor :: Eq i => Tabla i v -> i -> v\n",
    "valor (Tbl []) _ = error \"fuera de rango\"\n",
    "valor (Tbl ((j,v):r)) i\n",
    "  | i == j    = v\n",
    "  | otherwise = valor (Tbl r) i \n",
    "\n",
    "-- (modifica (i,x) t) es la tabla obtenida modificando en la tabla t el\n",
    "-- valor de i por x. Por ejemplo, \n",
    "--    valor t1 6                   ==  -3\n",
    "--    valor (modifica (6,9) t1) 6  ==  9\n",
    "modifica :: Eq i => (i,v) -> Tabla i v -> Tabla i v\n",
    "modifica p (Tbl []) = (Tbl [p])\n",
    "modifica p'@(i,_) (Tbl (p@(j,_):r))\n",
    "  | i == j     = Tbl (p':r)\n",
    "  | otherwise  = Tbl (p:r')\n",
    "  where Tbl r' = modifica p' (Tbl r)\n",
    "\n",
    "--- Las tablas son comparables por igualdad.\n",
    "instance (Eq i, Eq v) => Eq (Tabla i v) where\n",
    "  (Tbl [])        == (Tbl []) = True\n",
    "  (Tbl ((i,v):t)) == Tbl t'   = elem (i,v) t' && \n",
    "                                Tbl t == Tbl [p | p <- t', p /= (i,v)]"
   ]
  },
  {
   "cell_type": "code",
   "execution_count": 56,
   "metadata": {},
   "outputs": [],
   "source": [
    "t1, t2 :: Tabla Int Int\n",
    "t1 = tabla [(i,f i) | i <- [1..6] ] \n",
    "     where f x | x < 3     = x\n",
    "               | otherwise = 3-x\n",
    "t2 = tabla [(4,89), (1,90), (2,67)]"
   ]
  },
  {
   "cell_type": "code",
   "execution_count": 57,
   "metadata": {},
   "outputs": [
    {
     "data": {
      "text/plain": [
       "-3"
      ]
     },
     "metadata": {},
     "output_type": "display_data"
    }
   ],
   "source": [
    "valor t1 6"
   ]
  },
  {
   "cell_type": "code",
   "execution_count": 58,
   "metadata": {},
   "outputs": [
    {
     "data": {
      "text/plain": [
       "67"
      ]
     },
     "metadata": {},
     "output_type": "display_data"
    }
   ],
   "source": [
    "valor t2 2"
   ]
  },
  {
   "cell_type": "code",
   "execution_count": 59,
   "metadata": {},
   "outputs": [
    {
     "ename": "",
     "evalue": "",
     "header": "MessageHeader {mhIdentifiers = [\"0ecff1c4-3f64-40b6-ba5a-884ee820c208\"], mhParentHeader = Just (MessageHeader {mhIdentifiers = [\"0ecff1c4-3f64-40b6-ba5a-884ee820c208\"], mhParentHeader = Nothing, mhMetadata = Metadata (fromList [(\"deletedCells\",Array []),(\"cellId\",String \"fc3fcdc0-572c-4333-871f-48b700ac927d\")]), mhMessageId = UUID {uuidToString = \"a20e3f67-2374-48ae-a27f-1c3e62118c6f\"}, mhSessionId = UUID {uuidToString = \"0ecff1c4-3f64-40b6-ba5a-884ee820c208\"}, mhUsername = \"\", mhMsgType = ExecuteRequestMessage}), mhMetadata = Metadata (fromList []), mhMessageId = UUID {uuidToString = \"303d88ba-861e-422b-89e9-a9f7888df4cb\"}, mhSessionId = UUID {uuidToString = \"0ecff1c4-3f64-40b6-ba5a-884ee820c208\"}, mhUsername = \"\", mhMsgType = ExecuteErrorMessage}",
     "output_type": "error",
     "traceback": [
      "fuera de rango\nCallStack (from HasCallStack):\n  error, called at TablaConListasDeAsociacion.hs:35:20 in main:TablaConListasDeAsociacion"
     ]
    }
   ],
   "source": [
    "valor t2 5"
   ]
  },
  {
   "cell_type": "code",
   "execution_count": 60,
   "metadata": {},
   "outputs": [
    {
     "data": {
      "text/plain": [
       "9"
      ]
     },
     "metadata": {},
     "output_type": "display_data"
    }
   ],
   "source": [
    "valor (modifica (6,9) t1) 6"
   ]
  },
  {
   "cell_type": "code",
   "execution_count": 61,
   "metadata": {},
   "outputs": [
    {
     "data": {
      "text/plain": [
       "Tbl [(4,89),(1,90),(2,67)]"
      ]
     },
     "metadata": {},
     "output_type": "display_data"
    }
   ],
   "source": [
    "tabla [(4,89), (1,90), (2,67)]"
   ]
  },
  {
   "cell_type": "markdown",
   "metadata": {},
   "source": [
    "+ Se borra la implementación"
   ]
  },
  {
   "cell_type": "code",
   "execution_count": 62,
   "metadata": {},
   "outputs": [],
   "source": [
    ":m - TablaConListasDeAsociacion "
   ]
  },
  {
   "cell_type": "markdown",
   "metadata": {},
   "source": [
    "## Las tablas como matrices"
   ]
  },
  {
   "cell_type": "code",
   "execution_count": 63,
   "metadata": {},
   "outputs": [],
   "source": [
    "module TablaConMatrices \n",
    "  (Tabla,\n",
    "   tabla,     -- Eq i => [(i,v)] -> Tabla i v           \n",
    "   valor,     -- Eq i => Tabla i v -> i -> v            \n",
    "   modifica,  -- Eq i => (i,v) -> Tabla i v -> Tabla i v\n",
    "   tieneValor -- Ix i => Tabla i v -> i -> Bool\n",
    "  ) where\n",
    "\n",
    "import Data.Array (Array, Ix, array, (//), (!), indices, bounds, inRange)\n",
    "\n",
    "-- Las tablas como matrices.\n",
    "newtype Tabla i v = Tbl (Array i v)\n",
    "  deriving (Show, Eq)\n",
    "\n",
    "-- Ejemplos de tablas:\n",
    "--    ghci> t1\n",
    "--    Tbl (array (1,6) [(1,1),(2,2),(3,0),(4,-1),(5,-2),(6,-3)])\n",
    "--    ghci> t2\n",
    "--    Tbl (array (1,3) [(1,5),(2,4),(3,7)])\n",
    "t1, t2 :: Tabla Int Int\n",
    "t1 = tabla [(i,f i) | i <- [1..6] ] \n",
    "  where f x | x < 3     = x\n",
    "            | otherwise = 3-x\n",
    "t2 = tabla [(1,5),(2,4),(3,7)]\n",
    "    \n",
    "-- (tabla ivs) es la tabla correspondiente a la lista de asociación\n",
    "-- ivs (que es una lista de pares formados por los índices y los\n",
    "-- valores). Por ejemplo,\n",
    "--    ghci> tabla [(1,5),(3,7),(2,4)]\n",
    "--    Tbl (array (1,3) [(1,5),(2,4),(3,7)])\n",
    "tabla :: Ix i => [(i,v)] -> Tabla i v\n",
    "tabla ivs = Tbl (array (m,n) ivs)\n",
    "  where indices = [i | (i,_) <- ivs]\n",
    "        m       = minimum indices\n",
    "        n       = maximum indices\n",
    "\n",
    "-- (valor t i) es el valor del índice i en la tabla t. Por ejemplo, \n",
    "--    valor t1 6  ==  -3\n",
    "--    valor t2 2  ==   4\n",
    "--    valor t2 5  ==  *** Exception: Index (5) out of range ((1,3))\n",
    "valor :: Ix i => Tabla i v -> i -> v\n",
    "valor (Tbl t) i = t ! i\n",
    "\n",
    "-- (modifica (i,x) t) es la tabla obtenida modificando en la tabla t el\n",
    "-- valor de i por x. Por ejemplo, \n",
    "--    valor t1 6                   ==  -3\n",
    "--    valor (modifica (6,9) t1) 6  ==  9\n",
    "modifica :: Ix i => (i,v) -> Tabla i v -> Tabla i v\n",
    "modifica (i,v) (Tbl t)\n",
    "  | i `elem` indices t = Tbl (t // [(i,v)])\n",
    "  | otherwise          = Tbl t\n",
    "\n",
    "-- (cotas t) son las cotas de la tabla t. Por ejemplo,\n",
    "--    t2        ==  Tbl (array (1,3) [(1,5),(2,4),(3,7)])\n",
    "--    cotas t2  ==  (1,3)\n",
    "cotas :: Ix i => Tabla i v -> (i,i)\n",
    "cotas (Tbl t) = bounds t\n",
    "\n",
    "-- (tieneValor t x) se verifica si x es una clave de la tabla t. Por ejemplo,\n",
    "--    tieneValor t2 3  ==  True\n",
    "--    tieneValor t2 4  ==  False\n",
    "tieneValor :: Ix i => Tabla i v -> i -> Bool\n",
    "tieneValor t = inRange (cotas t)"
   ]
  },
  {
   "cell_type": "code",
   "execution_count": 64,
   "metadata": {},
   "outputs": [],
   "source": [
    "t1, t2 :: Tabla Int Int\n",
    "t1 = tabla [(i,f i) | i <- [1..6] ] \n",
    "  where f x | x < 3     = x\n",
    "            | otherwise = 3-x\n",
    "t2 = tabla [(1,5),(2,4),(3,7)]"
   ]
  },
  {
   "cell_type": "code",
   "execution_count": 65,
   "metadata": {},
   "outputs": [
    {
     "data": {
      "text/plain": [
       "-3"
      ]
     },
     "metadata": {},
     "output_type": "display_data"
    }
   ],
   "source": [
    "valor t1 6"
   ]
  },
  {
   "cell_type": "code",
   "execution_count": 66,
   "metadata": {},
   "outputs": [
    {
     "data": {
      "text/plain": [
       "4"
      ]
     },
     "metadata": {},
     "output_type": "display_data"
    }
   ],
   "source": [
    "valor t2 2"
   ]
  },
  {
   "cell_type": "code",
   "execution_count": 67,
   "metadata": {},
   "outputs": [
    {
     "ename": "",
     "evalue": "",
     "header": "MessageHeader {mhIdentifiers = [\"0ecff1c4-3f64-40b6-ba5a-884ee820c208\"], mhParentHeader = Just (MessageHeader {mhIdentifiers = [\"0ecff1c4-3f64-40b6-ba5a-884ee820c208\"], mhParentHeader = Nothing, mhMetadata = Metadata (fromList [(\"deletedCells\",Array []),(\"cellId\",String \"943ad35b-bdcb-4cd5-8201-ed3a54a8d069\")]), mhMessageId = UUID {uuidToString = \"3cfcd344-d1ba-43ed-8985-bbb872896bd2\"}, mhSessionId = UUID {uuidToString = \"0ecff1c4-3f64-40b6-ba5a-884ee820c208\"}, mhUsername = \"\", mhMsgType = ExecuteRequestMessage}), mhMetadata = Metadata (fromList []), mhMessageId = UUID {uuidToString = \"8151692e-6e50-4ce4-bb3f-6f607c023455\"}, mhSessionId = UUID {uuidToString = \"0ecff1c4-3f64-40b6-ba5a-884ee820c208\"}, mhUsername = \"\", mhMsgType = ExecuteErrorMessage}",
     "output_type": "error",
     "traceback": [
      "Ix{Int}.index: Index (5) out of range ((1,3))"
     ]
    }
   ],
   "source": [
    "valor t2 5"
   ]
  },
  {
   "cell_type": "code",
   "execution_count": 68,
   "metadata": {},
   "outputs": [
    {
     "data": {
      "text/plain": [
       "9"
      ]
     },
     "metadata": {},
     "output_type": "display_data"
    }
   ],
   "source": [
    "valor (modifica (6,9) t1) 6"
   ]
  },
  {
   "cell_type": "code",
   "execution_count": 69,
   "metadata": {},
   "outputs": [
    {
     "data": {
      "text/plain": [
       "Tbl (array (1,3) [(1,5),(2,4),(3,7)])"
      ]
     },
     "metadata": {},
     "output_type": "display_data"
    }
   ],
   "source": [
    "tabla [(1,5),(2,4),(3,7)]"
   ]
  },
  {
   "cell_type": "markdown",
   "metadata": {},
   "source": [
    "+ Se borra la implementación"
   ]
  },
  {
   "cell_type": "code",
   "execution_count": 70,
   "metadata": {},
   "outputs": [],
   "source": [
    ":m - TablaConMatrices "
   ]
  },
  {
   "cell_type": "markdown",
   "metadata": {},
   "source": [
    "# Comprobación de las implementaciones con QuickCheck"
   ]
  },
  {
   "cell_type": "code",
   "execution_count": 71,
   "metadata": {},
   "outputs": [],
   "source": [
    "{-# LANGUAGE FlexibleInstances #-}\n",
    "module TablaPropiedades where\n",
    "\n",
    "-- Nota: Hay que elegir una implementación del TAD tabla:\n",
    "import TablaConListasDeAsociacion\n",
    "-- import TablaConMatrices \n",
    "\n",
    "import Test.QuickCheck\n",
    "\n",
    "-- ---------------------------------------------------------------------\n",
    "-- Generadores de tablas                                              --\n",
    "-- ---------------------------------------------------------------------\n",
    "\n",
    "-- genTabla es un generador de tablas. Por ejemplo,\n",
    "--    ghci> sample genTabla\n",
    "--    Tbl [(1,0)]\n",
    "--    Tbl [(1,-1)]\n",
    "--    Tbl [(1,0),(2,-1),(3,1),(4,1),(5,0)]\n",
    "--    Tbl [(1,1),(2,-1),(3,-1),(4,3)]\n",
    "--    Tbl [(1,3),(2,-5),(3,-7),(4,-2),(5,-8)]\n",
    "--    Tbl [(1,16),(2,-6),(3,-13),(4,-7),(5,2),(6,11)]\n",
    "--    Tbl [(1,-4),(2,-1),(3,3),(4,5)]\n",
    "--    Tbl [(1,-8),(2,16),(3,32)]\n",
    "genTabla :: Gen (Tabla Int Int)\n",
    "genTabla = do\n",
    "  x <- arbitrary\n",
    "  xs <- listOf arbitrary\n",
    "  return (tabla (zip [1..] (x:xs)))\n",
    "\n",
    "-- Las tablas son concreciones de los arbitrarios.\n",
    "instance Arbitrary (Tabla Int Int) where\n",
    "  arbitrary = genTabla\n",
    "\n",
    "-- ---------------------------------------------------------------------\n",
    "-- Propiedades                                                        --\n",
    "-- ---------------------------------------------------------------------\n",
    "\n",
    "-- Propiedades de modifica\n",
    "-- -----------------------\n",
    "\n",
    "-- Propiedad. Al modificar una tabla dos veces con la misma clave se\n",
    "-- obtiene el mismos resultado que modificarla una vez con el último\n",
    "-- valor. \n",
    "prop_modifica_modifica_1 :: Int -> Int -> Int -> Tabla Int Int -> Bool\n",
    "prop_modifica_modifica_1 i v v' t =\n",
    "  modifica (i,v') (modifica (i,v) t) \n",
    "  == modifica (i,v') t \n",
    "\n",
    "-- Comprobación.\n",
    "--    ghci> quickCheck prop_modifica_modifica_1\n",
    "--    +++ OK, passed 100 tests.\n",
    "\n",
    "-- Propiedad. Al modificar una tabla con dos pares con claves distintas\n",
    "-- no importa el orden en que se añadan los pares. \n",
    "prop_modifica_modifica_2 :: Int -> Int -> Int -> Int -> Tabla Int Int \n",
    "                              -> Property\n",
    "prop_modifica_modifica_2 i i' v v' t =\n",
    "  i /= i' ==>\n",
    "  modifica (i',v') (modifica (i,v) t) \n",
    "  == modifica (i,v) (modifica (i',v') t) \n",
    "\n",
    "-- Comprobación.\n",
    "--    ghci> quickCheck prop_modifica_modifica_2\n",
    "--    +++ OK, passed 100 tests.\n",
    "\n",
    "-- Propiedades de valor\n",
    "-- --------------------\n",
    "\n",
    "-- Propiedad. El valor de la clave i en la tabla obtenida añadiéndole el\n",
    "-- par (i,v) a la tabla t es v.\n",
    "prop_valor_modifica_1 :: Int -> Int -> Tabla Int Int -> Property\n",
    "prop_valor_modifica_1 i v t =\n",
    "  modifica (i,v) t /= t ==>\n",
    "  valor (modifica (i,v) t) i == v\n",
    "\n",
    "-- Comprobación.\n",
    "--    ghci> quickCheck prop_valor_modifica_1\n",
    "--    +++ OK, passed 100 tests.\n",
    "\n",
    "-- Propiedad. Sean i y i' dos claves distintas. El valor de la clave i'\n",
    "-- en la tabla obtenida añadiéndole el par (i,v) a la tabla t' (que\n",
    "-- contiene la clave i') es el valor de i' en t'. \n",
    "prop_valor_modifica_2 :: Int -> Int -> Int -> Int -> Tabla Int Int \n",
    "                            -> Property\n",
    "prop_valor_modifica_2 i v i' v' t =\n",
    "  modifica (i',v') t /= t &&\n",
    "  modifica (i,v) t' /= t' &&\n",
    "  i /= i'\n",
    "  ==>\n",
    "  valor (modifica (i,v) t') i' == valor t' i'\n",
    "  where t' = modifica (i',v') t\n",
    "\n",
    "-- Comprobación.\n",
    "--    ghci> quickCheck prop_valor_modifica_2\n",
    "--    +++ OK, passed 100 tests."
   ]
  },
  {
   "cell_type": "markdown",
   "metadata": {},
   "source": [
    "+ Comprobación de las propiedades"
   ]
  },
  {
   "cell_type": "code",
   "execution_count": 72,
   "metadata": {},
   "outputs": [
    {
     "data": {
      "text/plain": [
       "+++ OK, passed 100 tests."
      ]
     },
     "metadata": {},
     "output_type": "display_data"
    },
    {
     "data": {
      "text/plain": [
       "+++ OK, passed 100 tests; 17 discarded."
      ]
     },
     "metadata": {},
     "output_type": "display_data"
    },
    {
     "data": {
      "text/plain": [
       "+++ OK, passed 100 tests."
      ]
     },
     "metadata": {},
     "output_type": "display_data"
    },
    {
     "data": {
      "text/plain": [
       "+++ OK, passed 100 tests; 18 discarded."
      ]
     },
     "metadata": {},
     "output_type": "display_data"
    }
   ],
   "source": [
    "import Test.QuickCheck\n",
    "quickCheck prop_modifica_modifica_1\n",
    "quickCheck prop_modifica_modifica_2\n",
    "quickCheck prop_valor_modifica_1\n",
    "quickCheck prop_valor_modifica_2"
   ]
  },
  {
   "cell_type": "markdown",
   "metadata": {},
   "source": [
    "> **Nota** Se borran los ficheros de los módulos usados"
   ]
  },
  {
   "cell_type": "code",
   "execution_count": 73,
   "metadata": {},
   "outputs": [
    {
     "data": {
      "text/plain": []
     },
     "metadata": {},
     "output_type": "display_data"
    }
   ],
   "source": [
    ":! rm -f *.hs *.hi *.o *.dyn_*"
   ]
  },
  {
   "cell_type": "markdown",
   "metadata": {},
   "source": [
    "# Referencias\n",
    "\n",
    "+ F. Rabhi y G. Lapalme\n",
    "  [Algorithms: A functional programming approach](https://www.iro.umontreal.ca/~lapalme/Algorithms-functional.html)\n",
    "    + Cap. 5.6. Tables."
   ]
  }
 ],
 "metadata": {
  "kernelspec": {
   "display_name": "Haskell",
   "language": "haskell",
   "name": "haskell"
  },
  "language_info": {
   "codemirror_mode": "ihaskell",
   "file_extension": ".hs",
   "name": "haskell",
   "pygments_lexer": "Haskell",
   "version": "8.6.5"
  },
  "toc-autonumbering": true
 },
 "nbformat": 4,
 "nbformat_minor": 4
}
