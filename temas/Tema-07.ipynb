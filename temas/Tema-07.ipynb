{
 "cells": [
  {
   "cell_type": "markdown",
   "metadata": {},
   "source": [
    "# Tema 7: Funciones de orden superior\n",
    "[José A. Alonso](https://www.cs.us.es/~jalonso) (Univ. de Sevilla, 3 de agosto de 2019)"
   ]
  },
  {
   "cell_type": "markdown",
   "metadata": {},
   "source": [
    "> __Notas:__ \n",
    "+ La versión interactiva de este tema se encuentra en [Binder](https://mybinder.org/v2/gh/jaalonso/Temas_interactivos_de_PF_con_Haskell/master?urlpath=lab/tree/temas/Tema-07.ipynb).\n",
    "+ Se desactiva el [corrector estilo de Haskell](https://github.com/gibiansky/IHaskell/wiki#opt-no-lint)."
   ]
  },
  {
   "cell_type": "code",
   "execution_count": 1,
   "metadata": {},
   "outputs": [],
   "source": [
    ":opt no-lint"
   ]
  },
  {
   "cell_type": "markdown",
   "metadata": {},
   "source": [
    "**Librerías auxiliares**\n",
    "\n",
    "+ En este tema se usarán las siguientes librerías:"
   ]
  },
  {
   "cell_type": "code",
   "execution_count": 2,
   "metadata": {},
   "outputs": [],
   "source": [
    "import Data.Char\n",
    "import Test.QuickCheck\n",
    "import Test.QuickCheck.Function"
   ]
  },
  {
   "cell_type": "markdown",
   "metadata": {},
   "source": [
    "Funciones de orden superior\n",
    "===========================\n",
    "\n",
    "**Funciones de orden superior**\n",
    "\n",
    "+ Una función es *de orden superior* si toma una función como argumento o\n",
    "  devuelve una función como resultado.\n",
    "\n",
    "+ `(dosVeces f x)` es el resultado de aplicar `f` a `f x`. Por ejemplo,\n",
    "\n",
    "```sesion\n",
    "dosVeces (*3) 2           ==  18\n",
    "dosVeces reverse [2,5,7]  ==  [2,5,7]  \n",
    "```"
   ]
  },
  {
   "cell_type": "code",
   "execution_count": 3,
   "metadata": {},
   "outputs": [],
   "source": [
    "dosVeces :: (a -> a) -> a -> a\n",
    "dosVeces f x = f (f x)"
   ]
  },
  {
   "cell_type": "code",
   "execution_count": 4,
   "metadata": {},
   "outputs": [
    {
     "data": {
      "text/plain": [
       "18"
      ]
     },
     "metadata": {},
     "output_type": "display_data"
    }
   ],
   "source": [
    "dosVeces (*3) 2           "
   ]
  },
  {
   "cell_type": "code",
   "execution_count": 5,
   "metadata": {},
   "outputs": [
    {
     "data": {
      "text/plain": [
       "[2,5,7]"
      ]
     },
     "metadata": {},
     "output_type": "display_data"
    }
   ],
   "source": [
    "dosVeces reverse [2,5,7]  "
   ]
  },
  {
   "cell_type": "markdown",
   "metadata": {},
   "source": [
    "+ Prop: `dosVeces reverse = id`, donde `id` es la función identidad.\n",
    "\n",
    "```haskell\n",
    "id :: a -> a\n",
    "id x =  x\n",
    "```\n",
    "\n",
    "**Usos de las funciones de orden superior**\n",
    "\n",
    "+ Definición de patrones de programación.\n",
    "    + Aplicación de una función a todos los elementos de una lista.\n",
    "    + Filtrado de listas por propiedades.\n",
    "    + Patrones de recursión sobre listas.\n",
    "\n",
    "+ Diseño de lenguajes de dominio específico:\n",
    "    + Lenguajes para procesamiento de mensajes.\n",
    "    + Analizadores sintácticos.\n",
    "    + Procedimientos de entrada/salida.\n",
    "\n",
    "+ Uso de las propiedades algebraicas de las funciones de orden superior para\n",
    "  razonar sobre programas.\n",
    "\n",
    "Procesamiento de listas\n",
    "=======================\n",
    "\n",
    "La función `map`\n",
    "----------------\n",
    "\n",
    "**La función `map`: Definición**\n",
    "\n",
    "+ `(map f xs)` es la lista obtenida aplicando `f` a cada elemento de `xs`. Por\n",
    "    ejemplo,"
   ]
  },
  {
   "cell_type": "code",
   "execution_count": 6,
   "metadata": {},
   "outputs": [
    {
     "data": {
      "text/plain": [
       "[6,8,14]"
      ]
     },
     "metadata": {},
     "output_type": "display_data"
    }
   ],
   "source": [
    "map (*2) [3,4,7]     "
   ]
  },
  {
   "cell_type": "code",
   "execution_count": 7,
   "metadata": {},
   "outputs": [
    {
     "data": {
      "text/plain": [
       "[1.0,1.4142135623730951,2.0]"
      ]
     },
     "metadata": {},
     "output_type": "display_data"
    }
   ],
   "source": [
    "map sqrt [1,2,4]     "
   ]
  },
  {
   "cell_type": "code",
   "execution_count": 8,
   "metadata": {},
   "outputs": [
    {
     "data": {
      "text/plain": [
       "[False,True,False,True,False]"
      ]
     },
     "metadata": {},
     "output_type": "display_data"
    }
   ],
   "source": [
    "map even [1..5]      "
   ]
  },
  {
   "cell_type": "markdown",
   "metadata": {},
   "source": [
    "+ Definición de `map` por comprensión:"
   ]
  },
  {
   "cell_type": "code",
   "execution_count": 9,
   "metadata": {},
   "outputs": [],
   "source": [
    "map' :: (a -> b) -> [a] -> [b]\n",
    "map' f xs =  [f x | x <- xs]"
   ]
  },
  {
   "cell_type": "code",
   "execution_count": 10,
   "metadata": {},
   "outputs": [
    {
     "data": {
      "text/plain": [
       "[6,8,14]"
      ]
     },
     "metadata": {},
     "output_type": "display_data"
    }
   ],
   "source": [
    "map' (*2) [3,4,7]"
   ]
  },
  {
   "cell_type": "markdown",
   "metadata": {},
   "source": [
    "+ Definición de `map` por recursión:"
   ]
  },
  {
   "cell_type": "code",
   "execution_count": 11,
   "metadata": {},
   "outputs": [],
   "source": [
    "map'' :: (a -> b) -> [a] -> [b]\n",
    "map'' _ []     = []\n",
    "map'' f (x:xs) = f x : map'' f xs"
   ]
  },
  {
   "cell_type": "code",
   "execution_count": 12,
   "metadata": {},
   "outputs": [
    {
     "data": {
      "text/plain": [
       "[6,8,14]"
      ]
     },
     "metadata": {},
     "output_type": "display_data"
    }
   ],
   "source": [
    "map' (*2) [3,4,7]"
   ]
  },
  {
   "cell_type": "markdown",
   "metadata": {},
   "source": [
    "**Relación entre `sum` y `map`**\n",
    "\n",
    "+ La función `sum`:"
   ]
  },
  {
   "cell_type": "code",
   "execution_count": 13,
   "metadata": {},
   "outputs": [],
   "source": [
    "sum :: [Int] -> Int\n",
    "sum []     = 0                \n",
    "sum (x:xs) = x + sum xs       "
   ]
  },
  {
   "cell_type": "code",
   "execution_count": 14,
   "metadata": {},
   "outputs": [
    {
     "data": {
      "text/plain": [
       "10"
      ]
     },
     "metadata": {},
     "output_type": "display_data"
    }
   ],
   "source": [
    "sum [3,2,5]"
   ]
  },
  {
   "cell_type": "markdown",
   "metadata": {},
   "source": [
    "+ Propiedad: `sum (map (2*) xs) = 2 * sum xs`\n",
    "\n",
    "+ Comprobación con QuickCheck:"
   ]
  },
  {
   "cell_type": "code",
   "execution_count": 15,
   "metadata": {},
   "outputs": [],
   "source": [
    "prop_sum_map :: [Int] -> Bool\n",
    "prop_sum_map xs = sum (map (2*) xs) == 2 * sum xs"
   ]
  },
  {
   "cell_type": "code",
   "execution_count": 16,
   "metadata": {},
   "outputs": [
    {
     "data": {
      "text/plain": [
       "+++ OK, passed 100 tests."
      ]
     },
     "metadata": {},
     "output_type": "display_data"
    }
   ],
   "source": [
    "quickCheck prop_sum_map"
   ]
  },
  {
   "cell_type": "markdown",
   "metadata": {},
   "source": [
    "La función `filter`\n",
    "-------------------\n",
    "\n",
    "**La función `filter`**\n",
    "\n",
    "+ `filter p xs` es la lista de los elementos de `xs` que cumplen la propiedad\n",
    "  `p`. Por ejemplo,\n",
    "\n",
    "```sesion\n",
    "filter even [1,3,5,4,2,6,1] == [4,2,6]\n",
    "filter (>3) [1,3,5,4,2,6,1] == [5,4,6]  \n",
    "```\n",
    "\n",
    "+ Definición de `filter` por comprensión:"
   ]
  },
  {
   "cell_type": "code",
   "execution_count": 17,
   "metadata": {},
   "outputs": [],
   "source": [
    "filter :: (a -> Bool) -> [a] -> [a]\n",
    "filter p xs =  [x | x <- xs, p x]"
   ]
  },
  {
   "cell_type": "code",
   "execution_count": 18,
   "metadata": {},
   "outputs": [
    {
     "data": {
      "text/plain": [
       "[4,2,6]"
      ]
     },
     "metadata": {},
     "output_type": "display_data"
    }
   ],
   "source": [
    "filter even [1,3,5,4,2,6,1]"
   ]
  },
  {
   "cell_type": "code",
   "execution_count": 19,
   "metadata": {},
   "outputs": [
    {
     "data": {
      "text/plain": [
       "[4,2,6]"
      ]
     },
     "metadata": {},
     "output_type": "display_data"
    }
   ],
   "source": [
    "filter even [1,3,5,4,2,6,1]"
   ]
  },
  {
   "cell_type": "markdown",
   "metadata": {},
   "source": [
    "+ Definición de `filter` por recursión:"
   ]
  },
  {
   "cell_type": "code",
   "execution_count": 20,
   "metadata": {},
   "outputs": [],
   "source": [
    "filter :: (a -> Bool) -> [a] -> [a]\n",
    "filter _ []                 = []\n",
    "filter p (x:xs) | p x       = x : filter p xs\n",
    "                | otherwise = filter p xs"
   ]
  },
  {
   "cell_type": "code",
   "execution_count": 21,
   "metadata": {},
   "outputs": [
    {
     "data": {
      "text/plain": [
       "[4,2,6]"
      ]
     },
     "metadata": {},
     "output_type": "display_data"
    }
   ],
   "source": [
    "filter even [1,3,5,4,2,6,1]"
   ]
  },
  {
   "cell_type": "code",
   "execution_count": 22,
   "metadata": {},
   "outputs": [
    {
     "data": {
      "text/plain": [
       "[4,2,6]"
      ]
     },
     "metadata": {},
     "output_type": "display_data"
    }
   ],
   "source": [
    "filter even [1,3,5,4,2,6,1]"
   ]
  },
  {
   "cell_type": "markdown",
   "metadata": {},
   "source": [
    "**Uso conjunto de `map` y `filter`**\n",
    "\n",
    "+ `sumaCuadradosPares xs` es la suma de los cuadrados de los números pares de\n",
    "  la lista `xs`. Por ejemplo,\n",
    "\n",
    "```sesion\n",
    "sumaCuadradosPares [1..5]  ==  20  \n",
    "```"
   ]
  },
  {
   "cell_type": "code",
   "execution_count": 23,
   "metadata": {},
   "outputs": [],
   "source": [
    "sumaCuadradosPares :: [Int] -> Int\n",
    "sumaCuadradosPares xs = sum (map (^2) (filter even xs))"
   ]
  },
  {
   "cell_type": "code",
   "execution_count": 24,
   "metadata": {},
   "outputs": [
    {
     "data": {
      "text/plain": [
       "20"
      ]
     },
     "metadata": {},
     "output_type": "display_data"
    }
   ],
   "source": [
    "sumaCuadradosPares [1..5]"
   ]
  },
  {
   "cell_type": "markdown",
   "metadata": {},
   "source": [
    "+ Definición por comprensión:"
   ]
  },
  {
   "cell_type": "code",
   "execution_count": 25,
   "metadata": {},
   "outputs": [],
   "source": [
    "sumaCuadradosPares' :: [Int] -> Int\n",
    "sumaCuadradosPares' xs = sum [x^2 | x <- xs, even x]  "
   ]
  },
  {
   "cell_type": "code",
   "execution_count": 26,
   "metadata": {},
   "outputs": [
    {
     "data": {
      "text/plain": [
       "20"
      ]
     },
     "metadata": {},
     "output_type": "display_data"
    }
   ],
   "source": [
    "sumaCuadradosPares [1..5]"
   ]
  },
  {
   "cell_type": "markdown",
   "metadata": {},
   "source": [
    "**Predefinidas de orden superior para procesar listas**\n",
    "\n",
    "+ `all p xs` se verifica si todos los elementos de `xs` cumplen la propiedad\n",
    "  `p`. Por ejemplo,"
   ]
  },
  {
   "cell_type": "code",
   "execution_count": 27,
   "metadata": {},
   "outputs": [
    {
     "data": {
      "text/plain": [
       "True"
      ]
     },
     "metadata": {},
     "output_type": "display_data"
    }
   ],
   "source": [
    "all odd [1,3,5]  "
   ]
  },
  {
   "cell_type": "code",
   "execution_count": 28,
   "metadata": {},
   "outputs": [
    {
     "data": {
      "text/plain": [
       "False"
      ]
     },
     "metadata": {},
     "output_type": "display_data"
    }
   ],
   "source": [
    "all odd [1,3,6]  "
   ]
  },
  {
   "cell_type": "markdown",
   "metadata": {},
   "source": [
    "+ `any p xs` se verifica si algún elemento de `xs` cumple la propiedad `p`. Por\n",
    "  ejemplo,"
   ]
  },
  {
   "cell_type": "code",
   "execution_count": 29,
   "metadata": {},
   "outputs": [
    {
     "data": {
      "text/plain": [
       "True"
      ]
     },
     "metadata": {},
     "output_type": "display_data"
    }
   ],
   "source": [
    "any odd [1,3,5]  "
   ]
  },
  {
   "cell_type": "code",
   "execution_count": 30,
   "metadata": {},
   "outputs": [
    {
     "data": {
      "text/plain": [
       "False"
      ]
     },
     "metadata": {},
     "output_type": "display_data"
    }
   ],
   "source": [
    "any odd [2,4,6]  "
   ]
  },
  {
   "cell_type": "markdown",
   "metadata": {},
   "source": [
    "+ `takeWhile p xs` es la lista de los elementos iniciales de `xs` que verifican\n",
    "  el predicado `p`. Por ejemplo,"
   ]
  },
  {
   "cell_type": "code",
   "execution_count": 31,
   "metadata": {},
   "outputs": [
    {
     "data": {
      "text/plain": [
       "[2,4,6]"
      ]
     },
     "metadata": {},
     "output_type": "display_data"
    }
   ],
   "source": [
    "takeWhile even [2,4,6,7,8,9]"
   ]
  },
  {
   "cell_type": "markdown",
   "metadata": {},
   "source": [
    "+ `dropWhile p xs` es la lista `xs` sin los elementos iniciales que verifican\n",
    "  el predicado `p`. Por ejemplo,"
   ]
  },
  {
   "cell_type": "code",
   "execution_count": 32,
   "metadata": {},
   "outputs": [
    {
     "data": {
      "text/plain": [
       "[7,8,9]"
      ]
     },
     "metadata": {},
     "output_type": "display_data"
    }
   ],
   "source": [
    "dropWhile even [2,4,6,7,8,9] "
   ]
  },
  {
   "cell_type": "markdown",
   "metadata": {},
   "source": [
    "Función de plegado por la derecha: `foldr`\n",
    "==========================================\n",
    "\n",
    "**Esquema básico de recursión sobre listas**\n",
    "\n",
    "+ Ejemplos de definiciones recursivas:"
   ]
  },
  {
   "cell_type": "code",
   "execution_count": 33,
   "metadata": {},
   "outputs": [],
   "source": [
    "sum []         = 0\n",
    "sum (x:xs)     = x + sum xs\n",
    "\n",
    "product []     = 1\n",
    "product (x:xs) = x * product xs\n",
    "\n",
    "or []          = False\n",
    "or (x:xs)      = x || or xs\n",
    "\n",
    "and []         = True\n",
    "and (x:xs)     = x && and xs"
   ]
  },
  {
   "cell_type": "markdown",
   "metadata": {},
   "source": [
    "+ Esquema básico de recursión sobre listas:\n",
    "```haskell\n",
    "f []     = v\n",
    "f (x:xs) = x `op` (f xs)\n",
    "```"
   ]
  },
  {
   "cell_type": "markdown",
   "metadata": {},
   "source": [
    "**El patrón `foldr`**\n",
    "\n",
    "+ Redefiniciones con el patrón `foldr`"
   ]
  },
  {
   "cell_type": "code",
   "execution_count": 34,
   "metadata": {},
   "outputs": [],
   "source": [
    "sum     = foldr (+) 0\n",
    "product = foldr (*) 1\n",
    "or      = foldr (||) False\n",
    "and     = foldr (&&) True"
   ]
  },
  {
   "cell_type": "markdown",
   "metadata": {},
   "source": [
    "+ Definición del patrón `foldr`\n",
    "```haskell\n",
    "foldr :: (a -> b -> b) -> b -> [a] -> b\n",
    "foldr f v []     =  v\n",
    "foldr f v (x:xs) =  f x (foldr f v xs)\n",
    "```"
   ]
  },
  {
   "cell_type": "markdown",
   "metadata": {},
   "source": [
    "**Visión no recursiva de `foldr`**\n",
    "\n",
    "+ Cálculo con `sum`:\n",
    "\n",
    "```sesion\n",
    "sum [2,3,5]\n",
    "= foldr (+) 0 [2,3,5]       [def. de sum] \n",
    "= foldr (+) 0 2:(3:(5:[]))  [notación de lista] \n",
    "=             2+(3+(5+0))   [sustituir (:) por (+) y \n",
    "                                       []  por 0] \n",
    "= 10`                       [aritmética]\n",
    "```\n",
    "\n",
    "+ Cálculo con `sum`:\n",
    "\n",
    "```sesion\n",
    "product [2,3,5]  \n",
    "= foldr (*) 1 [2,3,5]      [def. de sum] \n",
    "= foldr (*) 1 2:(3:(5:[])) [notación de lista] \n",
    "=             2*(3*(5*1))  [sustituir (:) por (*) y \n",
    "                                      []  por 1] \n",
    "= 30                       [aritmética]\n",
    "```\n",
    "\n",
    "+ Cálculo de `foldr f v xs` \n",
    "    + Sustituir en `xs` los `(:)` por `f` y `[]` por `v`.\n",
    "\n",
    "**Definición de la longitud mediante `foldr`**\n",
    "\n",
    "+ Ejemplo de cálculo de la longitud:\n",
    "\n",
    "```sesion\n",
    "longitud [2,3,5]\n",
    "= longitud 2:(3:(5:[]))\n",
    "=          1+(1+(1+0))      [Sustituciones]\n",
    "= 3  \n",
    "```\n",
    "\n",
    "+ Sustituciones:\n",
    "    + los `(:)` por `(\\x y -> 1+y)`\n",
    "    + la `[]` por `0`\n",
    "\n",
    "+ Definición de `length` usando `foldr`"
   ]
  },
  {
   "cell_type": "code",
   "execution_count": 35,
   "metadata": {},
   "outputs": [],
   "source": [
    "longitud :: [a] -> Int\n",
    "longitud = foldr (\\x y -> 1+y) 0"
   ]
  },
  {
   "cell_type": "code",
   "execution_count": 36,
   "metadata": {},
   "outputs": [
    {
     "data": {
      "text/plain": [
       "3"
      ]
     },
     "metadata": {},
     "output_type": "display_data"
    }
   ],
   "source": [
    "longitud [4,2,5]"
   ]
  },
  {
   "cell_type": "markdown",
   "metadata": {},
   "source": [
    "**Definición de la inversa mediante `foldr`**\n",
    "\n",
    "+ Ejemplo de cálculo de la inversa:\n",
    "\n",
    "```sesion\n",
    "inversa [2,3,5]\n",
    "= inversa 2:(3:(5:[]))\n",
    "=         (([] ++ [5]) ++ [3]) ++ [2]  [Sustituciones]\n",
    "= [5,3,2]\n",
    "```\n",
    "\n",
    "+ Sustituciones:\n",
    "    + los `(:)` por `(\\x y -> y ++ [x])`\n",
    "    + la `[]` por `[]`\n",
    "\n",
    "+ Definición de `inversa` usando `foldr`"
   ]
  },
  {
   "cell_type": "code",
   "execution_count": 37,
   "metadata": {},
   "outputs": [],
   "source": [
    "inversa :: [a] -> [a]\n",
    "inversa = foldr (\\x y -> y ++ [x]) []"
   ]
  },
  {
   "cell_type": "code",
   "execution_count": 38,
   "metadata": {},
   "outputs": [
    {
     "data": {
      "text/plain": [
       "[6,2,3]"
      ]
     },
     "metadata": {},
     "output_type": "display_data"
    }
   ],
   "source": [
    "inversa [3,2,6]"
   ]
  },
  {
   "cell_type": "markdown",
   "metadata": {},
   "source": [
    "**Definición de la concatenación mediante `foldr`**\n",
    "\n",
    "+ Ejemplo de cálculo de la concatenación:\n",
    "\n",
    "```sesion\n",
    "conc [2,3,5] [7,9]\n",
    "= conc 2:(3:(5:[])) [7,9]\n",
    "=      2:(3:(5:[7,9]))       [Sustituciones]\n",
    "= [2,3,5,7,9]\n",
    "```\n",
    "\n",
    "+ Sustituciones:\n",
    "    + los `(:)` por `(:)`\n",
    "    + la `[]` por `ys`\n",
    "\n",
    "+ Definición de `conc` usando `foldr`"
   ]
  },
  {
   "cell_type": "code",
   "execution_count": 39,
   "metadata": {},
   "outputs": [],
   "source": [
    "conc xs ys = (foldr (:) ys) xs"
   ]
  },
  {
   "cell_type": "code",
   "execution_count": 40,
   "metadata": {},
   "outputs": [
    {
     "data": {
      "text/plain": [
       "[3,2,5,4,9,7]"
      ]
     },
     "metadata": {},
     "output_type": "display_data"
    }
   ],
   "source": [
    "conc [3,2,5] [4,9,7]"
   ]
  },
  {
   "cell_type": "markdown",
   "metadata": {},
   "source": [
    "Función de plegado por la izquierda: `foldl`\n",
    "============================================\n",
    "\n",
    "**Definición de suma de lista con acumuladores**\n",
    "\n",
    "+ Definición de `suma` con acumuladores:"
   ]
  },
  {
   "cell_type": "code",
   "execution_count": 41,
   "metadata": {},
   "outputs": [],
   "source": [
    "suma :: [Integer] -> Integer\n",
    "suma = sumaAux 0\n",
    "    where sumaAux v []     = v\n",
    "          sumaAux v (x:xs) = sumaAux (v+x) xs"
   ]
  },
  {
   "cell_type": "code",
   "execution_count": 42,
   "metadata": {},
   "outputs": [
    {
     "data": {
      "text/plain": [
       "12"
      ]
     },
     "metadata": {},
     "output_type": "display_data"
    }
   ],
   "source": [
    "suma [2,3,7]"
   ]
  },
  {
   "cell_type": "markdown",
   "metadata": {},
   "source": [
    "+ Cálculo con `suma`:\n",
    "\n",
    "```sesion\n",
    "suma [2,3,7] \n",
    "= sumaAux 0 [2,3,7]  \n",
    "= sumaAux (0+2) [3,7]  \n",
    "= sumaAux 2 [3,7]  \n",
    "= sumaAux (2+3) [7]  \n",
    "= sumaAux 5 [7]  \n",
    "= sumaAux (5+7) []  \n",
    "= sumaAux 12 []\n",
    "= 12  \n",
    "```\n",
    "\n",
    "**Patrón de definición de recursión con acumulador**\n",
    "\n",
    "+ Patrón de definición (generalización de `sumaAux`):\n",
    "\n",
    "```haskell\n",
    "f v []     = v\n",
    "f v (x:xs) = f (v*x) xs\n",
    "```\n",
    "\n",
    "+ Definición con el patrón `foldl`:"
   ]
  },
  {
   "cell_type": "code",
   "execution_count": 43,
   "metadata": {},
   "outputs": [],
   "source": [
    "suma    = foldl (+) 0\n",
    "product = foldl (*) 1\n",
    "or      = foldl (||) False\n",
    "and     = foldl (&&) True"
   ]
  },
  {
   "cell_type": "markdown",
   "metadata": {},
   "source": [
    "**Definición de `foldl`**\n",
    "\n",
    "+ Definición de `foldl`:"
   ]
  },
  {
   "cell_type": "code",
   "execution_count": 44,
   "metadata": {},
   "outputs": [],
   "source": [
    "foldl :: (a -> b -> a) -> a -> [b ] -> a\n",
    "foldl f v []     =  v\n",
    "foldl f v (x:xs) =  foldl f (f v x ) xs"
   ]
  },
  {
   "cell_type": "markdown",
   "metadata": {},
   "source": [
    "+ Diferencia entre `foldr` y `foldl`:\n",
    "\n",
    "```sesion\n",
    "(foldr (-) 0) [3,4,2] =     3-(4-(2-0)) = 1\n",
    "(foldl (-) 0) [3,4,2] = ((0-3)-4)-2     = -9\n",
    "```\n",
    "\n",
    "Composición de funciones\n",
    "========================\n",
    "\n",
    "**Composición de funciones**\n",
    "\n",
    "+ Definición de la composición de dos funciones:\n"
   ]
  },
  {
   "cell_type": "code",
   "execution_count": 45,
   "metadata": {},
   "outputs": [],
   "source": [
    "(.) :: (b -> c) -> (a -> b) -> a -> c\n",
    "f . g  = \\x -> f (g x)"
   ]
  },
  {
   "cell_type": "markdown",
   "metadata": {},
   "source": [
    "**Uso de composición para simplificar definiciones**\n",
    "\n",
    "+ Definiciones sin composición:"
   ]
  },
  {
   "cell_type": "code",
   "execution_count": 46,
   "metadata": {},
   "outputs": [],
   "source": [
    "doVeces f x           = f (f x )\n",
    "\n",
    "sumaCuadradosPares ns = sum (map (^2) (filter even ns))"
   ]
  },
  {
   "cell_type": "markdown",
   "metadata": {},
   "source": [
    "+ Definiciones con composición:"
   ]
  },
  {
   "cell_type": "code",
   "execution_count": 47,
   "metadata": {},
   "outputs": [],
   "source": [
    "dosVeces f         = f . f\n",
    "\n",
    "sumaCuadradosPares = sum . map (^2) . filter even"
   ]
  },
  {
   "cell_type": "markdown",
   "metadata": {},
   "source": [
    "**Composición de una lista de funciones**\n",
    "\n",
    "+ La función identidad:"
   ]
  },
  {
   "cell_type": "code",
   "execution_count": 48,
   "metadata": {},
   "outputs": [],
   "source": [
    "id :: a -> a\n",
    "id =  \\x -> x"
   ]
  },
  {
   "cell_type": "markdown",
   "metadata": {},
   "source": [
    "+ `(composicionLista fs)` es la composición de la lista de funciones `fs`. Por\n",
    "  ejemplo,\n",
    "\n",
    "```sesion\n",
    "composicionLista [(*2),(^2)] 3       ==  18\n",
    "composicionLista [(^2),(*2)] 3       ==  36\n",
    "composicionLista [(/9),(^2),(*2)] 3  ==  4.0\n",
    "```"
   ]
  },
  {
   "cell_type": "code",
   "execution_count": 49,
   "metadata": {},
   "outputs": [],
   "source": [
    "composicionLista :: [a -> a] -> (a -> a)\n",
    "composicionLista =  foldr (.) id"
   ]
  },
  {
   "cell_type": "code",
   "execution_count": 50,
   "metadata": {},
   "outputs": [
    {
     "data": {
      "text/plain": [
       "18"
      ]
     },
     "metadata": {},
     "output_type": "display_data"
    }
   ],
   "source": [
    "composicionLista [(*2),(^2)] 3       "
   ]
  },
  {
   "cell_type": "code",
   "execution_count": 51,
   "metadata": {},
   "outputs": [
    {
     "data": {
      "text/plain": [
       "36"
      ]
     },
     "metadata": {},
     "output_type": "display_data"
    }
   ],
   "source": [
    "composicionLista [(^2),(*2)] 3       "
   ]
  },
  {
   "cell_type": "code",
   "execution_count": 52,
   "metadata": {},
   "outputs": [
    {
     "data": {
      "text/plain": [
       "4.0"
      ]
     },
     "metadata": {},
     "output_type": "display_data"
    }
   ],
   "source": [
    "composicionLista [(/9),(^2),(*2)] 3  "
   ]
  },
  {
   "cell_type": "markdown",
   "metadata": {},
   "source": [
    "Caso de estudio: Codificación binaria y transmisión de cadenas\n",
    "==============================================================\n",
    "\n",
    "+ Objetivos:\n",
    "    + Definir una función que convierta una cadena en una lista de ceros\n",
    "      y unos junto con otra función que realice la conversión opuesta. \n",
    "    + Simular la transmisión de cadenas mediante ceros y unos.\n",
    "\n",
    "+ Los números binarios se representan mediante listas de bits en orden\n",
    "  inverso. Un bit es cero o uno. Por ejemplo, el número 1101 se representa\n",
    "  por [1,0,1,1]. \n",
    "\n",
    "+ El tipo `Bit` es el de los bits."
   ]
  },
  {
   "cell_type": "code",
   "execution_count": 53,
   "metadata": {},
   "outputs": [],
   "source": [
    "type Bit = Int"
   ]
  },
  {
   "cell_type": "markdown",
   "metadata": {},
   "source": [
    "Cambio de bases\n",
    "---------------\n",
    "\n",
    "**Cambio de bases: De binario a decimal**\n",
    "\n",
    "+ `(bin2int x)` es el número decimal correspondiente al número binario `x`. Por\n",
    "  ejemplo,\n",
    "\n",
    "```sesion\n",
    "bin2int [1,0,1,1]  ==  13\n",
    "```\n",
    "\n",
    "+ El cálculo es\n",
    "\n",
    "```sesion\n",
    "bin2int [1,0,1,1]\n",
    "= bin2int 1:(0:(1:(1:[])))\n",
    "=         1+2*(0+2*(1+2*(1+2*0)))\n",
    "= 13\n",
    "```"
   ]
  },
  {
   "cell_type": "code",
   "execution_count": 54,
   "metadata": {},
   "outputs": [],
   "source": [
    "bin2int :: [Bit] -> Int\n",
    "bin2int =  foldr (\\x y -> x + 2*y) 0"
   ]
  },
  {
   "cell_type": "code",
   "execution_count": 55,
   "metadata": {},
   "outputs": [
    {
     "data": {
      "text/plain": [
       "13"
      ]
     },
     "metadata": {},
     "output_type": "display_data"
    }
   ],
   "source": [
    "bin2int [1,0,1,1]"
   ]
  },
  {
   "cell_type": "markdown",
   "metadata": {},
   "source": [
    "**Cambio de base: De decimal a binario**\n",
    "\n",
    "+ `(int2bin x)` es el número binario correspondiente al número decimal `x`. Por\n",
    "  ejemplo,\n",
    "\n",
    "```sesion\n",
    "int2bin 13  ==  [1,0,1,1]  \n",
    "```"
   ]
  },
  {
   "cell_type": "code",
   "execution_count": 56,
   "metadata": {},
   "outputs": [],
   "source": [
    "int2bin :: Int -> [Bit]\n",
    "int2bin n | n < 2     = [n]\n",
    "          | otherwise = n `mod` 2 : int2bin (n `div` 2)"
   ]
  },
  {
   "cell_type": "code",
   "execution_count": 57,
   "metadata": {},
   "outputs": [
    {
     "data": {
      "text/plain": [
       "[1,0,1,1]"
      ]
     },
     "metadata": {},
     "output_type": "display_data"
    }
   ],
   "source": [
    "int2bin 13"
   ]
  },
  {
   "cell_type": "markdown",
   "metadata": {},
   "source": [
    "+ El cálculo es\n",
    "\n",
    "```sesion\n",
    "int2bin 13 \n",
    "= 13 `mod` 2 : int2bin (13 `div` 2)  \n",
    "= 1 : int2bin (6 `div` 2)  \n",
    "= 1 : (6 `mod` 2 : int2bin (6 `div` 2))\n",
    "= 1 : (0 : int2bin 3)\n",
    "= 1 : (0 : (3 `mod` 2 : int2bin (3 `div` 2)))\n",
    "= 1 : (0 : (1 : int2bin 1))\n",
    "= 1 : (0 : (1 : (1 : int2bin 0)))\n",
    "= 1 : (0 : (1 : (1 : [])))\n",
    "= [1,0,1,1]\n",
    "```\n",
    "\n",
    "**Cambio de base: Comprobación de propiedades**\n",
    "\n",
    "+ Propiedad: Al pasar un número natural a binario con `int2bin` y el resultado\n",
    "  a decimal con `bin2int` se obtiene el número inicial."
   ]
  },
  {
   "cell_type": "code",
   "execution_count": 58,
   "metadata": {},
   "outputs": [],
   "source": [
    "prop_int_bin :: Int -> Bool\n",
    "prop_int_bin x =\n",
    "    bin2int (int2bin y) == y\n",
    "    where y = abs x"
   ]
  },
  {
   "cell_type": "markdown",
   "metadata": {},
   "source": [
    "+ Comprobación:"
   ]
  },
  {
   "cell_type": "code",
   "execution_count": 59,
   "metadata": {},
   "outputs": [
    {
     "data": {
      "text/plain": [
       "+++ OK, passed 100 tests."
      ]
     },
     "metadata": {},
     "output_type": "display_data"
    }
   ],
   "source": [
    "quickCheck prop_int_bin"
   ]
  },
  {
   "cell_type": "markdown",
   "metadata": {},
   "source": [
    "Codificación y descodificación\n",
    "------------------------------\n",
    "\n",
    "**Creación de octetos**\n",
    "\n",
    "+ Un octeto es un grupo de ocho bits.\n",
    "\n",
    "+ `(creaOcteto bs)` es el octeto correspondiente a la lista de bits `bs`; es\n",
    "  decir, los 8 primeros elementos de `bs` si su longitud es mayor o igual que\n",
    "  8 y la lista de 8 elemento añadiendo ceros al final de `bs` en caso\n",
    "  contrario. Por ejemplo,\n",
    "\n",
    "```sesion\n",
    "ghci> creaOcteto [1,0,1,1,0,0,1,1,1,0,0,0]\n",
    "[1,0,1,1,0,0,1,1]\n",
    "ghci> creaOcteto [1,0,1,1]             \n",
    "[1,0,1,1,0,0,0,0]\n",
    "```"
   ]
  },
  {
   "cell_type": "code",
   "execution_count": 60,
   "metadata": {},
   "outputs": [],
   "source": [
    "creaOcteto :: [Bit] -> [Bit]\n",
    "creaOcteto bs =  take 8 (bs ++ repeat 0)"
   ]
  },
  {
   "cell_type": "code",
   "execution_count": 61,
   "metadata": {},
   "outputs": [
    {
     "data": {
      "text/plain": [
       "[1,0,1,1,0,0,1,1]"
      ]
     },
     "metadata": {},
     "output_type": "display_data"
    }
   ],
   "source": [
    "creaOcteto [1,0,1,1,0,0,1,1,1,0,0,0]"
   ]
  },
  {
   "cell_type": "code",
   "execution_count": 62,
   "metadata": {},
   "outputs": [
    {
     "data": {
      "text/plain": [
       "[1,0,1,1,0,0,0,0]"
      ]
     },
     "metadata": {},
     "output_type": "display_data"
    }
   ],
   "source": [
    "creaOcteto [1,0,1,1]             "
   ]
  },
  {
   "cell_type": "markdown",
   "metadata": {},
   "source": [
    "+ `(repeat x)` es una lista infinita cuyo único elemento es `x`. Por ejemplo,"
   ]
  },
  {
   "cell_type": "code",
   "execution_count": 63,
   "metadata": {},
   "outputs": [
    {
     "data": {
      "text/plain": [
       "True"
      ]
     },
     "metadata": {},
     "output_type": "display_data"
    }
   ],
   "source": [
    "take 3 (repeat 5) == [5,5,5]"
   ]
  },
  {
   "cell_type": "markdown",
   "metadata": {},
   "source": [
    "**Codificación**\n",
    "\n",
    "+ `(codifica c)` es la codificación de la cadena `c` como una lista de bits\n",
    "  obtenida convirtiendo cada carácter en un número Unicode, convirtiendo cada\n",
    "  uno de dichos números en un octeto y concatenando los octetos para obtener\n",
    "  una lista de bits. Por ejemplo,\n",
    "\n",
    "```sesion\n",
    "ghci> codifica \"abc\"\n",
    "[1,0,0,0,0,1,1,0,0,1,0,0,0,1,1,0,1,1,0,0,0,1,1,0]\n",
    "```"
   ]
  },
  {
   "cell_type": "code",
   "execution_count": 64,
   "metadata": {},
   "outputs": [],
   "source": [
    "codifica :: String -> [Bit]\n",
    "codifica =  concat . map (creaOcteto . int2bin . ord)"
   ]
  },
  {
   "cell_type": "code",
   "execution_count": 65,
   "metadata": {},
   "outputs": [
    {
     "data": {
      "text/plain": [
       "[1,0,0,0,0,1,1,0,0,1,0,0,0,1,1,0,1,1,0,0,0,1,1,0]"
      ]
     },
     "metadata": {},
     "output_type": "display_data"
    }
   ],
   "source": [
    "codifica \"abc\""
   ]
  },
  {
   "cell_type": "markdown",
   "metadata": {},
   "source": [
    "+ `(concat xss)` es la lista obtenida concatenando la lista de listas\n",
    "  `xss`. Por ejemplo,"
   ]
  },
  {
   "cell_type": "code",
   "execution_count": 66,
   "metadata": {},
   "outputs": [
    {
     "data": {
      "text/plain": [
       "[1,5,2,4,5,3]"
      ]
     },
     "metadata": {},
     "output_type": "display_data"
    }
   ],
   "source": [
    "concat [[1,5],[2],[4,5,3]]"
   ]
  },
  {
   "cell_type": "markdown",
   "metadata": {},
   "source": [
    "**Codificación**\n",
    "\n",
    "+ Ejemplo de codificación,\n",
    "\n",
    "```sesion\n",
    "codifica \"abc\" \n",
    "= concat . map (creaOcteto . int2bin . ord) \"abc\"\n",
    "= concat . map (creaOcteto . int2bin . ord) ['a','b','c']\n",
    "= concat [creaOcteto . int2bin . ord 'a', \n",
    "          creaOcteto . int2bin . ord 'b', \n",
    "          creaOcteto . int2bin . ord 'c']\n",
    "= concat [creaOcteto [1,0,0,0,0,1,1], \n",
    "          creaOcteto [0,1,0,0,0,1,1], \n",
    "          creaOcteto [1,1,0,0,0,1,1]]\n",
    "= concat [[1,0,0,0,0,1,1,0], \n",
    "          [0,1,0,0,0,1,1,0], \n",
    "          [1,1,0,0,0,1,1,0]]\n",
    "= [1,0,0,0,0,1,1,0,0,1,0,0,0,1,1,0,1,1,0,0,0,1,1,0]\n",
    "```\n",
    "\n",
    "**Separación de octetos**\n",
    "\n",
    "+ `(separaOctetos bs)` es la lista obtenida separando la lista de bits `bs` en\n",
    "  listas de 8 elementos. Por ejemplo,\n",
    "\n",
    "```sesion\n",
    "ghci> separaOctetos [1,0,0,0,0,1,1,0,0,1,0,0,0,1,1,0]\n",
    "[[1,0,0,0,0,1,1,0],[0,1,0,0,0,1,1,0]]\n",
    "```"
   ]
  },
  {
   "cell_type": "code",
   "execution_count": 67,
   "metadata": {},
   "outputs": [],
   "source": [
    "separaOctetos :: [Bit] -> [[Bit]]\n",
    "separaOctetos [] = []\n",
    "separaOctetos bs =  \n",
    "    take 8 bs : separaOctetos (drop 8 bs)"
   ]
  },
  {
   "cell_type": "code",
   "execution_count": 68,
   "metadata": {},
   "outputs": [
    {
     "data": {
      "text/plain": [
       "[[1,0,0,0,0,1,1,0],[0,1,0,0,0,1,1,0]]"
      ]
     },
     "metadata": {},
     "output_type": "display_data"
    }
   ],
   "source": [
    "separaOctetos [1,0,0,0,0,1,1,0,0,1,0,0,0,1,1,0]"
   ]
  },
  {
   "cell_type": "markdown",
   "metadata": {},
   "source": [
    "**Descodificación**\n",
    "\n",
    "+ `(descodifica bs)` es la cadena correspondiente a la lista de bits\n",
    "  `bs`. Por ejemplo, \n",
    "\n",
    "```sesion\n",
    "ghci> descodifica [1,0,0,0,0,1,1,0,0,1,0,0,0,1,1,0,1,1,0,0,0,1,1,0]\n",
    "\"abc\"\n",
    "```"
   ]
  },
  {
   "cell_type": "code",
   "execution_count": 69,
   "metadata": {},
   "outputs": [],
   "source": [
    "descodifica :: [Bit] -> String\n",
    "descodifica =  map (chr . bin2int) . separaOctetos"
   ]
  },
  {
   "cell_type": "code",
   "execution_count": 70,
   "metadata": {},
   "outputs": [
    {
     "data": {
      "text/plain": [
       "\"abc\""
      ]
     },
     "metadata": {},
     "output_type": "display_data"
    }
   ],
   "source": [
    "descodifica [1,0,0,0,0,1,1,0,0,1,0,0,0,1,1,0,1,1,0,0,0,1,1,0]"
   ]
  },
  {
   "cell_type": "markdown",
   "metadata": {},
   "source": [
    "+ Ejemplo de cálculo:\n",
    "\n",
    "```sesion\n",
    "descodifica [1,0,0,0,0,1,1,0,0,1,0,0,0,1,1,0,1,1,0,0,0,1,1,0]\n",
    "= (map (chr . bin2int) . separaOctetos) \n",
    "  [1,0,0,0,0,1,1,0,0,1,0,0,0,1,1,0,1,1,0,0,0,1,1,0]\n",
    "= map (chr . bin2int) [[1,0,0,0,0,1,1,0],[0,1,0,0,0,1,1,0],[1,1,0,0,0,1,1,0]]\n",
    "= [(chr . bin2int) [1,0,0,0,0,1,1,0],\n",
    "   (chr . bin2int) [0,1,0,0,0,1,1,0],\n",
    "   (chr . bin2int) [1,1,0,0,0,1,1,0]]\n",
    "= [chr 97, chr 98, chr 99]\n",
    "= \"abc\"\n",
    "```\n",
    "\n",
    "**Transmisión**\n",
    "\n",
    "+ Los canales de transmisión pueden representarse mediante funciones que\n",
    "  transforman cadenas de bits en cadenas de bits.\n",
    "\n",
    "+ `(transmite c t)` es la cadena obtenida transmitiendo la cadena `t` a través\n",
    "  del canal `c`. Por ejemplo,\n",
    "\n",
    "```sesion\n",
    "ghci> transmite id \"Texto por canal correcto\"\n",
    "\"Texto por canal correcto\"\n",
    "```"
   ]
  },
  {
   "cell_type": "code",
   "execution_count": 71,
   "metadata": {},
   "outputs": [],
   "source": [
    "transmite :: ([Bit] -> [Bit]) -> String -> String\n",
    "transmite canal =  descodifica . canal . codifica"
   ]
  },
  {
   "cell_type": "code",
   "execution_count": 72,
   "metadata": {},
   "outputs": [
    {
     "data": {
      "text/plain": [
       "\"Texto por canal correcto\""
      ]
     },
     "metadata": {},
     "output_type": "display_data"
    }
   ],
   "source": [
    "transmite id \"Texto por canal correcto\""
   ]
  },
  {
   "cell_type": "markdown",
   "metadata": {},
   "source": [
    "**Corrección de la transmisión**\n",
    "\n",
    "+ Propiedad: Al trasmitir cualquier cadena por el canal identidad se obtiene la\n",
    "  cadena."
   ]
  },
  {
   "cell_type": "code",
   "execution_count": 73,
   "metadata": {},
   "outputs": [],
   "source": [
    "prop_transmite :: String -> Bool\n",
    "prop_transmite cs =\n",
    "    transmite id cs' == cs'\n",
    "    where cs'= [c | c <- cs, c `elem` ['a'..'z'] ++ ['A'..'Z']]"
   ]
  },
  {
   "cell_type": "markdown",
   "metadata": {},
   "source": [
    "+ Comprobación de la corrección:"
   ]
  },
  {
   "cell_type": "code",
   "execution_count": 74,
   "metadata": {},
   "outputs": [
    {
     "data": {
      "text/plain": [
       "+++ OK, passed 100 tests."
      ]
     },
     "metadata": {},
     "output_type": "display_data"
    }
   ],
   "source": [
    "quickCheck prop_transmite"
   ]
  },
  {
   "cell_type": "markdown",
   "metadata": {},
   "source": [
    "Bibliografía\n",
    "============\n",
    "\n",
    "+ R. Bird. *Introducción a la programación funcional con Haskell*. Prentice\n",
    "  Hall, 2000.\n",
    "    + Cap. 4: Listas.\n",
    "\n",
    "+ G. Hutton. *Programming in Haskell*. Cambridge University Press, 2007.\n",
    "    + Cap. 7: Higher-order functions.\n",
    "\n",
    "+ B.C. Ruiz, F. Gutiérrez, P. Guerrero y J.E. Gallardo. *Razonando con\n",
    "  Haskell*. Thompson, 2004.\n",
    "    + Cap. 8: Funciones de orden superior y polimorfismo.\n",
    "\n",
    "+ S. Thompson. *Haskell: The Craft of Functional Programming*, Second\n",
    "  Edition. Addison-Wesley, 1999. \n",
    "    + Cap. 9: Generalization: patterns of computation.\n",
    "    + Cap. 10: Functions as values."
   ]
  }
 ],
 "metadata": {
  "kernelspec": {
   "display_name": "Haskell",
   "language": "haskell",
   "name": "haskell"
  },
  "language_info": {
   "codemirror_mode": "ihaskell",
   "file_extension": ".hs",
   "name": "haskell",
   "pygments_lexer": "Haskell",
   "version": "8.6.5"
  }
 },
 "nbformat": 4,
 "nbformat_minor": 4
}
