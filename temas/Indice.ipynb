{
 "cells": [
  {
   "cell_type": "markdown",
   "metadata": {},
   "source": [
    "Este repositorio contiene una versión de los temas de programación funcional con Haskell de la asignatura de [I1M](https://www.cs.us.es/~jalonso/cursos/i1m/temas.php) (_Informática de 1º del Grado en Matemáticas_ de la Universidad de Sevilla).\n",
    "\n",
    "Los temas publicados hasta ahora son \n",
    "+ Programación funcional con Haskell\n",
    "  + [Tema 1: Introducción a la programación funcional](Tema-01.ipynb).\n",
    "  + [Tema 2: Introducción a la programación con Haskell](Tema-02.ipynb).\n",
    "  + [Tema 3: Tipos y clases](Tema-03.ipynb).\n",
    "  + [Tema 4: Definición de funciones](Tema-04.ipynb).\n",
    "  + [Tema 5: Definiciones de listas por comprensión](Tema-05.ipynb).\n",
    "  + [Tema 6: Funciones recursivas](Tema-06.ipynb).\n",
    "  + [Tema 7: Funciones de orden superior](Tema-07.ipynb).\n",
    "  + [Tema 8: Razonamiento sobre programas](Tema-08.ipynb).\n",
    "  + [Tema 9: Declaraciones de tipos y clases](Tema-09.ipynb).\n",
    "  + [Tema 10: Evaluación perezosa](Tema-10.ipynb).\n",
    "  + [Tema 11: Aplicaciones de la programación funcional](Tema-11.ipynb).\n",
    "  + [Tema 12: Analizadores funcionales](Tema-12.ipynb).\n",
    "  + [Tema 13: Programas interactivos](Tema-13.ipynb).\n",
    "\n",
    "La adaptación se ha basado en [Jupyter adaptation of \"Learn You a Haskell for Great Good!\"](https://github.com/jamesdbrock/learn-you-a-haskell-notebook) de James Brock."
   ]
  }
 ],
 "metadata": {
  "kernelspec": {
   "display_name": "Haskell",
   "language": "haskell",
   "name": "haskell"
  },
  "language_info": {
   "codemirror_mode": "ihaskell",
   "file_extension": ".hs",
   "name": "haskell",
   "pygments_lexer": "Haskell",
   "version": "8.6.5"
  }
 },
 "nbformat": 4,
 "nbformat_minor": 4
}
