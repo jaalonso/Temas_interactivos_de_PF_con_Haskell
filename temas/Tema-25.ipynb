{
 "cells": [
  {
   "cell_type": "markdown",
   "metadata": {},
   "source": [
    "<span style=\"font-size:2em; color:blue\">\n",
    "    Tema 25: Resolución de problemas mediante programación dinámica\n",
    "</span>  \n",
    "\n",
    "----------\n",
    "\n",
    "[José A. Alonso](https://www.cs.us.es/~jalonso)  \n",
    "[Departamento de Ciencias de la Computación e I.A.](https://www.cs.us.es)  \n",
    "[Universidad de Sevilla](http://www.us.es)  \n",
    "Sevilla, 21 de agosto de 2019"
   ]
  },
  {
   "cell_type": "markdown",
   "metadata": {},
   "source": [
    "> __Notas:__ \n",
    "+ La versión interactiva de este tema se encuentra en [Binder](https://mybinder.org/v2/gh/jaalonso/Temas_interactivos_de_PF_con_Haskell/master?urlpath=lab/tree/temas/Tema-25.ipynb).\n",
    "+ Se desactiva el [corrector estilo de Haskell](https://github.com/gibiansky/IHaskell/wiki#opt-no-lint)."
   ]
  },
  {
   "cell_type": "code",
   "execution_count": 1,
   "metadata": {},
   "outputs": [],
   "source": [
    ":opt no-lint"
   ]
  },
  {
   "cell_type": "markdown",
   "metadata": {},
   "source": [
    "# Introducción\n",
    "\n",
    "El objetivo de este tema es introducir la programación dinámica mediante\n",
    "una colección de problemas.\n",
    "\n",
    "En el curso de [I1M](https://www.cs.us.es/~jalonso/cursos/i1m/temas.php) este tema se estudia a continuación de la primera parte del tema 18, en el que se estudia las matrices (Data.Array).\n",
    "\n",
    "Se usarán las siguientes librerías auxiliares:"
   ]
  },
  {
   "cell_type": "code",
   "execution_count": 2,
   "metadata": {},
   "outputs": [],
   "source": [
    "import Data.List\n",
    "import Data.Array"
   ]
  },
  {
   "cell_type": "markdown",
   "metadata": {
    "toc-hr-collapsed": true
   },
   "source": [
    "# Los números de Fibonacci"
   ]
  },
  {
   "cell_type": "markdown",
   "metadata": {
    "toc-hr-collapsed": false
   },
   "source": [
    "## Enunciado\n",
    "\n",
    "Los primeros términos de la sucesión de Fibonacci son\n",
    "\n",
    "```sesion\n",
    "0, 1, 1, 2, 3, 5, 8, 13, 21, 34, 55, 89, 144, 233, 377, 610, ...\n",
    "```\n",
    "\n",
    "Definir la función\n",
    "\n",
    "```haskell\n",
    "fib :: Integer -> Integer\n",
    "```\n",
    "tal que (fib n) es el n-ésimo término de la sucesión de Fibonacci. Por\n",
    "ejemplo,\n",
    "\n",
    "```sesion\n",
    "fib 6 == 8\n",
    "```"
   ]
  },
  {
   "cell_type": "markdown",
   "metadata": {
    "toc-hr-collapsed": false
   },
   "source": [
    "## Definición por recursión"
   ]
  },
  {
   "cell_type": "code",
   "execution_count": 3,
   "metadata": {},
   "outputs": [],
   "source": [
    "fib1 :: Integer -> Integer\n",
    "fib1 0 = 0\n",
    "fib1 1 = 1\n",
    "fib1 n = fib1 (n-1) + fib1 (n-2)"
   ]
  },
  {
   "cell_type": "markdown",
   "metadata": {},
   "source": [
    "## Definición con programación dinámica"
   ]
  },
  {
   "cell_type": "code",
   "execution_count": 4,
   "metadata": {},
   "outputs": [],
   "source": [
    "fib2 :: Integer -> Integer\n",
    "fib2 n = (vectorFib2 n) ! n\n",
    " \n",
    "-- (vectorFib2 n) es el vector con índices de 0 a n tal que el valor\n",
    "-- de la posición i es el i-ésimo número de Finonacci. Por ejemplo,\n",
    "--    λ> vectorFib2 7\n",
    "--    array (0,7) [(0,0),(1,1),(2,1),(3,2),(4,3),(5,5),(6,8),(7,13)]\n",
    "vectorFib2 :: Integer -> Array Integer Integer\n",
    "vectorFib2 n = v where\n",
    "  v = array (0,n) [(i,f i) | i <- [0..n]]\n",
    "  f 0 = 0\n",
    "  f 1 = 1\n",
    "  f n = v!(n-1) + v!(n-2)"
   ]
  },
  {
   "cell_type": "markdown",
   "metadata": {},
   "source": [
    "## Comparación de eficiencia"
   ]
  },
  {
   "cell_type": "markdown",
   "metadata": {},
   "source": [
    "Para comparar la eficiencia se utilizará la función `tiempo`\n",
    "definida como sigue"
   ]
  },
  {
   "cell_type": "code",
   "execution_count": 5,
   "metadata": {},
   "outputs": [],
   "source": [
    "import System.TimeIt (timeIt)\n",
    "import Control.Exception (evaluate)\n",
    "\n",
    "tiempo :: a -> IO a\n",
    "tiempo = timeIt . evaluate"
   ]
  },
  {
   "cell_type": "markdown",
   "metadata": {},
   "source": [
    "La comparación es"
   ]
  },
  {
   "cell_type": "code",
   "execution_count": 6,
   "metadata": {},
   "outputs": [
    {
     "data": {
      "text/plain": [
       "CPU time:   1.37s\n",
       "832040"
      ]
     },
     "metadata": {},
     "output_type": "display_data"
    },
    {
     "data": {
      "text/plain": [
       "CPU time:   0.00s\n",
       "832040"
      ]
     },
     "metadata": {},
     "output_type": "display_data"
    }
   ],
   "source": [
    "tiempo (fib1 30)\n",
    "tiempo (fib2 30)"
   ]
  },
  {
   "cell_type": "markdown",
   "metadata": {
    "toc-hr-collapsed": true
   },
   "source": [
    "# Coeficientes binomiales"
   ]
  },
  {
   "cell_type": "markdown",
   "metadata": {
    "toc-hr-collapsed": false
   },
   "source": [
    "## Enunciado\n",
    "\n",
    "El coeficiente binomial n sobre k es el número de subconjuntos de k\n",
    "elementos escogidos de un conjunto con n elementos.\n",
    "\n",
    "Definir la función\n",
    "\n",
    "```haskell\n",
    "binomial :: Integer -> Integer -> Integer\n",
    "```"
   ]
  },
  {
   "cell_type": "markdown",
   "metadata": {
    "toc-hr-collapsed": false
   },
   "source": [
    "## Definición por recursión"
   ]
  },
  {
   "cell_type": "code",
   "execution_count": 7,
   "metadata": {},
   "outputs": [],
   "source": [
    "binomial1 :: Integer -> Integer -> Integer\n",
    "binomial1 n 0 = 1\n",
    "binomial1 n k\n",
    "  | n == k    = 1\n",
    "  | otherwise = binomial1 (n-1) (k-1) + binomial1 (n-1) k"
   ]
  },
  {
   "cell_type": "markdown",
   "metadata": {},
   "source": [
    "## Definición con programación dinámica"
   ]
  },
  {
   "cell_type": "code",
   "execution_count": 8,
   "metadata": {},
   "outputs": [],
   "source": [
    "binomial2 :: Integer -> Integer -> Integer\n",
    "binomial2 n k = (matrizBinomial2 n k) ! (n,k)\n",
    " \n",
    "-- (matrizBinomial2 n k) es la matriz de orden (n+1)x(k+1) tal que el\n",
    "-- valor en la posición (i,j) (con j <= i) es el coeficiente binomial i\n",
    "-- sobre j. Por ejemplo, \n",
    "--    λ> [[(matrizBinomial2 3 3)!(i,j) | j <- [0..i]] | i <- [0..3]]\n",
    "--    [[1],[1,1],[1,2,1],[1,3,3,1]]\n",
    "matrizBinomial2 :: Integer -> Integer -> Array (Integer,Integer) Integer\n",
    "matrizBinomial2 n k = q where\n",
    "  q = array ((0,0),(n,k)) [((i,j),f i j) | i <- [0..n], j <- [0..k]]\n",
    "  f i 0 = 1\n",
    "  f i j \n",
    "    | i == j    = 1\n",
    "    | otherwise = q!(i-1,j-1) + q!(i-1,j)"
   ]
  },
  {
   "cell_type": "markdown",
   "metadata": {},
   "source": [
    "## Comparación de eficiencia"
   ]
  },
  {
   "cell_type": "code",
   "execution_count": 9,
   "metadata": {},
   "outputs": [
    {
     "data": {
      "text/plain": [
       "CPU time:   3.01s\n",
       "2704156"
      ]
     },
     "metadata": {},
     "output_type": "display_data"
    },
    {
     "data": {
      "text/plain": [
       "CPU time:   0.00s\n",
       "2704156"
      ]
     },
     "metadata": {},
     "output_type": "display_data"
    }
   ],
   "source": [
    "tiempo (binomial1 24 12)\n",
    "tiempo (binomial2 24 12)"
   ]
  },
  {
   "cell_type": "markdown",
   "metadata": {
    "toc-hr-collapsed": true
   },
   "source": [
    "# Longitud de la subsecuencia común máxima (SCM)"
   ]
  },
  {
   "cell_type": "markdown",
   "metadata": {},
   "source": [
    "## Enunciado"
   ]
  },
  {
   "cell_type": "markdown",
   "metadata": {},
   "source": [
    "Si a una secuencia X de elementos (pongamos por ejemplo, caracteres) le\n",
    "quitamos algunos de ellos y dejamos los que quedan en el orden en el que\n",
    "aparecían originalmente tenemos lo que se llama una subsecuencia de X. Por\n",
    "ejemplo, \"aaoa\" es una subsecuencia de la secuencia \"amapola\". \n",
    "\n",
    "El término también se aplica cuando quitamos todos los elementos (es\n",
    "decir, la secuencia vacía es siempre subsecuencia de cualquier\n",
    "secuencia) o cuando no quitamos ninguno (lo que significa que\n",
    "cualquier secuencia es siempre subsecuencia de sí misma).\n",
    "\n",
    "Dadas dos secuencias X e Y, decimos que Z es una subsecuencia común\n",
    "de X e Y si Z es subsecuencia de X y de Y. Por ejemplo, si X =\n",
    "\"amapola\" e Y = \"matamoscas\", la secuencia \"aaoa\" es una de las\n",
    "subsecuencias comunes de X e Y más larga, con longitud 4, ya que no\n",
    "hay ninguna subsecuencia común a X e Y de longitud mayor que 4. \n",
    "También son subsecuencias comunes de longitud 4 \"maoa\" o \"amoa\".\n",
    "\n",
    "Se desea encontrar la longitud de las subsecuencias comunes más\n",
    "largas de dos secuencias de caracteres dadas.\n",
    "\n",
    "Definir la función\n",
    "\n",
    "```haskell\n",
    "longitudSCM :: Eq a => [a] -> [a] -> Int\n",
    "```\n",
    "tal que (longitudSCM xs ys) es la longitud de la subsecuencia\n",
    "máxima de xs e ys. Por ejemplo,\n",
    "\n",
    "```sesion\n",
    "longitudSCM \"amapola\" \"matamoscas\" == 4\n",
    "longitudSCM \"atamos\" \"matamoscas\"  == 6\n",
    "longitudSCM \"aaa\" \"bbbb\"           == 0\n",
    "```"
   ]
  },
  {
   "cell_type": "markdown",
   "metadata": {},
   "source": [
    "## Definición por recursión"
   ]
  },
  {
   "cell_type": "code",
   "execution_count": 10,
   "metadata": {},
   "outputs": [],
   "source": [
    "longitudSCM1 :: Eq a => [a] -> [a] -> Int\n",
    "longitudSCM1 [] _ = 0\n",
    "longitudSCM1 _ [] = 0\n",
    "longitudSCM1 (x:xs) (y:ys)\n",
    "  | x == y    = 1 + longitudSCM1 xs ys\n",
    "  | otherwise = max (longitudSCM1 (x:xs) ys) (longitudSCM1 xs (y:ys))"
   ]
  },
  {
   "cell_type": "markdown",
   "metadata": {},
   "source": [
    "## 2ª definición (con programación dinámica)"
   ]
  },
  {
   "cell_type": "code",
   "execution_count": 11,
   "metadata": {},
   "outputs": [],
   "source": [
    "longitudSCM2 :: Eq a => [a] -> [a] -> Int\n",
    "longitudSCM2 xs ys = (matrizLongitudSCM2 xs ys) ! (n,m)\n",
    "  where n = length xs\n",
    "        m = length ys\n",
    "\n",
    "-- (matrizLongitudSCM2 xs ys) es la matriz de orden (n+1)x(m+1) (donde n\n",
    "-- y m son los números de elementos de xs e ys, respectivamente) tal que\n",
    "-- el valor en la posición (i,j) es la longitud de la SCM de los i\n",
    "-- primeros elementos de xs y los j primeros elementos de ys. Por ejemplo,\n",
    "--    λ> elems (matrizLongitudSCM2 \"amapola\" \"matamoscas\")\n",
    "--    [0,0,0,0,0,0,0,0,0,0,0,0,0,1,1,1,1,1,1,1,1,1,0,1,1,1,1,2,2,2,2,2,2,\n",
    "--     0,1,2,2,2,2,2,2,2,3,3,0,1,2,2,2,2,2,2,2,3,3,0,1,2,2,2,2,3,3,3,3,3,\n",
    "--     0,1,2,2,2,2,3,3,3,3,3,0,1,2,2,3,3,3,3,3,4,4]\n",
    "-- Gráficamente,\n",
    "--       m a t a m o s c a s\n",
    "--    [0,0,0,0,0,0,0,0,0,0,0,\n",
    "-- a   0,0,1,1,1,1,1,1,1,1,1,\n",
    "-- m   0,1,1,1,1,2,2,2,2,2,2,\n",
    "-- a   0,1,2,2,2,2,2,2,2,3,3,\n",
    "-- p   0,1,2,2,2,2,2,2,2,3,3,\n",
    "-- o   0,1,2,2,2,2,3,3,3,3,3,\n",
    "-- l   0,1,2,2,2,2,3,3,3,3,3,\n",
    "-- a   0,1,2,2,3,3,3,3,3,4,4]\n",
    "matrizLongitudSCM2 :: Eq a => [a] -> [a] -> Array (Int,Int) Int\n",
    "matrizLongitudSCM2 xs ys = q\n",
    "  where\n",
    "    n = length xs\n",
    "    m = length ys\n",
    "    v = listArray (1,n) xs\n",
    "    w = listArray (1,m) ys\n",
    "    q = array ((0,0),(n,m)) [((i,j), f i j) | i <- [0..n], j <- [0..m]]\n",
    "      where f 0 _ = 0\n",
    "            f _ 0 = 0\n",
    "            f i j | v ! i == w ! j = 1 + q ! (i-1,j-1)\n",
    "                  | otherwise      = max (q ! (i-1,j)) (q ! (i,j-1))"
   ]
  },
  {
   "cell_type": "markdown",
   "metadata": {},
   "source": [
    "## Comparación de eficiencia"
   ]
  },
  {
   "cell_type": "code",
   "execution_count": 12,
   "metadata": {},
   "outputs": [
    {
     "data": {
      "text/plain": [
       "CPU time:   1.70s\n",
       "8"
      ]
     },
     "metadata": {},
     "output_type": "display_data"
    },
    {
     "data": {
      "text/plain": [
       "CPU time:   0.00s\n",
       "8"
      ]
     },
     "metadata": {},
     "output_type": "display_data"
    }
   ],
   "source": [
    "tiempo (longitudSCM1 (take 16 (cycle [1,3])) (take 16 (cycle [2,3])))\n",
    "tiempo (longitudSCM2 (take 16 (cycle [1,3])) (take 16 (cycle [2,3])))"
   ]
  },
  {
   "cell_type": "markdown",
   "metadata": {},
   "source": [
    "# Subsecuencia común máxima (SCM)"
   ]
  },
  {
   "cell_type": "markdown",
   "metadata": {},
   "source": [
    "## Enunciado\n",
    "\n",
    "Definir la función\n",
    "\n",
    "```haskell\n",
    "scm :: Eq a => [a] -> [a] -> [a]\n",
    "```\n",
    "\n",
    "tal que (scm xs ys) es una de las subsecuencias comunes de longitud\n",
    "máxima de xs e ys. Por ejemplo,\n",
    "\n",
    "```sesion\n",
    "scm \"amapola\" \"matamoscas\" == \"amoa\"\n",
    "scm \"atamos\" \"matamoscas\"  == \"atamos\"\n",
    "scm \"aaa\" \"bbbb\"           == \"\"\n",
    "```"
   ]
  },
  {
   "cell_type": "markdown",
   "metadata": {},
   "source": [
    "## 1ª definición (por recursión)"
   ]
  },
  {
   "cell_type": "code",
   "execution_count": 13,
   "metadata": {},
   "outputs": [],
   "source": [
    "scm1 :: Eq a => [a] -> [a] -> [a]\n",
    "scm1 [] _ = []\n",
    "scm1 _ [] = []\n",
    "scm1 (x:xs) (y:ys)\n",
    "  | x == y    = x : scm1 xs ys\n",
    "  | otherwise = mayor (scm1 (x:xs) ys) (scm1 xs (y:ys))\n",
    " \n",
    "-- (mayor xs ys) es la cadena más larga de xs e ys.\n",
    "--    mayor \"hola\" \"buenas\"  ==  \"buenas\"\n",
    "--    mayor \"hola\" \"pera\"    ==  \"hola\"\n",
    "mayor :: [a] -> [a] -> [a]\n",
    "mayor xs ys\n",
    "  | length xs >= length ys = xs\n",
    "  | otherwise              = ys"
   ]
  },
  {
   "cell_type": "markdown",
   "metadata": {},
   "source": [
    "## 2ª definición (con programación dinámica)"
   ]
  },
  {
   "cell_type": "code",
   "execution_count": 14,
   "metadata": {},
   "outputs": [],
   "source": [
    "scm2 :: Eq a => [a] -> [a] -> [a]\n",
    "scm2 xs ys = reverse ((matrizSCM2 xs ys) ! (n,m))\n",
    "  where n = length xs\n",
    "        m = length ys\n",
    "\n",
    "-- (matrizSCM2 xs ys) es la matriz de orden (n+1)x(m+1) (donde n\n",
    "-- y m son los números de elementos de xs e ys, respectivamente) tal que\n",
    "-- el valor en la posición (i,j) es una SCM de los i primeros\n",
    "-- elementos de xs y los j primeros elementos de ys. Por ejemplo, \n",
    "--    λ> elems (matrizSCM2 \"amapola\" \"matamoscas\")\n",
    "--    [\"\",\"\",\"\",\"\",\"\",\"\",\"\",\"\",\"\",\"\",\"\",\"\",\"\",\"a\",\"a\",\"a\",\"a\",\"a\",\"a\",\n",
    "--     \"a\",\"a\",\"a\",\"\",\"m\",\"a\",\"a\",\"a\",\"ma\",\"ma\",\"ma\",\"ma\",\"ma\",\"ma\",\"\",\n",
    "--     \"m\",\"am\",\"am\",\"aa\",\"ma\",\"ma\",\"ma\",\"ma\",\"ama\",\"ama\",\"\",\"m\",\"am\",\n",
    "--     \"am\",\"aa\",\"ma\",\"ma\",\"ma\",\"ma\",\"ama\",\"ama\",\"\",\"m\",\"am\",\"am\",\"aa\",\n",
    "--     \"ma\",\"oma\",\"oma\",\"oma\",\"ama\",\"ama\",\"\",\"m\",\"am\",\"am\",\"aa\",\"ma\",\n",
    "--     \"oma\",\"oma\",\"oma\",\"ama\",\"ama\",\"\",\"m\",\"am\",\"am\",\"aam\",\"aam\",\"oma\",\n",
    "--     \"oma\",\"oma\",\"aoma\",\"aoma\"]\n",
    "-- Gráficamente,\n",
    "--        m   a    t    a     m     o     s     c     a      s\n",
    "--    [\"\",\"\" ,\"\"  ,\"\"  ,\"\"   ,\"\"   ,\"\"   ,\"\"   ,\"\"   ,\"\"    ,\"\",\n",
    "-- a   \"\",\"\" ,\"a\" ,\"a\" ,\"a\"  ,\"a\"  ,\"a\"  ,\"a\"  ,\"a\"  ,\"a\"   ,\"a\",\n",
    "-- m   \"\",\"m\",\"a\" ,\"a\" ,\"a\"  ,\"ma\" ,\"ma\" ,\"ma\" ,\"ma\" ,\"ma\"  ,\"ma\",\n",
    "-- a   \"\",\"m\",\"am\",\"am\",\"aa\" ,\"ma\" ,\"ma\" ,\"ma\" ,\"ma\" ,\"ama\" ,\"ama\",\n",
    "-- p   \"\",\"m\",\"am\",\"am\",\"aa\" ,\"ma\" ,\"ma\" ,\"ma\" ,\"ma\" ,\"ama\" ,\"ama\",\n",
    "-- o   \"\",\"m\",\"am\",\"am\",\"aa\" ,\"ma\" ,\"oma\",\"oma\",\"oma\",\"ama\" ,\"ama\",\n",
    "-- l   \"\",\"m\",\"am\",\"am\",\"aa\" ,\"ma\" ,\"oma\",\"oma\",\"oma\",\"ama\" ,\"ama\",\n",
    "-- a   \"\",\"m\",\"am\",\"am\",\"aam\",\"aam\",\"oma\",\"oma\",\"oma\",\"aoma\",\"aoma\"]\n",
    "matrizSCM2 :: Eq a => [a] -> [a] -> Array (Int,Int) [a]\n",
    "matrizSCM2 xs ys = q where\n",
    "  q = array ((0,0),(n,m)) [((i,j), f i j) | i <- [0..n], j <- [0..m]]\n",
    "  n = length xs\n",
    "  m = length ys\n",
    "  v = listArray (1,n) xs\n",
    "  w = listArray (1,m) ys\n",
    "  f 0 _ = []\n",
    "  f _ 0 = []\n",
    "  f i j | v ! i == w ! j = (v!i) : (q ! (i-1,j-1))\n",
    "        | otherwise      = mayor (q ! (i-1,j)) (q ! (i,j-1))"
   ]
  },
  {
   "cell_type": "markdown",
   "metadata": {},
   "source": [
    "## Comparación de eficiencia"
   ]
  },
  {
   "cell_type": "code",
   "execution_count": 15,
   "metadata": {},
   "outputs": [
    {
     "data": {
      "text/plain": [
       "CPU time:   2.14s\n",
       "8"
      ]
     },
     "metadata": {},
     "output_type": "display_data"
    },
    {
     "data": {
      "text/plain": [
       "CPU time:   0.00s\n",
       "8"
      ]
     },
     "metadata": {},
     "output_type": "display_data"
    }
   ],
   "source": [
    "tiempo (length (scm1 (take 16 (cycle [1,3])) (take 16 (cycle [2,3]))))\n",
    "tiempo (length (scm2 (take 16 (cycle [1,3])) (take 16 (cycle [2,3]))))"
   ]
  },
  {
   "cell_type": "markdown",
   "metadata": {},
   "source": [
    "# Distancia de Levenshtein"
   ]
  },
  {
   "cell_type": "markdown",
   "metadata": {},
   "source": [
    "## Enunciado"
   ]
  },
  {
   "cell_type": "markdown",
   "metadata": {},
   "source": [
    "La distancia de Levenshtein (o distancia de edición) es el número mínimo\n",
    "de operaciones requeridas para transformar una cadena de caracteres en\n",
    "otra. Las operaciones de edición que se pueden hacer son:\n",
    "\n",
    "+ insertar un carácter (por ejemplo, de \"abc\" a \"abca\")\n",
    "+ eliminar un carácter (por ejemplo, de \"abc\" a \"ac\")\n",
    "+ sustituir un carácter (por ejemplo, de \"abc\" a \"adc\")\n",
    "\n",
    "Por ejemplo, la distancia de Levenshtein entre \"casa\" y \"calle\" es de\n",
    "3 porque se necesitan al menos tres ediciones elementales para\n",
    "cambiar uno en el otro:\n",
    "\n",
    "```sesion\n",
    "\"casa\"  --> \"cala\"  (sustitución de 's' por 'l')\n",
    "\"cala\"  --> \"calla\" (inserción de 'l' entre 'l' y 'a')\n",
    "\"calla\" --> \"calle\" (sustitución de 'a' por 'e')\n",
    "```\n",
    "\n",
    "Definir la función\n",
    "\n",
    "```haskell\n",
    "levenshtein :: String -> String -> Int\n",
    "```\n",
    "\n",
    "tal que (levenshtein xs ys) es la distancia de Levenshtein entre xs e\n",
    "ys. Por ejemplo,\n",
    "\n",
    "```sesion\n",
    "levenshtein \"casa\"  \"calle\"    ==  3\n",
    "levenshtein \"calle\" \"casa\"     ==  3\n",
    "levenshtein \"casa\"  \"casa\"     ==  0\n",
    "levenshtein \"ana\" \"maria\"      ==  3\n",
    "levenshtein \"agua\" \"manantial\" ==  7         \n",
    "```"
   ]
  },
  {
   "cell_type": "markdown",
   "metadata": {},
   "source": [
    "## 1ª definición (por recursión)"
   ]
  },
  {
   "cell_type": "code",
   "execution_count": 16,
   "metadata": {},
   "outputs": [],
   "source": [
    "levenshtein1 :: String -> String -> Int\n",
    "levenshtein1 \"\" ys = length ys\n",
    "levenshtein1 xs \"\" = length xs\n",
    "levenshtein1 c1@(x:xs) c2@(y:ys)\n",
    "  | x == y    = levenshtein1 xs ys\n",
    "  | otherwise = 1 + minimum [ levenshtein1 xs c2\n",
    "                            , levenshtein1 c1 ys\n",
    "                            , levenshtein1 xs ys]"
   ]
  },
  {
   "cell_type": "markdown",
   "metadata": {},
   "source": [
    "## 2ª definición (con programación dinámica)"
   ]
  },
  {
   "cell_type": "code",
   "execution_count": 17,
   "metadata": {},
   "outputs": [],
   "source": [
    "levenshtein2 :: String -> String -> Int\n",
    "levenshtein2 xs ys = (matrizLevenshtein xs ys) ! (m,n)\n",
    "  where  m = length xs\n",
    "         n = length ys\n",
    " \n",
    "-- (matrizLevenshtein xs ys) es la matriz cuyo número de filas es la\n",
    "-- longitud de xs, cuyo número de columnas es la longitud de ys y en\n",
    "-- valor en la posición (i,j) es la distancia de Levenshtein entre los\n",
    "-- primeros i caracteres de xs y los j primeros caracteres de ys. Por\n",
    "-- ejemplo,\n",
    "--    λ> elems (matrizLevenshtein \"casa\" \"calle\")\n",
    "--    [0,1,2,3,4,5,1,0,1,2,3,4,2,1,0,1,2,3,3,2,1,1,2,3,4,3,2,2,2,3]\n",
    "-- Gráficamente,\n",
    "--       c a l l e\n",
    "--     0,1,2,3,4,5,\n",
    "--  c  1,0,1,2,3,4,\n",
    "--  a  2,1,0,1,2,3,\n",
    "--  s  3,2,1,1,2,3,\n",
    "--  a  4,3,2,2,2,3\n",
    "matrizLevenshtein :: String -> String -> Array (Int,Int) Int\n",
    "matrizLevenshtein xs ys = q where\n",
    "  q = array ((0,0),(m,n)) [((i,j), f i j) | i <- [0..m], j <- [0..n]]\n",
    "  m = length xs\n",
    "  n = length ys\n",
    "  f 0 j = j\n",
    "  f i 0 = i\n",
    "  f i j | xs !! (i-1) == ys !! (j-1) = q ! (i-1,j-1)\n",
    "        | otherwise                  = 1 + minimum [ q ! (i-1,j)\n",
    "                                                   , q ! (i,j-1)\n",
    "                                                   , q ! (i-1,j-1)]"
   ]
  },
  {
   "cell_type": "markdown",
   "metadata": {},
   "source": [
    "## Comparación de eficiencia"
   ]
  },
  {
   "cell_type": "code",
   "execution_count": 18,
   "metadata": {},
   "outputs": [
    {
     "data": {
      "text/plain": [
       "CPU time:   1.36s\n",
       "10"
      ]
     },
     "metadata": {},
     "output_type": "display_data"
    },
    {
     "data": {
      "text/plain": [
       "CPU time:   0.00s\n",
       "10"
      ]
     },
     "metadata": {},
     "output_type": "display_data"
    }
   ],
   "source": [
    "tiempo (levenshtein1 (show (2^25)) (show (3^25)))\n",
    "tiempo (levenshtein2 (show (2^25)) (show (3^25)))"
   ]
  }
 ],
 "metadata": {
  "kernelspec": {
   "display_name": "Haskell",
   "language": "haskell",
   "name": "haskell"
  },
  "language_info": {
   "codemirror_mode": "ihaskell",
   "file_extension": ".hs",
   "name": "haskell",
   "pygments_lexer": "Haskell",
   "version": "8.6.5"
  },
  "toc-autonumbering": true
 },
 "nbformat": 4,
 "nbformat_minor": 4
}
