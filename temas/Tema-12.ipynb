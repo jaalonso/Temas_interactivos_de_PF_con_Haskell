{
 "cells": [
  {
   "cell_type": "markdown",
   "metadata": {},
   "source": [
    "# Tema 12: Analizadores sintácticos funcionales\n",
    "\n",
    "[José A. Alonso](https://www.cs.us.es/~jalonso)  \n",
    "[Departamento de Ciencias de la Computación e I.A.](https://www.cs.us.es)  \n",
    "[Universidad de Sevilla](http://www.us.es)  \n",
    "Sevilla, 8 de agosto de 2019 "
   ]
  },
  {
   "cell_type": "markdown",
   "metadata": {},
   "source": [
    "> __Notas:__ \n",
    "+ La versión interactiva de este tema se encuentra en [Binder](https://mybinder.org/v2/gh/jaalonso/Temas_interactivos_de_PF_con_Haskell/master?urlpath=lab/tree/temas/Tema-12.ipynb).\n",
    "+ Se desactiva el [corrector estilo de Haskell](https://github.com/gibiansky/IHaskell/wiki#opt-no-lint) en Jupyter."
   ]
  },
  {
   "cell_type": "code",
   "execution_count": 1,
   "metadata": {},
   "outputs": [],
   "source": [
    ":opt no-lint"
   ]
  },
  {
   "cell_type": "markdown",
   "metadata": {},
   "source": [
    "**Librerías auxiliares**\n",
    "\n",
    "+ En este tema se usan las siguientes librerías:"
   ]
  },
  {
   "cell_type": "code",
   "execution_count": 2,
   "metadata": {},
   "outputs": [],
   "source": [
    "import Test.QuickCheck\n",
    "import Data.Char"
   ]
  },
  {
   "cell_type": "markdown",
   "metadata": {},
   "source": [
    "Analizadores sintácticos\n",
    "========================\n",
    "\n",
    "**Analizadores sintácticos**\n",
    "\n",
    "+ Un *analizador sintáctico* es un programa que analiza textos para determinar\n",
    "  su *estructura sintáctica*.\n",
    "\n",
    "+ Ejemplo de análisis sintáctico aritmético: La estructura sintáctica de la\n",
    "  cadena `\"2*3+4\"` es el árbol\n",
    "\n",
    "![](fig/tema-12-fig-1.png)\n",
    "\n",
    "+ El análisis sintáctico forma parte del preprocesamiento en la mayoría de las\n",
    "  aplicaciones reales.\n",
    "\n",
    "El tipo de los analizadores sintácticos\n",
    "=======================================\n",
    "\n",
    "**Opciones para el tipo de los analizadores sintácticos**\n",
    "\n",
    "+ Opción inicial:\n",
    "\n",
    "```haskell\n",
    "type Analizador = String -> Tree \n",
    "```\n",
    "\n",
    "+ Con la parte no analizada:\n",
    "\n",
    "```haskell\n",
    "type Analizador = String -> (Tree,String)\n",
    "```\n",
    "\n",
    "+ Con todos los análisis:\n",
    "\n",
    "```haskell\n",
    "type Analizador = String -> [(Tree,String)]\n",
    "```\n",
    "\n",
    "+ Con estructuras arbitrarias:"
   ]
  },
  {
   "cell_type": "code",
   "execution_count": 3,
   "metadata": {},
   "outputs": [],
   "source": [
    "type Analizador a = String -> [(a,String)] "
   ]
  },
  {
   "cell_type": "markdown",
   "metadata": {},
   "source": [
    "+ Simplificación: analizadores que fallan o sólo dan un análisis.\n",
    "\n",
    "Analizadores sintácticos básicos\n",
    "================================\n",
    "\n",
    "**Analizadores sintácticos básicos: resultado**\n",
    "\n",
    "+ `(analiza a cs)` analiza la cadena `cs` mediante el analizador `a`. "
   ]
  },
  {
   "cell_type": "code",
   "execution_count": 4,
   "metadata": {},
   "outputs": [],
   "source": [
    "analiza :: Analizador a -> String -> [(a,String)]\n",
    "analiza a cs = a cs"
   ]
  },
  {
   "cell_type": "markdown",
   "metadata": {},
   "source": [
    "+ El analizador `resultado v` siempre tiene éxito, devuelve `v` y no consume\n",
    "  nada. Por ejemplo,\n",
    "\n",
    "```sesion\n",
    "ghci> analiza (resultado 1) \"abc\"\n",
    "[(1,\"abc\")]\n",
    "```"
   ]
  },
  {
   "cell_type": "code",
   "execution_count": 5,
   "metadata": {},
   "outputs": [],
   "source": [
    "resultado :: a -> Analizador a\n",
    "resultado v =  \\xs -> [(v,xs)]"
   ]
  },
  {
   "cell_type": "code",
   "execution_count": 6,
   "metadata": {},
   "outputs": [
    {
     "data": {
      "text/plain": [
       "[(1,\"abc\")]"
      ]
     },
     "metadata": {},
     "output_type": "display_data"
    }
   ],
   "source": [
    "analiza (resultado 1) \"abc\""
   ]
  },
  {
   "cell_type": "markdown",
   "metadata": {},
   "source": [
    "**Analizadores sintácticos básicos: fallo**\n",
    "\n",
    "+ El analizador `fallo` siempre falla. Por ejemplo,\n",
    "\n",
    "```sesion\n",
    "ghci> analiza fallo \"abc\"\n",
    "[]\n",
    "```"
   ]
  },
  {
   "cell_type": "code",
   "execution_count": 7,
   "metadata": {},
   "outputs": [],
   "source": [
    "fallo :: Analizador a\n",
    "fallo =  \\xs -> []"
   ]
  },
  {
   "cell_type": "code",
   "execution_count": 8,
   "metadata": {},
   "outputs": [
    {
     "data": {
      "text/plain": [
       "[]"
      ]
     },
     "metadata": {},
     "output_type": "display_data"
    }
   ],
   "source": [
    "analiza fallo \"abc\""
   ]
  },
  {
   "cell_type": "markdown",
   "metadata": {},
   "source": [
    "**Analizadores sintácticos básicos: elemento**\n",
    "\n",
    "+ El analizador `elemento` falla si la cadena es vacía y consume el primer\n",
    "  elemento en caso contrario. Por ejemplo,\n",
    "\n",
    "```sesion\n",
    "ghci> analiza elemento \"\"\n",
    "[]\n",
    "ghci> analiza elemento \"abc\"\n",
    "[('a',\"bc\")]\n",
    "```"
   ]
  },
  {
   "cell_type": "code",
   "execution_count": 9,
   "metadata": {},
   "outputs": [],
   "source": [
    "elemento :: Analizador Char\n",
    "elemento =  \\xs -> case xs of\n",
    "                     [] -> []\n",
    "                     (x:xs) -> [(x , xs)]"
   ]
  },
  {
   "cell_type": "code",
   "execution_count": 10,
   "metadata": {},
   "outputs": [
    {
     "data": {
      "text/plain": [
       "[]"
      ]
     },
     "metadata": {},
     "output_type": "display_data"
    }
   ],
   "source": [
    "analiza elemento \"\""
   ]
  },
  {
   "cell_type": "code",
   "execution_count": 11,
   "metadata": {},
   "outputs": [
    {
     "data": {
      "text/plain": [
       "[('a',\"bc\")]"
      ]
     },
     "metadata": {},
     "output_type": "display_data"
    }
   ],
   "source": [
    "analiza elemento \"abc\""
   ]
  },
  {
   "cell_type": "markdown",
   "metadata": {},
   "source": [
    "Composición de analizadores sintácticos\n",
    "=======================================\n",
    "\n",
    "Secuenciación de analizadores sintácticos\n",
    "-----------------------------------------\n",
    "\n",
    "+ `((p >*> f) e)` falla si el análisis de `e` por `p` falla, en caso contrario,\n",
    "  se obtiene un valor (`v`) y una salida (`s`), se aplica la función `f` al\n",
    "  valor `v` obteniéndose un nuevo analizador con el que se analiza la salida\n",
    "  `s`."
   ]
  },
  {
   "cell_type": "code",
   "execution_count": 12,
   "metadata": {},
   "outputs": [],
   "source": [
    "infixr 5 >*>\n",
    "\n",
    "(>*>) :: Analizador a -> (a -> Analizador b) -> Analizador b\n",
    "p >*> f = \\ent -> case analiza p ent of\n",
    "                       []        -> []\n",
    "                       [(v,sal)] -> analiza (f v) sal"
   ]
  },
  {
   "cell_type": "markdown",
   "metadata": {},
   "source": [
    "+ `primeroTercero` es un analizador que devuelve los caracteres primero y\n",
    "  tercero de la cadena. Por ejemplo,\n",
    "\n",
    "```sesion\n",
    "primeroTercero \"abel\"  ==  [(('a','e'),\"l\")]\n",
    "primeroTercero \"ab\"    ==  []\n",
    "```"
   ]
  },
  {
   "cell_type": "code",
   "execution_count": 13,
   "metadata": {},
   "outputs": [],
   "source": [
    "primeroTercero :: Analizador (Char,Char)\n",
    "primeroTercero = \n",
    "    elemento >*> \\x ->\n",
    "    elemento >*> \\_ ->\n",
    "    elemento >*> \\y ->\n",
    "    resultado (x,y)"
   ]
  },
  {
   "cell_type": "code",
   "execution_count": 14,
   "metadata": {},
   "outputs": [
    {
     "data": {
      "text/plain": [
       "[(('a','e'),\"l\")]"
      ]
     },
     "metadata": {},
     "output_type": "display_data"
    }
   ],
   "source": [
    "primeroTercero \"abel\"  "
   ]
  },
  {
   "cell_type": "code",
   "execution_count": 15,
   "metadata": {},
   "outputs": [
    {
     "data": {
      "text/plain": [
       "[]"
      ]
     },
     "metadata": {},
     "output_type": "display_data"
    }
   ],
   "source": [
    "primeroTercero \"ab\"    "
   ]
  },
  {
   "cell_type": "markdown",
   "metadata": {},
   "source": [
    "Elección de analizadores sintácticos\n",
    "------------------------------------\n",
    "\n",
    "+ `((p +++ q) e)` analiza `e` con `p` y si falla analiza `e` con `q`. Por\n",
    "  ejemplo,\n",
    "\n",
    "```sesion\n",
    "ghci> analiza (elemento +++ resultado 'd') \"abc\"  \n",
    "[('a',\"bc\")]\n",
    "ghci> analiza (fallo +++ resultado 'd') \"abc\"     \n",
    "[('d',\"abc\")]\n",
    "ghci> analiza (fallo +++ fallo) \"abc\"             \n",
    "[]\n",
    "```"
   ]
  },
  {
   "cell_type": "code",
   "execution_count": 16,
   "metadata": {},
   "outputs": [],
   "source": [
    "(+++) :: Analizador a -> Analizador a -> Analizador a\n",
    "p +++ q = \\ent -> case analiza p ent of\n",
    "                    []        -> analiza q ent\n",
    "                    [(v,sal)] -> [(v,sal)]"
   ]
  },
  {
   "cell_type": "code",
   "execution_count": 17,
   "metadata": {},
   "outputs": [
    {
     "data": {
      "text/plain": [
       "[('a',\"bc\")]"
      ]
     },
     "metadata": {},
     "output_type": "display_data"
    }
   ],
   "source": [
    "analiza (elemento +++ resultado 'd') \"abc\"  "
   ]
  },
  {
   "cell_type": "code",
   "execution_count": 18,
   "metadata": {},
   "outputs": [
    {
     "data": {
      "text/plain": [
       "[('d',\"abc\")]"
      ]
     },
     "metadata": {},
     "output_type": "display_data"
    }
   ],
   "source": [
    "analiza (fallo +++ resultado 'd') \"abc\"     "
   ]
  },
  {
   "cell_type": "code",
   "execution_count": 19,
   "metadata": {},
   "outputs": [
    {
     "data": {
      "text/plain": [
       "[]"
      ]
     },
     "metadata": {},
     "output_type": "display_data"
    }
   ],
   "source": [
    "analiza (fallo +++ fallo) \"abc\"  "
   ]
  },
  {
   "cell_type": "markdown",
   "metadata": {},
   "source": [
    "Primitivas derivadas\n",
    "====================\n",
    "\n",
    "+ `(sat p)` es el analizador que consume un elemento si dicho elemento cumple\n",
    "  la propiedad `p` y falla en caso contrario. Por ejemplo,\n",
    "\n",
    "```sesion\n",
    "analiza (sat isLower) \"hola\"  ==  [('h',\"ola\")]\n",
    "analiza (sat isLower) \"Hola\"  ==  []\n",
    "```"
   ]
  },
  {
   "cell_type": "code",
   "execution_count": 20,
   "metadata": {},
   "outputs": [],
   "source": [
    "sat :: (Char -> Bool) -> Analizador Char\n",
    "sat p = elemento >*> \\x ->\n",
    "        if p x then resultado x else fallo"
   ]
  },
  {
   "cell_type": "code",
   "execution_count": 21,
   "metadata": {},
   "outputs": [
    {
     "data": {
      "text/plain": [
       "[('h',\"ola\")]"
      ]
     },
     "metadata": {},
     "output_type": "display_data"
    }
   ],
   "source": [
    "analiza (sat isLower) \"hola\"  "
   ]
  },
  {
   "cell_type": "code",
   "execution_count": 22,
   "metadata": {},
   "outputs": [
    {
     "data": {
      "text/plain": [
       "[]"
      ]
     },
     "metadata": {},
     "output_type": "display_data"
    }
   ],
   "source": [
    "analiza (sat isLower) \"Hola\"  "
   ]
  },
  {
   "cell_type": "markdown",
   "metadata": {},
   "source": [
    "+ `digito` analiza si el primer carácter es un dígito. Por ejemplo,\n",
    "\n",
    "```sesion\n",
    "analiza digito \"123\"  ==  [('1',\"23\")]\n",
    "analiza digito \"uno\"  ==  []  \n",
    "```"
   ]
  },
  {
   "cell_type": "code",
   "execution_count": 23,
   "metadata": {},
   "outputs": [],
   "source": [
    "digito :: Analizador Char\n",
    "digito = sat isDigit"
   ]
  },
  {
   "cell_type": "code",
   "execution_count": 24,
   "metadata": {},
   "outputs": [
    {
     "data": {
      "text/plain": [
       "True"
      ]
     },
     "metadata": {},
     "output_type": "display_data"
    }
   ],
   "source": [
    "analiza digito \"123\"  ==  [('1',\"23\")]"
   ]
  },
  {
   "cell_type": "code",
   "execution_count": 25,
   "metadata": {},
   "outputs": [
    {
     "data": {
      "text/plain": [
       "True"
      ]
     },
     "metadata": {},
     "output_type": "display_data"
    }
   ],
   "source": [
    "analiza digito \"uno\"  ==  []"
   ]
  },
  {
   "cell_type": "markdown",
   "metadata": {},
   "source": [
    "+ `minuscula` analiza si el primer carácter es una letra minúscula. Por\n",
    "  ejemplo,\n",
    "\n",
    "```sesion\n",
    "analiza minuscula \"eva\"  ==  [('e',\"va\")]\n",
    "analiza minuscula \"Eva\"  ==  []\n",
    "```"
   ]
  },
  {
   "cell_type": "code",
   "execution_count": 26,
   "metadata": {},
   "outputs": [],
   "source": [
    "minuscula :: Analizador Char\n",
    "minuscula = sat isLower"
   ]
  },
  {
   "cell_type": "code",
   "execution_count": 27,
   "metadata": {},
   "outputs": [
    {
     "data": {
      "text/plain": [
       "True"
      ]
     },
     "metadata": {},
     "output_type": "display_data"
    }
   ],
   "source": [
    "analiza minuscula \"eva\"  ==  [('e',\"va\")]"
   ]
  },
  {
   "cell_type": "code",
   "execution_count": 28,
   "metadata": {},
   "outputs": [
    {
     "data": {
      "text/plain": [
       "True"
      ]
     },
     "metadata": {},
     "output_type": "display_data"
    }
   ],
   "source": [
    "analiza minuscula \"Eva\"  ==  []"
   ]
  },
  {
   "cell_type": "markdown",
   "metadata": {},
   "source": [
    "+ `mayuscula` analiza si el primer carácter es una letra mayúscula. Por\n",
    "  ejemplo,\n",
    "\n",
    "```sesion\n",
    "analiza mayuscula \"Eva\"  ==  [('E',\"va\")]\n",
    "analiza mayuscula \"eva\"  ==  []\n",
    "```"
   ]
  },
  {
   "cell_type": "code",
   "execution_count": 29,
   "metadata": {},
   "outputs": [],
   "source": [
    "mayuscula :: Analizador Char\n",
    "mayuscula = sat isUpper"
   ]
  },
  {
   "cell_type": "code",
   "execution_count": 30,
   "metadata": {},
   "outputs": [
    {
     "data": {
      "text/plain": [
       "[('E',\"va\")]"
      ]
     },
     "metadata": {},
     "output_type": "display_data"
    }
   ],
   "source": [
    "analiza mayuscula \"Eva\"  "
   ]
  },
  {
   "cell_type": "code",
   "execution_count": 31,
   "metadata": {},
   "outputs": [
    {
     "data": {
      "text/plain": [
       "[]"
      ]
     },
     "metadata": {},
     "output_type": "display_data"
    }
   ],
   "source": [
    "analiza mayuscula \"eva\"  "
   ]
  },
  {
   "cell_type": "markdown",
   "metadata": {},
   "source": [
    "+ `letra` analiza si el primer carácter es una letra. Por ejemplo,\n",
    "\n",
    "```sesion\n",
    "analiza letra \"Eva\"  ==  [('E',\"va\")]\n",
    "analiza letra \"eva\"  ==  [('e',\"va\")]\n",
    "analiza letra \"123\"  ==  []\n",
    "```"
   ]
  },
  {
   "cell_type": "code",
   "execution_count": 32,
   "metadata": {},
   "outputs": [],
   "source": [
    "letra :: Analizador Char\n",
    "letra = sat isAlpha"
   ]
  },
  {
   "cell_type": "code",
   "execution_count": 33,
   "metadata": {},
   "outputs": [
    {
     "data": {
      "text/plain": [
       "[('E',\"va\")]"
      ]
     },
     "metadata": {},
     "output_type": "display_data"
    }
   ],
   "source": [
    "analiza letra \"Eva\"  "
   ]
  },
  {
   "cell_type": "code",
   "execution_count": 34,
   "metadata": {},
   "outputs": [
    {
     "data": {
      "text/plain": [
       "[('e',\"va\")]"
      ]
     },
     "metadata": {},
     "output_type": "display_data"
    }
   ],
   "source": [
    "analiza letra \"eva\"  "
   ]
  },
  {
   "cell_type": "code",
   "execution_count": 35,
   "metadata": {},
   "outputs": [
    {
     "data": {
      "text/plain": [
       "[]"
      ]
     },
     "metadata": {},
     "output_type": "display_data"
    }
   ],
   "source": [
    "analiza letra \"123\"  "
   ]
  },
  {
   "cell_type": "markdown",
   "metadata": {},
   "source": [
    "+ `alfanumerico` analiza si el primer carácter es una letra o un número. Por\n",
    "  ejemplo,\n",
    "\n",
    "```sesion\n",
    "analiza alfanumerico \"Eva\"   ==  [('E',\"va\")]\n",
    "analiza alfanumerico \"eva\"   ==  [('e',\"va\")]\n",
    "analiza alfanumerico \"123\"   ==  [('1',\"23\")]\n",
    "analiza alfanumerico \" 123\"  ==  []\n",
    "```"
   ]
  },
  {
   "cell_type": "code",
   "execution_count": 36,
   "metadata": {},
   "outputs": [],
   "source": [
    "alfanumerico :: Analizador Char\n",
    "alfanumerico = sat isAlphaNum"
   ]
  },
  {
   "cell_type": "code",
   "execution_count": 37,
   "metadata": {},
   "outputs": [
    {
     "data": {
      "text/plain": [
       "[('E',\"va\")]"
      ]
     },
     "metadata": {},
     "output_type": "display_data"
    }
   ],
   "source": [
    "analiza alfanumerico \"Eva\"   "
   ]
  },
  {
   "cell_type": "code",
   "execution_count": 38,
   "metadata": {},
   "outputs": [
    {
     "data": {
      "text/plain": [
       "[('e',\"va\")]"
      ]
     },
     "metadata": {},
     "output_type": "display_data"
    }
   ],
   "source": [
    "analiza alfanumerico \"eva\"   "
   ]
  },
  {
   "cell_type": "code",
   "execution_count": 39,
   "metadata": {},
   "outputs": [
    {
     "data": {
      "text/plain": [
       "[('1',\"23\")]"
      ]
     },
     "metadata": {},
     "output_type": "display_data"
    }
   ],
   "source": [
    "analiza alfanumerico \"123\"   "
   ]
  },
  {
   "cell_type": "code",
   "execution_count": 40,
   "metadata": {},
   "outputs": [
    {
     "data": {
      "text/plain": [
       "[]"
      ]
     },
     "metadata": {},
     "output_type": "display_data"
    }
   ],
   "source": [
    "analiza alfanumerico \" 123\"  "
   ]
  },
  {
   "cell_type": "markdown",
   "metadata": {},
   "source": [
    "+ `(caracter x)` analiza si el primer carácter es igual al carácter `x`. Por\n",
    "  ejemplo,\n",
    "\n",
    "```sesion\n",
    "analiza (caracter 'E') \"Eva\"  ==  [('E',\"va\")]\n",
    "analiza (caracter 'E') \"eva\"  ==  []\n",
    "```"
   ]
  },
  {
   "cell_type": "code",
   "execution_count": 41,
   "metadata": {},
   "outputs": [],
   "source": [
    "caracter :: Char -> Analizador Char\n",
    "caracter x = sat (== x)"
   ]
  },
  {
   "cell_type": "code",
   "execution_count": 42,
   "metadata": {},
   "outputs": [
    {
     "data": {
      "text/plain": [
       "[('E',\"va\")]"
      ]
     },
     "metadata": {},
     "output_type": "display_data"
    }
   ],
   "source": [
    "analiza (caracter 'E') \"Eva\"  "
   ]
  },
  {
   "cell_type": "code",
   "execution_count": 43,
   "metadata": {},
   "outputs": [
    {
     "data": {
      "text/plain": [
       "[]"
      ]
     },
     "metadata": {},
     "output_type": "display_data"
    }
   ],
   "source": [
    "analiza (caracter 'E') \"eva\"  "
   ]
  },
  {
   "cell_type": "markdown",
   "metadata": {},
   "source": [
    "+ `(cadena c)` analiza si empieza con la cadena `c`. Por ejemplo,\n",
    "\n",
    "```sesion\n",
    "analiza (cadena \"abc\") \"abcdef\"  ==  [(\"abc\",\"def\")]\n",
    "analiza (cadena \"abc\") \"abdcef\"  ==  []\n",
    "```"
   ]
  },
  {
   "cell_type": "code",
   "execution_count": 44,
   "metadata": {},
   "outputs": [],
   "source": [
    "cadena :: String -> Analizador String\n",
    "cadena []     = resultado []\n",
    "cadena (x:xs) = caracter x >*> \\x  ->\n",
    "                cadena xs  >*> \\xs ->\n",
    "                resultado (x:xs)"
   ]
  },
  {
   "cell_type": "code",
   "execution_count": 45,
   "metadata": {},
   "outputs": [
    {
     "data": {
      "text/plain": [
       "[(\"abc\",\"def\")]"
      ]
     },
     "metadata": {},
     "output_type": "display_data"
    }
   ],
   "source": [
    "analiza (cadena \"abc\") \"abcdef\"  "
   ]
  },
  {
   "cell_type": "code",
   "execution_count": 46,
   "metadata": {},
   "outputs": [
    {
     "data": {
      "text/plain": [
       "[]"
      ]
     },
     "metadata": {},
     "output_type": "display_data"
    }
   ],
   "source": [
    "analiza (cadena \"abc\") \"abdcef\"  "
   ]
  },
  {
   "cell_type": "markdown",
   "metadata": {},
   "source": [
    "+ `varios p` aplica el analizador `p` cero o más veces. Por ejemplo,\n",
    "\n",
    "```sesion\n",
    "analiza (varios digito) \"235abc\"  ==  [(\"235\",\"abc\")]\n",
    "analiza (varios digito) \"abc235\"  ==  [(\"\",\"abc235\")]\n",
    "```\n",
    "\n",
    "+ `varios1 p` aplica el analizador `p` una o más veces. Por ejemplo,\n",
    "\n",
    "```sesion\n",
    "analiza (varios1 digito) \"235abc\"  ==  [(\"235\",\"abc\")]\n",
    "analiza (varios1 digito) \"abc235\"  ==  []\n",
    "```"
   ]
  },
  {
   "cell_type": "code",
   "execution_count": 47,
   "metadata": {},
   "outputs": [],
   "source": [
    "varios :: Analizador a -> Analizador [a]\n",
    "varios p  = varios1 p +++ resultado []\n",
    "\n",
    "varios1 :: Analizador a -> Analizador [a]\n",
    "varios1 p = p        >*> \\v  ->\n",
    "            varios p >*> \\vs ->\n",
    "            resultado (v:vs)"
   ]
  },
  {
   "cell_type": "code",
   "execution_count": 48,
   "metadata": {},
   "outputs": [
    {
     "data": {
      "text/plain": [
       "[(\"235\",\"abc\")]"
      ]
     },
     "metadata": {},
     "output_type": "display_data"
    }
   ],
   "source": [
    "analiza (varios digito) \"235abc\"  "
   ]
  },
  {
   "cell_type": "code",
   "execution_count": 49,
   "metadata": {},
   "outputs": [
    {
     "data": {
      "text/plain": [
       "[(\"\",\"abc235\")]"
      ]
     },
     "metadata": {},
     "output_type": "display_data"
    }
   ],
   "source": [
    "analiza (varios digito) \"abc235\"  "
   ]
  },
  {
   "cell_type": "code",
   "execution_count": 50,
   "metadata": {},
   "outputs": [
    {
     "data": {
      "text/plain": [
       "[(\"235\",\"abc\")]"
      ]
     },
     "metadata": {},
     "output_type": "display_data"
    }
   ],
   "source": [
    "analiza (varios1 digito) \"235abc\"  "
   ]
  },
  {
   "cell_type": "code",
   "execution_count": 51,
   "metadata": {},
   "outputs": [
    {
     "data": {
      "text/plain": [
       "[]"
      ]
     },
     "metadata": {},
     "output_type": "display_data"
    }
   ],
   "source": [
    "analiza (varios1 digito) \"abc235\"  "
   ]
  },
  {
   "cell_type": "markdown",
   "metadata": {},
   "source": [
    "+ `ident` analiza si comienza con un identificador (i.e. una cadena que\n",
    "  comienza con una letra minúscula seguida por caracteres alfanuméricos). Por\n",
    "  ejemplo,\n",
    "\n",
    "```sesion\n",
    "ghci> analiza ident \"lunes12 de Ene\"  \n",
    "[(\"lunes12\",\" de Ene\")]\n",
    "ghci> analiza ident \"Lunes12 de Ene\"  \n",
    "[]\n",
    "```"
   ]
  },
  {
   "cell_type": "code",
   "execution_count": 52,
   "metadata": {},
   "outputs": [],
   "source": [
    "ident :: Analizador String\n",
    "ident =  minuscula           >*> \\x  ->\n",
    "         varios alfanumerico >*> \\xs ->\n",
    "         resultado (x:xs)"
   ]
  },
  {
   "cell_type": "code",
   "execution_count": 53,
   "metadata": {},
   "outputs": [
    {
     "data": {
      "text/plain": [
       "[(\"lunes12\",\" de Ene\")]"
      ]
     },
     "metadata": {},
     "output_type": "display_data"
    }
   ],
   "source": [
    "analiza ident \"lunes12 de Ene\"  "
   ]
  },
  {
   "cell_type": "code",
   "execution_count": 54,
   "metadata": {},
   "outputs": [
    {
     "data": {
      "text/plain": [
       "[]"
      ]
     },
     "metadata": {},
     "output_type": "display_data"
    }
   ],
   "source": [
    "analiza ident \"Lunes12 de Ene\"  "
   ]
  },
  {
   "cell_type": "markdown",
   "metadata": {},
   "source": [
    "+ `nat` analiza si comienza con un número natural. Por ejemplo,\n",
    "\n",
    "```sesion\n",
    "analiza nat \"14DeAbril\"   ==  [(14,\"DeAbril\")]\n",
    "analiza nat \" 14DeAbril\"  ==  []\n",
    "```"
   ]
  },
  {
   "cell_type": "code",
   "execution_count": 55,
   "metadata": {},
   "outputs": [],
   "source": [
    "nat :: Analizador Int\n",
    "nat = varios1 digito >*> \\xs ->\n",
    "      resultado (read xs)"
   ]
  },
  {
   "cell_type": "code",
   "execution_count": 56,
   "metadata": {},
   "outputs": [
    {
     "data": {
      "text/plain": [
       "[(14,\"DeAbril\")]"
      ]
     },
     "metadata": {},
     "output_type": "display_data"
    }
   ],
   "source": [
    "analiza nat \"14DeAbril\"   "
   ]
  },
  {
   "cell_type": "code",
   "execution_count": 57,
   "metadata": {},
   "outputs": [
    {
     "data": {
      "text/plain": [
       "[]"
      ]
     },
     "metadata": {},
     "output_type": "display_data"
    }
   ],
   "source": [
    "analiza nat \" 14DeAbril\"  "
   ]
  },
  {
   "cell_type": "markdown",
   "metadata": {},
   "source": [
    "+ `espacio` analiza si comienza con espacios en blanco. Por ejemplo,\n",
    "\n",
    "```sesion\n",
    "analiza espacio \"    a b c\"  ==  [((),\"a b c\")]\n",
    "```"
   ]
  },
  {
   "cell_type": "code",
   "execution_count": 58,
   "metadata": {},
   "outputs": [],
   "source": [
    "espacio :: Analizador ()\n",
    "espacio = varios (sat isSpace) >*> \\_ -> \n",
    "          resultado ()"
   ]
  },
  {
   "cell_type": "code",
   "execution_count": 59,
   "metadata": {},
   "outputs": [
    {
     "data": {
      "text/plain": [
       "[((),\"a b c\")]"
      ]
     },
     "metadata": {},
     "output_type": "display_data"
    }
   ],
   "source": [
    "analiza espacio \"    a b c\""
   ]
  },
  {
   "cell_type": "markdown",
   "metadata": {},
   "source": [
    "Tratamiento de los espacios\n",
    "===========================\n",
    "\n",
    "+ `unidad p` ignora los espacios en blanco y aplica el analizador `p`. Por\n",
    "  ejemplo,\n",
    "\n",
    "```sesion\n",
    "ghci> analiza (unidad nat) \" 14DeAbril\"     \n",
    "[(14,\"DeAbril\")]\n",
    "ghci> analiza (unidad nat) \" 14   DeAbril\"  \n",
    "[(14,\"DeAbril\")]\n",
    "```"
   ]
  },
  {
   "cell_type": "code",
   "execution_count": 60,
   "metadata": {},
   "outputs": [],
   "source": [
    "unidad :: Analizador a -> Analizador a\n",
    "unidad p = espacio >*> \\_ ->\n",
    "           p       >*> \\v ->\n",
    "           espacio >*> \\_ ->\n",
    "           resultado v"
   ]
  },
  {
   "cell_type": "code",
   "execution_count": 61,
   "metadata": {},
   "outputs": [
    {
     "data": {
      "text/plain": [
       "[(14,\"DeAbril\")]"
      ]
     },
     "metadata": {},
     "output_type": "display_data"
    }
   ],
   "source": [
    "analiza (unidad nat) \" 14DeAbril\"     "
   ]
  },
  {
   "cell_type": "code",
   "execution_count": 62,
   "metadata": {},
   "outputs": [
    {
     "data": {
      "text/plain": [
       "[(14,\"DeAbril\")]"
      ]
     },
     "metadata": {},
     "output_type": "display_data"
    }
   ],
   "source": [
    "analiza (unidad nat) \" 14   DeAbril\"  "
   ]
  },
  {
   "cell_type": "markdown",
   "metadata": {},
   "source": [
    "+ `identificador` analiza un identificador ignorando los espacios delante y\n",
    "  detrás. Por ejemplo,\n",
    "\n",
    "```sesion\n",
    "ghci> analiza identificador \"  lunes12  de Ene\"\n",
    "[(\"lunes12\",\"de Ene\")]  \n",
    "```"
   ]
  },
  {
   "cell_type": "code",
   "execution_count": 63,
   "metadata": {},
   "outputs": [],
   "source": [
    "identificador :: Analizador String\n",
    "identificador = unidad ident"
   ]
  },
  {
   "cell_type": "code",
   "execution_count": 64,
   "metadata": {},
   "outputs": [
    {
     "data": {
      "text/plain": [
       "[(\"lunes12\",\"de Ene\")]"
      ]
     },
     "metadata": {},
     "output_type": "display_data"
    }
   ],
   "source": [
    "analiza identificador \"  lunes12  de Ene\""
   ]
  },
  {
   "cell_type": "markdown",
   "metadata": {},
   "source": [
    "+ `natural` analiza un número natural ignorando los espacios delante y\n",
    "  detrás. Por ejemplo,\n",
    "\n",
    "```sesion\n",
    "analiza natural \"  14DeAbril\"  ==  [(14,\"DeAbril\")]  \n",
    "```"
   ]
  },
  {
   "cell_type": "code",
   "execution_count": 65,
   "metadata": {},
   "outputs": [],
   "source": [
    "natural :: Analizador Int\n",
    "natural =  unidad nat"
   ]
  },
  {
   "cell_type": "code",
   "execution_count": 66,
   "metadata": {},
   "outputs": [
    {
     "data": {
      "text/plain": [
       "[(14,\"DeAbril\")]"
      ]
     },
     "metadata": {},
     "output_type": "display_data"
    }
   ],
   "source": [
    "analiza natural \"  14DeAbril\""
   ]
  },
  {
   "cell_type": "markdown",
   "metadata": {},
   "source": [
    "+ `(simbolo xs)` analiza la cadena `xs` ignorando los espacios delante y\n",
    "  detrás. Por ejemplo,\n",
    "\n",
    "```sesion\n",
    "ghci> analiza (simbolo \"abc\") \"  abcdef\"  \n",
    "[(\"abc\",\"def\")]  \n",
    "```"
   ]
  },
  {
   "cell_type": "code",
   "execution_count": 67,
   "metadata": {},
   "outputs": [],
   "source": [
    "simbolo :: String -> Analizador String\n",
    "simbolo xs =  unidad (cadena xs)"
   ]
  },
  {
   "cell_type": "code",
   "execution_count": 68,
   "metadata": {},
   "outputs": [
    {
     "data": {
      "text/plain": [
       "[(\"abc\",\"def\")]"
      ]
     },
     "metadata": {},
     "output_type": "display_data"
    }
   ],
   "source": [
    "analiza (simbolo \"abc\") \"  abcdef\" "
   ]
  },
  {
   "cell_type": "markdown",
   "metadata": {},
   "source": [
    "+ `listaNat` analiza una lista de naturales ignorando los espacios. Por\n",
    "  ejemplo,\n",
    "\n",
    "```sesion\n",
    "ghci> analiza listaNat \" [  2,  3, 5   ]\"  \n",
    "[([2,3,5],\"\")]\n",
    "ghci> analiza listaNat \" [  2,  3,]\"       \n",
    "[]\n",
    "```"
   ]
  },
  {
   "cell_type": "code",
   "execution_count": 69,
   "metadata": {},
   "outputs": [],
   "source": [
    "listaNat :: Analizador [Int]\n",
    "listaNat = simbolo \"[\"          >*> \\_ ->\n",
    "           natural              >*> \\n ->\n",
    "           varios (simbolo \",\"  >*> \\_ ->\n",
    "                   natural)     >*> \\ns ->\n",
    "           simbolo \"]\"          >*> \\_ ->\n",
    "           resultado (n:ns)"
   ]
  },
  {
   "cell_type": "code",
   "execution_count": 70,
   "metadata": {},
   "outputs": [
    {
     "data": {
      "text/plain": [
       "[([2,3,5],\"\")]"
      ]
     },
     "metadata": {},
     "output_type": "display_data"
    }
   ],
   "source": [
    "analiza listaNat \" [  2,  3, 5   ]\"  "
   ]
  },
  {
   "cell_type": "code",
   "execution_count": 71,
   "metadata": {},
   "outputs": [
    {
     "data": {
      "text/plain": [
       "[]"
      ]
     },
     "metadata": {},
     "output_type": "display_data"
    }
   ],
   "source": [
    "analiza listaNat \" [  2,  3,]\""
   ]
  },
  {
   "cell_type": "markdown",
   "metadata": {},
   "source": [
    "Analizador de expresiones aritméticas\n",
    "=====================================\n",
    "\n",
    "**Expresiones aritméticas**\n",
    "\n",
    "+ Consideramos expresiones aritméticas:\n",
    "    + construidas con números, operaciones (`+` y `*`) y paréntesis.\n",
    "    + `+` y `*` asocian por la derecha.\n",
    "    + `*` tiene más prioridad que `+`. \n",
    "\n",
    "+ Ejemplos:\n",
    "    + `2+3+5` representa a `2+(3+5)`.\n",
    "    + `2*3+5` representa a `(2*3)+5`.\n",
    "\n",
    "\n",
    "**Gramáticas de las expresiones aritméticas: Gramática 1**\n",
    "\n",
    "+ Gramática 1 de las expresiones aritméticas:\n",
    "\n",
    "```sesion\n",
    "expr ::=  expr + expr | expr * expr | (expr) | nat \n",
    "nat  ::=  0 | 1 | 2 | ...\n",
    "```\n",
    "\n",
    "+ La gramática 1 no considera prioridad: acepta `2+3*5` como `(2+3)*5` y como\n",
    "  `2+(3*5)`\n",
    "\n",
    "+ La gramática 1 no considera asociatividad: acepta `2+3+5` como `(2+3)+5` y\n",
    "  como `2+(3+5)`\n",
    "\n",
    "+ La gramática 1 es ambigua.\n",
    "\n",
    "\n",
    "**Gramáticas de las expresiones aritméticas: Gramática 2**\n",
    "\n",
    "+ Gramática 2 de las expresiones aritméticas (con prioridad):\n",
    "\n",
    "```sesion\n",
    "expr    ::=  expr + expr | term \n",
    "term    ::=  term * term | factor \n",
    "factor  ::=  (expr) | nat \n",
    "nat     ::=  0 | 1 | 2 | dots\n",
    "```\n",
    "\n",
    "+ La gramática 2 sí considera prioridad: acepta `2+3*5` sólo como `2+(3*5)`\n",
    "\n",
    "+ La gramática 2 no considera asociatividad: acepta `2+3+5` como `(2+3)+5` y\n",
    "como `2+(3+5)`\n",
    "\n",
    "+ La gramática 2 es ambigua.\n",
    "\n",
    "\n",
    "**Árbol de análisis sintáctico de `2*3+5` con la gramática 2**\n",
    "\n",
    "![](fig/tema-12-fig-2.png)\n",
    "\n",
    "**Gramáticas de las expresiones aritméticas: Gramática 3**\n",
    "\n",
    "+ Gramática 3 de las expresiones aritméticas:\n",
    "\n",
    "```sesion\n",
    "expr   ::= term + expr | term \n",
    "term   ::= factor * term | factor \n",
    "factor ::= (expr) | nat \n",
    "nat    ::= 0 | 1 | 2 | dots\n",
    "```\n",
    "\n",
    "+ La gramática 3 sí considera prioridad: acepta `2+3*5` sólo como `2+(3*5)`\n",
    "\n",
    "+ La gramática 3 sí considera asociatividad: acepta `2+3+5` como `2+(3+5)`\n",
    "\n",
    "+ La gramática 3 no es ambigua (i.e. es libre de contexto).\n",
    "\n",
    "\n",
    "**Árbol de análisis sintáctico de `2+3+5` con la gramática 3**\n",
    "\n",
    "![](fig/tema-12-fig-3.png)\n",
    "\n",
    "**Gramáticas de las expresiones aritméticas: Gramática 4**\n",
    "\n",
    "+ La gramática 4 se obtiene simplificando la gramática 3:\n",
    "\n",
    "```sesion\n",
    "expr   ::= term (+ expr | epsilon) \n",
    "term   ::= factor (* term | epsilon) \n",
    "factor ::= (expr) | nat \n",
    "nat    ::= 0 | 1 | 2 | dots\n",
    "```\n",
    "\n",
    "  <p class=\"indent\">donde ε es la cadena vacía.</p>\n",
    "\n",
    "+ La gramática 4 no es ambigua.\n",
    "\n",
    "+ La gramática 4 es la que se usará para escribir el analizador de expresiones\n",
    "  aritméticas.\n",
    "\n",
    "\n",
    "**Analizador de expresiones aritméticas**"
   ]
  },
  {
   "cell_type": "code",
   "execution_count": 72,
   "metadata": {},
   "outputs": [],
   "source": [
    "-- expr analiza una expresión aritmética devolviendo su valor. Por ejemplo,\n",
    "--    analiza expr \"2*3+5\"     ==  [(11,\"\")]\n",
    "--    analiza expr \"2*(3+5)\"   ==  [(16,\"\")]\n",
    "--    analiza expr \"2+3*5\"     ==  [(17,\"\")]\n",
    "--   analiza expr \"2*3+5abc\"  ==  [(11,\"abc\")]\n",
    "expr :: Analizador Int\n",
    "expr = term              >*> \\t ->\n",
    "       (simbolo \"+\"      >*> \\_ ->              \n",
    "        expr             >*> \\e ->\n",
    "        resultado (t+e))\n",
    "       +++ resultado t\n",
    "\n",
    "-- term analiza un término de una expresión aritmética devolviendo su\n",
    "-- valor. Por ejemplo,\n",
    "--    analiza term \"2*3+5\"      ==  [(6,\"+5\")]\n",
    "--    analiza term \"2+3*5\"      ==  [(2,\"+3*5\")]\n",
    "--    analiza term \"(2+3)*5+7\"  ==  [(25,\"+7\")]\n",
    "term :: Analizador Int\n",
    "term =  factor            >*> \\f ->\n",
    "        (simbolo \"*\"      >*> \\_ ->\n",
    "         term             >*> \\t ->\n",
    "         resultado (f*t))\n",
    "        +++ resultado f\n",
    "\n",
    "-- factor analiza un factor de una expresión aritmética devolviendo su\n",
    "-- valor. Por ejemplo,\n",
    "--    analiza factor \"2*3+5\"      ==  [(2,\"*3+5\")]\n",
    "--    analiza factor \"(2+3)*5\"    ==  [(5,\"*5\")]\n",
    "--    analiza factor \"(2+3*7)*5\"  ==  [(23,\"*5\")]\n",
    "factor :: Analizador Int\n",
    "factor =  (simbolo \"(\"  >*> \\_ ->\n",
    "           expr         >*> \\e ->\n",
    "           simbolo \")\"  >*> \\_ ->\n",
    "           resultado e)\n",
    "          +++ natural"
   ]
  },
  {
   "cell_type": "markdown",
   "metadata": {},
   "source": [
    "+ Ejemplos "
   ]
  },
  {
   "cell_type": "code",
   "execution_count": 73,
   "metadata": {},
   "outputs": [
    {
     "data": {
      "text/plain": [
       "[(11,\"\")]"
      ]
     },
     "metadata": {},
     "output_type": "display_data"
    }
   ],
   "source": [
    "analiza expr \"2*3+5\"     "
   ]
  },
  {
   "cell_type": "code",
   "execution_count": 74,
   "metadata": {},
   "outputs": [
    {
     "data": {
      "text/plain": [
       "[(16,\"\")]"
      ]
     },
     "metadata": {},
     "output_type": "display_data"
    }
   ],
   "source": [
    "analiza expr \"2*(3+5)\"   "
   ]
  },
  {
   "cell_type": "code",
   "execution_count": 75,
   "metadata": {},
   "outputs": [
    {
     "data": {
      "text/plain": [
       "[(17,\"\")]"
      ]
     },
     "metadata": {},
     "output_type": "display_data"
    }
   ],
   "source": [
    "analiza expr \"2+3*5\"     "
   ]
  },
  {
   "cell_type": "code",
   "execution_count": 76,
   "metadata": {},
   "outputs": [
    {
     "data": {
      "text/plain": [
       "[(11,\"abc\")]"
      ]
     },
     "metadata": {},
     "output_type": "display_data"
    }
   ],
   "source": [
    "analiza expr \"2*3+5abc\"  "
   ]
  },
  {
   "cell_type": "code",
   "execution_count": 77,
   "metadata": {},
   "outputs": [
    {
     "data": {
      "text/plain": [
       "[(6,\"+5\")]"
      ]
     },
     "metadata": {},
     "output_type": "display_data"
    }
   ],
   "source": [
    "analiza term \"2*3+5\"      "
   ]
  },
  {
   "cell_type": "code",
   "execution_count": 78,
   "metadata": {},
   "outputs": [
    {
     "data": {
      "text/plain": [
       "[(2,\"+3*5\")]"
      ]
     },
     "metadata": {},
     "output_type": "display_data"
    }
   ],
   "source": [
    "analiza term \"2+3*5\"      "
   ]
  },
  {
   "cell_type": "code",
   "execution_count": 79,
   "metadata": {},
   "outputs": [
    {
     "data": {
      "text/plain": [
       "[(25,\"+7\")]"
      ]
     },
     "metadata": {},
     "output_type": "display_data"
    }
   ],
   "source": [
    "analiza term \"(2+3)*5+7\"  "
   ]
  },
  {
   "cell_type": "code",
   "execution_count": 80,
   "metadata": {},
   "outputs": [
    {
     "data": {
      "text/plain": [
       "[(2,\"*3+5\")]"
      ]
     },
     "metadata": {},
     "output_type": "display_data"
    }
   ],
   "source": [
    "analiza factor \"2*3+5\"     "
   ]
  },
  {
   "cell_type": "code",
   "execution_count": 81,
   "metadata": {},
   "outputs": [
    {
     "data": {
      "text/plain": [
       "[(5,\"*5\")]"
      ]
     },
     "metadata": {},
     "output_type": "display_data"
    }
   ],
   "source": [
    "analiza factor \"(2+3)*5\"   "
   ]
  },
  {
   "cell_type": "code",
   "execution_count": 82,
   "metadata": {},
   "outputs": [
    {
     "data": {
      "text/plain": [
       "[(23,\"*5\")]"
      ]
     },
     "metadata": {},
     "output_type": "display_data"
    }
   ],
   "source": [
    "analiza factor \"(2+3*7)*5\" "
   ]
  },
  {
   "cell_type": "markdown",
   "metadata": {},
   "source": [
    "+ `(valor cs)` analiza la cadena `cs` devolviendo su valor si es una expresión\n",
    "  aritmética y un mensaje de error en caso contrario. Por ejemplo,\n",
    "\n",
    "```sesion\n",
    "valor \"2*3+5\"      ==  11\n",
    "valor \"2*(3+5)\"    ==  16\n",
    "valor \"2 * 3 + 5\"  ==  11\n",
    "valor \"2*3x\"       ==  *** Exception: sin usar x\n",
    "valor \"-1\"         ==  *** Exception: entrada no valida\n",
    "```"
   ]
  },
  {
   "cell_type": "code",
   "execution_count": 83,
   "metadata": {},
   "outputs": [],
   "source": [
    "valor :: String -> Int\n",
    "valor xs = case (analiza expr xs) of\n",
    "             [(n,[])]  -> n\n",
    "             [(_,sal)] -> error (\"sin usar \" ++ sal)\n",
    "             []        -> error \"entrada no valida\""
   ]
  },
  {
   "cell_type": "code",
   "execution_count": 84,
   "metadata": {},
   "outputs": [
    {
     "data": {
      "text/plain": [
       "11"
      ]
     },
     "metadata": {},
     "output_type": "display_data"
    }
   ],
   "source": [
    "valor \"2*3+5\"      "
   ]
  },
  {
   "cell_type": "code",
   "execution_count": 85,
   "metadata": {},
   "outputs": [
    {
     "data": {
      "text/plain": [
       "16"
      ]
     },
     "metadata": {},
     "output_type": "display_data"
    }
   ],
   "source": [
    "valor \"2*(3+5)\"    "
   ]
  },
  {
   "cell_type": "code",
   "execution_count": 86,
   "metadata": {},
   "outputs": [
    {
     "data": {
      "text/plain": [
       "11"
      ]
     },
     "metadata": {},
     "output_type": "display_data"
    }
   ],
   "source": [
    "valor \"2 * 3 + 5\"  "
   ]
  },
  {
   "cell_type": "code",
   "execution_count": 87,
   "metadata": {},
   "outputs": [
    {
     "ename": "",
     "evalue": "",
     "header": "MessageHeader {mhIdentifiers = [\"7bc96980-5eaf-462e-a709-f0a8fd7f0eb9\"], mhParentHeader = Just (MessageHeader {mhIdentifiers = [\"7bc96980-5eaf-462e-a709-f0a8fd7f0eb9\"], mhParentHeader = Nothing, mhMetadata = Metadata (fromList [(\"deletedCells\",Array []),(\"cellId\",String \"9de93b89-8666-4d03-b8eb-d4714be752bc\")]), mhMessageId = UUID {uuidToString = \"617ed1a7-8c9e-43f9-908f-97b25c00773b\"}, mhSessionId = UUID {uuidToString = \"7bc96980-5eaf-462e-a709-f0a8fd7f0eb9\"}, mhUsername = \"\", mhMsgType = ExecuteRequestMessage}), mhMetadata = Metadata (fromList []), mhMessageId = UUID {uuidToString = \"4b9b68c9-3c7a-460e-bb93-2ee96f7e4682\"}, mhSessionId = UUID {uuidToString = \"7bc96980-5eaf-462e-a709-f0a8fd7f0eb9\"}, mhUsername = \"\", mhMsgType = ExecuteErrorMessage}",
     "output_type": "error",
     "traceback": [
      "sin usar x\nCallStack (from HasCallStack):\n  error, called at <interactive>:4:27 in interactive:Ghci2341"
     ]
    }
   ],
   "source": [
    "valor \"2*3x\"       "
   ]
  },
  {
   "cell_type": "code",
   "execution_count": 88,
   "metadata": {},
   "outputs": [
    {
     "ename": "",
     "evalue": "",
     "header": "MessageHeader {mhIdentifiers = [\"7bc96980-5eaf-462e-a709-f0a8fd7f0eb9\"], mhParentHeader = Just (MessageHeader {mhIdentifiers = [\"7bc96980-5eaf-462e-a709-f0a8fd7f0eb9\"], mhParentHeader = Nothing, mhMetadata = Metadata (fromList [(\"deletedCells\",Array []),(\"cellId\",String \"f44eb570-9031-49e6-ade0-6dbdc54b48ed\")]), mhMessageId = UUID {uuidToString = \"3ba208eb-c2e9-4e79-8582-956b9994c68a\"}, mhSessionId = UUID {uuidToString = \"7bc96980-5eaf-462e-a709-f0a8fd7f0eb9\"}, mhUsername = \"\", mhMsgType = ExecuteRequestMessage}), mhMetadata = Metadata (fromList []), mhMessageId = UUID {uuidToString = \"4979b553-7c19-492a-b423-e863c2d1dfc5\"}, mhSessionId = UUID {uuidToString = \"7bc96980-5eaf-462e-a709-f0a8fd7f0eb9\"}, mhUsername = \"\", mhMsgType = ExecuteErrorMessage}",
     "output_type": "error",
     "traceback": [
      "entrada no valida\nCallStack (from HasCallStack):\n  error, called at <interactive>:5:27 in interactive:Ghci2341"
     ]
    }
   ],
   "source": [
    "valor \"-1\"         "
   ]
  },
  {
   "cell_type": "markdown",
   "metadata": {},
   "source": [
    "Bibliografía\n",
    "============\n",
    "\n",
    "+ R. Bird. *Introducción a la programación funcional con Haskell*. Prentice Hall, 2000.\n",
    "    + Cap. 11: Análisis sintáctico.\n",
    "\n",
    "+ G. Hutton. *Programming in Haskell*. Cambridge University Press, 2007.\n",
    "    + Cap. 8: Functional parsers.\n",
    "\n",
    "+ G. Hutton y E. Meijer.\n",
    "  [Monadic parser combinators](http://www.cs.nott.ac.uk/~gmh/monparsing.pdf).\n",
    "  Technical Report NOTTCS-TR-96-4, Department of Computer Science,\n",
    "  University of Nottingham, 1996.\n",
    "\n",
    "+ G. Hutton y E. Meijer. \n",
    "  [Monadic parsing in Haskell](http://www.cs.nott.ac.uk/~gmh/pearl.pdf).\n",
    "  Journal of Functional Programming, 8(4): 437-444, 1998.\n",
    "\n",
    "+ B.C. Ruiz, F. Gutiérrez, P. Guerrero y J.E. Gallardo.\n",
    "  *Razonando con Haskell*.\n",
    "  Thompson, 2004.\n",
    "    + Cap. 14: Analizadores."
   ]
  }
 ],
 "metadata": {
  "kernelspec": {
   "display_name": "Haskell",
   "language": "haskell",
   "name": "haskell"
  },
  "language_info": {
   "codemirror_mode": "ihaskell",
   "file_extension": ".hs",
   "name": "haskell",
   "pygments_lexer": "Haskell",
   "version": "8.6.5"
  }
 },
 "nbformat": 4,
 "nbformat_minor": 4
}
