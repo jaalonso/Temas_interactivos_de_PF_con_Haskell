{
 "cells": [
  {
   "cell_type": "markdown",
   "metadata": {},
   "source": [
    "<span style=\"font-size:2em; color:blue\">\n",
    "    Tema 17: El TAD de los conjuntos\n",
    "</span>  \n",
    "\n",
    "----------\n",
    "\n",
    "[José A. Alonso](https://www.cs.us.es/~jalonso)  \n",
    "[Departamento de Ciencias de la Computación e I.A.](https://www.cs.us.es)  \n",
    "[Universidad de Sevilla](http://www.us.es)  \n",
    "Sevilla, 13 de agosto de 2019"
   ]
  },
  {
   "cell_type": "markdown",
   "metadata": {},
   "source": [
    "> __Notas:__ \n",
    "+ La versión interactiva de este tema se encuentra en [Binder](https://mybinder.org/v2/gh/jaalonso/Temas_interactivos_de_PF_con_Haskell/master?urlpath=lab/tree/temas/Tema-17.ipynb).\n",
    "+ Se desactiva el [corrector estilo de Haskell](https://github.com/gibiansky/IHaskell/wiki#opt-no-lint)."
   ]
  },
  {
   "cell_type": "code",
   "execution_count": 1,
   "metadata": {},
   "outputs": [],
   "source": [
    ":opt no-lint"
   ]
  },
  {
   "cell_type": "markdown",
   "metadata": {
    "toc-hr-collapsed": true
   },
   "source": [
    "# Especificación del TAD de los conjuntos"
   ]
  },
  {
   "cell_type": "markdown",
   "metadata": {},
   "source": [
    "## Signatura del TAD de los conjuntos\n",
    "\n",
    "+ Signatura:\n",
    "\n",
    "```sesion\n",
    "vacio,     :: Conj a                         \n",
    "inserta    :: Eq a => a -> Conj a -> Conj a\n",
    "elimina    :: Eq a => a -> Conj a -> Conj a\n",
    "pertenece  :: Eq a => a -> Conj a -> Bool  \n",
    "esVacio    :: Conj a -> Bool                \n",
    "```\n",
    "\n",
    "+ Descripción de las operaciones:\n",
    "    + `vacio` es el conjunto vacío.\n",
    "    + `(inserta x c)` es el conjunto obtenido añadiendo el elemento `x` al\n",
    "      conjunto `c`.\n",
    "    + `(elimina x c)` es el conjunto obtenido eliminando el elemento `x` del\n",
    "      conjunto `c`.\n",
    "    + `(pertenece x c)` se verifica si `x` pertenece al conjunto `c`.\n",
    "    + `(esVacio c)` se verifica si `c` es el conjunto vacío."
   ]
  },
  {
   "cell_type": "markdown",
   "metadata": {},
   "source": [
    "## Propiedades del TAD de los conjuntos\n",
    "\n",
    "+ `inserta x (inserta x c) == inserta x c`\n",
    "\n",
    "+ `inserta x (inserta y c) == inserta y (inserta x c)`\n",
    "\n",
    "+ `not (pertenece x vacio)`\n",
    "\n",
    "+ `pertenece y (inserta x c) == (x==y) || pertenece y c`\n",
    "\n",
    "+ `elimina x vacio == vacio`\n",
    "\n",
    "+ Si `x == y`, entonces  \n",
    "  `elimina x (inserta y c) == elimina x c` \n",
    "\n",
    "+ Si `x /= y`, entonces  \n",
    "  `elimina x (inserta y c) == inserta y (elimina x c)`\n",
    "\n",
    "+ `esVacio vacio`\n",
    "\n",
    "+ `not (esVacio (inserta x c))`"
   ]
  },
  {
   "cell_type": "markdown",
   "metadata": {
    "toc-hr-collapsed": true
   },
   "source": [
    "# Implementaciones del TAD de los conjuntos"
   ]
  },
  {
   "cell_type": "markdown",
   "metadata": {},
   "source": [
    "## Los conjuntos como listas no ordenadas con duplicados "
   ]
  },
  {
   "cell_type": "code",
   "execution_count": 2,
   "metadata": {},
   "outputs": [],
   "source": [
    "module ConjuntoConListasNoOrdenadasConDuplicados \n",
    "    (Conj,\n",
    "     vacio,     -- Conj a                         \n",
    "     inserta,   -- Eq a => a -> Conj a -> Conj a\n",
    "     elimina,   -- Eq a => a -> Conj a -> Conj a\n",
    "     pertenece, -- Eq a => a -> Conj a -> Bool  \n",
    "     esVacio,   -- Conj a -> Bool                \n",
    "    ) where\n",
    "\n",
    "-- Conjuntos como listas no ordenadas con repeticiones:\n",
    "newtype Conj a = Cj [a]\n",
    "\n",
    "-- Procedimiento de escritura de los conjuntos.\n",
    "instance (Show a) => Show (Conj a) where\n",
    "  showsPrec _ (Cj s) = showConj s \n",
    "\n",
    "showConj :: Show a => [a] -> String -> String\n",
    "showConj []     cad = showString \"{}\" cad\n",
    "showConj (x:xs) cad = showChar '{' (shows x (showl xs cad))\n",
    "  where showl []     cs = showChar '}' cs\n",
    "        showl (y:ys) cs = showChar ',' (shows y (showl ys cs))\n",
    "\n",
    "-- Ejemplo de conjunto: c1 es el conjunto obtenido añadiéndole al\n",
    "-- conjunto vacío los elementos 2, 5, 1, 3, 7, 5, 3, 2, 1, 9 y 0.\n",
    "--    ghci > c1\n",
    "--    {2,5,1,3,7,5,3,2,1,9,0}\n",
    "c1 :: Conj Int\n",
    "c1 = foldr inserta vacio [2,5,1,3,7,5,3,2,1,9,0]\n",
    "\n",
    "-- vacio es el conjunto vacío. Por ejemplo,\n",
    "--    ghci> vacio\n",
    "--    {}\n",
    "vacio :: Conj a                         \n",
    "vacio = Cj []\n",
    "\n",
    "-- (inserta x c) es el conjunto obtenido añadiendo el elemento x al\n",
    "-- conjunto c. Por ejemplo,\n",
    "--    c1            ==  {2,5,1,3,7,5,3,2,1,9,0}\n",
    "--    inserta 5 c1  ==  {5,2,5,1,3,7,5,3,2,1,9,0}\n",
    "inserta :: Eq a => a -> Conj a -> Conj a\n",
    "inserta x (Cj ys) = Cj (x:ys)\n",
    "\n",
    "-- (elimina x c) es el conjunto obtenido eliminando el elemento x\n",
    "-- del conjunto c. Por ejemplo,\n",
    "--    c1            ==  {2,5,1,3,7,5,3,2,1,9,0}\n",
    "--    elimina 3 c1  ==  {2,5,1,7,5,2,1,9,0}\n",
    "elimina :: Eq a => a -> Conj a -> Conj a\n",
    "elimina x (Cj ys) = Cj (filter (/= x) ys)\n",
    "\n",
    "-- (pertenece x c) se verifica si x pertenece al conjunto c. Por ejemplo, \n",
    "--    c1              ==  {2,5,1,3,7,5,3,2,1,9,0}\n",
    "--    pertenece 3 c1  ==  True\n",
    "--    pertenece 4 c1  ==  False\n",
    "pertenece :: Eq a => a -> Conj a -> Bool \n",
    "pertenece x (Cj xs) = x `elem` xs\n",
    "\n",
    "-- (esVacio c) se verifica si c es el conjunto vacío. Por ejemplo, \n",
    "--    esVacio c1     ==  False\n",
    "--    esVacio vacio  ==  True\n",
    "esVacio :: Conj a -> Bool                \n",
    "esVacio (Cj xs) = null xs\n",
    "\n",
    "-- (subconjunto c1 c2) se verifica si c1 es un subconjunto de c2. Por\n",
    "-- ejemplo,\n",
    "--    subconjunto (Cj [1,3,2,1]) (Cj [3,1,3,2])  ==  True\n",
    "--    subconjunto (Cj [1,3,4,1]) (Cj [3,1,3,2])  ==  False\n",
    "subconjunto :: Eq a => Conj a -> Conj a -> Bool\n",
    "subconjunto (Cj xs) (Cj ys) = sublista xs ys\n",
    "    where sublista [] _      = True\n",
    "          sublista (z:zs) vs = elem z vs && sublista zs vs\n",
    "\n",
    "-- (igualConjunto c1 c2) se verifica si los conjuntos c1 y c2 son\n",
    "-- iguales. Por ejemplo, \n",
    "--    igualConjunto (Cj [1,3,2,1]) (Cj [3,1,3,2])  ==  True\n",
    "--    igualConjunto (Cj [1,3,4,1]) (Cj [3,1,3,2])  ==  False\n",
    "igualConjunto :: Eq a => Conj a -> Conj a -> Bool\n",
    "igualConjunto c c' = \n",
    "  subconjunto c c' && subconjunto c' c\n",
    "\n",
    "--- Los conjuntos son comparables por igualdad.\n",
    "instance Eq a => Eq (Conj a) where\n",
    "  (==) = igualConjunto"
   ]
  },
  {
   "cell_type": "markdown",
   "metadata": {},
   "source": [
    "+ Ejemplos"
   ]
  },
  {
   "cell_type": "code",
   "execution_count": 3,
   "metadata": {},
   "outputs": [
    {
     "data": {
      "text/plain": [
       "{2,5,1,3,7,5,3,2,1,9,0}"
      ]
     },
     "metadata": {},
     "output_type": "display_data"
    }
   ],
   "source": [
    "c1 = foldr inserta vacio [2,5,1,3,7,5,3,2,1,9,0]\n",
    "c1"
   ]
  },
  {
   "cell_type": "code",
   "execution_count": 4,
   "metadata": {},
   "outputs": [
    {
     "data": {
      "text/plain": [
       "{}"
      ]
     },
     "metadata": {},
     "output_type": "display_data"
    }
   ],
   "source": [
    "vacio"
   ]
  },
  {
   "cell_type": "code",
   "execution_count": 5,
   "metadata": {},
   "outputs": [
    {
     "data": {
      "text/plain": [
       "{5,2,5,1,3,7,5,3,2,1,9,0}"
      ]
     },
     "metadata": {},
     "output_type": "display_data"
    }
   ],
   "source": [
    "inserta 5 c1"
   ]
  },
  {
   "cell_type": "code",
   "execution_count": 6,
   "metadata": {},
   "outputs": [
    {
     "data": {
      "text/plain": [
       "{2,5,1,7,5,2,1,9,0}"
      ]
     },
     "metadata": {},
     "output_type": "display_data"
    }
   ],
   "source": [
    "elimina 3 c1"
   ]
  },
  {
   "cell_type": "code",
   "execution_count": 7,
   "metadata": {},
   "outputs": [
    {
     "data": {
      "text/plain": [
       "True"
      ]
     },
     "metadata": {},
     "output_type": "display_data"
    }
   ],
   "source": [
    "pertenece 3 c1"
   ]
  },
  {
   "cell_type": "code",
   "execution_count": 8,
   "metadata": {},
   "outputs": [
    {
     "data": {
      "text/plain": [
       "False"
      ]
     },
     "metadata": {},
     "output_type": "display_data"
    }
   ],
   "source": [
    "pertenece 4 c1"
   ]
  },
  {
   "cell_type": "code",
   "execution_count": 9,
   "metadata": {},
   "outputs": [
    {
     "data": {
      "text/plain": [
       "False"
      ]
     },
     "metadata": {},
     "output_type": "display_data"
    }
   ],
   "source": [
    "esVacio c1"
   ]
  },
  {
   "cell_type": "code",
   "execution_count": 10,
   "metadata": {},
   "outputs": [
    {
     "data": {
      "text/plain": [
       "True"
      ]
     },
     "metadata": {},
     "output_type": "display_data"
    }
   ],
   "source": [
    "esVacio vacio"
   ]
  },
  {
   "cell_type": "markdown",
   "metadata": {},
   "source": [
    "+ Se borra la implementación"
   ]
  },
  {
   "cell_type": "code",
   "execution_count": 11,
   "metadata": {},
   "outputs": [],
   "source": [
    ":m - ConjuntoConListasNoOrdenadasConDuplicados"
   ]
  },
  {
   "cell_type": "markdown",
   "metadata": {},
   "source": [
    "## Los conjuntos como listas no ordenadas sin duplicados"
   ]
  },
  {
   "cell_type": "code",
   "execution_count": 12,
   "metadata": {},
   "outputs": [],
   "source": [
    "module ConjuntoConListasNoOrdenadasSinDuplicados\n",
    "    (Conj,\n",
    "     vacio,     -- Conj a                       \n",
    "     esVacio,   -- Conj a -> Bool               \n",
    "     pertenece, -- Eq a => a -> Conj a -> Bool  \n",
    "     inserta,   -- Eq a => a -> Conj a -> Conj a\n",
    "     elimina    -- Eq a => a -> Conj a -> Conj a\n",
    "    ) where\n",
    "\n",
    "-- Los conjuntos como listas no ordenadas sin repeticiones.\n",
    "newtype Conj a = Cj [a]\n",
    "\n",
    "-- Procedimiento de escritura de los conjuntos.\n",
    "instance (Show a) => Show (Conj a) where\n",
    "  showsPrec _ (Cj s) = showConj s \n",
    "\n",
    "showConj :: Show a => [a] -> String -> String\n",
    "showConj []     cad = showString \"{}\" cad\n",
    "showConj (x:xs) cad = showChar '{' (shows x (showl xs cad))\n",
    "  where showl []     cs = showChar '}' cs\n",
    "        showl (y:ys) cs = showChar ',' (shows y (showl ys cs))\n",
    "\n",
    "-- Ejemplo de conjunto:\n",
    "--    ghci> c1\n",
    "--    {7,5,3,2,1,9,0}\n",
    "c1 :: Conj Int\n",
    "c1 = foldr inserta vacio [2,5,1,3,7,5,3,2,1,9,0]\n",
    "\n",
    "-- vacio es el conjunto vacío. Por ejemplo,\n",
    "--    ghci> vacio\n",
    "--    {}\n",
    "vacio :: Conj a                         \n",
    "vacio = Cj []\n",
    "\n",
    "-- (esVacio c) se verifica si c es el conjunto vacío. Por ejemplo, \n",
    "--    esVacio c1     ==  False\n",
    "--    esVacio vacio  ==  True\n",
    "esVacio :: Conj a -> Bool                \n",
    "esVacio (Cj xs) = null xs\n",
    "\n",
    "-- (pertenece x c) se verifica si x pertenece al conjunto c. Por ejemplo, \n",
    "--    c1              ==  {2,5,1,3,7,5,3,2,1,9,0}\n",
    "--    pertenece 3 c1  ==  True\n",
    "--    pertenece 4 c1  ==  False\n",
    "pertenece :: Eq a => a -> Conj a -> Bool \n",
    "pertenece x (Cj xs) = x `elem` xs\n",
    "\n",
    "-- (inserta x c) es el conjunto obtenido añadiendo el elemento x al\n",
    "-- conjunto c. Por ejemplo,\n",
    "--    c1            ==  {7,5,3,2,1,9,0}\n",
    "--    inserta 5 c1  ==  {7,5,3,2,1,9,0}\n",
    "--    inserta 4 c1  ==  {4,7,5,3,2,1,9,0}\n",
    "inserta :: Eq a => a -> Conj a -> Conj a\n",
    "inserta x s@(Cj xs) | pertenece x s = s\n",
    "                    | otherwise  = Cj (x:xs)\n",
    "\n",
    "-- (elimina x c) es el conjunto obtenido eliminando el elemento x\n",
    "-- del conjunto c. Por ejemplo,\n",
    "--    c1            ==  {7,5,3,2,1,9,0}\n",
    "--    elimina 3 c1  ==  {7,5,2,1,9,0}\n",
    "elimina :: Eq a => a -> Conj a -> Conj a\n",
    "elimina x (Cj s) = Cj [y | y <-s, y /= x]\n",
    "\n",
    "-- (subconjunto c1 c2) se verifica si c1 es un subconjunto de c2. Por\n",
    "-- ejemplo, \n",
    "--    subconjunto (Cj [1,3,2]) (Cj [3,1,2])    ==  True\n",
    "--    subconjunto (Cj [1,3,4,1]) (Cj [1,3,2])  ==  False\n",
    "subconjunto :: Eq a => Conj a -> Conj a -> Bool\n",
    "subconjunto (Cj xs) (Cj ys) = sublista xs ys\n",
    "  where sublista [] _      = True\n",
    "        sublista (z:zs) vs = elem z vs && sublista zs vs\n",
    "\n",
    "-- (igualConjunto c1 c2) se verifica si los conjuntos c1 y c2 son\n",
    "-- iguales. Por ejemplo, \n",
    "--    igualConjunto (Cj [3,2,1]) (Cj [1,3,2])  ==  True\n",
    "--    igualConjunto (Cj [1,3,4]) (Cj [1,3,2])  ==  False\n",
    "igualConjunto :: Eq a => Conj a -> Conj a -> Bool\n",
    "igualConjunto c c' = \n",
    "  subconjunto c c' && subconjunto c' c\n",
    "\n",
    "--- Los conjuntos son comparables por igualdad.\n",
    "instance Eq a => Eq (Conj a) where\n",
    "  (==) = igualConjunto"
   ]
  },
  {
   "cell_type": "markdown",
   "metadata": {},
   "source": [
    "+ Ejemplos"
   ]
  },
  {
   "cell_type": "code",
   "execution_count": 13,
   "metadata": {},
   "outputs": [
    {
     "data": {
      "text/plain": [
       "{7,5,3,2,1,9,0}"
      ]
     },
     "metadata": {},
     "output_type": "display_data"
    }
   ],
   "source": [
    "c1 = foldr inserta vacio [2,5,1,3,7,5,3,2,1,9,0]\n",
    "c1"
   ]
  },
  {
   "cell_type": "code",
   "execution_count": 14,
   "metadata": {},
   "outputs": [
    {
     "data": {
      "text/plain": [
       "{}"
      ]
     },
     "metadata": {},
     "output_type": "display_data"
    }
   ],
   "source": [
    "vacio"
   ]
  },
  {
   "cell_type": "code",
   "execution_count": 15,
   "metadata": {},
   "outputs": [
    {
     "data": {
      "text/plain": [
       "{7,5,3,2,1,9,0}"
      ]
     },
     "metadata": {},
     "output_type": "display_data"
    }
   ],
   "source": [
    "inserta 5 c1"
   ]
  },
  {
   "cell_type": "code",
   "execution_count": 16,
   "metadata": {},
   "outputs": [
    {
     "data": {
      "text/plain": [
       "{4,7,5,3,2,1,9,0}"
      ]
     },
     "metadata": {},
     "output_type": "display_data"
    }
   ],
   "source": [
    "inserta 4 c1"
   ]
  },
  {
   "cell_type": "code",
   "execution_count": 17,
   "metadata": {},
   "outputs": [
    {
     "data": {
      "text/plain": [
       "{7,5,2,1,9,0}"
      ]
     },
     "metadata": {},
     "output_type": "display_data"
    }
   ],
   "source": [
    "elimina 3 c1"
   ]
  },
  {
   "cell_type": "code",
   "execution_count": 18,
   "metadata": {},
   "outputs": [
    {
     "data": {
      "text/plain": [
       "True"
      ]
     },
     "metadata": {},
     "output_type": "display_data"
    }
   ],
   "source": [
    "pertenece 3 c1"
   ]
  },
  {
   "cell_type": "code",
   "execution_count": 19,
   "metadata": {},
   "outputs": [
    {
     "data": {
      "text/plain": [
       "False"
      ]
     },
     "metadata": {},
     "output_type": "display_data"
    }
   ],
   "source": [
    "pertenece 4 c1"
   ]
  },
  {
   "cell_type": "code",
   "execution_count": 20,
   "metadata": {},
   "outputs": [
    {
     "data": {
      "text/plain": [
       "False"
      ]
     },
     "metadata": {},
     "output_type": "display_data"
    }
   ],
   "source": [
    "esVacio c1"
   ]
  },
  {
   "cell_type": "code",
   "execution_count": 21,
   "metadata": {},
   "outputs": [
    {
     "data": {
      "text/plain": [
       "True"
      ]
     },
     "metadata": {},
     "output_type": "display_data"
    }
   ],
   "source": [
    "esVacio vacio"
   ]
  },
  {
   "cell_type": "markdown",
   "metadata": {},
   "source": [
    "+ Se borra la implementación"
   ]
  },
  {
   "cell_type": "code",
   "execution_count": 22,
   "metadata": {},
   "outputs": [],
   "source": [
    ":m - ConjuntoConListasNoOrdenadasSinDuplicados"
   ]
  },
  {
   "cell_type": "markdown",
   "metadata": {},
   "source": [
    "## Los conjuntos como listas ordenadas sin duplicados"
   ]
  },
  {
   "cell_type": "code",
   "execution_count": 23,
   "metadata": {},
   "outputs": [],
   "source": [
    "module ConjuntoConListasOrdenadasSinDuplicados\n",
    "    (Conj,\n",
    "     vacio,     -- Conj a                       \n",
    "     esVacio,   -- Conj a -> Bool               \n",
    "     pertenece, -- Ord a => a -> Conj a -> Bool  \n",
    "     inserta,   -- Ord a => a -> Conj a -> Conj a\n",
    "     elimina    -- Ord a => a -> Conj a -> Conj a\n",
    "    ) where\n",
    "\n",
    "-- Los conjuntos como listas ordenadas sin repeticiones.\n",
    "newtype Conj a = Cj [a]\n",
    "    deriving Eq\n",
    "\n",
    "-- Procedimiento de escritura de los conjuntos.\n",
    "instance (Show a) => Show (Conj a) where\n",
    "  showsPrec _ (Cj s) = showConj s \n",
    "\n",
    "showConj :: Show a => [a] -> String -> String\n",
    "showConj []     cad = showString \"{}\" cad\n",
    "showConj (x:xs) cad = showChar '{' (shows x (showl xs cad))\n",
    "  where showl []     cs = showChar '}' cs\n",
    "        showl (y:ys) cs = showChar ',' (shows y (showl ys cs))\n",
    "\n",
    "-- Ejemplo de conjunto:\n",
    "--    ghci> c1\n",
    "--    {0,1,2,3,5,7,9}\n",
    "c1 :: Conj Int\n",
    "c1 = foldr inserta vacio [2,5,1,3,7,5,3,2,1,9,0]\n",
    "\n",
    "-- vacio es el conjunto vacío. Por ejemplo,\n",
    "--    ghci> vacio\n",
    "--    {}\n",
    "vacio :: Conj a                         \n",
    "vacio = Cj []\n",
    "\n",
    "-- (esVacio c) se verifica si c es el conjunto vacío. Por ejemplo, \n",
    "--    esVacio c1     ==  False\n",
    "--    esVacio vacio  ==  True\n",
    "esVacio :: Conj a -> Bool                \n",
    "esVacio (Cj xs) = null xs\n",
    "\n",
    "-- (pertenece x c) se verifica si x pertenece al conjunto c. Por ejemplo, \n",
    "--    c1              ==  {0,1,2,3,5,7,9}\n",
    "--    pertenece 3 c1  ==  True\n",
    "--    pertenece 4 c1  ==  False\n",
    "pertenece :: Ord a => a -> Conj a -> Bool \n",
    "pertenece x (Cj s) = x `elem` takeWhile (<= x) s\n",
    "\n",
    "-- (inserta x c) es el conjunto obtenido añadiendo el elemento x al\n",
    "-- conjunto c. Por ejemplo,\n",
    "--    c1            ==  {0,1,2,3,5,7,9}\n",
    "--    inserta 5 c1  ==  {0,1,2,3,5,7,9}\n",
    "--    inserta 4 c1  ==  {0,1,2,3,4,5,7,9}\n",
    "inserta :: Ord a => a -> Conj a -> Conj a\n",
    "inserta x (Cj s) = Cj (agrega x s)\n",
    "  where agrega z []                    = [z]                \n",
    "        agrega z s'@(y:ys) | z > y      = y : agrega z ys\n",
    "                           | z < y      = z : s'\n",
    "                           | otherwise  = s'\n",
    "\n",
    "-- (elimina x c) es el conjunto obtenido eliminando el elemento x\n",
    "-- del conjunto c. Por ejemplo,\n",
    "--    c1            ==  {0,1,2,3,5,7,9}\n",
    "--    elimina 3 c1  ==  {0,1,2,5,7,9}\n",
    "elimina :: Ord a => a -> Conj a -> Conj a\n",
    "elimina x (Cj s) = Cj (elimina' x s)\n",
    "  where elimina' _ []                   = []\n",
    "        elimina' z s'@(y:ys) | z > y     = y : elimina' z ys\n",
    "                             | z < y     = s'\n",
    "                             | otherwise = ys"
   ]
  },
  {
   "cell_type": "markdown",
   "metadata": {},
   "source": [
    "+ Ejemplos"
   ]
  },
  {
   "cell_type": "code",
   "execution_count": 24,
   "metadata": {},
   "outputs": [
    {
     "data": {
      "text/plain": [
       "{0,1,2,3,5,7,9}"
      ]
     },
     "metadata": {},
     "output_type": "display_data"
    }
   ],
   "source": [
    "c1 = foldr inserta vacio [2,5,1,3,7,5,3,2,1,9,0]\n",
    "c1"
   ]
  },
  {
   "cell_type": "code",
   "execution_count": 25,
   "metadata": {},
   "outputs": [
    {
     "data": {
      "text/plain": [
       "{}"
      ]
     },
     "metadata": {},
     "output_type": "display_data"
    }
   ],
   "source": [
    "vacio"
   ]
  },
  {
   "cell_type": "code",
   "execution_count": 26,
   "metadata": {},
   "outputs": [
    {
     "data": {
      "text/plain": [
       "{0,1,2,3,5,7,9}"
      ]
     },
     "metadata": {},
     "output_type": "display_data"
    }
   ],
   "source": [
    "inserta 5 c1"
   ]
  },
  {
   "cell_type": "code",
   "execution_count": 27,
   "metadata": {},
   "outputs": [
    {
     "data": {
      "text/plain": [
       "{0,1,2,3,4,5,7,9}"
      ]
     },
     "metadata": {},
     "output_type": "display_data"
    }
   ],
   "source": [
    "inserta 4 c1"
   ]
  },
  {
   "cell_type": "code",
   "execution_count": 28,
   "metadata": {},
   "outputs": [
    {
     "data": {
      "text/plain": [
       "{0,1,2,5,7,9}"
      ]
     },
     "metadata": {},
     "output_type": "display_data"
    }
   ],
   "source": [
    "elimina 3 c1"
   ]
  },
  {
   "cell_type": "code",
   "execution_count": 29,
   "metadata": {},
   "outputs": [
    {
     "data": {
      "text/plain": [
       "{0,1,2,3,7,9}"
      ]
     },
     "metadata": {},
     "output_type": "display_data"
    }
   ],
   "source": [
    "elimina 5 c1"
   ]
  },
  {
   "cell_type": "code",
   "execution_count": 30,
   "metadata": {},
   "outputs": [
    {
     "data": {
      "text/plain": [
       "True"
      ]
     },
     "metadata": {},
     "output_type": "display_data"
    }
   ],
   "source": [
    "pertenece 3 c1"
   ]
  },
  {
   "cell_type": "code",
   "execution_count": 31,
   "metadata": {},
   "outputs": [
    {
     "data": {
      "text/plain": [
       "False"
      ]
     },
     "metadata": {},
     "output_type": "display_data"
    }
   ],
   "source": [
    "pertenece 4 c1"
   ]
  },
  {
   "cell_type": "code",
   "execution_count": 32,
   "metadata": {},
   "outputs": [
    {
     "data": {
      "text/plain": [
       "False"
      ]
     },
     "metadata": {},
     "output_type": "display_data"
    }
   ],
   "source": [
    "esVacio c1"
   ]
  },
  {
   "cell_type": "code",
   "execution_count": 33,
   "metadata": {},
   "outputs": [
    {
     "data": {
      "text/plain": [
       "True"
      ]
     },
     "metadata": {},
     "output_type": "display_data"
    }
   ],
   "source": [
    "esVacio vacio"
   ]
  },
  {
   "cell_type": "markdown",
   "metadata": {},
   "source": [
    "+ Se borra la implementación"
   ]
  },
  {
   "cell_type": "code",
   "execution_count": 34,
   "metadata": {},
   "outputs": [],
   "source": [
    ":m - ConjuntoConListasOrdenadasSinDuplicados"
   ]
  },
  {
   "cell_type": "markdown",
   "metadata": {},
   "source": [
    "# Comprobación de las implementaciones con QuickCheck"
   ]
  },
  {
   "cell_type": "code",
   "execution_count": 35,
   "metadata": {},
   "outputs": [],
   "source": [
    "{-# LANGUAGE FlexibleInstances #-}\n",
    "\n",
    "module ConjuntoPropiedades where\n",
    "\n",
    "-- Nota: Hay que elegir una implementación del TAD de conjuntos\n",
    "-- import ConjuntoConListasNoOrdenadasConDuplicados\n",
    "-- import ConjuntoConListasNoOrdenadasSinDuplicados\n",
    "import ConjuntoConListasOrdenadasSinDuplicados\n",
    "\n",
    "import Test.QuickCheck\n",
    "\n",
    "-- ---------------------------------------------------------------------\n",
    "-- Generador de conjuntos                                          --\n",
    "-- ---------------------------------------------------------------------\n",
    "\n",
    "-- genConjunto es un generador de conjuntos. Por ejemplo,\n",
    "--    ghci> sample genConjunto\n",
    "--    {}\n",
    "--    {}\n",
    "--    {}\n",
    "--    {3,-2,-2,-3,-2,4}\n",
    "--    {-8,0,4,6,-5,-2}\n",
    "--    {12,-2,-1,-10,-2,2,15,15}\n",
    "--    {2}\n",
    "--    {}\n",
    "--    {-42,55,55,-11,23,23,-11,27,-17,-48,16,-15,-7,5,41,43}\n",
    "--    {-124,-66,-5,-47,58,-88,-32,-125}\n",
    "--    {49,-38,-231,-117,-32,-3,45,227,-41,54,169,-160,19}\n",
    "genConjunto :: Gen (Conj Int)\n",
    "genConjunto = do\n",
    "  xs <- listOf arbitrary\n",
    "  return (foldr inserta vacio xs)\n",
    "\n",
    "-- Los conjuntos son concreciones de los arbitrarios.\n",
    "instance Arbitrary (Conj Int) where\n",
    "  arbitrary = genConjunto\n",
    "\n",
    "-- ---------------------------------------------------------------------\n",
    "-- Propiedades                                          --\n",
    "-- ---------------------------------------------------------------------\n",
    "\n",
    "-- Propiedades de inserta\n",
    "-- ----------------------\n",
    "\n",
    "-- Propiedad. El número de veces que se añada un elemento a un conjunto\n",
    "-- no importa.\n",
    "prop_independencia_repeticiones :: Int -> Conj Int -> Bool\n",
    "prop_independencia_repeticiones x c =\n",
    "  inserta x (inserta x c) == inserta x c\n",
    "\n",
    "-- Comprobación.\n",
    "--    ghci> quickCheck prop_independencia_repeticiones\n",
    "--    +++ OK, passed 100 tests.\n",
    "\n",
    "-- Propiedad. El orden en que se añadan los elementos a un conjunto no\n",
    "-- importa. \n",
    "prop_independencia_del_orden :: Int -> Int -> Conj Int -> Bool\n",
    "prop_independencia_del_orden x y c =\n",
    "  inserta x (inserta y c) == inserta y (inserta x c)\n",
    "\n",
    "-- Comprobación.\n",
    "--    ghci> quickCheck prop_independencia_del_orden\n",
    "--    +++ OK, passed 100 tests.\n",
    "\n",
    "-- Propiedades de pertenece\n",
    "-- ------------------------\n",
    "\n",
    "-- Propiedad. El conjunto vacío no tiene elementos.\n",
    "prop_vacio_no_elementos :: Int -> Bool\n",
    "prop_vacio_no_elementos x = \n",
    "  not (pertenece x vacio)\n",
    "\n",
    "-- Comprobación.\n",
    "--    ghci> quickCheck prop_vacio_no_elementos\n",
    "--    +++ OK, passed 100 tests.\n",
    "\n",
    "-- Propiedad. Un elemento pertenece al conjunto obtenido añadiendo x al\n",
    "-- conjunto c syss es igual a x o pertenece a c.\n",
    "prop_pertenece_inserta :: Int -> Int -> Conj Int -> Bool\n",
    "prop_pertenece_inserta x y c =\n",
    "  pertenece y (inserta x c) == (x==y) || pertenece y c\n",
    "\n",
    "-- Comprobación.\n",
    "--    ghci> quickCheck prop_pertenece_inserta\n",
    "--    +++ OK, passed 100 tests.\n",
    "\n",
    "-- Propiedades de elimina\n",
    "-- ----------------------\n",
    "\n",
    "-- Propiedad. Al eliminar cualquier elemento del conjunto vacío se\n",
    "-- obtiene el conjunto vacío.\n",
    "prop_elimina_vacio :: Int -> Bool\n",
    "prop_elimina_vacio x =\n",
    "  elimina x vacio == vacio\n",
    "\n",
    "-- Comprobación.\n",
    "--    ghci> quickCheck prop_elimina_vacio\n",
    "--    +++ OK, passed 100 tests.\n",
    "\n",
    "-- Propiedad. El resultado de eliminar x en el conjunto obtenido\n",
    "-- añadiéndole x al conjunto c es c menos x, si x e y son iguales y es el\n",
    "-- conjunto obtenido añadiéndole y a c menos x, en caso contrario.\n",
    "prop_elimina_inserta :: Int -> Int -> Conj Int -> Bool\n",
    "prop_elimina_inserta x y c =\n",
    "  elimina x (inserta y c) \n",
    "  == if x == y \n",
    "     then elimina x c\n",
    "     else inserta y (elimina x c)\n",
    "\n",
    "-- Comprobación\n",
    "--    ghci> quickCheck prop_elimina_inserta\n",
    "--    +++ OK, passed 100 tests.\n",
    "\n",
    "-- Propiedades de esVacio\n",
    "-- ----------------------\n",
    "\n",
    "-- Propiedad. vacio es vacío.\n",
    "prop_vacio_es_vacio :: Bool\n",
    "prop_vacio_es_vacio = \n",
    "  esVacio (vacio :: Conj Int)\n",
    "\n",
    "-- Comprobación.\n",
    "--    ghci> quickCheck prop_vacio_esvacio\n",
    "--    +++ OK, passed 100 tests.\n",
    "\n",
    "-- Propiedad. Los conjuntos construidos con inserta no son vacío.\n",
    "prop_inserta_es_no_vacio :: Int -> Conj Int -> Bool\n",
    "prop_inserta_es_no_vacio x c =\n",
    "  not (esVacio (inserta x c))\n",
    "\n",
    "-- Comprobación\n",
    "--    ghci> quickCheck prop_inserta_es_no_vacio\n",
    "--    +++ OK, passed 100 tests."
   ]
  },
  {
   "cell_type": "code",
   "execution_count": 36,
   "metadata": {},
   "outputs": [
    {
     "data": {
      "text/plain": [
       "+++ OK, passed 1 test."
      ]
     },
     "metadata": {},
     "output_type": "display_data"
    },
    {
     "data": {
      "text/plain": [
       "+++ OK, passed 100 tests."
      ]
     },
     "metadata": {},
     "output_type": "display_data"
    },
    {
     "data": {
      "text/plain": [
       "+++ OK, passed 100 tests."
      ]
     },
     "metadata": {},
     "output_type": "display_data"
    },
    {
     "data": {
      "text/plain": [
       "+++ OK, passed 100 tests."
      ]
     },
     "metadata": {},
     "output_type": "display_data"
    },
    {
     "data": {
      "text/plain": [
       "+++ OK, passed 100 tests."
      ]
     },
     "metadata": {},
     "output_type": "display_data"
    },
    {
     "data": {
      "text/plain": [
       "+++ OK, passed 100 tests."
      ]
     },
     "metadata": {},
     "output_type": "display_data"
    },
    {
     "data": {
      "text/plain": [
       "+++ OK, passed 100 tests."
      ]
     },
     "metadata": {},
     "output_type": "display_data"
    },
    {
     "data": {
      "text/plain": [
       "+++ OK, passed 100 tests."
      ]
     },
     "metadata": {},
     "output_type": "display_data"
    }
   ],
   "source": [
    "import Test.QuickCheck\n",
    "quickCheck prop_vacio_es_vacio\n",
    "quickCheck prop_inserta_es_no_vacio\n",
    "quickCheck prop_independencia_repeticiones\n",
    "quickCheck prop_independencia_del_orden\n",
    "quickCheck prop_vacio_no_elementos\n",
    "quickCheck prop_pertenece_inserta\n",
    "quickCheck prop_elimina_vacio\n",
    "quickCheck prop_elimina_inserta"
   ]
  },
  {
   "cell_type": "markdown",
   "metadata": {},
   "source": [
    "> **Nota** Se borran los ficheros de los módulos usados"
   ]
  },
  {
   "cell_type": "code",
   "execution_count": 37,
   "metadata": {},
   "outputs": [
    {
     "data": {
      "text/plain": []
     },
     "metadata": {},
     "output_type": "display_data"
    }
   ],
   "source": [
    ":! rm -f *.hs *.hi *.o *.dyn_*"
   ]
  }
 ],
 "metadata": {
  "kernelspec": {
   "display_name": "Haskell",
   "language": "haskell",
   "name": "haskell"
  },
  "language_info": {
   "codemirror_mode": "ihaskell",
   "file_extension": ".hs",
   "name": "haskell",
   "pygments_lexer": "Haskell",
   "version": "8.6.5"
  }
 },
 "nbformat": 4,
 "nbformat_minor": 4
}
