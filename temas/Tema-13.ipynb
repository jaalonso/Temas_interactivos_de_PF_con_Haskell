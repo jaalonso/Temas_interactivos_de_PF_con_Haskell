{
 "cells": [
  {
   "cell_type": "markdown",
   "metadata": {},
   "source": [
    "<span style=\"font-size:2em; color:blue\">\n",
    "    Tema 13: Programas interactivos\n",
    "</span>  \n",
    "\n",
    "----------\n",
    "\n",
    "[José A. Alonso](https://www.cs.us.es/~jalonso)  \n",
    "[Departamento de Ciencias de la Computación e I.A.](https://www.cs.us.es)  \n",
    "[Universidad de Sevilla](http://www.us.es)  \n",
    "Sevilla, 9 de agosto de 2019"
   ]
  },
  {
   "cell_type": "markdown",
   "metadata": {},
   "source": [
    "> __Notas:__ \n",
    "+ La versión interactiva de este tema se encuentra en [Binder](https://mybinder.org/v2/gh/jaalonso/Temas_interactivos_de_PF_con_Haskell/master?urlpath=lab/tree/temas/Tema-13.ipynb).\n",
    "+ Se desactiva el [corrector estilo de Haskell](https://github.com/gibiansky/IHaskell/wiki#opt-no-lint) en Jupyter."
   ]
  },
  {
   "cell_type": "code",
   "execution_count": 1,
   "metadata": {},
   "outputs": [],
   "source": [
    ":opt no-lint"
   ]
  },
  {
   "cell_type": "markdown",
   "metadata": {},
   "source": [
    "> __Nota sobre ejecución intractiva en Jupyter__: \n",
    "\n",
    "> Para simular un entorno de línea de comandos interactivo para programas se ha adoptado la [método de James Brock](https://mybinder.org/v2/gh/jamesdbrock/learn-you-a-haskell-notebook/master?urlpath=lab/tree/learn_you_a_haskell/09-input-and-output.ipynb) consistente en el uso de las funciones \n",
    "> + `withStdin` que toma una cadena y ejecuta una acción IO con esa cadena como entrada estándar. \n",
    "> + `catchPrint`que captura una excepción y la imprime en la salida estándar."
   ]
  },
  {
   "cell_type": "code",
   "execution_count": 2,
   "metadata": {},
   "outputs": [],
   "source": [
    "import System.IO\n",
    "import GHC.IO.Handle\n",
    "import Control.Exception\n",
    "import System.Directory\n",
    "\n",
    "withStdin :: String -> IO a -> IO a\n",
    "withStdin s action = do\n",
    "    writeFile \"stdin.txt\" s\n",
    "    finally\n",
    "        (bracket \n",
    "            (openFile \"stdin.txt\" ReadWriteMode)\n",
    "            hClose\n",
    "            (\\h -> do\n",
    "                  stdin' <- hDuplicate stdin\n",
    "                  hDuplicateTo h stdin\n",
    "                  finally action (hDuplicateTo stdin' stdin)            \n",
    "            )\n",
    "        )\n",
    "        (removeFile \"stdin.txt\")\n",
    "\n",
    "catchPrint = flip catch p where\n",
    "    p :: SomeException -> IO ()\n",
    "    p = print"
   ]
  },
  {
   "cell_type": "markdown",
   "metadata": {},
   "source": [
    "+ Se usarán las siguientes librerías"
   ]
  },
  {
   "cell_type": "code",
   "execution_count": 3,
   "metadata": {},
   "outputs": [],
   "source": [
    "import Test.QuickCheck\n",
    "import System.IO\n",
    "import Data.List (nub)\n",
    "import System.Random (randomRIO)"
   ]
  },
  {
   "cell_type": "markdown",
   "metadata": {},
   "source": [
    "# Programas interactivos\n",
    "\n",
    "+ Los programas por lote no interactúan con los usuarios durante su ejecución.\n",
    "\n",
    "+ Los programas interactivos durante su ejecución pueden leer datos del teclado\n",
    "  y escribir resultados en la pantalla.\n",
    "\n",
    "+ Problema:\n",
    "    + Los programas interactivos tienen efectos laterales.\n",
    "    + Los programa Haskell no tiene efectos laterales.\n",
    "\n",
    "**Ejemplo de programa interactivo**\n",
    "\n",
    "+ Especificación: El programa pide una cadena y dice el número de caracteres\n",
    "  que tiene.\n",
    "\n",
    "+ Ejemplo de sesión:\n",
    "\n",
    "```sesion\n",
    "ghci> longitudCadena\n",
    "Escribe una cadena: \"Hoy es lunes\"\n",
    "La cadena tiene 14 caracteres\n",
    "```\n",
    "\n",
    "+ Programa:"
   ]
  },
  {
   "cell_type": "code",
   "execution_count": 4,
   "metadata": {},
   "outputs": [],
   "source": [
    "longitudCadena :: IO ()\n",
    "longitudCadena = do\n",
    "  putStr \"Escribe una cadena: \"\n",
    "  xs <- getLine\n",
    "  putStr \"La cadena tiene \"\n",
    "  putStr (show (length xs))\n",
    "  putStrLn \" caracteres\""
   ]
  },
  {
   "cell_type": "code",
   "execution_count": 5,
   "metadata": {},
   "outputs": [
    {
     "data": {
      "text/plain": [
       "Escribe una cadena: La cadena tiene 12 caracteres"
      ]
     },
     "metadata": {},
     "output_type": "display_data"
    }
   ],
   "source": [
    "withStdin \"Hoy es lunes\" longitudCadena"
   ]
  },
  {
   "cell_type": "markdown",
   "metadata": {},
   "source": [
    "# El tipo de las acciones de entrada/salida\n",
    "\n",
    "+ En Haskell se pueden escribir programas interactivos usando tipos que\n",
    "  distingan las expresiones puras de las *acciones* impuras que tienen\n",
    "  efectos laterales.\n",
    "\n",
    "+ `IO a` es el tipo de las acciones que devuelven un valor del tipo `a`.\n",
    "\n",
    "+ Ejemplos:\n",
    "    + `IO Char` es el tipo de las acciones que devuelven un carácter.\n",
    "    + `IO ()` es el tipo de las acciones que no devuelven ningún valor."
   ]
  },
  {
   "cell_type": "markdown",
   "metadata": {},
   "source": [
    "# Acciones básicas\n",
    "\n",
    "+ `getChar :: IO Char`   \n",
    "  La acción `getChar` lee un carácter del teclado, lo muestra en\n",
    "  la pantalla y lo devuelve como valor.\n",
    "\n",
    "+ `putChar :: c -> IO ()`   \n",
    "  La acción `putChar c` escribe el carácter `c` en la pantalla y\n",
    "  no devuelve ningún valor.\n",
    "\n",
    "+ `return a -> IO a`  \n",
    "  La acción `return c` devuelve el valor `c` sin ninguna\n",
    "  interacción.\n",
    "\n",
    "+ Ejemplo:\n",
    "\n",
    "```sesion\n",
    "ghci> putChar 'b'\n",
    "bghci> it\n",
    "()\n",
    "```"
   ]
  },
  {
   "cell_type": "code",
   "execution_count": 6,
   "metadata": {},
   "outputs": [
    {
     "data": {
      "text/plain": [
       "b"
      ]
     },
     "metadata": {},
     "output_type": "display_data"
    }
   ],
   "source": [
    "putChar 'b'"
   ]
  },
  {
   "cell_type": "markdown",
   "metadata": {},
   "source": [
    "# Secuenciación\n",
    "\n",
    "+ Una sucesión de acciones puede combinarse en una acción compuesta mediante\n",
    "  expresiones `do`.\n",
    "\n",
    "+ Ejemplo: El procedimiento `ejSecuenciacion` lee dos caracteres y devuelve el\n",
    "  par formado por ellos. Por ejemplo,\n",
    "\n",
    "```sesion\n",
    "ghci> ejSecuenciacion\n",
    "b f\n",
    "('b','f')\n",
    "```"
   ]
  },
  {
   "cell_type": "code",
   "execution_count": 7,
   "metadata": {},
   "outputs": [],
   "source": [
    "ejSecuenciacion :: IO (Char,Char)\n",
    "ejSecuenciacion = do\n",
    "   x <- getChar\n",
    "   getChar\n",
    "   y <- getChar\n",
    "   return (x,y)"
   ]
  },
  {
   "cell_type": "code",
   "execution_count": 8,
   "metadata": {},
   "outputs": [
    {
     "data": {
      "text/plain": [
       "('b','f')"
      ]
     },
     "metadata": {},
     "output_type": "display_data"
    }
   ],
   "source": [
    "withStdin \"b f\" ejSecuenciacion"
   ]
  },
  {
   "cell_type": "markdown",
   "metadata": {},
   "source": [
    "# Primitivas derivadas\n",
    "\n",
    "+ Lectura de cadenas del teclado:\n",
    "\n",
    "```haskell\n",
    "getLine :: IO String\n",
    "getLine = do x <- getChar\n",
    "             if x == '\\n' then return []\n",
    "                else do xs <- getLine\n",
    "                        return (x:xs)\n",
    "```\n",
    "\n",
    "+ Escritura de cadenas en la pantalla:\n",
    "\n",
    "```haskell\n",
    "putStr :: String -> IO ()\n",
    "putStr []     = return ()\n",
    "putStr (x:xs) = do putChar x\n",
    "                   putStr xs\n",
    "```\n",
    "\n",
    "+ Escritura de cadenas en la pantalla y salto de línea:\n",
    "\n",
    "```haskell\n",
    "putStrLn :: String -> IO ()\n",
    "putStrLn xs = do putStr xs\n",
    "                 putChar '\\n'\n",
    "```\n",
    "\n",
    "+ Ejecución de una lista de acciones. Por ejemplo,"
   ]
  },
  {
   "cell_type": "code",
   "execution_count": 9,
   "metadata": {},
   "outputs": [
    {
     "data": {
      "text/plain": [
       "uno\n",
       "dos"
      ]
     },
     "metadata": {},
     "output_type": "display_data"
    }
   ],
   "source": [
    "sequence_ [putStrLn \"uno\", putStrLn \"dos\"]"
   ]
  },
  {
   "cell_type": "markdown",
   "metadata": {},
   "source": [
    "Su definición es\n",
    "\n",
    "```haskell\n",
    "sequence_ :: [IO a] -> IO ()\n",
    "sequence_ []     = return ()\n",
    "sequence_ (a:as) = do a\n",
    "                      sequence_ as\n",
    "```\n",
    " \n",
    "\n",
    "**Ejemplo de programa con primitivas derivadas**\n",
    "\n",
    "+ Especificación: El programa pide una cadena y dice el número de caracteres\n",
    "  que tiene.\n",
    "\n",
    "+ Ejemplo de sesión:\n",
    "\n",
    "```sesion\n",
    "ghci> longitudCadena\n",
    "Escribe una cadena: \"Hoy es lunes\"\n",
    "La cadena tiene 14 caracteres\n",
    "```\n",
    "\n",
    "+ Programa:"
   ]
  },
  {
   "cell_type": "code",
   "execution_count": 10,
   "metadata": {},
   "outputs": [],
   "source": [
    "longitudCadena :: IO ()\n",
    "longitudCadena = do\n",
    "   putStr \"Escribe una cadena: \"\n",
    "   xs <- getLine\n",
    "   putStr \"La cadena tiene \"\n",
    "   putStr (show (length xs))\n",
    "   putStrLn \" caracteres\""
   ]
  },
  {
   "cell_type": "code",
   "execution_count": 11,
   "metadata": {},
   "outputs": [
    {
     "data": {
      "text/plain": [
       "Escribe una cadena: La cadena tiene 12 caracteres"
      ]
     },
     "metadata": {},
     "output_type": "display_data"
    }
   ],
   "source": [
    "withStdin \"Hoy es Lunes\" longitudCadena"
   ]
  },
  {
   "cell_type": "markdown",
   "metadata": {},
   "source": [
    "# Ejemplos de programas interactivos"
   ]
  },
  {
   "cell_type": "markdown",
   "metadata": {},
   "source": [
    "## Juego de adivinación interactivo\n",
    "\n",
    "+ Descripción: El programa le pide al jugador humano que piense un número entre\n",
    "  1 y 100 y trata de adivinar el número que ha pensado planteándole conjeturas\n",
    "  a las que el jugador humano responde con mayor, menor o exacto según que el\n",
    "  número pensado sea mayor, menor o igual que el número conjeturado por la\n",
    "  máquina.\n",
    "\n",
    "+ Ejemplo de sesión:\n",
    "\n",
    "```sesion\n",
    "Main> juego\n",
    "Piensa un numero entre el 1 y el 100.\n",
    "Es 50? [mayor/menor/exacto] mayor\n",
    "Es 75? [mayor/menor/exacto] menor\n",
    "Es 62? [mayor/menor/exacto] mayor\n",
    "Es 68? [mayor/menor/exacto] exacto\n",
    "Fin del juego\n",
    "```\n",
    "\n",
    "+ Programa:"
   ]
  },
  {
   "cell_type": "code",
   "execution_count": 12,
   "metadata": {},
   "outputs": [],
   "source": [
    "juego :: IO ()\n",
    "juego = do\n",
    "    putStrLn \"Piensa un numero entre el 1 y el 100.\"\n",
    "    adivina 1 100\n",
    "    putStrLn \"\\nFin del juego\"\n",
    "\n",
    "adivina :: Int -> Int -> IO ()\n",
    "adivina a b =\n",
    "    do putStr (\"\\nEs \" ++ show conjetura ++ \"? [mayor/menor/exacto] \")\n",
    "       s <- getLine\n",
    "       case s of\n",
    "         \"mayor\"  -> adivina (conjetura+1) b\n",
    "         \"menor\"  -> adivina a (conjetura-1)\n",
    "         \"exacto\" -> return ()\n",
    "         _        -> adivina a b\n",
    "    where\n",
    "       conjetura = (a+b) `div` 2"
   ]
  },
  {
   "cell_type": "code",
   "execution_count": 13,
   "metadata": {},
   "outputs": [
    {
     "data": {
      "text/plain": [
       "Piensa un numero entre el 1 y el 100.\n",
       "\n",
       "Es 50? [mayor/menor/exacto] \n",
       "Es 75? [mayor/menor/exacto] \n",
       "Es 62? [mayor/menor/exacto] \n",
       "Es 68? [mayor/menor/exacto] \n",
       "Fin del juego"
      ]
     },
     "metadata": {},
     "output_type": "display_data"
    }
   ],
   "source": [
    "withStdin (unlines [\"mayor\", \"menor\", \"mayor\", \"exacto\"]) (catchPrint juego)"
   ]
  },
  {
   "cell_type": "markdown",
   "metadata": {},
   "source": [
    "+ Descripción: En el segundo juego la máquina genera un número aleatorio entre\n",
    "  1 y 100 y le pide al jugador humano que adivine el número que ha pensado\n",
    "  planteándole conjeturas a las que la máquina responde con mayor, menor o\n",
    "  exacto según que el número pensado sea mayor, menor o igual que el número\n",
    "  conjeturado por el jugador humano.\n",
    "\n",
    "+ Ejemplo de sesión:\n",
    "\n",
    "```sesion\n",
    "Main> juego2\n",
    "Tienes que adivinar un numero entre 1 y 100\n",
    "Escribe un numero: 50\n",
    " es bajo.\n",
    "Escribe un numero: 75\n",
    " es alto.\n",
    "Escribe un numero: 62\n",
    " Exactamente\n",
    "```\n",
    "\n",
    "+ Se usa la librería de generación de números aleatorios:"
   ]
  },
  {
   "cell_type": "code",
   "execution_count": 14,
   "metadata": {},
   "outputs": [],
   "source": [
    "import System.Random (randomRIO)"
   ]
  },
  {
   "cell_type": "markdown",
   "metadata": {},
   "source": [
    "+ Programa:"
   ]
  },
  {
   "cell_type": "code",
   "execution_count": 15,
   "metadata": {},
   "outputs": [],
   "source": [
    "juego2 :: IO ()\n",
    "juego2 = do n <- randomRIO (1::Int,100)\n",
    "            putStrLn \"Tienes que adivinar un numero entre 1 y 100\"\n",
    "            adivina' n\n",
    "\n",
    "adivina' :: Int -> IO ()\n",
    "adivina' n = \n",
    "    do putStr \"Escribe un numero: \"\n",
    "       c <- getLine\n",
    "       let x = read c \n",
    "       case (compare x n) of\n",
    "         LT -> do putStrLn \" es bajo.\"\n",
    "                  adivina' n\n",
    "         GT -> do putStrLn \" es alto.\"\n",
    "                  adivina' n\n",
    "         EQ -> putStrLn \" Exactamente\""
   ]
  },
  {
   "cell_type": "code",
   "execution_count": 16,
   "metadata": {},
   "outputs": [
    {
     "data": {
      "text/plain": [
       "Tienes que adivinar un numero entre 1 y 100\n",
       "Escribe un numero:  es alto.\n",
       "Escribe un numero:  es alto.\n",
       "Escribe un numero:  es alto.\n",
       "Escribe un numero: <stdin>: hGetLine: end of file"
      ]
     },
     "metadata": {},
     "output_type": "display_data"
    }
   ],
   "source": [
    "withStdin (unlines [\"50\", \"75\", \"62\"]) (catchPrint juego2)"
   ]
  },
  {
   "cell_type": "markdown",
   "metadata": {},
   "source": [
    "# Manejo de ficheros\n",
    "\n",
    "**Lectura de ficheros con readFile**\n",
    "\n",
    "+ Supongamos que el fichero `Ejemplo_1.txt` tiene el siguiente contenido\n",
    "\n",
    "~~~\n",
    "Este fichero tiene tres lineas\n",
    "esta es la segunda y\n",
    "esta es la tercera.\n",
    "~~~\n",
    "\n",
    "+ El procedimiento de lectura de ficheros:"
   ]
  },
  {
   "cell_type": "code",
   "execution_count": 17,
   "metadata": {},
   "outputs": [
    {
     "data": {
      "text/html": [
       "<style>/* Styles used for the Hoogle display in the pager */\n",
       ".hoogle-doc {\n",
       "display: block;\n",
       "padding-bottom: 1.3em;\n",
       "padding-left: 0.4em;\n",
       "}\n",
       ".hoogle-code {\n",
       "display: block;\n",
       "font-family: monospace;\n",
       "white-space: pre;\n",
       "}\n",
       ".hoogle-text {\n",
       "display: block;\n",
       "}\n",
       ".hoogle-name {\n",
       "color: green;\n",
       "font-weight: bold;\n",
       "}\n",
       ".hoogle-head {\n",
       "font-weight: bold;\n",
       "}\n",
       ".hoogle-sub {\n",
       "display: block;\n",
       "margin-left: 0.4em;\n",
       "}\n",
       ".hoogle-package {\n",
       "font-weight: bold;\n",
       "font-style: italic;\n",
       "}\n",
       ".hoogle-module {\n",
       "font-weight: bold;\n",
       "}\n",
       ".hoogle-class {\n",
       "font-weight: bold;\n",
       "}\n",
       ".get-type {\n",
       "color: green;\n",
       "font-weight: bold;\n",
       "font-family: monospace;\n",
       "display: block;\n",
       "white-space: pre-wrap;\n",
       "}\n",
       ".show-type {\n",
       "color: green;\n",
       "font-weight: bold;\n",
       "font-family: monospace;\n",
       "margin-left: 1em;\n",
       "}\n",
       ".mono {\n",
       "font-family: monospace;\n",
       "display: block;\n",
       "}\n",
       ".err-msg {\n",
       "color: red;\n",
       "font-style: italic;\n",
       "font-family: monospace;\n",
       "white-space: pre;\n",
       "display: block;\n",
       "}\n",
       "#unshowable {\n",
       "color: red;\n",
       "font-weight: bold;\n",
       "}\n",
       ".err-msg.in.collapse {\n",
       "padding-top: 0.7em;\n",
       "}\n",
       ".highlight-code {\n",
       "white-space: pre;\n",
       "font-family: monospace;\n",
       "}\n",
       ".suggestion-warning { \n",
       "font-weight: bold;\n",
       "color: rgb(200, 130, 0);\n",
       "}\n",
       ".suggestion-error { \n",
       "font-weight: bold;\n",
       "color: red;\n",
       "}\n",
       ".suggestion-name {\n",
       "font-weight: bold;\n",
       "}\n",
       "</style><span class='get-type'>readFile :: FilePath -> IO String</span>"
      ],
      "text/plain": [
       "readFile :: FilePath -> IO String"
      ]
     },
     "metadata": {},
     "output_type": "display_data"
    }
   ],
   "source": [
    ":type readFile"
   ]
  },
  {
   "cell_type": "code",
   "execution_count": 18,
   "metadata": {},
   "outputs": [
    {
     "data": {
      "text/plain": [
       "\"Este fichero tiene tres lineas\\nesta es la segunda y\\nesta es la tercera.\\n\""
      ]
     },
     "metadata": {},
     "output_type": "display_data"
    }
   ],
   "source": [
    "readFile \"ejemplos/Ejemplo_1.txt\""
   ]
  },
  {
   "cell_type": "code",
   "execution_count": 19,
   "metadata": {},
   "outputs": [
    {
     "data": {
      "text/plain": [
       "Este fichero tiene tres lineas\n",
       "esta es la segunda y\n",
       "esta es la tercera."
      ]
     },
     "metadata": {},
     "output_type": "display_data"
    }
   ],
   "source": [
    "putStrLn it"
   ]
  },
  {
   "cell_type": "code",
   "execution_count": 20,
   "metadata": {},
   "outputs": [],
   "source": [
    "cs <- readFile \"ejemplos/Ejemplo_1.txt\""
   ]
  },
  {
   "cell_type": "code",
   "execution_count": 21,
   "metadata": {},
   "outputs": [
    {
     "data": {
      "text/plain": [
       "Este fichero tiene tres lineas\n",
       "esta es la segunda y\n",
       "esta es la tercera."
      ]
     },
     "metadata": {},
     "output_type": "display_data"
    }
   ],
   "source": [
    "putStrLn cs"
   ]
  },
  {
   "cell_type": "markdown",
   "metadata": {},
   "source": [
    "+ El procedimiento `(muestraContenidoFichero f)` muestra en pantalla el\n",
    "  contenido del fichero `f`. Por ejemplo,\n",
    "\n",
    "```sesion\n",
    "λ> muestraContenidoFichero \"Ejemplo_1.txt\"\n",
    "Este fichero tiene tres lineas\n",
    "esta es la segunda y\n",
    "esta es la tercera.\n",
    "```\n",
    "\n",
    "El programa es"
   ]
  },
  {
   "cell_type": "code",
   "execution_count": 22,
   "metadata": {},
   "outputs": [],
   "source": [
    "muestraContenidoFichero :: FilePath -> IO ()\n",
    "muestraContenidoFichero f = do\n",
    "  cs <- readFile f\n",
    "  putStrLn cs"
   ]
  },
  {
   "cell_type": "code",
   "execution_count": 23,
   "metadata": {},
   "outputs": [
    {
     "data": {
      "text/plain": [
       "Este fichero tiene tres lineas\n",
       "esta es la segunda y\n",
       "esta es la tercera."
      ]
     },
     "metadata": {},
     "output_type": "display_data"
    }
   ],
   "source": [
    "muestraContenidoFichero \"ejemplos/Ejemplo_1.txt\""
   ]
  },
  {
   "cell_type": "markdown",
   "metadata": {},
   "source": [
    "**Escritura en ficheros con writeFile**\n",
    "\n",
    "+  El procedimiento de escritura de ficheros:"
   ]
  },
  {
   "cell_type": "code",
   "execution_count": 24,
   "metadata": {},
   "outputs": [
    {
     "data": {
      "text/html": [
       "<style>/* Styles used for the Hoogle display in the pager */\n",
       ".hoogle-doc {\n",
       "display: block;\n",
       "padding-bottom: 1.3em;\n",
       "padding-left: 0.4em;\n",
       "}\n",
       ".hoogle-code {\n",
       "display: block;\n",
       "font-family: monospace;\n",
       "white-space: pre;\n",
       "}\n",
       ".hoogle-text {\n",
       "display: block;\n",
       "}\n",
       ".hoogle-name {\n",
       "color: green;\n",
       "font-weight: bold;\n",
       "}\n",
       ".hoogle-head {\n",
       "font-weight: bold;\n",
       "}\n",
       ".hoogle-sub {\n",
       "display: block;\n",
       "margin-left: 0.4em;\n",
       "}\n",
       ".hoogle-package {\n",
       "font-weight: bold;\n",
       "font-style: italic;\n",
       "}\n",
       ".hoogle-module {\n",
       "font-weight: bold;\n",
       "}\n",
       ".hoogle-class {\n",
       "font-weight: bold;\n",
       "}\n",
       ".get-type {\n",
       "color: green;\n",
       "font-weight: bold;\n",
       "font-family: monospace;\n",
       "display: block;\n",
       "white-space: pre-wrap;\n",
       "}\n",
       ".show-type {\n",
       "color: green;\n",
       "font-weight: bold;\n",
       "font-family: monospace;\n",
       "margin-left: 1em;\n",
       "}\n",
       ".mono {\n",
       "font-family: monospace;\n",
       "display: block;\n",
       "}\n",
       ".err-msg {\n",
       "color: red;\n",
       "font-style: italic;\n",
       "font-family: monospace;\n",
       "white-space: pre;\n",
       "display: block;\n",
       "}\n",
       "#unshowable {\n",
       "color: red;\n",
       "font-weight: bold;\n",
       "}\n",
       ".err-msg.in.collapse {\n",
       "padding-top: 0.7em;\n",
       "}\n",
       ".highlight-code {\n",
       "white-space: pre;\n",
       "font-family: monospace;\n",
       "}\n",
       ".suggestion-warning { \n",
       "font-weight: bold;\n",
       "color: rgb(200, 130, 0);\n",
       "}\n",
       ".suggestion-error { \n",
       "font-weight: bold;\n",
       "color: red;\n",
       "}\n",
       ".suggestion-name {\n",
       "font-weight: bold;\n",
       "}\n",
       "</style><span class='get-type'>writeFile :: FilePath -> String -> IO ()</span>"
      ],
      "text/plain": [
       "writeFile :: FilePath -> String -> IO ()"
      ]
     },
     "metadata": {},
     "output_type": "display_data"
    }
   ],
   "source": [
    ":type writeFile"
   ]
  },
  {
   "cell_type": "code",
   "execution_count": 25,
   "metadata": {},
   "outputs": [],
   "source": [
    "texto = \"Hay\\ntres lineas\\nde texto\""
   ]
  },
  {
   "cell_type": "code",
   "execution_count": 26,
   "metadata": {},
   "outputs": [],
   "source": [
    "writeFile \"ejemplos/Ejemplo_2.txt\" texto"
   ]
  },
  {
   "cell_type": "code",
   "execution_count": 27,
   "metadata": {},
   "outputs": [
    {
     "data": {
      "text/plain": [
       "Hay\n",
       "tres lineas\n",
       "de texto"
      ]
     },
     "metadata": {},
     "output_type": "display_data"
    }
   ],
   "source": [
    "muestraContenidoFichero \"ejemplos/Ejemplo_2.txt\""
   ]
  },
  {
   "cell_type": "markdown",
   "metadata": {},
   "source": [
    "+ El procedimiento `(aMayucula f1 f2)` lee el contenido del fichero f1 y\n",
    "  escribe su contenido en mayúscula en el fichero f2. Por ejemplo,\n",
    "\n",
    "```sesion\n",
    "λ> muestraContenidoFichero \"Ejemplo_1.txt\"\n",
    "Este fichero tiene tres lineas\n",
    "esta es la segunda y\n",
    "esta es la tercera.\n",
    "\n",
    "λ> aMayuscula \"Ejemplo_1.txt\" \"Ejemplo_3.txt\"\n",
    "λ> muestraContenidoFichero \"Ejemplo_3.txt\"\n",
    "ESTE FICHERO TIENE TRES LINEAS\n",
    "ESTA ES LA SEGUNDA Y\n",
    "ESTA ES LA TERCERA.\n",
    "```"
   ]
  },
  {
   "cell_type": "markdown",
   "metadata": {},
   "source": [
    "El programa es"
   ]
  },
  {
   "cell_type": "code",
   "execution_count": 28,
   "metadata": {},
   "outputs": [],
   "source": [
    "import Data.Char (toUpper)\n",
    " \n",
    "aMayuscula f1 f2 = do\n",
    "  contenido <- readFile f1\n",
    "  writeFile f2 (map toUpper contenido)  "
   ]
  },
  {
   "cell_type": "code",
   "execution_count": 29,
   "metadata": {},
   "outputs": [
    {
     "data": {
      "text/plain": [
       "Este fichero tiene tres lineas\n",
       "esta es la segunda y\n",
       "esta es la tercera."
      ]
     },
     "metadata": {},
     "output_type": "display_data"
    }
   ],
   "source": [
    "muestraContenidoFichero \"ejemplos/Ejemplo_1.txt\""
   ]
  },
  {
   "cell_type": "code",
   "execution_count": 30,
   "metadata": {},
   "outputs": [],
   "source": [
    "aMayuscula \"ejemplos/Ejemplo_1.txt\" \"ejemplos/Ejemplo_3.txt\""
   ]
  },
  {
   "cell_type": "code",
   "execution_count": 31,
   "metadata": {},
   "outputs": [
    {
     "data": {
      "text/plain": [
       "ESTE FICHERO TIENE TRES LINEAS\n",
       "ESTA ES LA SEGUNDA Y\n",
       "ESTA ES LA TERCERA."
      ]
     },
     "metadata": {},
     "output_type": "display_data"
    }
   ],
   "source": [
    "muestraContenidoFichero \"ejemplos/Ejemplo_3.txt\""
   ]
  },
  {
   "cell_type": "markdown",
   "metadata": {},
   "source": [
    "+ El procedimiento `(ordenaFichero f1 f2)` lee el contenido del fichero\n",
    "  f1 y escribe su contenido ordenado en el fichero f2. Por ejemplo, \n",
    "\n",
    "```sesion\n",
    "λ> muestraContenidoFichero \"Ejemplo_4a.txt\"\n",
    "Juan Ramos\n",
    "Ana Ruiz\n",
    "Luis Garcia\n",
    "Blanca Perez\n",
    "\n",
    "λ> ordenaFichero \"Ejemplo_4a.txt\" \"Ejemplo_4b.txt\"\n",
    "λ> muestraContenidoFichero \"Ejemplo_4b.txt\"\n",
    "Ana Ruiz\n",
    "Blanca Perez\n",
    "Juan Ramos\n",
    "Luis Garcia\n",
    "```\n",
    "\n",
    "El programa es"
   ]
  },
  {
   "cell_type": "code",
   "execution_count": 32,
   "metadata": {},
   "outputs": [],
   "source": [
    "import Data.List (sort)\n",
    " \n",
    "ordenaFichero :: FilePath -> FilePath -> IO ()\n",
    "ordenaFichero f1 f2 = do\n",
    "  cs <- readFile f1\n",
    "  writeFile f2 ((unlines . sort . lines) cs)"
   ]
  },
  {
   "cell_type": "code",
   "execution_count": 33,
   "metadata": {},
   "outputs": [
    {
     "data": {
      "text/plain": [
       "Juan Ramos\n",
       "Ana Ruiz\n",
       "Luis Garcia\n",
       "Blanca Perez"
      ]
     },
     "metadata": {},
     "output_type": "display_data"
    }
   ],
   "source": [
    "muestraContenidoFichero \"ejemplos/Ejemplo_4a.txt\""
   ]
  },
  {
   "cell_type": "code",
   "execution_count": 34,
   "metadata": {},
   "outputs": [],
   "source": [
    "ordenaFichero \"ejemplos/Ejemplo_4a.txt\" \"ejemplos/Ejemplo_4b.txt\""
   ]
  },
  {
   "cell_type": "code",
   "execution_count": 35,
   "metadata": {},
   "outputs": [
    {
     "data": {
      "text/plain": [
       "Ana Ruiz\n",
       "Blanca Perez\n",
       "Juan Ramos\n",
       "Luis Garcia"
      ]
     },
     "metadata": {},
     "output_type": "display_data"
    }
   ],
   "source": [
    "muestraContenidoFichero \"ejemplos/Ejemplo_4b.txt\""
   ]
  },
  {
   "cell_type": "markdown",
   "metadata": {},
   "source": [
    "+ Las funciones lines y unlines"
   ]
  },
  {
   "cell_type": "code",
   "execution_count": 36,
   "metadata": {},
   "outputs": [
    {
     "data": {
      "text/html": [
       "<style>/* Styles used for the Hoogle display in the pager */\n",
       ".hoogle-doc {\n",
       "display: block;\n",
       "padding-bottom: 1.3em;\n",
       "padding-left: 0.4em;\n",
       "}\n",
       ".hoogle-code {\n",
       "display: block;\n",
       "font-family: monospace;\n",
       "white-space: pre;\n",
       "}\n",
       ".hoogle-text {\n",
       "display: block;\n",
       "}\n",
       ".hoogle-name {\n",
       "color: green;\n",
       "font-weight: bold;\n",
       "}\n",
       ".hoogle-head {\n",
       "font-weight: bold;\n",
       "}\n",
       ".hoogle-sub {\n",
       "display: block;\n",
       "margin-left: 0.4em;\n",
       "}\n",
       ".hoogle-package {\n",
       "font-weight: bold;\n",
       "font-style: italic;\n",
       "}\n",
       ".hoogle-module {\n",
       "font-weight: bold;\n",
       "}\n",
       ".hoogle-class {\n",
       "font-weight: bold;\n",
       "}\n",
       ".get-type {\n",
       "color: green;\n",
       "font-weight: bold;\n",
       "font-family: monospace;\n",
       "display: block;\n",
       "white-space: pre-wrap;\n",
       "}\n",
       ".show-type {\n",
       "color: green;\n",
       "font-weight: bold;\n",
       "font-family: monospace;\n",
       "margin-left: 1em;\n",
       "}\n",
       ".mono {\n",
       "font-family: monospace;\n",
       "display: block;\n",
       "}\n",
       ".err-msg {\n",
       "color: red;\n",
       "font-style: italic;\n",
       "font-family: monospace;\n",
       "white-space: pre;\n",
       "display: block;\n",
       "}\n",
       "#unshowable {\n",
       "color: red;\n",
       "font-weight: bold;\n",
       "}\n",
       ".err-msg.in.collapse {\n",
       "padding-top: 0.7em;\n",
       "}\n",
       ".highlight-code {\n",
       "white-space: pre;\n",
       "font-family: monospace;\n",
       "}\n",
       ".suggestion-warning { \n",
       "font-weight: bold;\n",
       "color: rgb(200, 130, 0);\n",
       "}\n",
       ".suggestion-error { \n",
       "font-weight: bold;\n",
       "color: red;\n",
       "}\n",
       ".suggestion-name {\n",
       "font-weight: bold;\n",
       "}\n",
       "</style><span class='get-type'>lines :: String -> [String]</span>"
      ],
      "text/plain": [
       "lines :: String -> [String]"
      ]
     },
     "metadata": {},
     "output_type": "display_data"
    }
   ],
   "source": [
    ":type lines"
   ]
  },
  {
   "cell_type": "code",
   "execution_count": 37,
   "metadata": {},
   "outputs": [
    {
     "data": {
      "text/html": [
       "<style>/* Styles used for the Hoogle display in the pager */\n",
       ".hoogle-doc {\n",
       "display: block;\n",
       "padding-bottom: 1.3em;\n",
       "padding-left: 0.4em;\n",
       "}\n",
       ".hoogle-code {\n",
       "display: block;\n",
       "font-family: monospace;\n",
       "white-space: pre;\n",
       "}\n",
       ".hoogle-text {\n",
       "display: block;\n",
       "}\n",
       ".hoogle-name {\n",
       "color: green;\n",
       "font-weight: bold;\n",
       "}\n",
       ".hoogle-head {\n",
       "font-weight: bold;\n",
       "}\n",
       ".hoogle-sub {\n",
       "display: block;\n",
       "margin-left: 0.4em;\n",
       "}\n",
       ".hoogle-package {\n",
       "font-weight: bold;\n",
       "font-style: italic;\n",
       "}\n",
       ".hoogle-module {\n",
       "font-weight: bold;\n",
       "}\n",
       ".hoogle-class {\n",
       "font-weight: bold;\n",
       "}\n",
       ".get-type {\n",
       "color: green;\n",
       "font-weight: bold;\n",
       "font-family: monospace;\n",
       "display: block;\n",
       "white-space: pre-wrap;\n",
       "}\n",
       ".show-type {\n",
       "color: green;\n",
       "font-weight: bold;\n",
       "font-family: monospace;\n",
       "margin-left: 1em;\n",
       "}\n",
       ".mono {\n",
       "font-family: monospace;\n",
       "display: block;\n",
       "}\n",
       ".err-msg {\n",
       "color: red;\n",
       "font-style: italic;\n",
       "font-family: monospace;\n",
       "white-space: pre;\n",
       "display: block;\n",
       "}\n",
       "#unshowable {\n",
       "color: red;\n",
       "font-weight: bold;\n",
       "}\n",
       ".err-msg.in.collapse {\n",
       "padding-top: 0.7em;\n",
       "}\n",
       ".highlight-code {\n",
       "white-space: pre;\n",
       "font-family: monospace;\n",
       "}\n",
       ".suggestion-warning { \n",
       "font-weight: bold;\n",
       "color: rgb(200, 130, 0);\n",
       "}\n",
       ".suggestion-error { \n",
       "font-weight: bold;\n",
       "color: red;\n",
       "}\n",
       ".suggestion-name {\n",
       "font-weight: bold;\n",
       "}\n",
       "</style><span class='get-type'>unlines :: [String] -> String</span>"
      ],
      "text/plain": [
       "unlines :: [String] -> String"
      ]
     },
     "metadata": {},
     "output_type": "display_data"
    }
   ],
   "source": [
    ":type unlines"
   ]
  },
  {
   "cell_type": "code",
   "execution_count": 38,
   "metadata": {},
   "outputs": [
    {
     "data": {
      "text/plain": [
       "\"ayer fue martes\\nhoy es miercoles\\nde enero\\n\""
      ]
     },
     "metadata": {},
     "output_type": "display_data"
    }
   ],
   "source": [
    "unlines [\"ayer fue martes\", \"hoy es miercoles\",\"de enero\"] "
   ]
  },
  {
   "cell_type": "code",
   "execution_count": 39,
   "metadata": {},
   "outputs": [
    {
     "data": {
      "text/plain": [
       "[\"ayer fue martes\",\"hoy es miercoles\",\"de enero\"]"
      ]
     },
     "metadata": {},
     "output_type": "display_data"
    }
   ],
   "source": [
    "lines it"
   ]
  },
  {
   "cell_type": "markdown",
   "metadata": {},
   "source": [
    "+ Las funciones words y unwords"
   ]
  },
  {
   "cell_type": "code",
   "execution_count": 40,
   "metadata": {},
   "outputs": [
    {
     "data": {
      "text/html": [
       "<style>/* Styles used for the Hoogle display in the pager */\n",
       ".hoogle-doc {\n",
       "display: block;\n",
       "padding-bottom: 1.3em;\n",
       "padding-left: 0.4em;\n",
       "}\n",
       ".hoogle-code {\n",
       "display: block;\n",
       "font-family: monospace;\n",
       "white-space: pre;\n",
       "}\n",
       ".hoogle-text {\n",
       "display: block;\n",
       "}\n",
       ".hoogle-name {\n",
       "color: green;\n",
       "font-weight: bold;\n",
       "}\n",
       ".hoogle-head {\n",
       "font-weight: bold;\n",
       "}\n",
       ".hoogle-sub {\n",
       "display: block;\n",
       "margin-left: 0.4em;\n",
       "}\n",
       ".hoogle-package {\n",
       "font-weight: bold;\n",
       "font-style: italic;\n",
       "}\n",
       ".hoogle-module {\n",
       "font-weight: bold;\n",
       "}\n",
       ".hoogle-class {\n",
       "font-weight: bold;\n",
       "}\n",
       ".get-type {\n",
       "color: green;\n",
       "font-weight: bold;\n",
       "font-family: monospace;\n",
       "display: block;\n",
       "white-space: pre-wrap;\n",
       "}\n",
       ".show-type {\n",
       "color: green;\n",
       "font-weight: bold;\n",
       "font-family: monospace;\n",
       "margin-left: 1em;\n",
       "}\n",
       ".mono {\n",
       "font-family: monospace;\n",
       "display: block;\n",
       "}\n",
       ".err-msg {\n",
       "color: red;\n",
       "font-style: italic;\n",
       "font-family: monospace;\n",
       "white-space: pre;\n",
       "display: block;\n",
       "}\n",
       "#unshowable {\n",
       "color: red;\n",
       "font-weight: bold;\n",
       "}\n",
       ".err-msg.in.collapse {\n",
       "padding-top: 0.7em;\n",
       "}\n",
       ".highlight-code {\n",
       "white-space: pre;\n",
       "font-family: monospace;\n",
       "}\n",
       ".suggestion-warning { \n",
       "font-weight: bold;\n",
       "color: rgb(200, 130, 0);\n",
       "}\n",
       ".suggestion-error { \n",
       "font-weight: bold;\n",
       "color: red;\n",
       "}\n",
       ".suggestion-name {\n",
       "font-weight: bold;\n",
       "}\n",
       "</style><span class='get-type'>words :: String -> [String]</span>"
      ],
      "text/plain": [
       "words :: String -> [String]"
      ]
     },
     "metadata": {},
     "output_type": "display_data"
    }
   ],
   "source": [
    ":type words"
   ]
  },
  {
   "cell_type": "code",
   "execution_count": 41,
   "metadata": {},
   "outputs": [
    {
     "data": {
      "text/html": [
       "<style>/* Styles used for the Hoogle display in the pager */\n",
       ".hoogle-doc {\n",
       "display: block;\n",
       "padding-bottom: 1.3em;\n",
       "padding-left: 0.4em;\n",
       "}\n",
       ".hoogle-code {\n",
       "display: block;\n",
       "font-family: monospace;\n",
       "white-space: pre;\n",
       "}\n",
       ".hoogle-text {\n",
       "display: block;\n",
       "}\n",
       ".hoogle-name {\n",
       "color: green;\n",
       "font-weight: bold;\n",
       "}\n",
       ".hoogle-head {\n",
       "font-weight: bold;\n",
       "}\n",
       ".hoogle-sub {\n",
       "display: block;\n",
       "margin-left: 0.4em;\n",
       "}\n",
       ".hoogle-package {\n",
       "font-weight: bold;\n",
       "font-style: italic;\n",
       "}\n",
       ".hoogle-module {\n",
       "font-weight: bold;\n",
       "}\n",
       ".hoogle-class {\n",
       "font-weight: bold;\n",
       "}\n",
       ".get-type {\n",
       "color: green;\n",
       "font-weight: bold;\n",
       "font-family: monospace;\n",
       "display: block;\n",
       "white-space: pre-wrap;\n",
       "}\n",
       ".show-type {\n",
       "color: green;\n",
       "font-weight: bold;\n",
       "font-family: monospace;\n",
       "margin-left: 1em;\n",
       "}\n",
       ".mono {\n",
       "font-family: monospace;\n",
       "display: block;\n",
       "}\n",
       ".err-msg {\n",
       "color: red;\n",
       "font-style: italic;\n",
       "font-family: monospace;\n",
       "white-space: pre;\n",
       "display: block;\n",
       "}\n",
       "#unshowable {\n",
       "color: red;\n",
       "font-weight: bold;\n",
       "}\n",
       ".err-msg.in.collapse {\n",
       "padding-top: 0.7em;\n",
       "}\n",
       ".highlight-code {\n",
       "white-space: pre;\n",
       "font-family: monospace;\n",
       "}\n",
       ".suggestion-warning { \n",
       "font-weight: bold;\n",
       "color: rgb(200, 130, 0);\n",
       "}\n",
       ".suggestion-error { \n",
       "font-weight: bold;\n",
       "color: red;\n",
       "}\n",
       ".suggestion-name {\n",
       "font-weight: bold;\n",
       "}\n",
       "</style><span class='get-type'>unwords :: [String] -> String</span>"
      ],
      "text/plain": [
       "unwords :: [String] -> String"
      ]
     },
     "metadata": {},
     "output_type": "display_data"
    }
   ],
   "source": [
    ":type unwords"
   ]
  },
  {
   "cell_type": "code",
   "execution_count": 42,
   "metadata": {},
   "outputs": [
    {
     "data": {
      "text/plain": [
       "[\"ayer\",\"fue\",\"martes\"]"
      ]
     },
     "metadata": {},
     "output_type": "display_data"
    }
   ],
   "source": [
    "words \"ayer fue   martes\""
   ]
  },
  {
   "cell_type": "code",
   "execution_count": 43,
   "metadata": {},
   "outputs": [
    {
     "data": {
      "text/plain": [
       "\"ayer fue martes\""
      ]
     },
     "metadata": {},
     "output_type": "display_data"
    }
   ],
   "source": [
    "unwords it"
   ]
  },
  {
   "cell_type": "markdown",
   "metadata": {},
   "source": [
    "+ El procedimiento `(tablaCuadrados f n)` escribe en el fichero f los\n",
    "  cuadrados de los n primeros números. Por ejemplo.\n",
    "\n",
    "```sesion\n",
    "λ> tablaCuadrados \"cuadrados.txt\" 9\n",
    "λ> muestraContenidoFichero \"cuadrados.txt\"\n",
    "(1,1) (2,4) (3,9) (4,16) (5,25) (6,36) (7,49) (8,64) (9,81)\n",
    "```\n",
    "\n",
    "El programa es"
   ]
  },
  {
   "cell_type": "code",
   "execution_count": 44,
   "metadata": {},
   "outputs": [],
   "source": [
    "tablaCuadrados :: FilePath -> Int -> IO ()\n",
    "tablaCuadrados f n =\n",
    "  writeFile f (listaDeCuadrados n)\n",
    " \n",
    "listaDeCuadrados :: Int -> String\n",
    "listaDeCuadrados n =\n",
    "  unwords (map show [(x,x*x) | x <- [1..n]])"
   ]
  },
  {
   "cell_type": "code",
   "execution_count": 45,
   "metadata": {},
   "outputs": [
    {
     "data": {
      "text/plain": [
       "(1,1) (2,4) (3,9) (4,16) (5,25) (6,36) (7,49) (8,64) (9,81)"
      ]
     },
     "metadata": {},
     "output_type": "display_data"
    }
   ],
   "source": [
    "tablaCuadrados \"ejemplos/cuadrados.txt\" 9\n",
    "muestraContenidoFichero \"ejemplos/cuadrados.txt\""
   ]
  },
  {
   "cell_type": "markdown",
   "metadata": {},
   "source": [
    "+ El procedimiento (tablaCuadrados2 f n) escribe en el fichero f los\n",
    "  cuadrados de los n  primeros números, uno por línea. Por ejemplo. \n",
    "\n",
    "```sesion\n",
    "λ> tablaCuadrados2 \"cuadrados.txt\" 5\n",
    "λ> muestraContenidoFichero \"cuadrados.txt\"\n",
    "(1,1)\n",
    "(2,4)\n",
    "(3,9)\n",
    "(4,16)\n",
    "(5,25)\n",
    "```\n",
    "\n",
    "El programa es"
   ]
  },
  {
   "cell_type": "code",
   "execution_count": 46,
   "metadata": {},
   "outputs": [],
   "source": [
    "tablaCuadrados2 :: FilePath -> Int -> IO ()\n",
    "tablaCuadrados2 f n =\n",
    "  writeFile f (listaDeCuadrados2 n)\n",
    " \n",
    "listaDeCuadrados2 :: Int -> String\n",
    "listaDeCuadrados2 n =\n",
    "  unlines (map show [(x,x*x) | x <- [1..n]])"
   ]
  },
  {
   "cell_type": "code",
   "execution_count": 47,
   "metadata": {},
   "outputs": [
    {
     "data": {
      "text/plain": [
       "(1,1)\n",
       "(2,4)\n",
       "(3,9)\n",
       "(4,16)\n",
       "(5,25)"
      ]
     },
     "metadata": {},
     "output_type": "display_data"
    }
   ],
   "source": [
    "tablaCuadrados2 \"ejemplos/cuadrados.txt\" 5\n",
    "muestraContenidoFichero \"ejemplos/cuadrados.txt\""
   ]
  },
  {
   "cell_type": "markdown",
   "metadata": {},
   "source": [
    "+ El procedimiento (tablaLogaritmos f ns) escribe en el fichero f los\n",
    "  cuadrados de los números de ns, uno por línea. Por ejemplo. \n",
    "\n",
    "```sesion\n",
    "λ> tablaLogaritmos \"z.txt\" [1,3..20]\n",
    "λ> muestraContenidoFichero \"z.txt\"\n",
    "+----+----------------+\n",
    "| n  | log(n)         |\n",
    "+----+----------------+\n",
    "|  1 | 0.000000000000 |\n",
    "|  3 | 1.098612288668 |\n",
    "|  5 | 1.609437912434 |\n",
    "|  7 | 1.945910149055 |\n",
    "|  9 | 2.197224577336 |\n",
    "| 11 | 2.397895272798 |\n",
    "| 13 | 2.564949357462 |\n",
    "| 15 | 2.708050201102 |\n",
    "| 17 | 2.833213344056 |\n",
    "| 19 | 2.944438979166 |\n",
    "+----+----------------+\n",
    "```\n",
    "\n",
    "El programa es"
   ]
  },
  {
   "cell_type": "code",
   "execution_count": 48,
   "metadata": {},
   "outputs": [],
   "source": [
    "import Text.Printf\n",
    " \n",
    "tablaLogaritmos :: FilePath -> [Int] -> IO ()\n",
    "tablaLogaritmos f ns = do\n",
    "  writeFile f (tablaLogaritmosAux ns)\n",
    " \n",
    "tablaLogaritmosAux :: [Int] -> String\n",
    "tablaLogaritmosAux ns =\n",
    "     linea\n",
    "  ++ cabecera\n",
    "  ++ linea\n",
    "  ++ concat [printf \"| %2d | %.12f |\\n\" n x\n",
    "            | n <- ns\n",
    "            , let x = log (fromIntegral n) :: Double]\n",
    "  ++ linea\n",
    " \n",
    "linea, cabecera :: String\n",
    "linea    = \"+----+----------------+\\n\"\n",
    "cabecera = \"| n  | log(n)         |\\n\""
   ]
  },
  {
   "cell_type": "code",
   "execution_count": 49,
   "metadata": {},
   "outputs": [
    {
     "data": {
      "text/plain": [
       "+----+----------------+\n",
       "| n  | log(n)         |\n",
       "+----+----------------+\n",
       "|  1 | 0.000000000000 |\n",
       "|  3 | 1.098612288668 |\n",
       "|  5 | 1.609437912434 |\n",
       "|  7 | 1.945910149055 |\n",
       "|  9 | 2.197224577336 |\n",
       "| 11 | 2.397895272798 |\n",
       "| 13 | 2.564949357462 |\n",
       "| 15 | 2.708050201102 |\n",
       "| 17 | 2.833213344056 |\n",
       "| 19 | 2.944438979166 |\n",
       "+----+----------------+"
      ]
     },
     "metadata": {},
     "output_type": "display_data"
    }
   ],
   "source": [
    "tablaLogaritmos \"ejemplos/z.txt\" [1,3..20]\n",
    "muestraContenidoFichero \"ejemplos/z.txt\""
   ]
  },
  {
   "cell_type": "markdown",
   "metadata": {},
   "source": [
    "# Bibliografía\n",
    "\n",
    "+ J.A. Alonso.\n",
    "  [Gráficas con GNUplot en IHaskell\n",
    "  ](https://github.com/jaalonso/GraficasEnIHaskell)\n",
    "\n",
    "+ H. Daumé III.\n",
    "  [Yet Another Haskell Tutorial\n",
    "  ](http://www.cs.utah.edu/~hal/docs/daume02yaht.pdf), 2006. \n",
    "    + Cap. 5: Basic Input/Output.\n",
    "\n",
    "+ G. Hutton.\n",
    "  *Programming in Haskell*. \n",
    "  Cambridge University Press, 2007.\n",
    "    + Cap. 9: Interactive programs.\n",
    "\n",
    "+ M. Lipovača \n",
    "  *¡Aprende Haskell por el bien de todos!*\n",
    "    + Cap. 9.2: [Ficheros y flujos de datos](http://bit.ly/1O3XDBW)\n",
    "\n",
    "+ B. O’Sullivan, J. Goerzen y D. Stewart. \n",
    "  *Real World Haskell*. \n",
    "  O'Reilly, 2009.\n",
    "    + Cap. 7: [I/O](http://bit.ly/1O3XIWi).\n",
    "  \n",
    "+ B.C. Ruiz, F. Gutiérrez, P. Guerrero y J.E. Gallardo.\n",
    "  *Razonando con Haskell*.\n",
    "  Thompson, 2004.\n",
    "    + Cap. 7: Entrada y salida.\n",
    "\n",
    "+ S. Thompson.\n",
    "  *Haskell: The Craft of Functional Programming*, Second Edition.\n",
    "  Addison-Wesley, 1999.\n",
    "    + Cap. 18: Programming with actions.\n"
   ]
  }
 ],
 "metadata": {
  "kernelspec": {
   "display_name": "Haskell",
   "language": "haskell",
   "name": "haskell"
  },
  "language_info": {
   "codemirror_mode": "ihaskell",
   "file_extension": ".hs",
   "name": "haskell",
   "pygments_lexer": "Haskell",
   "version": "8.6.5"
  }
 },
 "nbformat": 4,
 "nbformat_minor": 4
}
