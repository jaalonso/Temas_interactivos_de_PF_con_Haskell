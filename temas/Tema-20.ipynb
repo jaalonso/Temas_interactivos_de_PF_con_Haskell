{
 "cells": [
  {
   "cell_type": "markdown",
   "metadata": {},
   "source": [
    "<span style=\"font-size:2em; color:blue\">\n",
    "    Tema 20: El TAD de los montículos\n",
    "</span>  \n",
    "\n",
    "----------\n",
    "\n",
    "[José A. Alonso](https://www.cs.us.es/~jalonso)  \n",
    "[Departamento de Ciencias de la Computación e I.A.](https://www.cs.us.es)  \n",
    "[Universidad de Sevilla](http://www.us.es)  \n",
    "Sevilla, 16 de agosto de 2019"
   ]
  },
  {
   "cell_type": "markdown",
   "metadata": {},
   "source": [
    "> __Notas:__ \n",
    "+ La versión interactiva de este tema se encuentra en [Binder](https://mybinder.org/v2/gh/jaalonso/Temas_interactivos_de_PF_con_Haskell/master?urlpath=lab/tree/temas/Tema-20.ipynb).\n",
    "+ Se desactiva el [corrector estilo de Haskell](https://github.com/gibiansky/IHaskell/wiki#opt-no-lint)."
   ]
  },
  {
   "cell_type": "code",
   "execution_count": 1,
   "metadata": {},
   "outputs": [],
   "source": [
    ":opt no-lint"
   ]
  },
  {
   "cell_type": "markdown",
   "metadata": {},
   "source": [
    "# Especificación del TAD de los montículos"
   ]
  },
  {
   "cell_type": "markdown",
   "metadata": {},
   "source": [
    "## Signatura del TAD de los montículos\n",
    "\n",
    "**Descripción de los montículos**\n",
    "\n",
    "Un montículo es un árbol binario en el que los valores de cada nodo es\n",
    "menor o igual que los valores de sus hijos. Por ejemplo,\n",
    "\n",
    "```sesion\n",
    "        1              1     \n",
    "       / \\            / \\    \n",
    "      /   \\          /   \\   \n",
    "     2     6        3     6  \n",
    "    / \\   / \\      / \\   / \\ \n",
    "   3   8 9   7    4   2 9   7\n",
    "```\n",
    "\n",
    "el de la izquierda es un montículo, pero el de la derecha no lo es.\n",
    "\n",
    "**Signatura del TAD de los montículos**\n",
    "\n",
    "```sesion\n",
    "vacio   :: Ord a => Monticulo a\n",
    "inserta :: Ord a => a -> Monticulo a -> Monticulo a\n",
    "menor   :: Ord a => Monticulo a -> a\n",
    "resto   :: Ord a => Monticulo a -> Monticulo a\n",
    "esVacio :: Ord a => Monticulo a -> Bool\n",
    "valido  :: Ord a => Monticulo a -> Bool\n",
    "```\n",
    "\n",
    "Descripción de las operaciones:\n",
    "\n",
    "+ `vacio` es el montículo vacío.\n",
    "\n",
    "+ `(inserta x m)` es el montículo obtenido añadiendo el elemento `x` al\n",
    "  montículo `m`.\n",
    "\n",
    "+ `(menor m)` es el menor elemento del montículo `m`.\n",
    "\n",
    "+ `(resto m)` es el montículo obtenido eliminando el menor elemento del\n",
    "  montículo `m`.\n",
    "\n",
    "+ `(esVacio m)` se verifica si `m` es el montículo vacío.\n",
    "\n",
    "+ `(valido m)` se verifica si `m` es un montículo; es decir, es un árbol\n",
    "  binario en el que los valores de cada nodo es menor o igual que los valores\n",
    "  de sus hijos."
   ]
  },
  {
   "cell_type": "markdown",
   "metadata": {},
   "source": [
    "## Propiedades del TAD de los montículos\n",
    "\n",
    "+ `esVacio vacio`\n",
    "\n",
    "+ `valido (inserta x m)`\n",
    "\n",
    "+ `not (esVacio (inserta x m))`\n",
    "\n",
    "+ `not (esVacio m) ==> valido (resto m)`\n",
    "\n",
    "+ `resto (inserta x vacio) == vacio`\n",
    "\n",
    "+ `x <= menor m ==> resto (inserta x m) == m`\n",
    "\n",
    "+ Si `m` es no vacío y `x > menor m`, entonces  \n",
    "  `resto (inserta x m) == inserta x (resto m)`\n",
    "\n",
    "+ `esVacio m || esVacio (resto m) || menor m <= menor (resto m)`"
   ]
  },
  {
   "cell_type": "markdown",
   "metadata": {},
   "source": [
    "# Implementación del TAD de los montículos"
   ]
  },
  {
   "cell_type": "markdown",
   "metadata": {},
   "source": [
    "## Los montículos como tipo de dato algebraico"
   ]
  },
  {
   "cell_type": "code",
   "execution_count": 2,
   "metadata": {},
   "outputs": [],
   "source": [
    "module Monticulo\n",
    "  (Monticulo,\n",
    "   vacio,   -- Ord a => Monticulo a\n",
    "   inserta, -- Ord a => a -> Monticulo a -> Monticulo a\n",
    "   menor,   -- Ord a => Monticulo a -> a\n",
    "   resto,   -- Ord a => Monticulo a -> Monticulo a\n",
    "   esVacio, -- Ord a => Monticulo a -> Bool\n",
    "   valido   -- Ord a => Monticulo a -> Bool\n",
    "  ) where \n",
    "\n",
    "import Data.List (sort)\n",
    "\n",
    "-- Implementación de montículos mediante árboles izquierdistas (\"leftist\n",
    "-- tree\"). \n",
    "data Monticulo a = Vacio\n",
    "                 | M a Int (Monticulo a) (Monticulo a)\n",
    "  deriving Show\n",
    "\n",
    "-- Ejemplos de montículos\n",
    "--    ghci> ejM1\n",
    "--    M 1 2 (M 4 1 (M 8 1 Vacio Vacio) Vacio) (M 6 1 Vacio Vacio)\n",
    "--    ghci> ejM2\n",
    "--    M 5 1 (M 7 1 Vacio Vacio) Vacio\n",
    "--    ghci> ejM3\n",
    "--    M 1 2 \n",
    "--      (M 5 2 \n",
    "--         (M 7 1 Vacio Vacio) \n",
    "--         (M 6 1 Vacio Vacio)) \n",
    "--      (M 4 1 \n",
    "--         (M 8 1 Vacio Vacio) \n",
    "--         Vacio)\n",
    "-- Gráficamente\n",
    "--            ejM1          ejM2                ejM3\n",
    "--        \n",
    "--                                             (1,2) \n",
    "--            (1,2)          (5,1)            /     \\\n",
    "--           /     \\        /                /       \\\n",
    "--        (4,1)   (6,1)  (7,1)           (5,2)        (4,1)\n",
    "--       /                              /     \\       /\n",
    "--    (8,1)                          (7,1)   (6,1)  (8,1)\n",
    "ejM1, ejM1', ejM2, ejM3 :: Monticulo Int\n",
    "ejM1  = foldr inserta vacio [6,1,4,8]\n",
    "ejM1' = foldr inserta vacio [6,8,4,1]\n",
    "ejM2  = foldr inserta vacio [7,5]\n",
    "ejM3  = mezcla ejM1 ejM2\n",
    "\n",
    "-- vacio es el montículo vacío.\n",
    "vacio :: Ord a => Monticulo a\n",
    "vacio = Vacio\n",
    "\n",
    "-- (rango m) es el rango del montículo m; es decir, la menor distancia\n",
    "-- a un montículo vacío. Por ejemplo,\n",
    "--    rango ejM1  ==  2\n",
    "--    rango ejM2  ==  1\n",
    "rango :: Ord a => Monticulo a -> Int\n",
    "rango Vacio       = 0\n",
    "rango (M _ r _ _) = r\n",
    "\n",
    "-- (creaM x a b) es el montículo creado a partir del elemento x y los\n",
    "-- montículos a y b. Se supone que x es menor o igual que el mínimo de\n",
    "-- a y de b. Por ejemplo,\n",
    "--    ghci> ejM1\n",
    "--    M 1 2 (M 4 1 (M 8 1 Vacio Vacio) Vacio) (M 6 1 Vacio Vacio)\n",
    "--    ghci> ejM2\n",
    "--    M 5 1 (M 7 1 Vacio Vacio) Vacio\n",
    "--    ghci> creaM 0 ejM1 ejM2\n",
    "--    M 0 2 (M 1 2 (M 4 1 (M 8 1 Vacio Vacio) Vacio) (M 6 1 Vacio Vacio)) \n",
    "--          (M 5 1 (M 7 1 Vacio Vacio) Vacio)\n",
    "--    ghci> creaM 0 ejM2 ejM1\n",
    "--    M 0 2 (M 1 2 (M 4 1 (M 8 1 Vacio Vacio) Vacio) (M 6 1 Vacio Vacio)) \n",
    "--          (M 5 1 (M 7 1 Vacio Vacio) Vacio)\n",
    "creaM :: Ord a => a -> Monticulo a -> Monticulo a -> Monticulo a\n",
    "creaM x a b | rango a >= rango b = M x (rango b + 1) a b\n",
    "            | otherwise          = M x (rango a + 1) b a\n",
    "\n",
    "-- (mezcla m1 m2) es el montículo obtenido mezclando los montículos m1 y\n",
    "-- m2. Por ejemplo,\n",
    "--    ghci> mezcla ejM1 ejM2\n",
    "--    M 1 2 \n",
    "--      (M 5 2 \n",
    "--         (M 7 1 Vacio Vacio) \n",
    "--         (M 6 1 Vacio Vacio)) \n",
    "--      (M 4 1 \n",
    "--         (M 8 1 Vacio Vacio) \n",
    "--         Vacio)\n",
    "mezcla :: Ord a =>  Monticulo a -> Monticulo a -> Monticulo a\n",
    "mezcla m Vacio = m\n",
    "mezcla Vacio m = m\n",
    "mezcla m1@(M x _ a1 b1) m2@(M y _ a2 b2)\n",
    "  | x <= y    = creaM x a1 (mezcla b1 m2)\n",
    "  | otherwise = creaM y a2 (mezcla m1 b2)\n",
    "\n",
    "-- (inserta x m) es el montículo obtenido añadiendo el elemento x al\n",
    "-- montículo m. Por ejemplo, \n",
    "--    ghci> ejM1\n",
    "--    M 1 2 (M 4 1 (M 8 1 Vacio Vacio) Vacio) (M 6 1 Vacio Vacio)\n",
    "--    ghci> inserta 3 ejM1\n",
    "--    M 1 2 \n",
    "--      (M 4 1 (M 8 1 Vacio Vacio) Vacio) \n",
    "--      (M 3 1 (M 6 1 Vacio Vacio) Vacio)\n",
    "inserta :: Ord a => a -> Monticulo a -> Monticulo a\n",
    "inserta x = mezcla (M x 1 Vacio Vacio)\n",
    "\n",
    "-- (menor m) es el menor elemento del montículo m. Por ejemplo, \n",
    "--   menor ejM1  ==  1\n",
    "--   menor ejM2  ==  5\n",
    "menor  :: Ord a => Monticulo a -> a\n",
    "menor (M x _ _ _) = x\n",
    "menor Vacio       = error \"menor: monticulo vacio\"\n",
    "\n",
    "-- (resto m) es el montículo obtenido eliminando el menor elemento del\n",
    "-- montículo m. Por ejemplo, \n",
    "--    ghci> ejM1\n",
    "--    M 1 2 (M 4 1 (M 8 1 Vacio Vacio) Vacio) (M 6 1 Vacio Vacio)\n",
    "--    ghci> resto ejM1\n",
    "--    M 4 2 (M 8 1 Vacio Vacio) (M 6 1 Vacio Vacio)\n",
    "resto :: Ord a => Monticulo a -> Monticulo a\n",
    "resto Vacio       = error \"resto: monticulo vacio\"\n",
    "resto (M _ _ a b) = mezcla a b\n",
    "\n",
    "-- (esVacio m) se verifica si m es el montículo vacío.\n",
    "esVacio :: Ord a => Monticulo a -> Bool\n",
    "esVacio Vacio = True\n",
    "esVacio _     = False\n",
    "\n",
    "-- (valido m) se verifica si m es un montículo; es decir, es un árbol\n",
    "-- binario en el que los valores de cada nodo es menor o igual que los\n",
    "-- valores de sus hijos. Por ejemplo, \n",
    "--    valido ejM1  ==  True\n",
    "--    valido ejM2  ==  True\n",
    "--    valido ejM3  ==  True\n",
    "--    valido (M 3 5 (M 2 1 Vacio Vacio) Vacio)  ==  False\n",
    "valido :: Ord a => Monticulo a -> Bool\n",
    "valido Vacio = True\n",
    "valido (M _ _ Vacio Vacio) = True\n",
    "valido (M x _ m1@(M x1 _ _ _) Vacio) = \n",
    "  x <= x1 && valido m1\n",
    "valido (M x _ Vacio m2@(M x2 _ _ _)) = \n",
    "  x <= x2 && valido m2\n",
    "valido (M x _ m1@(M x1 _ _ _) m2@(M x2 _ _ _)) = \n",
    "  x <= x1 && valido m1 &&\n",
    "  x <= x2 && valido m2\n",
    "\n",
    "-- (elementos m) es la lista de los elementos del montículo m. Por\n",
    "-- ejemplo, \n",
    "--    elementos ejM1  ==  [1,4,8,6]\n",
    "elementos :: Ord a => Monticulo a -> [a]\n",
    "elementos Vacio       = []\n",
    "elementos (M x _ a b) = x : elementos a ++ elementos b\n",
    "\n",
    "-- (equivMonticulos m1 m2) se verifica si los montículos m1 y m2 tienen\n",
    "-- los mismos elementos. Por ejemplo,\n",
    "--    ghci> ejM1\n",
    "--    M 1 2 (M 4 1 (M 8 1 Vacio Vacio) Vacio) (M 6 1 Vacio Vacio)\n",
    "--    ghci> ejM1'\n",
    "--    M 1 2 (M 4 1 Vacio Vacio) (M 6 1 (M 8 1 Vacio Vacio) Vacio)\n",
    "--    ghci> equivMonticulos ejM1 ejM1'\n",
    "--    True\n",
    "equivMonticulos :: Ord a => Monticulo a -> Monticulo a -> Bool\n",
    "equivMonticulos m1 m2 = \n",
    "  sort (elementos m1) == sort (elementos m2)\n",
    "\n",
    "-- Los montículos son comparables por igualdad.\n",
    "instance Ord a => Eq (Monticulo a) where\n",
    "  (==) = equivMonticulos\n",
    "\n",
    "-- ---------------------------------------------------------------------\n",
    "-- Funciones auxiliares                                               --\n",
    "-- ---------------------------------------------------------------------\n",
    "\n",
    "-- (menorTodos x m) comprueba si x es menor que todos los elementos de m\n",
    "menorTodos :: Ord a => a -> Monticulo a -> Bool\n",
    "menorTodos _ Vacio      = True\n",
    "menorTodos x (M y n a b) = x <= y && valido (M y n a b)\n",
    "\n",
    "-- (enMonticulo x m) se verifica si x es un elemento del montículo\n",
    "-- m. Por ejemplo, \n",
    "--    enMonticulo 4 ejM1  ==  True\n",
    "--    enMonticulo 5 ejM1  ==  False\n",
    "enMonticulo :: Ord a => a -> Monticulo a -> Bool\n",
    "enMonticulo _ Vacio = False\n",
    "enMonticulo x (M y _ a b) \n",
    "  | x < y     = False\n",
    "  | x == y    = True\n",
    "  | otherwise = enMonticulo x a || enMonticulo x b"
   ]
  },
  {
   "cell_type": "markdown",
   "metadata": {},
   "source": [
    "+ Ejemplos"
   ]
  },
  {
   "cell_type": "code",
   "execution_count": 3,
   "metadata": {},
   "outputs": [
    {
     "data": {
      "text/plain": [
       "M 1 2 (M 4 1 (M 8 1 Vacio Vacio) Vacio) (M 6 1 Vacio Vacio)"
      ]
     },
     "metadata": {},
     "output_type": "display_data"
    }
   ],
   "source": [
    "m1 :: Monticulo Int\n",
    "m1 = foldr inserta vacio [6,1,4,8]\n",
    "m1"
   ]
  },
  {
   "cell_type": "code",
   "execution_count": 4,
   "metadata": {},
   "outputs": [
    {
     "data": {
      "text/plain": [
       "M 5 1 (M 7 1 Vacio Vacio) Vacio"
      ]
     },
     "metadata": {},
     "output_type": "display_data"
    }
   ],
   "source": [
    "m2 :: Monticulo Int\n",
    "m2 = foldr inserta vacio [7,5]\n",
    "m2"
   ]
  },
  {
   "cell_type": "code",
   "execution_count": 5,
   "metadata": {},
   "outputs": [
    {
     "data": {
      "text/plain": [
       "M 1 2 (M 4 1 (M 8 1 Vacio Vacio) Vacio) (M 3 1 (M 6 1 Vacio Vacio) Vacio)"
      ]
     },
     "metadata": {},
     "output_type": "display_data"
    }
   ],
   "source": [
    "inserta 3 m1"
   ]
  },
  {
   "cell_type": "code",
   "execution_count": 6,
   "metadata": {},
   "outputs": [
    {
     "data": {
      "text/plain": [
       "1"
      ]
     },
     "metadata": {},
     "output_type": "display_data"
    }
   ],
   "source": [
    "menor m1  "
   ]
  },
  {
   "cell_type": "code",
   "execution_count": 7,
   "metadata": {},
   "outputs": [
    {
     "data": {
      "text/plain": [
       "5"
      ]
     },
     "metadata": {},
     "output_type": "display_data"
    }
   ],
   "source": [
    "menor m2  "
   ]
  },
  {
   "cell_type": "code",
   "execution_count": 8,
   "metadata": {},
   "outputs": [
    {
     "data": {
      "text/plain": [
       "M 4 2 (M 8 1 Vacio Vacio) (M 6 1 Vacio Vacio)"
      ]
     },
     "metadata": {},
     "output_type": "display_data"
    }
   ],
   "source": [
    "resto m1"
   ]
  },
  {
   "cell_type": "code",
   "execution_count": 9,
   "metadata": {},
   "outputs": [
    {
     "data": {
      "text/plain": [
       "True"
      ]
     },
     "metadata": {},
     "output_type": "display_data"
    }
   ],
   "source": [
    "valido m1  "
   ]
  },
  {
   "cell_type": "markdown",
   "metadata": {},
   "source": [
    "+ Eliminación de la implementación"
   ]
  },
  {
   "cell_type": "code",
   "execution_count": 10,
   "metadata": {},
   "outputs": [],
   "source": [
    ":m - Monticulo"
   ]
  },
  {
   "cell_type": "markdown",
   "metadata": {},
   "source": [
    "# Comprobación de la implementación con QuickCheck"
   ]
  },
  {
   "cell_type": "code",
   "execution_count": 11,
   "metadata": {},
   "outputs": [],
   "source": [
    "{-# LANGUAGE FlexibleInstances #-}\n",
    "\n",
    "module MonticuloPropiedades where\n",
    "\n",
    "import Monticulo\n",
    "\n",
    "import Test.QuickCheck\n",
    "\n",
    "-- ---------------------------------------------------------------------\n",
    "-- Generador de montículos                                            --\n",
    "-- ---------------------------------------------------------------------\n",
    "\n",
    "-- (creaMonticulo xs) es el montículo correspondiente a la lista xs. Por\n",
    "-- ejemplo,\n",
    "--    ghci> creaMonticulo [6,1,4,8]\n",
    "--    M 1 2 (M 4 1 (M 8 1 Vacio Vacio) Vacio) (M 6 1 Vacio Vacio)\n",
    "creaMonticulo :: [Int] -> Monticulo Int\n",
    "creaMonticulo = foldr inserta vacio\n",
    "\n",
    "-- genMonticulo es un generador de montículos. Por ejemplo,\n",
    "--    ghci> sample genMonticulo\n",
    "--    VacioM\n",
    "--    M (-1) 1 (M 1 1 VacioM VacioM) VacioM\n",
    "--    ...\n",
    "genMonticulo :: Gen (Monticulo Int)\n",
    "genMonticulo = do\n",
    "  xs <- listOf arbitrary\n",
    "  return (creaMonticulo xs)\n",
    "\n",
    "-- Montículo es una instancia de la clase arbitraria.\n",
    "instance Arbitrary (Monticulo Int) where\n",
    "  arbitrary = genMonticulo\n",
    "\n",
    "-- genMonticulo genera montículos válidos.\n",
    "prop_genMonticulo :: Monticulo Int -> Bool\n",
    "prop_genMonticulo = valido \n",
    "\n",
    "-- Comprobación.\n",
    "--    ghci> quickCheck prop_genMonticulo\n",
    "--    +++ OK, passed 100 tests.\n",
    "\n",
    "-- monticuloNV es un generador de montículos no vacío. Por ejemplo,\n",
    "--    ghci> sample monticuloNV\n",
    "--    M 0 1 VacioM VacioM\n",
    "--    M 1 1 (M 1 1 (M 1 1 VacioM VacioM) VacioM) VacioM\n",
    "--    M 0 2 (M 1 1 VacioM VacioM) (M 2 1 VacioM VacioM)\n",
    "--    M (-4) 2 (M (-3) 1 VacioM VacioM) (M 1 1 VacioM VacioM)\n",
    "--    M 3 1 VacioM VacioM\n",
    "--    M (-8) 1 (M (-5) 1 VacioM VacioM) VacioM\n",
    "monticuloNV :: Gen (Monticulo Int)\n",
    "monticuloNV = do\n",
    "  xs <- listOf arbitrary\n",
    "  x <- arbitrary\n",
    "  return (creaMonticulo (x:xs))\n",
    "\n",
    "-- Prop. monticuloNV genera montículos no vacío.\n",
    "prop_monticuloNV :: Monticulo Int -> Property\n",
    "prop_monticuloNV _ =\n",
    "  forAll monticuloNV (\\m -> valido m && not (esVacio m))\n",
    "\n",
    "-- Comprobación.\n",
    "--    *Main> quickCheck prop_monticuloNV\n",
    "--    +++ OK, passed 100 tests.\n",
    "\n",
    "-- ---------------------------------------------------------------------\n",
    "-- Propiedades\n",
    "-- ---------------------------------------------------------------------\n",
    "\n",
    "-- Propiedades de vacio   \n",
    "-- --------------------\n",
    "\n",
    "-- Propiedad. vacio es un montículo.\n",
    "prop_vacio_es_monticulo :: Bool\n",
    "prop_vacio_es_monticulo = \n",
    "  esVacio (vacio :: Monticulo Int)\n",
    "\n",
    "-- Comprobación.\n",
    "--    ghci> prop_vacio_es_monticulo\n",
    "--    True\n",
    "\n",
    "-- Propiedades de inserta  \n",
    "-- ----------------------\n",
    "\n",
    "-- Propiedad. inserta produce montículos válidos.\n",
    "prop_inserta_es_valida :: Int -> Monticulo Int -> Bool\n",
    "prop_inserta_es_valida x m =\n",
    "  valido (inserta x m)\n",
    "\n",
    "-- Comprobación.\n",
    "--    ghci> quickCheck prop_inserta_es_valida\n",
    "--    +++ OK, passed 100 tests.\n",
    "\n",
    "-- Propiedad. Los montículos creados con inserta son no vacío.\n",
    "prop_inserta_no_vacio :: Int -> Monticulo Int -> Bool\n",
    "prop_inserta_no_vacio x m =\n",
    "  not (esVacio (inserta x m))\n",
    "\n",
    "-- Comprobación.\n",
    "--    ghci> quickCheck prop_inserta_no_vacio\n",
    "--    +++ OK, passed 100 tests.\n",
    "\n",
    "-- Propiedades de resto   \n",
    "-- --------------------\n",
    "\n",
    "-- Propiedad. Al borrar el menor elemento de un montículo no vacío se\n",
    "-- obtiene un montículo válido.\n",
    "prop_resto_es_valida :: Monticulo Int -> Property\n",
    "prop_resto_es_valida _ =\n",
    "  forAll monticuloNV (valido . resto)\n",
    "\n",
    "-- Comprobación.\n",
    "--    ghci> quickCheck prop_resto_es_valida\n",
    "--    +++ OK, passed 100 tests.\n",
    "\n",
    "-- Propiedad. El resto de (inserta x m) es m si m es el montículo vacío\n",
    "-- o x es menor o igual que el menor elemento de m o (inserta x (resto m)), \n",
    "-- en caso contrario. \n",
    "prop_resto_inserta :: Int -> Monticulo Int -> Bool\n",
    "prop_resto_inserta x m =\n",
    "  resto (inserta x m)\n",
    "  == if esVacio m || x <= menor m\n",
    "     then m\n",
    "     else inserta x (resto m)\n",
    "\n",
    "-- Comprobación.\n",
    "--    ghci> quickCheck prop_resto_inserta\n",
    "--    +++ OK, passed 100 tests.\n",
    "\n",
    "-- Propiedades de menor  \n",
    "-- --------------------\n",
    "\n",
    "-- Propiedad. (menor m) es el menor elemento del montículo m.\n",
    "prop_menor_es_minimo :: Monticulo Int -> Bool\n",
    "prop_menor_es_minimo m =\n",
    "  esVacio m ||\n",
    "  esVacio (resto m) ||\n",
    "  menor m <= menor (resto m)\n",
    "\n",
    "-- Comprobación.\n",
    "--    ghci> quickCheck prop_menor_es_minimo\n",
    "--    +++ OK, passed 100 tests."
   ]
  },
  {
   "cell_type": "markdown",
   "metadata": {},
   "source": [
    "+ Comprobación de las propiedades"
   ]
  },
  {
   "cell_type": "code",
   "execution_count": 12,
   "metadata": {},
   "outputs": [
    {
     "data": {
      "text/plain": [
       "+++ OK, passed 100 tests."
      ]
     },
     "metadata": {},
     "output_type": "display_data"
    },
    {
     "data": {
      "text/plain": [
       "+++ OK, passed 100 tests."
      ]
     },
     "metadata": {},
     "output_type": "display_data"
    },
    {
     "data": {
      "text/plain": [
       "+++ OK, passed 1 test."
      ]
     },
     "metadata": {},
     "output_type": "display_data"
    },
    {
     "data": {
      "text/plain": [
       "+++ OK, passed 100 tests."
      ]
     },
     "metadata": {},
     "output_type": "display_data"
    },
    {
     "data": {
      "text/plain": [
       "+++ OK, passed 100 tests."
      ]
     },
     "metadata": {},
     "output_type": "display_data"
    },
    {
     "data": {
      "text/plain": [
       "+++ OK, passed 100 tests."
      ]
     },
     "metadata": {},
     "output_type": "display_data"
    },
    {
     "data": {
      "text/plain": [
       "+++ OK, passed 100 tests."
      ]
     },
     "metadata": {},
     "output_type": "display_data"
    },
    {
     "data": {
      "text/plain": [
       "+++ OK, passed 100 tests."
      ]
     },
     "metadata": {},
     "output_type": "display_data"
    }
   ],
   "source": [
    "import Test.QuickCheck\n",
    "quickCheck prop_genMonticulo\n",
    "quickCheck prop_monticuloNV\n",
    "quickCheck prop_vacio_es_monticulo\n",
    "quickCheck prop_inserta_es_valida\n",
    "quickCheck prop_inserta_no_vacio\n",
    "quickCheck prop_resto_es_valida\n",
    "quickCheck prop_resto_inserta\n",
    "quickCheck prop_menor_es_minimo"
   ]
  },
  {
   "cell_type": "markdown",
   "metadata": {},
   "source": [
    "# Implementación de las colas de prioridad mediante montículos"
   ]
  },
  {
   "cell_type": "markdown",
   "metadata": {},
   "source": [
    "## Las colas de prioridad como montículos"
   ]
  },
  {
   "cell_type": "code",
   "execution_count": 13,
   "metadata": {},
   "outputs": [],
   "source": [
    "module ColaDePrioridadConMonticulos \n",
    "  (CPrioridad,\n",
    "   vacia,   -- Ord a => CPrioridad a \n",
    "   inserta, -- Ord a => a -> CPrioridad a -> CPrioridad a \n",
    "   primero, -- Ord a => CPrioridad a -> a\n",
    "   resto,   -- Ord a => CPrioridad a -> CPrioridad a\n",
    "   esVacia, -- Ord a => CPrioridad a -> Bool \n",
    "   valida   -- Ord a => CPrioridad a -> Bool\n",
    "  ) where\n",
    "\n",
    "import qualified Monticulo as M\n",
    "\n",
    "-- Colas de prioridad mediante montículos.\n",
    "newtype CPrioridad a = CP (M.Monticulo a)\n",
    "  deriving (Eq, Show)\n",
    "\n",
    "-- Ejemplo de cola de prioridad\n",
    "--    *Main> cp1\n",
    "--    CP (M 1 2 \n",
    "--          (M 2 2 \n",
    "--             (M 9 1 VacioM VacioM) \n",
    "--             (M 7 1 VacioM VacioM)) \n",
    "--          (M 3 1 VacioM VacioM))\n",
    "cp1 :: CPrioridad Int\n",
    "cp1 = foldr inserta vacia [3,1,7,2,9]\n",
    "\n",
    "-- vacia es la cola de prioridad vacía. Por ejemplo,\n",
    "--    vacia  ==  CP Vacio\n",
    "vacia :: Ord a => CPrioridad a \n",
    "vacia = CP M.vacio\n",
    "\n",
    "-- (inserta x c) añade el elemento x a la cola de prioridad c. Por ejemplo, \n",
    "--    ghci> cp1\n",
    "--    CP (M 1 2 \n",
    "--          (M 2 2 \n",
    "--             (M 9 1 VacioM VacioM) \n",
    "--             (M 7 1 VacioM VacioM)) \n",
    "--          (M 3 1 VacioM VacioM))\n",
    "--    ghci> inserta 5 cp1\n",
    "--    CP (M 1 2 \n",
    "--          (M 2 2 \n",
    "--             (M 9 1 VacioM VacioM) \n",
    "--             (M 7 1 VacioM VacioM)) \n",
    "--          (M 3 1 \n",
    "--             (M 5 1 VacioM VacioM) VacioM))\n",
    "inserta :: Ord a => a -> CPrioridad a -> CPrioridad a \n",
    "inserta v (CP c) = CP (M.inserta v c)\n",
    "\n",
    "-- (primero c) es la cabeza de la cola de prioridad c. Por ejemplo,\n",
    "--    primero cp1  ==  1\n",
    "primero :: Ord a => CPrioridad a -> a\n",
    "primero (CP c) = M.menor c\n",
    "\n",
    "-- (resto c) elimina la cabeza de la cola de prioridad c. Por ejemplo, \n",
    "--    ghci> cp1\n",
    "--    CP (M 1 2 \n",
    "--          (M 2 2 \n",
    "--             (M 9 1 VacioM VacioM) \n",
    "--             (M 7 1 VacioM VacioM)) \n",
    "--          (M 3 1 VacioM VacioM))\n",
    "--    ghci> resto cp1\n",
    "--    CP (M 2 2 \n",
    "--          (M 9 1 VacioM VacioM) \n",
    "--          (M 3 1 \n",
    "--             (M 7 1 VacioM VacioM) VacioM))\n",
    "resto :: Ord a => CPrioridad a -> CPrioridad a\n",
    "resto (CP c) = CP (M.resto c)\n",
    "\n",
    "-- (esVacia c) se verifica si la cola de prioridad c es vacía. Por\n",
    "-- ejemplo,   \n",
    "--    esVacia cp1    ==  False\n",
    "--    esVacia vacia  ==  True\n",
    "esVacia :: Ord a => CPrioridad a -> Bool \n",
    "esVacia (CP c) = M.esVacio c\n",
    "\n",
    "-- (valida c) se verifica si c es una cola de prioridad válida. En la\n",
    "-- representación mediante montículo todas las colas de prioridad son\n",
    "-- válidas. \n",
    "valida :: Ord a => CPrioridad a -> Bool\n",
    "valida _ = True"
   ]
  },
  {
   "cell_type": "code",
   "execution_count": 14,
   "metadata": {},
   "outputs": [
    {
     "data": {
      "text/plain": [
       "CP (M 1 2 (M 2 2 (M 9 1 Vacio Vacio) (M 7 1 Vacio Vacio)) (M 3 1 Vacio Vacio))"
      ]
     },
     "metadata": {},
     "output_type": "display_data"
    }
   ],
   "source": [
    "cp1 :: CPrioridad Int\n",
    "cp1 = foldr inserta vacia [3,1,7,2,9]\n",
    "cp1"
   ]
  },
  {
   "cell_type": "code",
   "execution_count": 15,
   "metadata": {},
   "outputs": [
    {
     "data": {
      "text/plain": [
       "CP Vacio"
      ]
     },
     "metadata": {},
     "output_type": "display_data"
    }
   ],
   "source": [
    "vacia"
   ]
  },
  {
   "cell_type": "code",
   "execution_count": 16,
   "metadata": {},
   "outputs": [
    {
     "data": {
      "text/plain": [
       "CP (M 1 2 (M 2 2 (M 9 1 Vacio Vacio) (M 7 1 Vacio Vacio)) (M 3 1 (M 5 1 Vacio Vacio) Vacio))"
      ]
     },
     "metadata": {},
     "output_type": "display_data"
    }
   ],
   "source": [
    "inserta 5 cp1"
   ]
  },
  {
   "cell_type": "code",
   "execution_count": 17,
   "metadata": {},
   "outputs": [
    {
     "data": {
      "text/plain": [
       "True"
      ]
     },
     "metadata": {},
     "output_type": "display_data"
    }
   ],
   "source": [
    "primero cp1  ==  1"
   ]
  },
  {
   "cell_type": "code",
   "execution_count": 18,
   "metadata": {},
   "outputs": [
    {
     "data": {
      "text/plain": [
       "CP (M 2 2 (M 9 1 Vacio Vacio) (M 3 1 (M 7 1 Vacio Vacio) Vacio))"
      ]
     },
     "metadata": {},
     "output_type": "display_data"
    }
   ],
   "source": [
    "resto cp1"
   ]
  },
  {
   "cell_type": "code",
   "execution_count": 19,
   "metadata": {},
   "outputs": [
    {
     "data": {
      "text/plain": [
       "False"
      ]
     },
     "metadata": {},
     "output_type": "display_data"
    }
   ],
   "source": [
    "esVacia cp1"
   ]
  },
  {
   "cell_type": "code",
   "execution_count": 20,
   "metadata": {},
   "outputs": [
    {
     "data": {
      "text/plain": [
       "True"
      ]
     },
     "metadata": {},
     "output_type": "display_data"
    }
   ],
   "source": [
    "esVacia vacia"
   ]
  },
  {
   "cell_type": "markdown",
   "metadata": {},
   "source": [
    "> **Nota** Se borran los ficheros de los módulos usados"
   ]
  },
  {
   "cell_type": "code",
   "execution_count": 21,
   "metadata": {},
   "outputs": [
    {
     "data": {
      "text/plain": []
     },
     "metadata": {},
     "output_type": "display_data"
    }
   ],
   "source": [
    ":! rm -f *.hs *.hi *.o *.dyn_*"
   ]
  },
  {
   "cell_type": "markdown",
   "metadata": {},
   "source": [
    "# Bibliografía\n",
    "\n",
    "+ [Functional heap - Leftist tree](http://bit.ly/1CddfTX).\n",
    "+ F. Rabhi y G. Lapalme\n",
    "  [Algorithms: A functional programming approach](https://www.iro.umontreal.ca/~lapalme/Algorithms-functional.html)\n",
    "    + Cap. 5.8 Heaps."
   ]
  }
 ],
 "metadata": {
  "kernelspec": {
   "display_name": "Haskell",
   "language": "haskell",
   "name": "haskell"
  },
  "language_info": {
   "codemirror_mode": "ihaskell",
   "file_extension": ".hs",
   "name": "haskell",
   "pygments_lexer": "Haskell",
   "version": "8.6.5"
  }
 },
 "nbformat": 4,
 "nbformat_minor": 4
}
