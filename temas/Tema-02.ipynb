{
 "cells": [
  {
   "cell_type": "markdown",
   "metadata": {},
   "source": [
    "# Tema 2: Introducción a la programación con Haskell\n",
    "[José A. Alonso](https://www.cs.us.es/~jalonso) (Univ. de Sevilla, 29 de julio de 2019)"
   ]
  },
  {
   "cell_type": "markdown",
   "metadata": {},
   "source": [
    "> __Notas:__ \n",
    "+ La versión interactiva de este tema se encuentra en [Binder](https://mybinder.org/v2/gh/jaalonso/Temas_interactivos_de_PF_con_Haskell/master?urlpath=lab/tree/temas/Tema-02.ipynb).\n",
    "+ Se desactiva el [corrector estilo de Haskell](https://github.com/gibiansky/IHaskell/wiki#opt-no-lint)."
   ]
  },
  {
   "cell_type": "code",
   "execution_count": 1,
   "metadata": {},
   "outputs": [],
   "source": [
    ":opt no-lint"
   ]
  },
  {
   "cell_type": "markdown",
   "metadata": {},
   "source": [
    "El sistema GHC\n",
    "==============\n",
    "\n",
    "+ Los programa funcionales pueden evaluarse manualmente (como en el tema\n",
    "  anterior).\n",
    "+ Los **lenguajes funcionales** evalúan automáticamente los programas\n",
    "  funcionales.\n",
    "+ **Haskell** es un lenguaje funcional.\n",
    "+ **GHC** (Glasgow Haskell Compiler) es el intérprete de Haskell que\n",
    "  usaremos en el curso. \n",
    "\n",
    "Iniciación a GHC\n",
    "================\n",
    "\n",
    "Inicio de sesión con GHCi\n",
    "-------------------------\n",
    "\n",
    "+ Inicio mediante `ghci`\n",
    "\n",
    "```sesion\n",
    "I1M> ghci\n",
    "GHCi, version 8.6.5: http://www.haskell.org/ghc/  :? for help\n",
    "ghci>\n",
    "```\n",
    "\n",
    "+ La llamada es `ghci>`\n",
    "\n",
    "+ Indica que ha cargado las definiciones básicas que forman el preludio\n",
    "  y el sistema está listo para leer una expresión, evaluarla y escribir su\n",
    "  resultado. \n",
    "\n",
    "Cálculo aritmético\n",
    "------------------\n",
    "\n",
    "**Operaciones aritméticas**\n",
    "\n",
    "+  Operaciones aritméticas en Haskell:"
   ]
  },
  {
   "cell_type": "code",
   "execution_count": 2,
   "metadata": {},
   "outputs": [
    {
     "data": {
      "text/plain": [
       "5"
      ]
     },
     "metadata": {},
     "output_type": "display_data"
    }
   ],
   "source": [
    "2+3"
   ]
  },
  {
   "cell_type": "code",
   "execution_count": 3,
   "metadata": {},
   "outputs": [
    {
     "data": {
      "text/plain": [
       "-1"
      ]
     },
     "metadata": {},
     "output_type": "display_data"
    }
   ],
   "source": [
    "2-3"
   ]
  },
  {
   "cell_type": "code",
   "execution_count": 4,
   "metadata": {},
   "outputs": [
    {
     "data": {
      "text/plain": [
       "6"
      ]
     },
     "metadata": {},
     "output_type": "display_data"
    }
   ],
   "source": [
    "2*3"
   ]
  },
  {
   "cell_type": "code",
   "execution_count": 5,
   "metadata": {},
   "outputs": [
    {
     "data": {
      "text/plain": [
       "3"
      ]
     },
     "metadata": {},
     "output_type": "display_data"
    }
   ],
   "source": [
    "7 `div` 2"
   ]
  },
  {
   "cell_type": "code",
   "execution_count": 6,
   "metadata": {},
   "outputs": [
    {
     "data": {
      "text/plain": [
       "8"
      ]
     },
     "metadata": {},
     "output_type": "display_data"
    }
   ],
   "source": [
    "2^3"
   ]
  },
  {
   "cell_type": "markdown",
   "metadata": {},
   "source": [
    "**Precedencia y asociatividad**\n",
    "\n",
    "+ Precedencia:"
   ]
  },
  {
   "cell_type": "code",
   "execution_count": 7,
   "metadata": {},
   "outputs": [
    {
     "data": {
      "text/plain": [
       "2000"
      ]
     },
     "metadata": {},
     "output_type": "display_data"
    }
   ],
   "source": [
    "2*10^3"
   ]
  },
  {
   "cell_type": "code",
   "execution_count": 8,
   "metadata": {},
   "outputs": [
    {
     "data": {
      "text/plain": [
       "14"
      ]
     },
     "metadata": {},
     "output_type": "display_data"
    }
   ],
   "source": [
    "2+3*4"
   ]
  },
  {
   "cell_type": "markdown",
   "metadata": {},
   "source": [
    "+ Asociacitividad:"
   ]
  },
  {
   "cell_type": "code",
   "execution_count": 9,
   "metadata": {},
   "outputs": [
    {
     "data": {
      "text/plain": [
       "2417851639229258349412352"
      ]
     },
     "metadata": {},
     "output_type": "display_data"
    }
   ],
   "source": [
    "2^3^4"
   ]
  },
  {
   "cell_type": "code",
   "execution_count": 10,
   "metadata": {},
   "outputs": [
    {
     "data": {
      "text/plain": [
       "2417851639229258349412352"
      ]
     },
     "metadata": {},
     "output_type": "display_data"
    }
   ],
   "source": [
    "2^(3^4)"
   ]
  },
  {
   "cell_type": "code",
   "execution_count": 11,
   "metadata": {},
   "outputs": [
    {
     "data": {
      "text/plain": [
       "-5"
      ]
     },
     "metadata": {},
     "output_type": "display_data"
    }
   ],
   "source": [
    "2-3-4"
   ]
  },
  {
   "cell_type": "code",
   "execution_count": 12,
   "metadata": {},
   "outputs": [
    {
     "data": {
      "text/plain": [
       "-5"
      ]
     },
     "metadata": {},
     "output_type": "display_data"
    }
   ],
   "source": [
    "(2-3)-4"
   ]
  },
  {
   "cell_type": "markdown",
   "metadata": {},
   "source": [
    "Cálculo con listas\n",
    "------------------\n",
    "\n",
    "**Seleccionar y eliminar**\n",
    "\n",
    "+ Seleccionar el primer elemento de una lista no vacía:"
   ]
  },
  {
   "cell_type": "code",
   "execution_count": 13,
   "metadata": {},
   "outputs": [
    {
     "data": {
      "text/plain": [
       "1"
      ]
     },
     "metadata": {},
     "output_type": "display_data"
    }
   ],
   "source": [
    "head [1,2,3,4,5]"
   ]
  },
  {
   "cell_type": "markdown",
   "metadata": {},
   "source": [
    "+ Eliminar el primer elemento de una lista no vacía:"
   ]
  },
  {
   "cell_type": "code",
   "execution_count": 14,
   "metadata": {},
   "outputs": [
    {
     "data": {
      "text/plain": [
       "[2,3,4,5]"
      ]
     },
     "metadata": {},
     "output_type": "display_data"
    }
   ],
   "source": [
    "tail [1,2,3,4,5]"
   ]
  },
  {
   "cell_type": "markdown",
   "metadata": {},
   "source": [
    "+ Seleccionar el n-ésimo elemento de una lista (empezando en 0):"
   ]
  },
  {
   "cell_type": "code",
   "execution_count": 15,
   "metadata": {},
   "outputs": [
    {
     "data": {
      "text/plain": [
       "3"
      ]
     },
     "metadata": {},
     "output_type": "display_data"
    }
   ],
   "source": [
    "[1,2,3,4,5] !! 2"
   ]
  },
  {
   "cell_type": "markdown",
   "metadata": {},
   "source": [
    "+ Seleccionar los n primeros elementos de una lista:"
   ]
  },
  {
   "cell_type": "code",
   "execution_count": 16,
   "metadata": {},
   "outputs": [
    {
     "data": {
      "text/plain": [
       "[1,2,3]"
      ]
     },
     "metadata": {},
     "output_type": "display_data"
    }
   ],
   "source": [
    "take 3 [1,2,3,4,5]"
   ]
  },
  {
   "cell_type": "markdown",
   "metadata": {},
   "source": [
    "+ Eliminar los $n$ primeros elementos de una lista:"
   ]
  },
  {
   "cell_type": "code",
   "execution_count": 17,
   "metadata": {},
   "outputs": [
    {
     "data": {
      "text/plain": [
       "[4,5]"
      ]
     },
     "metadata": {},
     "output_type": "display_data"
    }
   ],
   "source": [
    "drop 3 [1,2,3,4,5]"
   ]
  },
  {
   "cell_type": "markdown",
   "metadata": {},
   "source": [
    "+ Calcular la longitud de una lista:"
   ]
  },
  {
   "cell_type": "code",
   "execution_count": 18,
   "metadata": {},
   "outputs": [
    {
     "data": {
      "text/plain": [
       "5"
      ]
     },
     "metadata": {},
     "output_type": "display_data"
    }
   ],
   "source": [
    "length [1,2,3,4,5]"
   ]
  },
  {
   "cell_type": "markdown",
   "metadata": {},
   "source": [
    "+ Calcular la suma de una lista de números:"
   ]
  },
  {
   "cell_type": "code",
   "execution_count": 19,
   "metadata": {},
   "outputs": [
    {
     "data": {
      "text/plain": [
       "15"
      ]
     },
     "metadata": {},
     "output_type": "display_data"
    }
   ],
   "source": [
    "sum [1,2,3,4,5]"
   ]
  },
  {
   "cell_type": "markdown",
   "metadata": {},
   "source": [
    "+ Calcular el producto de una lista de números:"
   ]
  },
  {
   "cell_type": "code",
   "execution_count": 20,
   "metadata": {},
   "outputs": [
    {
     "data": {
      "text/plain": [
       "120"
      ]
     },
     "metadata": {},
     "output_type": "display_data"
    }
   ],
   "source": [
    "product [1,2,3,4,5]"
   ]
  },
  {
   "cell_type": "markdown",
   "metadata": {},
   "source": [
    "+ Concatenar dos listas:"
   ]
  },
  {
   "cell_type": "code",
   "execution_count": 21,
   "metadata": {},
   "outputs": [
    {
     "data": {
      "text/plain": [
       "[1,2,3,4,5]"
      ]
     },
     "metadata": {},
     "output_type": "display_data"
    }
   ],
   "source": [
    "[1,2,3] ++ [4,5]"
   ]
  },
  {
   "cell_type": "markdown",
   "metadata": {},
   "source": [
    "+ Invertir una lista:"
   ]
  },
  {
   "cell_type": "code",
   "execution_count": 22,
   "metadata": {},
   "outputs": [
    {
     "data": {
      "text/plain": [
       "[5,4,3,2,1]"
      ]
     },
     "metadata": {},
     "output_type": "display_data"
    }
   ],
   "source": [
    "reverse [1,2,3,4,5]"
   ]
  },
  {
   "cell_type": "markdown",
   "metadata": {},
   "source": [
    "Cálculos con errores\n",
    "--------------------\n",
    "\n",
    "**Ejemplos de cálculos con errores**"
   ]
  },
  {
   "cell_type": "code",
   "execution_count": 23,
   "metadata": {},
   "outputs": [
    {
     "ename": "",
     "evalue": "",
     "header": "MessageHeader {mhIdentifiers = [\"19c7548e-785e-4c64-a21b-09025596122c\"], mhParentHeader = Just (MessageHeader {mhIdentifiers = [\"19c7548e-785e-4c64-a21b-09025596122c\"], mhParentHeader = Nothing, mhMetadata = Metadata (fromList [(\"deletedCells\",Array [String \"e261b92e-46bb-4880-9f75-b7dd29ec9715\",String \"10f57df9-c42a-493a-9e06-7cdd9758b408\",String \"fef79547-032a-49d9-becb-a584c816b946\"]),(\"cellId\",String \"4e0e41c9-ce65-4cae-b7c1-0b89bbe3f30f\")]), mhMessageId = UUID {uuidToString = \"ef3de102-84c3-42c6-9524-da867d24b949\"}, mhSessionId = UUID {uuidToString = \"19c7548e-785e-4c64-a21b-09025596122c\"}, mhUsername = \"\", mhMsgType = ExecuteRequestMessage}), mhMetadata = Metadata (fromList []), mhMessageId = UUID {uuidToString = \"755d703f-1862-4d8a-ac25-b3995d692624\"}, mhSessionId = UUID {uuidToString = \"19c7548e-785e-4c64-a21b-09025596122c\"}, mhUsername = \"\", mhMsgType = ExecuteErrorMessage}",
     "output_type": "error",
     "traceback": [
      "divide by zero"
     ]
    }
   ],
   "source": [
    "1 `div` 0"
   ]
  },
  {
   "cell_type": "code",
   "execution_count": 24,
   "metadata": {},
   "outputs": [
    {
     "ename": "",
     "evalue": "",
     "header": "MessageHeader {mhIdentifiers = [\"19c7548e-785e-4c64-a21b-09025596122c\"], mhParentHeader = Just (MessageHeader {mhIdentifiers = [\"19c7548e-785e-4c64-a21b-09025596122c\"], mhParentHeader = Nothing, mhMetadata = Metadata (fromList [(\"deletedCells\",Array [String \"e261b92e-46bb-4880-9f75-b7dd29ec9715\",String \"10f57df9-c42a-493a-9e06-7cdd9758b408\",String \"fef79547-032a-49d9-becb-a584c816b946\"]),(\"cellId\",String \"5b98e64b-ded8-4510-ac53-bfff5990d8d1\")]), mhMessageId = UUID {uuidToString = \"a7ac4cf0-94ed-43ff-ac51-9d6ca67202aa\"}, mhSessionId = UUID {uuidToString = \"19c7548e-785e-4c64-a21b-09025596122c\"}, mhUsername = \"\", mhMsgType = ExecuteRequestMessage}), mhMetadata = Metadata (fromList []), mhMessageId = UUID {uuidToString = \"c20b5588-4bec-43de-91e0-39ed4ff26c5b\"}, mhSessionId = UUID {uuidToString = \"19c7548e-785e-4c64-a21b-09025596122c\"}, mhUsername = \"\", mhMsgType = ExecuteErrorMessage}",
     "output_type": "error",
     "traceback": [
      "Prelude.head: empty list"
     ]
    }
   ],
   "source": [
    "head []"
   ]
  },
  {
   "cell_type": "code",
   "execution_count": 25,
   "metadata": {},
   "outputs": [
    {
     "ename": "",
     "evalue": "",
     "header": "MessageHeader {mhIdentifiers = [\"19c7548e-785e-4c64-a21b-09025596122c\"], mhParentHeader = Just (MessageHeader {mhIdentifiers = [\"19c7548e-785e-4c64-a21b-09025596122c\"], mhParentHeader = Nothing, mhMetadata = Metadata (fromList [(\"deletedCells\",Array [String \"e261b92e-46bb-4880-9f75-b7dd29ec9715\",String \"10f57df9-c42a-493a-9e06-7cdd9758b408\",String \"fef79547-032a-49d9-becb-a584c816b946\"]),(\"cellId\",String \"f770bcf1-7ae5-41a6-8e5c-a274f24aaadb\")]), mhMessageId = UUID {uuidToString = \"b4029913-2b34-4f56-9bf3-dc9fb04e7647\"}, mhSessionId = UUID {uuidToString = \"19c7548e-785e-4c64-a21b-09025596122c\"}, mhUsername = \"\", mhMsgType = ExecuteRequestMessage}), mhMetadata = Metadata (fromList []), mhMessageId = UUID {uuidToString = \"3de89fcf-a14d-4958-9317-42724066c739\"}, mhSessionId = UUID {uuidToString = \"19c7548e-785e-4c64-a21b-09025596122c\"}, mhUsername = \"\", mhMsgType = ExecuteErrorMessage}",
     "output_type": "error",
     "traceback": [
      "Prelude.tail: empty list"
     ]
    }
   ],
   "source": [
    "tail []"
   ]
  },
  {
   "cell_type": "code",
   "execution_count": 26,
   "metadata": {},
   "outputs": [
    {
     "ename": "",
     "evalue": "",
     "header": "MessageHeader {mhIdentifiers = [\"19c7548e-785e-4c64-a21b-09025596122c\"], mhParentHeader = Just (MessageHeader {mhIdentifiers = [\"19c7548e-785e-4c64-a21b-09025596122c\"], mhParentHeader = Nothing, mhMetadata = Metadata (fromList [(\"deletedCells\",Array [String \"e261b92e-46bb-4880-9f75-b7dd29ec9715\",String \"10f57df9-c42a-493a-9e06-7cdd9758b408\",String \"fef79547-032a-49d9-becb-a584c816b946\"]),(\"cellId\",String \"a0c5e218-0837-4062-8fc9-30fca994a491\")]), mhMessageId = UUID {uuidToString = \"1f087ae6-314d-41e3-bf66-a1be1f4a6057\"}, mhSessionId = UUID {uuidToString = \"19c7548e-785e-4c64-a21b-09025596122c\"}, mhUsername = \"\", mhMsgType = ExecuteRequestMessage}), mhMetadata = Metadata (fromList []), mhMessageId = UUID {uuidToString = \"e002d2d3-f539-4473-ab37-2489a3208d83\"}, mhSessionId = UUID {uuidToString = \"19c7548e-785e-4c64-a21b-09025596122c\"}, mhUsername = \"\", mhMsgType = ExecuteErrorMessage}",
     "output_type": "error",
     "traceback": [
      "Prelude.!!: index too large"
     ]
    }
   ],
   "source": [
    "[2,3] !! 5"
   ]
  },
  {
   "cell_type": "markdown",
   "metadata": {},
   "source": [
    "Aplicación de funciones\n",
    "=======================\n",
    "\n",
    "Aplicación de funciones en matemáticas y en Haskell\n",
    "---------------------------------------------------\n",
    "\n",
    "+ Notación para funciones en matemáticas:\n",
    "    + En matemáticas, la aplicación de funciones se representa usando\n",
    "      paréntesis y la multiplicación usando yuxtaposición o espacios\n",
    "    + Ejemplo: $f(a,b) + c d$ representa la suma del valor de $f$ aplicado a\n",
    "      $a$ y $b$ más el producto de $c$ por $d$. \n",
    "+ Notación para funciones en Haskell:\n",
    "    + En Haskell, la aplicación de funciones se representa usando\n",
    "      espacios y la multiplicación usando `*`\n",
    "    + Ejemplo: `f a b + c*d` representa la suma del valor de `f` aplicado a `a` y `b`\n",
    "      más el producto de `c` por `d`.\n",
    "\n",
    "Prioridad de la aplicación de funciones\n",
    "---------------------------------------\n",
    "\n",
    "+ En Haskell, la aplicación de funciones tiene mayor prioridad que los\n",
    "  restantes operadores. Por ejemplo, la expresión Haskell `f a + b`\n",
    "  representa la expresión matemática $f(a)+b$.\n",
    "+ Ejemplos de expresiones Haskell y matemáticas: \n",
    "\n",
    " | Matemáticas | Haskell     |\n",
    " |-------------|-------------|\n",
    " | $f(x)$      | `f x`       |\n",
    " | $f(x,y)$    | `f x y`     |\n",
    " | $f(g(x))$   | `f (g x)`   |\n",
    " | $f(x,g(y))$ | `f x (g y)` |\n",
    " | $f(x)g(y)$  | `f x * g y` |\n",
    "\n",
    "Guiones Haskell\n",
    "===============\n",
    "\n",
    "+ En Haskell los usuarios pueden definir funciones.\n",
    "+ Las nuevas definiciones se definen en guiones, que son ficheros de textos\n",
    "  compuestos por una sucesión de definiciones.\n",
    "+ Se acostumbra a identificar los guiones de Haskell mediante el sufijo `.hs`\n",
    "\n",
    "El primer guión Haskell\n",
    "-----------------------\n",
    "\n",
    "+ Iniciar emacs y abrir dos ventanas: `C-x 2`\n",
    "+ En la primera ventana ejecutar Haskell: `M-x run-haskell`\n",
    "+ Cambiar a la otra ventana: `C-x o`\n",
    "+ Iniciar el guión: `C-x C-f ejemplo.hs`\n",
    "+ Escribir en el guión las siguientes definiciones"
   ]
  },
  {
   "cell_type": "code",
   "execution_count": 27,
   "metadata": {},
   "outputs": [],
   "source": [
    "doble x     = x+x\n",
    "\n",
    "cuadruple x = doble (doble x)"
   ]
  },
  {
   "cell_type": "markdown",
   "metadata": {},
   "source": [
    "+ Grabar el guión: `C-x C-s`\n",
    "+ Cargar el guión en Haskell: `C-c C-l`\n",
    "+ Evaluar ejemplos:"
   ]
  },
  {
   "cell_type": "code",
   "execution_count": 28,
   "metadata": {},
   "outputs": [
    {
     "data": {
      "text/plain": [
       "40"
      ]
     },
     "metadata": {},
     "output_type": "display_data"
    }
   ],
   "source": [
    "cuadruple 10"
   ]
  },
  {
   "cell_type": "code",
   "execution_count": 29,
   "metadata": {},
   "outputs": [
    {
     "data": {
      "text/plain": [
       "[1,2,3,4]"
      ]
     },
     "metadata": {},
     "output_type": "display_data"
    }
   ],
   "source": [
    "take (doble 2) [1,2,3,4,5,6]"
   ]
  },
  {
   "cell_type": "markdown",
   "metadata": {},
   "source": [
    "+ Volver al guión: `C-x o`\n",
    "+ Añadir al guión las siguientes definiciones:"
   ]
  },
  {
   "cell_type": "code",
   "execution_count": 30,
   "metadata": {},
   "outputs": [],
   "source": [
    "factorial n = product [1..n]\n",
    "\n",
    "media ns    = sum ns `div` length ns"
   ]
  },
  {
   "cell_type": "markdown",
   "metadata": {},
   "source": [
    "+ Grabar el guión: `C-x s`\n",
    "+ Cargar el guión en Haskell: `C-c C-l`\n",
    "+ Evaluar ejemplos:"
   ]
  },
  {
   "cell_type": "code",
   "execution_count": 31,
   "metadata": {},
   "outputs": [
    {
     "data": {
      "text/plain": [
       "24"
      ]
     },
     "metadata": {},
     "output_type": "display_data"
    }
   ],
   "source": [
    "factorial (doble 2)"
   ]
  },
  {
   "cell_type": "code",
   "execution_count": 32,
   "metadata": {},
   "outputs": [
    {
     "data": {
      "text/plain": [
       "6"
      ]
     },
     "metadata": {},
     "output_type": "display_data"
    }
   ],
   "source": [
    "doble (media [1,5,3])"
   ]
  },
  {
   "cell_type": "markdown",
   "metadata": {},
   "source": [
    "Nombres de funciones\n",
    "--------------------\n",
    "\n",
    "**Nombres de funciones**\n",
    "\n",
    "+ Los nombres de funciones tienen que empezar por una letra en\n",
    "  minúscula. Por ejemplo,\n",
    "\n",
    "```sesion  \n",
    "sumaCuadrado, suma_cuadrado, `suma\n",
    "```\n",
    "\n",
    "+ Las palabras reservadas de Haskell no pueden usarse en los nombres de\n",
    "  funciones. Algunas palabras reservadas son \n",
    "\n",
    "```sesion\n",
    "case  class   data     default  deriving  do      else\n",
    "if    import  in       infix    infixl    infixr  instance\n",
    "let   module  newtype  of       then      type    where\n",
    "```\n",
    "\n",
    "+ Se acostumbra escribir los argumentos que son listas usando `s` como sufijo\n",
    "  de su nombre. Por ejemplo,\n",
    "    + `ns` representa una lista de números,\n",
    "    + `xs` representa una lista de elementos,\n",
    "    + `css` representa una lista de listas de caracteres. \n",
    "\n",
    "La regla de la indentación\n",
    "--------------------------\n",
    "\n",
    "+ En Haskell la disposición del texto del programa (la *indentación*)\n",
    "  delimita las definiciones mediante la siguiente regla:\n",
    "      + Una definición acaba con el primer trozo de código con un margen\n",
    "        izquierdo menor o igual que el del comienzo de la definición actual.  \n",
    "\n",
    "+ Ejemplo:"
   ]
  },
  {
   "cell_type": "code",
   "execution_count": 33,
   "metadata": {},
   "outputs": [],
   "source": [
    "a = b + c\n",
    "    where\n",
    "      b = 1\n",
    "      c = 2\n",
    "d = a * 2"
   ]
  },
  {
   "cell_type": "code",
   "execution_count": 34,
   "metadata": {},
   "outputs": [
    {
     "data": {
      "text/plain": [
       "6"
      ]
     },
     "metadata": {},
     "output_type": "display_data"
    }
   ],
   "source": [
    "d"
   ]
  },
  {
   "cell_type": "markdown",
   "metadata": {},
   "source": [
    "+ Consejos:\n",
    "    + Comenzar las definiciones de las funciones en la primera columna. \n",
    "    + Usar el tabulador en emacs para determinar el sangrado en las\n",
    "      definiciones. \n",
    "\n",
    "Comentarios en Haskell\n",
    "----------------------\n",
    "\n",
    "+ En los guiones Haskell pueden incluirse comentarios.\n",
    "+ Un **comentario simple** comienza con `--` y se extiende hasta el final de la\n",
    "  línea.\n",
    "+ Ejemplo de comentario simple:"
   ]
  },
  {
   "cell_type": "code",
   "execution_count": 35,
   "metadata": {},
   "outputs": [],
   "source": [
    "-- (factorial2 n) es el factorial del número n.\n",
    "factorial2 n = product [1..n]"
   ]
  },
  {
   "cell_type": "code",
   "execution_count": 36,
   "metadata": {},
   "outputs": [
    {
     "data": {
      "text/plain": [
       "24"
      ]
     },
     "metadata": {},
     "output_type": "display_data"
    }
   ],
   "source": [
    "factorial2 4"
   ]
  },
  {
   "cell_type": "markdown",
   "metadata": {},
   "source": [
    "+ Un *comentario anidado* comienza con `{-` y termina en `-}`\n",
    "+ Ejemplo de comentario anidado:"
   ]
  },
  {
   "cell_type": "code",
   "execution_count": 37,
   "metadata": {},
   "outputs": [],
   "source": [
    "{- (factorial3 n) es el factorial del número n. \n",
    "   Por ejemplo, factorial 3  ==  6 -}\n",
    "factorial3 n = product [1..n]"
   ]
  },
  {
   "cell_type": "code",
   "execution_count": 38,
   "metadata": {},
   "outputs": [
    {
     "data": {
      "text/plain": [
       "24"
      ]
     },
     "metadata": {},
     "output_type": "display_data"
    }
   ],
   "source": [
    "factorial3 4"
   ]
  },
  {
   "cell_type": "markdown",
   "metadata": {},
   "source": [
    "Bibliografía\n",
    "============\n",
    "\n",
    "+ R. Bird. *Introducción a la programación funcional con Haskell*. Prentice\n",
    "  Hall, 2000.\n",
    "    + Cap. 1: Conceptos fundamentales.\n",
    "\n",
    "+ G. Hutton. *Programming in Haskell*. Cambridge University Press, 2007.\n",
    "    + Cap. 2: First steps.\n",
    "\n",
    "+ B. O'Sullivan, D. Stewart y J. Goerzen. *Real World Haskell*.  O'Reilly, 2008.\n",
    "    + Cap. 1: Getting Started.\n",
    "\n",
    "+ B. Pope y A. van IJzendoorn. *A Tour of the Haskell Prelude (basic\n",
    "  functions)*. \n",
    "\n",
    "+ B.C. Ruiz, F. Gutiérrez, P. Guerrero y J.E. Gallardo. *Razonando con\n",
    "  Haskell*. Thompson, 2004.\n",
    "    + Cap. 2: Introducción a Haskell.\n",
    "\n",
    "+ S. Thompson. *Haskell: The Craft of Functional Programming*, Second\n",
    "  Edition. Addison-Wesley, 1999.\n",
    "    + Cap. 2: Getting started with Haskell and Hugs."
   ]
  }
 ],
 "metadata": {
  "kernelspec": {
   "display_name": "Haskell",
   "language": "haskell",
   "name": "haskell"
  },
  "language_info": {
   "codemirror_mode": "ihaskell",
   "file_extension": ".hs",
   "name": "haskell",
   "pygments_lexer": "Haskell",
   "version": "8.6.5"
  }
 },
 "nbformat": 4,
 "nbformat_minor": 4
}
