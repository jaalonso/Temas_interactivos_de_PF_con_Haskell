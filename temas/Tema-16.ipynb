{
 "cells": [
  {
   "cell_type": "markdown",
   "metadata": {},
   "source": [
    "# Tema 16: El TAD de las colas de prioridad\n",
    "\n",
    "[José A. Alonso](https://www.cs.us.es/~jalonso)  \n",
    "[Departamento de Ciencias de la Computación e I.A.](https://www.cs.us.es)  \n",
    "[Universidad de Sevilla](http://www.us.es)  \n",
    "Sevilla, 12 de agosto de 2019"
   ]
  },
  {
   "cell_type": "markdown",
   "metadata": {},
   "source": [
    "> __Notas:__ \n",
    "+ La versión interactiva de este tema se encuentra en [Binder](https://mybinder.org/v2/gh/jaalonso/Temas_interactivos_de_PF_con_Haskell/master?urlpath=lab/tree/temas/Tema-16.ipynb).\n",
    "+ Se desactiva el [corrector estilo de Haskell](https://github.com/gibiansky/IHaskell/wiki#opt-no-lint)."
   ]
  },
  {
   "cell_type": "code",
   "execution_count": 1,
   "metadata": {},
   "outputs": [],
   "source": [
    ":opt no-lint"
   ]
  },
  {
   "cell_type": "markdown",
   "metadata": {},
   "source": [
    "Especificación del TAD de las colas de prioridad\n",
    "================================================\n",
    " \n",
    "Signatura del TAD colas de prioridad\n",
    "------------------------------------\n",
    "\n",
    "**Descripción de las colas de prioridad**\n",
    "\n",
    "+ Una *cola de prioridad* es una cola en la que cada elemento tiene asociada\n",
    "  una prioridad. La operación de extracción siempre elige el elemento de menor\n",
    "  prioridad.\n",
    "\n",
    "+ Ejemplos:\n",
    "    + La cola de las ciudades ordenadas por su distancia al destino\n",
    "      final. \n",
    "    + Las colas de las tareas pendientes ordenadas por su fecha de\n",
    "      terminación. \n",
    "\n",
    "**Signatura de las colas de prioridad**\n",
    "\n",
    "+ Signatura:\n",
    "\n",
    "```sesion\n",
    "vacia,   :: Ord a => CPrioridad a \n",
    "inserta, :: Ord a => a -> CPrioridad a -> CPrioridad a \n",
    "primero, :: Ord a => CPrioridad a -> a\n",
    "resto,   :: Ord a => CPrioridad a -> CPrioridad a\n",
    "esVacia, :: Ord a => CPrioridad a -> Bool \n",
    "valida   :: Ord a => CPrioridad a -> Bool\n",
    "```\n",
    "\n",
    "+ Descripción de las operaciones:\n",
    "    + `vacia` es la cola de prioridad vacía.\n",
    "    + `(inserta x c)` añade el elemento `x` a la cola de prioridad `c`.\n",
    "    + `(primero c)` es el primer elemento de la cola de prioridad `c`.\n",
    "    + `(resto c)` es el resto de la cola de prioridad `c`.\n",
    "    + `(esVacia c)` se verifica si la cola de prioridad `c` es vacía.\n",
    "    + `(valida c)` se verifica si `c` es una cola de prioridad válida.\n",
    "\n",
    "Propiedades del TAD de las colas de prioridad\n",
    "---------------------------------------------\n",
    "\n",
    "+ `inserta x (inserta y c) == inserta y (inserta x c)`\n",
    "\n",
    "+ `primero (inserta x vacia) == x`\n",
    "\n",
    "+ Si `x <= y`, entonces  \n",
    "  `primero (inserta y (inserta x c)) == primero (inserta x c)`\n",
    "\n",
    "+ `resto (inserta x vacia) == vacia`\n",
    "\n",
    "+ Si `x <= y`, entonces  \n",
    "  `resto (inserta y (inserta x c)) == inserta y (resto (inserta x c))`\n",
    "\n",
    "+ `esVacia vacia`\n",
    "\n",
    "+ `not (esVacia (inserta x c))`\n",
    "\n",
    "\n",
    "Implementaciones del TAD de las colas de prioridad\n",
    "==================================================\n",
    "\n",
    "Las colas de prioridad como listas\n",
    "----------------------------------"
   ]
  },
  {
   "cell_type": "code",
   "execution_count": 2,
   "metadata": {},
   "outputs": [],
   "source": [
    "module ColaDePrioridadConListas\n",
    "    (CPrioridad,\n",
    "     vacia,   -- Ord a => CPrioridad a \n",
    "     inserta, -- Ord a => a -> CPrioridad a -> CPrioridad a \n",
    "     primero, -- Ord a => CPrioridad a -> a\n",
    "     resto,   -- Ord a => CPrioridad a -> CPrioridad a\n",
    "     esVacia, -- Ord a => CPrioridad a -> Bool \n",
    "     valida   -- Ord a => CPrioridad a -> Bool\n",
    "    ) where\n",
    "\n",
    "-- Colas de prioridad mediante listas.\n",
    "newtype CPrioridad a = CP [a]\n",
    "  deriving (Eq, Show)\n",
    "\n",
    "-- Ejemplo de cola de prioridad\n",
    "--    ghci> cp1\n",
    "--    CP [1,2,3,7,9]\n",
    "cp1 :: CPrioridad Int\n",
    "cp1 = foldr inserta vacia [3,1,7,2,9]\n",
    "\n",
    "-- (valida c) se verifica si c es una cola de prioridad válida. Por\n",
    "-- ejemplo, \n",
    "--    valida (CP [1,3,5])  ==  True\n",
    "--    valida (CP [1,5,3])  ==  False\n",
    "valida :: Ord a => CPrioridad a -> Bool\n",
    "valida (CP xs) = ordenada xs\n",
    "  where ordenada (x:y:zs) = x <= y && ordenada (y:zs)\n",
    "        ordenada _        = True\n",
    "\n",
    "-- vacia es la cola de prioridad vacía. Por ejemplo,\n",
    "--    vacia  ==  CP []\n",
    "vacia :: Ord a => CPrioridad a \n",
    "vacia = CP []\n",
    "\n",
    "-- (inserta x c) es la cola obtenida añadiendo el elemento x a la cola\n",
    "-- de prioridad c. Por ejemplo,  \n",
    "--    cp1            ==  CP [1,2,3,7,9]\n",
    "--    inserta 5 cp1  ==  CP [1,2,3,5,7,9]\n",
    "inserta :: Ord a => a -> CPrioridad a -> CPrioridad a \n",
    "inserta x (CP q) = CP (ins x q)\n",
    "  where ins y []                   = [y]\n",
    "        ins y r@(e:r') | y < e     = y:r\n",
    "                       | otherwise = e:ins y r'\n",
    "\n",
    "-- Nota. inserta usa O(n) pasos.\n",
    "\n",
    "-- (primero c) es el primer elemento de la cola de prioridad c. Por\n",
    "-- ejemplo, \n",
    "--    cp1          ==  CP [1,2,3,7,9]\n",
    "--    primero cp1  ==  1\n",
    "primero :: Ord a => CPrioridad a -> a\n",
    "primero (CP(x:_)) = x\n",
    "primero _         = error \"primero: cola de prioridad vacia\"\n",
    "\n",
    "-- (resto c) es la cola de prioridad obtenida eliminando el primer\n",
    "-- elemento de la cola de prioridad c. Por ejemplo,  \n",
    "--    cp1        ==  CP [1,2,3,7,9]\n",
    "--    resto cp1  ==  CP [2,3,7,9]\n",
    "resto :: Ord a => CPrioridad a -> CPrioridad a\n",
    "resto (CP (_:xs)) = CP xs\n",
    "resto _           = error \"resto: cola de prioridad vacia\"\n",
    "\n",
    "-- Nota. resto usa O(1) pasos.\n",
    "\n",
    "-- (esVacia c) se verifica si la cola de prioridad c es vacía. Por\n",
    "-- ejemplo,   \n",
    "--    esVacia cp1    ==  False\n",
    "--    esVacia vacia  ==  True\n",
    "esVacia :: Ord a => CPrioridad a -> Bool \n",
    "esVacia (CP xs) = null xs"
   ]
  },
  {
   "cell_type": "markdown",
   "metadata": {},
   "source": [
    "+ Ejemplos"
   ]
  },
  {
   "cell_type": "code",
   "execution_count": 3,
   "metadata": {},
   "outputs": [],
   "source": [
    "cp1 = foldr inserta vacia [3,1,7,2,9]"
   ]
  },
  {
   "cell_type": "code",
   "execution_count": 4,
   "metadata": {},
   "outputs": [
    {
     "data": {
      "text/plain": [
       "CP [1,2,3,7,9]"
      ]
     },
     "metadata": {},
     "output_type": "display_data"
    }
   ],
   "source": [
    "cp1"
   ]
  },
  {
   "cell_type": "code",
   "execution_count": 5,
   "metadata": {},
   "outputs": [
    {
     "data": {
      "text/plain": [
       "CP [1,2,3,5,7,9]"
      ]
     },
     "metadata": {},
     "output_type": "display_data"
    }
   ],
   "source": [
    "inserta 5 cp1"
   ]
  },
  {
   "cell_type": "code",
   "execution_count": 6,
   "metadata": {},
   "outputs": [
    {
     "data": {
      "text/plain": [
       "1"
      ]
     },
     "metadata": {},
     "output_type": "display_data"
    }
   ],
   "source": [
    "primero cp1"
   ]
  },
  {
   "cell_type": "code",
   "execution_count": 7,
   "metadata": {},
   "outputs": [
    {
     "data": {
      "text/plain": [
       "CP [2,3,7,9]"
      ]
     },
     "metadata": {},
     "output_type": "display_data"
    }
   ],
   "source": [
    "resto cp1"
   ]
  },
  {
   "cell_type": "code",
   "execution_count": 8,
   "metadata": {},
   "outputs": [
    {
     "data": {
      "text/plain": [
       "False"
      ]
     },
     "metadata": {},
     "output_type": "display_data"
    }
   ],
   "source": [
    "esVacia cp1"
   ]
  },
  {
   "cell_type": "code",
   "execution_count": 9,
   "metadata": {},
   "outputs": [
    {
     "data": {
      "text/plain": [
       "True"
      ]
     },
     "metadata": {},
     "output_type": "display_data"
    }
   ],
   "source": [
    "esVacia vacia"
   ]
  },
  {
   "cell_type": "markdown",
   "metadata": {},
   "source": [
    "+ Borra la primera implementación"
   ]
  },
  {
   "cell_type": "markdown",
   "metadata": {},
   "source": [
    "Las colas de prioridad como montículos\n",
    "--------------------------------------\n",
    "\n",
    "La implementación de las colas de prioridad como montículos se estudiará en en el\n",
    "[tema 20](tema-20.ipynb) (El TAD de los montículos)."
   ]
  },
  {
   "cell_type": "markdown",
   "metadata": {},
   "source": [
    "Comprobación de las propiedades con QuickCheck\n",
    "=============================================="
   ]
  },
  {
   "cell_type": "code",
   "execution_count": 10,
   "metadata": {},
   "outputs": [],
   "source": [
    "module ColaDePrioridadPropiedades where\n",
    "\n",
    "import ColaDePrioridadConListas\n",
    "import Test.QuickCheck\n",
    "\n",
    "-- ---------------------------------------------------------------------\n",
    "-- Generador de colas de prioridad\n",
    "-- ---------------------------------------------------------------------\n",
    "\n",
    "-- genCPrioridad es un generador de colas de prioridad. Por ejemplo,\n",
    "--    ghci> sample genCPrioridad\n",
    "--    CP []\n",
    "--    CP []\n",
    "--    CP [-4]\n",
    "--    CP [-2,-1,-1,2,5]\n",
    "--    CP [-8,-5,4,6,8]\n",
    "--    CP [-4,-1,3,3,6,7,10,10,10,10]\n",
    "--    CP [-12,-10,-9,-7,2,4,6,7,7,9]\n",
    "--    CP [-14,-12,-12,-7,-7,-4,4,9,14]\n",
    "--    CP [-10,-9,-5,14]\n",
    "--    CP [18]\n",
    "--    CP [-19,-17,-16,-15,-13,-13,-13,-12,-6,-5,-3,0,2,3,4,5,8,18]\n",
    "genCPrioridad :: (Arbitrary a, Num a, Ord a) =>  Gen (CPrioridad a)\n",
    "genCPrioridad = do\n",
    "  xs <- listOf arbitrary\n",
    "  return (foldr inserta vacia xs)\n",
    "\n",
    "-- La colas de prioridad son una concreción de la clase arbitraria. \n",
    "instance (Arbitrary a, Num a, Ord a) => Arbitrary (CPrioridad a) where\n",
    "  arbitrary = genCPrioridad\n",
    "\n",
    "-- Prop.: Las colas de prioridad producidas por genCPrioridad son\n",
    "-- válidas. \n",
    "prop_genCPrioridad_correcto ::  CPrioridad Int -> Bool\n",
    "prop_genCPrioridad_correcto c = valida c\n",
    "\n",
    "-- Comprobación.\n",
    "--    ghci> quickCheck prop_genCPrioridad_correcto\n",
    "--    +++ OK, passed 100 tests.\n",
    "\n",
    "-- ---------------------------------------------------------------------\n",
    "-- Propiedades\n",
    "-- ---------------------------------------------------------------------\n",
    "\n",
    "-- Propiedad. Si se añade dos elementos a una cola de prioridad se\n",
    "-- obtiene la misma cola de prioridad idependientemente del orden en\n",
    "-- que se añadan los elementos.\n",
    "prop_inserta_conmuta :: Int -> Int -> CPrioridad Int -> Bool\n",
    "prop_inserta_conmuta x y c =\n",
    "  inserta x (inserta y c) == inserta y (inserta x c)\n",
    "\n",
    "-- Comprobación.\n",
    "--    ghci> quickCheck prop_inserta_conmuta\n",
    "--    +++ OK, passed 100 tests.\n",
    "\n",
    "-- Propiedad. La cabeza de la cola de prioridad obtenida anadiendo un\n",
    "-- elemento x a la cola de prioridad vacía es x.\n",
    "prop_primero_inserta_vacia :: Int -> CPrioridad Int -> Bool\n",
    "prop_primero_inserta_vacia x _ =\n",
    "  primero (inserta x vacia) == x\n",
    "\n",
    "-- Comprobación.\n",
    "--    ghci> quickCheck prop_primero_inserta_vacia\n",
    "--    +++ OK, passed 100 tests.\n",
    " \n",
    "-- Propiedad. El primer elemento de una cola de prioridad c no cambia\n",
    "-- cuando se le añade un elemento mayor o igual que algún elemento de c. \n",
    "prop_primero_inserta :: Int -> Int -> CPrioridad Int -> Property\n",
    "prop_primero_inserta x y c =\n",
    "  x <= y ==> primero (inserta y c') == primero c'\n",
    "  where c' = inserta x c\n",
    "\n",
    "-- Comprobación.\n",
    "--    ghci> quickCheck prop_primero_inserta\n",
    "--    +++ OK, passed 100 tests.\n",
    "\n",
    "-- Propiedad. El resto de añadir un elemento a la cola de prioridad\n",
    "-- vacía es la cola vacía. \n",
    "prop_resto_inserta_vacia :: Int -> Bool\n",
    "prop_resto_inserta_vacia x =\n",
    "  resto (inserta x vacia) == vacia\n",
    "\n",
    "-- Comprobación.\n",
    "--    ghci> quickCheck prop_resto_inserta_vacia\n",
    "--    +++ OK, passed 100 tests.\n",
    "\n",
    "-- Propiedad. El resto de la cola de prioridad obtenida añadiendo un\n",
    "-- elemento y a una cola c' (que tiene algún elemento menor o igual que\n",
    "-- y) es la cola que se obtiene añadiendo y al resto de c'.\n",
    "prop_resto_inserta :: Int -> Int -> CPrioridad Int -> Property\n",
    "prop_resto_inserta x y c =\n",
    "  x <= y ==> resto (inserta y c') == inserta y (resto c')\n",
    "  where c' = inserta x c\n",
    "\n",
    "-- Comprobación:\n",
    "--    ghci> quickCheck prop_resto_inserta\n",
    "--    +++ OK, passed 100 tests.\n",
    "\n",
    "-- Propiedad. vacia es una cola vacía.\n",
    "prop_vacia_es_vacia :: Bool\n",
    "prop_vacia_es_vacia = esVacia (vacia :: CPrioridad Int)\n",
    "\n",
    "-- Comprobación.\n",
    "--    ghci> quickCheck prop_vacia_es_vacia\n",
    "--    +++ OK, passed 100 tests.\n",
    "\n",
    "-- Propiedad. Si se añade un elemento a una cola de prioridad se obtiene\n",
    "-- una cola no vacía.\n",
    "prop_inserta_no_es_vacia :: Int -> CPrioridad Int -> Bool\n",
    "prop_inserta_no_es_vacia x c =\n",
    "  not (esVacia (inserta x c))\n",
    "\n",
    "-- Comprobación.\n",
    "--    ghci> quickCheck prop_inserta_no_es_vacia\n",
    "--    +++ OK, passed 100 tests."
   ]
  },
  {
   "cell_type": "markdown",
   "metadata": {},
   "source": [
    "Comprobación de las propiedades\n",
    "-------------------------------"
   ]
  },
  {
   "cell_type": "code",
   "execution_count": 11,
   "metadata": {},
   "outputs": [
    {
     "data": {
      "text/plain": [
       "+++ OK, passed 100 tests."
      ]
     },
     "metadata": {},
     "output_type": "display_data"
    },
    {
     "data": {
      "text/plain": [
       "+++ OK, passed 100 tests."
      ]
     },
     "metadata": {},
     "output_type": "display_data"
    },
    {
     "data": {
      "text/plain": [
       "+++ OK, passed 100 tests; 61 discarded."
      ]
     },
     "metadata": {},
     "output_type": "display_data"
    },
    {
     "data": {
      "text/plain": [
       "+++ OK, passed 100 tests."
      ]
     },
     "metadata": {},
     "output_type": "display_data"
    },
    {
     "data": {
      "text/plain": [
       "+++ OK, passed 100 tests; 95 discarded."
      ]
     },
     "metadata": {},
     "output_type": "display_data"
    },
    {
     "data": {
      "text/plain": [
       "+++ OK, passed 1 test."
      ]
     },
     "metadata": {},
     "output_type": "display_data"
    },
    {
     "data": {
      "text/plain": [
       "+++ OK, passed 100 tests."
      ]
     },
     "metadata": {},
     "output_type": "display_data"
    }
   ],
   "source": [
    "import Test.QuickCheck\n",
    "quickCheck prop_inserta_conmuta\n",
    "quickCheck prop_primero_inserta_vacia\n",
    "quickCheck prop_primero_inserta\n",
    "quickCheck prop_resto_inserta_vacia\n",
    "quickCheck prop_resto_inserta\n",
    "quickCheck prop_vacia_es_vacia\n",
    "quickCheck prop_inserta_no_es_vacia"
   ]
  },
  {
   "cell_type": "markdown",
   "metadata": {},
   "source": [
    "> **Nota** Se borran los ficheros de los módulos usados"
   ]
  },
  {
   "cell_type": "code",
   "execution_count": 12,
   "metadata": {},
   "outputs": [
    {
     "data": {
      "text/plain": []
     },
     "metadata": {},
     "output_type": "display_data"
    }
   ],
   "source": [
    ":! rm -f *.hs *.hi *.o *.dyn_*"
   ]
  },
  {
   "cell_type": "markdown",
   "metadata": {},
   "source": [
    "Referencias\n",
    "===========\n",
    "\n",
    "+ F. Rabhi y G. Lapalme\n",
    "  [Algorithms: A functional programming approach](http://bit.ly/1mWBqiI)\n",
    "    + Cap. 5.4. Priority queues."
   ]
  }
 ],
 "metadata": {
  "kernelspec": {
   "display_name": "Haskell",
   "language": "haskell",
   "name": "haskell"
  },
  "language_info": {
   "codemirror_mode": "ihaskell",
   "file_extension": ".hs",
   "name": "haskell",
   "pygments_lexer": "Haskell",
   "version": "8.6.5"
  }
 },
 "nbformat": 4,
 "nbformat_minor": 4
}
