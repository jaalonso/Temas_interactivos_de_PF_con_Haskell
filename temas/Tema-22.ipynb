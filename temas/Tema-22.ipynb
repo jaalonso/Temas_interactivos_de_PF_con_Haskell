{
 "cells": [
  {
   "cell_type": "markdown",
   "metadata": {},
   "source": [
    "<span style=\"font-size:2em; color:blue\">\n",
    "    Tema 22: Algoritmos sobre grafos\n",
    "</span>  \n",
    "\n",
    "----------\n",
    "\n",
    "[José A. Alonso](https://www.cs.us.es/~jalonso)  \n",
    "[Departamento de Ciencias de la Computación e I.A.](https://www.cs.us.es)  \n",
    "[Universidad de Sevilla](http://www.us.es)  \n",
    "Sevilla, 18 de agosto de 2019"
   ]
  },
  {
   "cell_type": "markdown",
   "metadata": {},
   "source": [
    "> __Notas:__ \n",
    "+ La versión interactiva de este tema se encuentra en [Binder](https://mybinder.org/v2/gh/jaalonso/Temas_interactivos_de_PF_con_Haskell/master?urlpath=lab/tree/temas/Tema-22.ipynb).\n",
    "+ Se desactiva el [corrector estilo de Haskell](https://github.com/gibiansky/IHaskell/wiki#opt-no-lint)."
   ]
  },
  {
   "cell_type": "code",
   "execution_count": 1,
   "metadata": {},
   "outputs": [],
   "source": [
    ":opt no-lint"
   ]
  },
  {
   "cell_type": "markdown",
   "metadata": {},
   "source": [
    "# El TAD de los grafos"
   ]
  },
  {
   "cell_type": "markdown",
   "metadata": {},
   "source": [
    "## Definiciones y terminología sobre grafos\n",
    "\n",
    "+ Un *grafo G* es un par $(V,A)$ donde $V$ es el conjunto de los *vértices* (o\n",
    "  nodos) y $A$ el de las *aristas*.\n",
    "\n",
    "+ Una *arista* del grafo es un par de vértices.\n",
    "\n",
    "+ Un *arco* es una arista dirigida.\n",
    "\n",
    "+ *|V|* es el número de vértices.\n",
    "\n",
    "+ *|A|* es el número de aristas.\n",
    "\n",
    "+ Un vértice $v$ es *adjacente* a $v'$ si $vv'$ es una arista del grafo.\n",
    "\n",
    "+ Un *grafo ponderado* es un grafo cuyas aristas tienen un peso."
   ]
  },
  {
   "cell_type": "markdown",
   "metadata": {},
   "source": [
    "## Signatura del TAD de los grafos\n",
    "\n",
    "**Signatura del TAD de los grafos**\n",
    "\n",
    "```sesion\n",
    "creaGrafo   :: (Ix v,Num p) => Orientacion -> (v,v) -> [(v,v,p)] -> \n",
    "                               Grafo v p\n",
    "dirigido    :: (Ix v,Num p) => (Grafo v p) -> Bool\n",
    "adyacentes  :: (Ix v,Num p) => (Grafo v p) -> v -> [v]\n",
    "nodos       :: (Ix v,Num p) => (Grafo v p) -> [v]\n",
    "aristas     :: (Ix v,Num p) => (Grafo v p) -> [(v,v,p)]\n",
    "aristaEn    :: (Ix v,Num p) => (Grafo v p) -> (v,v) -> Bool\n",
    "peso        :: (Ix v,Num p) => v -> v -> (Grafo v p) -> p\n",
    "```\n",
    "\n",
    "**Descripción de la signatura del TAD de grafos**\n",
    "\n",
    "+ `(creaGrafo o cs as)` es un grafo (dirigido o no, según el valor de o), con\n",
    "  el par de cotas cs y listas de aristas as (cada arista es un trío formado por\n",
    "  los dos vértices y su peso).  Ver un ejemplo en la siguiente transparencia.\n",
    "\n",
    "+ `(dirigido g)` se verifica si `g` es dirigido.\n",
    "\n",
    "+ `(nodos g)` es la lista de todos los nodos del grafo `g`.\n",
    "\n",
    "+ `(aristas g)` es la lista de las aristas del grafo `g`.\n",
    "\n",
    "+ `(adyacentes g v)` es la lista de los vértices adyacentes al nodo `v` en el\n",
    "  grafo `g`.\n",
    "\n",
    "+ `(aristaEn g a)` se verifica si `a` es una arista del grafo `g`.\n",
    "\n",
    "+ `(peso v1 v2 g)` es el peso de la arista que une los vértices `v1` y `v2` en\n",
    "  el grafo `g`.\n",
    "\n",
    "**Ejemplo de creación de grafos.**\n",
    "\n",
    "```sesion\n",
    "creaGrafo ND (1,5) [(1,2,12),(1,3,34),(1,5,78),\n",
    "                    (2,4,55),(2,5,32),\n",
    "                    (3,4,61),(3,5,44),\n",
    "                    (4,5,93)]\n",
    "```\n",
    "\n",
    "crea el grafo\n",
    "\n",
    "```sesion\n",
    "       12\n",
    "  1 -------- 2\n",
    "  | \\78     /|\n",
    "  |  \\   32/ |\n",
    "  |   \\   /  |\n",
    "34|     5    |55\n",
    "  |   /   \\  |\n",
    "  |  /44   \\ |\n",
    "  | /     93\\|\n",
    "  3 -------- 4\n",
    "       61\n",
    "```"
   ]
  },
  {
   "cell_type": "markdown",
   "metadata": {},
   "source": [
    "# Implementaciones de grafos"
   ]
  },
  {
   "cell_type": "markdown",
   "metadata": {},
   "source": [
    "## Implementación de los grafos como vectores de adyacencia"
   ]
  },
  {
   "cell_type": "code",
   "execution_count": 2,
   "metadata": {},
   "outputs": [],
   "source": [
    "module GrafoConVectorDeAdyacencia \n",
    "  (Orientacion (..),\n",
    "   Grafo,\n",
    "   creaGrafo,  -- (Ix v,Num p) => Orientacion -> (v,v) -> [(v,v,p)] -> \n",
    "               --                 Grafo v p\n",
    "   dirigido,   -- (Ix v,Num p) => (Grafo v p) -> Bool\n",
    "   adyacentes, -- (Ix v,Num p) => (Grafo v p) -> v -> [v]\n",
    "   nodos,      -- (Ix v,Num p) => (Grafo v p) -> [v]\n",
    "   aristas,    -- (Ix v,Num p) => (Grafo v p) -> [(v,v,p)]\n",
    "   aristaEn,   -- (Ix v,Num p) => (Grafo v p) -> (v,v) -> Bool\n",
    "   peso        -- (Ix v,Num p) => v -> v -> (Grafo v p) -> p\n",
    "  ) where\n",
    "\n",
    "-- ---------------------------------------------------------------------\n",
    "-- Librerías auxiliares                                               --\n",
    "-- ---------------------------------------------------------------------\n",
    "\n",
    "import Data.Array\n",
    "\n",
    "-- Orientacion es D (dirigida) ó ND (no dirigida).\n",
    "data Orientacion = D | ND\n",
    "  deriving (Eq, Show)\n",
    "\n",
    "-- (Grafo v p) es un grafo con vértices de tipo v y pesos de tipo p.\n",
    "data Grafo v p = G Orientacion (Array v [(v,p)])\n",
    "  deriving (Eq, Show)\n",
    "\n",
    "-- (creaGrafo o cs as) es un grafo (dirigido o no, según el valor de o),\n",
    "-- con el par de cotas cs y listas de aristas as (cada arista es un trío\n",
    "-- formado por los dos vértices y su peso). Ver el ejemplo a continuación.\n",
    "creaGrafo :: (Ix v, Num p) => Orientacion -> (v,v) -> [(v,v,p)] -> Grafo v p\n",
    "creaGrafo ND cs vs =\n",
    "  G ND (accumArray \n",
    "         (\\xs x -> xs++[x]) [] cs \n",
    "         [(x1,(x2,p)) | (x1,x2,p) <- vs])\n",
    "creaGrafo D cs vs =\n",
    "  G D (accumArray \n",
    "        (\\xs x -> xs++[x]) [] cs \n",
    "        ([(x2,(x1,p)) | (x1,x2,p) <- vs, x1 /= x2] ++ \n",
    "         [(x1,(x2,p)) | (x1,x2,p) <- vs]))\n",
    "\n",
    "-- ejGrafoND es el grafo\n",
    "--             12\n",
    "--        1 -------- 2\n",
    "--        | \\78     /|\n",
    "--        |  \\   32/ |\n",
    "--        |   \\   /  |\n",
    "--      34|     5    |55\n",
    "--        |   /   \\  |\n",
    "--        |  /44   \\ |\n",
    "--        | /     93\\|\n",
    "--        3 -------- 4\n",
    "--             61\n",
    "-- representado mediante un vector de adyacencia; es decir,\n",
    "--    ghci> ejGrafoND\n",
    "--    G ND array (1,5) [(1,[(2,12),(3,34),(5,78)]),\n",
    "--                      (2,[(1,12),(4,55),(5,32)]),\n",
    "--                      (3,[(1,34),(4,61),(5,44)]),\n",
    "--                      (4,[(2,55),(3,61),(5,93)]),\n",
    "--                      (5,[(1,78),(2,32),(3,44),(4,93)])])\n",
    "ejGrafoND :: Grafo Int Int\n",
    "ejGrafoND = creaGrafo ND (1,5) [(1,2,12),(1,3,34),(1,5,78),\n",
    "                                (2,4,55),(2,5,32),\n",
    "                                (3,4,61),(3,5,44),\n",
    "                                (4,5,93)]\n",
    "\n",
    "-- ejGrafoD es el mismo grafo que ejGrafoND pero orientando las aristas;\n",
    "-- es decir,\n",
    "--    ghci> ejGrafoD\n",
    "--    G D array (1,5) [(1,[(2,12),(3,34),(5,78)]),\n",
    "--                     (2,[(4,55),(5,32)]),\n",
    "--                     (3,[(4,61),(5,44)]),\n",
    "--                     (4,[(5,93)]),\n",
    "--                     (5,[])])\n",
    "ejGrafoD :: Grafo Int Int\n",
    "ejGrafoD = creaGrafo D (1,5) [(1,2,12),(1,3,34),(1,5,78),\n",
    "                              (2,4,55),(2,5,32),\n",
    "                              (3,4,61),(3,5,44),\n",
    "                              (4,5,93)]\n",
    "\n",
    "-- (dirigido g) se verifica si g es dirigido. Por ejemplo,\n",
    "--    dirigido ejGrafoD   ==  True\n",
    "--    dirigido ejGrafoND  ==  False\n",
    "dirigido :: (Ix v,Num p) => Grafo v p -> Bool\n",
    "dirigido (G o _) = o == D\n",
    "\n",
    "-- (nodos g) es la lista de todos los nodos del grafo g. Por ejemplo,\n",
    "--    nodos ejGrafoND  ==  [1,2,3,4,5]\n",
    "--    nodos ejGrafoD   ==  [1,2,3,4,5]\n",
    "nodos :: (Ix v,Num p) => Grafo v p -> [v]\n",
    "nodos (G _ g) = indices g\n",
    "\n",
    "-- (adyacentes g v) es la lista de los vértices adyacentes al nodo v en\n",
    "-- el grafo g. Por ejemplo,\n",
    "--    adyacentes ejGrafoND 4  ==  [2,3,5]\n",
    "--    adyacentes ejGrafoD  4  ==  [5]\n",
    "adyacentes :: (Ix v,Num p) => Grafo v p -> v -> [v]\n",
    "adyacentes (G _ g) v = map fst (g!v)\n",
    "\n",
    "-- (aristaEn g a) se verifica si a es una arista del grafo g. Por\n",
    "-- ejemplo,\n",
    "--    aristaEn ejGrafoND (5,1)  ==  True\n",
    "--    aristaEn ejGrafoND (4,1)  ==  False\n",
    "--    aristaEn ejGrafoD (5,1)   ==  False\n",
    "--    aristaEn ejGrafoD (1,5)   ==  True\n",
    "aristaEn :: (Ix v,Num p) => Grafo v p -> (v,v) -> Bool\n",
    "aristaEn g (x,y) = y `elem` adyacentes g x\n",
    "\n",
    "-- (peso v1 v2 g) es el peso de la arista que une los vértices v1 y v2\n",
    "-- en el grafo g. Por ejemplo,\n",
    "--    peso 1 5 ejGrafoND  ==  78\n",
    "--    peso 1 5 ejGrafoD   ==  78\n",
    "peso :: (Ix v,Num p) => v -> v -> Grafo v p -> p\n",
    "peso x y (G _ g) = head [c | (a,c) <- g!x , a == y]\n",
    "\n",
    "-- (aristas g) es la lista de las aristas del grafo g. Por ejemplo, \n",
    "--    ghci> aristas ejGrafoD\n",
    "--    [(1,2,12),(1,3,34),(1,5,78),(2,4,55),(2,5,32),(3,4,61),\n",
    "--     (3,5,44),(4,5,93)] \n",
    "--    ghci> aristas ejGrafoND\n",
    "--    [(1,2,12),(1,3,34),(1,5,78),(2,1,12),(2,4,55),(2,5,32),\n",
    "--     (3,1,34),(3,4,61),(3,5,44),(4,2,55),(4,3,61),(4,5,93),\n",
    "--     (5,1,78),(5,2,32),(5,3,44),(5,4,93)]\n",
    "aristas :: (Ix v,Num p) => Grafo v p -> [(v,v,p)]\n",
    "aristas (G o g) = [(v1,v2,w) | v1 <- nodos (G o g) , (v2,w) <- g!v1] "
   ]
  },
  {
   "cell_type": "markdown",
   "metadata": {},
   "source": [
    "+ Ejemplos"
   ]
  },
  {
   "cell_type": "code",
   "execution_count": 3,
   "metadata": {},
   "outputs": [
    {
     "data": {
      "text/plain": [
       "G ND (array (1,5) [(1,[(2,12),(3,34),(5,78)]),(2,[(4,55),(5,32)]),(3,[(4,61),(5,44)]),(4,[(5,93)]),(5,[])])"
      ]
     },
     "metadata": {},
     "output_type": "display_data"
    }
   ],
   "source": [
    "ejGrafoND :: Grafo Int Int\n",
    "ejGrafoND = creaGrafo ND (1,5) [(1,2,12),(1,3,34),(1,5,78),\n",
    "                                (2,4,55),(2,5,32),\n",
    "                                (3,4,61),(3,5,44),\n",
    "                                (4,5,93)]\n",
    "ejGrafoND                                "
   ]
  },
  {
   "cell_type": "code",
   "execution_count": 4,
   "metadata": {},
   "outputs": [
    {
     "data": {
      "text/plain": [
       "G D (array (1,5) [(1,[(2,12),(3,34),(5,78)]),(2,[(1,12),(4,55),(5,32)]),(3,[(1,34),(4,61),(5,44)]),(4,[(2,55),(3,61),(5,93)]),(5,[(1,78),(2,32),(3,44),(4,93)])])"
      ]
     },
     "metadata": {},
     "output_type": "display_data"
    }
   ],
   "source": [
    "ejGrafoD :: Grafo Int Int\n",
    "ejGrafoD = creaGrafo D (1,5) [(1,2,12),(1,3,34),(1,5,78),\n",
    "                              (2,4,55),(2,5,32),\n",
    "                              (3,4,61),(3,5,44),\n",
    "                              (4,5,93)]\n",
    "ejGrafoD                              "
   ]
  },
  {
   "cell_type": "code",
   "execution_count": 5,
   "metadata": {},
   "outputs": [
    {
     "data": {
      "text/plain": [
       "True"
      ]
     },
     "metadata": {},
     "output_type": "display_data"
    }
   ],
   "source": [
    "dirigido ejGrafoD   "
   ]
  },
  {
   "cell_type": "code",
   "execution_count": 6,
   "metadata": {},
   "outputs": [
    {
     "data": {
      "text/plain": [
       "False"
      ]
     },
     "metadata": {},
     "output_type": "display_data"
    }
   ],
   "source": [
    "dirigido ejGrafoND  "
   ]
  },
  {
   "cell_type": "code",
   "execution_count": 7,
   "metadata": {},
   "outputs": [
    {
     "data": {
      "text/plain": [
       "[5]"
      ]
     },
     "metadata": {},
     "output_type": "display_data"
    }
   ],
   "source": [
    "adyacentes ejGrafoND 4  "
   ]
  },
  {
   "cell_type": "code",
   "execution_count": 8,
   "metadata": {},
   "outputs": [
    {
     "data": {
      "text/plain": [
       "[2,3,5]"
      ]
     },
     "metadata": {},
     "output_type": "display_data"
    }
   ],
   "source": [
    "adyacentes ejGrafoD  4  "
   ]
  },
  {
   "cell_type": "code",
   "execution_count": 9,
   "metadata": {},
   "outputs": [
    {
     "data": {
      "text/plain": [
       "[1,2,3,4,5]"
      ]
     },
     "metadata": {},
     "output_type": "display_data"
    }
   ],
   "source": [
    "nodos ejGrafoND  "
   ]
  },
  {
   "cell_type": "code",
   "execution_count": 10,
   "metadata": {},
   "outputs": [
    {
     "data": {
      "text/plain": [
       "[1,2,3,4,5]"
      ]
     },
     "metadata": {},
     "output_type": "display_data"
    }
   ],
   "source": [
    "nodos ejGrafoD   "
   ]
  },
  {
   "cell_type": "code",
   "execution_count": 11,
   "metadata": {},
   "outputs": [
    {
     "data": {
      "text/plain": [
       "78"
      ]
     },
     "metadata": {},
     "output_type": "display_data"
    }
   ],
   "source": [
    "peso 1 5 ejGrafoND  "
   ]
  },
  {
   "cell_type": "code",
   "execution_count": 12,
   "metadata": {},
   "outputs": [
    {
     "data": {
      "text/plain": [
       "78"
      ]
     },
     "metadata": {},
     "output_type": "display_data"
    }
   ],
   "source": [
    "peso 1 5 ejGrafoD   "
   ]
  },
  {
   "cell_type": "code",
   "execution_count": 13,
   "metadata": {},
   "outputs": [
    {
     "data": {
      "text/plain": [
       "False"
      ]
     },
     "metadata": {},
     "output_type": "display_data"
    }
   ],
   "source": [
    "aristaEn ejGrafoND (5,1)  "
   ]
  },
  {
   "cell_type": "code",
   "execution_count": 14,
   "metadata": {},
   "outputs": [
    {
     "data": {
      "text/plain": [
       "False"
      ]
     },
     "metadata": {},
     "output_type": "display_data"
    }
   ],
   "source": [
    "aristaEn ejGrafoND (4,1)  "
   ]
  },
  {
   "cell_type": "code",
   "execution_count": 15,
   "metadata": {},
   "outputs": [
    {
     "data": {
      "text/plain": [
       "True"
      ]
     },
     "metadata": {},
     "output_type": "display_data"
    }
   ],
   "source": [
    "aristaEn ejGrafoD  (5,1)  "
   ]
  },
  {
   "cell_type": "code",
   "execution_count": 16,
   "metadata": {},
   "outputs": [
    {
     "data": {
      "text/plain": [
       "True"
      ]
     },
     "metadata": {},
     "output_type": "display_data"
    }
   ],
   "source": [
    "aristaEn ejGrafoD  (1,5)  "
   ]
  },
  {
   "cell_type": "code",
   "execution_count": 17,
   "metadata": {},
   "outputs": [
    {
     "data": {
      "text/plain": [
       "[(1,2,12),(1,3,34),(1,5,78),(2,4,55),(2,5,32),(3,4,61),(3,5,44),(4,5,93)]"
      ]
     },
     "metadata": {},
     "output_type": "display_data"
    }
   ],
   "source": [
    "aristas ejGrafoND"
   ]
  },
  {
   "cell_type": "code",
   "execution_count": 18,
   "metadata": {},
   "outputs": [
    {
     "data": {
      "text/plain": [
       "[(1,2,12),(1,3,34),(1,5,78),(2,1,12),(2,4,55),(2,5,32),(3,1,34),(3,4,61),(3,5,44),(4,2,55),(4,3,61),(4,5,93),(5,1,78),(5,2,32),(5,3,44),(5,4,93)]"
      ]
     },
     "metadata": {},
     "output_type": "display_data"
    }
   ],
   "source": [
    "aristas ejGrafoD"
   ]
  },
  {
   "cell_type": "markdown",
   "metadata": {},
   "source": [
    "+ Eliminación del módulo"
   ]
  },
  {
   "cell_type": "code",
   "execution_count": 19,
   "metadata": {},
   "outputs": [],
   "source": [
    ":m - GrafoConVectorDeAdyacencia "
   ]
  },
  {
   "cell_type": "markdown",
   "metadata": {},
   "source": [
    "## Implementación de los grafos como matrices de adyacencia"
   ]
  },
  {
   "cell_type": "code",
   "execution_count": 20,
   "metadata": {},
   "outputs": [],
   "source": [
    "module GrafoConMatrizDeAdyacencia\n",
    "  (Orientacion (..),\n",
    "   Grafo,\n",
    "   creaGrafo,  -- (Ix v,Num p) => Orientacion -> (v,v) -> [(v,v,p)] -> \n",
    "               --                 Grafo v p\n",
    "   dirigido,   -- (Ix v,Num p) => (Grafo v p) -> Bool\n",
    "   adyacentes, -- (Ix v,Num p) => (Grafo v p) -> v -> [v]\n",
    "   nodos,      -- (Ix v,Num p) => (Grafo v p) -> [v]\n",
    "   aristas,    -- (Ix v,Num p) => (Grafo v p) -> [(v,v,p)]\n",
    "   aristaEn,   -- (Ix v,Num p) => (Grafo v p) -> (v,v) -> Bool\n",
    "   peso        -- (Ix v,Num p) => v -> v -> (Grafo v p) -> p\n",
    "  ) where\n",
    "\n",
    "-- ---------------------------------------------------------------------\n",
    "-- Librerías auxiliares                                               --\n",
    "-- ---------------------------------------------------------------------\n",
    "\n",
    "import Data.Array\n",
    "\n",
    "-- Orientacion es D (dirigida) ó ND (no dirigida).\n",
    "data Orientacion = D | ND\n",
    "  deriving (Eq, Show)\n",
    "\n",
    "-- (Grafo v p) es un grafo con vértices de tipo v y pesos de tipo p.\n",
    "data Grafo v p = G Orientacion (Array (v,v) (Maybe p))\n",
    "  deriving (Eq, Show)\n",
    "\n",
    "-- (creaGrafo d cs as) es un grafo (dirigido o no, según el valor de o),\n",
    "-- con el par de cotas cs y listas de aristas as (cada arista es un trío\n",
    "-- formado por los dos vértices y su peso). Ver el ejemplo a continuación.\n",
    "creaGrafo :: (Ix v,Num p) => Orientacion -> (v,v) -> [(v,v,p)] -> Grafo v p\n",
    "creaGrafo D cs as =\n",
    "  G D (matrizVacia cs // [((v1,v2),Just c) | (v1,v2,c) <- as])\n",
    "creaGrafo ND cs as =\n",
    "  G ND (matrizVacia cs // ([((v1,v2),Just c) | (v1,v2,c) <- as] ++\n",
    "                           [((v2,v1),Just c) | (v1,v2,c) <- as, v1 /= v2]))\n",
    "\n",
    "matrizVacia :: Ix v => (v,v) -> Array (v,v) (Maybe p)\n",
    "matrizVacia (l,u) =\n",
    "  listArray ((l,l),(u,u)) (repeat Nothing)\n",
    "\n",
    "-- ejGrafoND es el grafo\n",
    "--             12\n",
    "--        1 -------- 2\n",
    "--        | \\78     /|\n",
    "--        |  \\   32/ |\n",
    "--        |   \\   /  |\n",
    "--      34|     5    |55\n",
    "--        |   /   \\  |\n",
    "--        |  /44   \\ |\n",
    "--        | /     93\\|\n",
    "--        3 -------- 4\n",
    "--             61\n",
    "-- representado mediante una matriz de adyacencia.\n",
    "--    ghci> ejGrafoND\n",
    "--    G ND array ((1,1),(5,5)) \n",
    "--               [((1,1),Nothing),((1,2),Just 12),((1,3),Just 34),\n",
    "--                ((1,4),Nothing),((1,5),Just 78),((2,1),Just 12),\n",
    "--                ((2,2),Nothing),((2,3),Nothing),((2,4),Just 55),\n",
    "--                ((2,5),Just 32),((3,1),Just 34),((3,2),Nothing),\n",
    "--                ((3,3),Nothing),((3,4),Just 61),((3,5),Just 44),\n",
    "--                ((4,1),Nothing),((4,2),Just 55),((4,3),Just 61),\n",
    "--                ((4,4),Nothing),((4,5),Just 93),((5,1),Just 78),\n",
    "--                ((5,2),Just 32),((5,3),Just 44),((5,4),Just 93),\n",
    "--                ((5,5),Nothing)]\n",
    "ejGrafoND :: Grafo Int Int\n",
    "ejGrafoND = creaGrafo ND (1,5) [(1,2,12),(1,3,34),(1,5,78),\n",
    "                                (2,4,55),(2,5,32),\n",
    "                                (3,4,61),(3,5,44),\n",
    "                                (4,5,93)]\n",
    "\n",
    "-- ejGrafoD es el mismo grafo que ejGrafoND pero orientando las aristas;\n",
    "-- es decir,\n",
    "--    ghci> ejGrafoD\n",
    "--    G D (array ((1,1),(5,5)) \n",
    "--               [((1,1),Nothing),((1,2),Just 12),((1,3),Just 34),\n",
    "--                ((1,4),Nothing),((1,5),Just 78),((2,1),Nothing),\n",
    "--                ((2,2),Nothing),((2,3),Nothing),((2,4),Just 55),\n",
    "--                ((2,5),Just 32),((3,1),Nothing),((3,2),Nothing),\n",
    "--                ((3,3),Nothing),((3,4),Just 61),((3,5),Just 44),\n",
    "--                ((4,1),Nothing),((4,2),Nothing),((4,3),Nothing),\n",
    "--                ((4,4),Nothing),((4,5),Just 93),((5,1),Nothing),\n",
    "--                ((5,2),Nothing),((5,3),Nothing),((5,4),Nothing),\n",
    "--                ((5,5),Nothing)])\n",
    "ejGrafoD :: Grafo Int Int\n",
    "ejGrafoD = creaGrafo D (1,5) [(1,2,12),(1,3,34),(1,5,78),\n",
    "                              (2,4,55),(2,5,32),\n",
    "                              (3,4,61),(3,5,44),\n",
    "                              (4,5,93)]\n",
    "\n",
    "-- (dirigido g) se verifica si g es dirigido. Por ejemplo,\n",
    "--    dirigido ejGrafoD   ==  True\n",
    "--    dirigido ejGrafoND  ==  False\n",
    "dirigido :: (Ix v,Num p) => Grafo v p -> Bool\n",
    "dirigido (G o _) = o == D\n",
    "\n",
    "-- (nodos g) es la lista de todos los nodos del grafo g. Por ejemplo,\n",
    "--    nodos ejGrafoND  ==  [1,2,3,4,5]\n",
    "--    nodos ejGrafoD   ==  [1,2,3,4,5]\n",
    "nodos :: (Ix v,Num p) => Grafo v p -> [v]\n",
    "nodos (G _ g) = range (l,u) \n",
    "  where ((l,_),(u,_)) = bounds g\n",
    "\n",
    "-- (adyacentes g v) es la lista de los vértices adyacentes al nodo v en\n",
    "-- el grafo g. Por ejemplo,\n",
    "--    adyacentes ejGrafoND 4  ==  [2,3,5]\n",
    "--    adyacentes ejGrafoD  4  ==  [5]\n",
    "adyacentes :: (Ix v,Num p,Eq p) => Grafo v p -> v -> [v]\n",
    "adyacentes (G o g) v = \n",
    "  [v' | v' <- nodos (G o g), (g!(v,v')) /= Nothing]\n",
    "\n",
    "-- (aristaEn g a) se verifica si a es una arista del grafo g. Por\n",
    "-- ejemplo,\n",
    "--    aristaEn ejGrafoND (5,1)  ==  True\n",
    "--    aristaEn ejGrafoND (4,1)  ==  False\n",
    "aristaEn :: (Ix v,Num p,Eq p) => Grafo v p -> (v,v) -> Bool\n",
    "aristaEn (G _o g) (x,y)= (g!(x,y)) /= Nothing\n",
    "\n",
    "-- (peso v1 v2 g) es el peso de la arista que une los vértices v1 y v2\n",
    "-- en el grafo g. Por ejemplo,\n",
    "--    peso 1 5 ejGrafoND  ==  78\n",
    "--    peso 1 5 ejGrafoD   ==  78\n",
    "peso :: (Ix v,Num p) => v -> v -> Grafo v p -> p\n",
    "peso x y (G _ g)  = w where (Just w) = g!(x,y)\n",
    "\n",
    "-- (aristas g) es la lista de las aristas del grafo g. Por ejemplo, \n",
    "--    ghci> aristas ejGrafoD\n",
    "--    [(1,2,12),(1,3,34),(1,5,78),(2,4,55),(2,5,32),(3,4,61),\n",
    "--     (3,5,44),(4,5,93)] \n",
    "--    ghci> aristas ejGrafoND\n",
    "--    [(1,2,12),(1,3,34),(1,5,78),(2,1,12),(2,4,55),(2,5,32),\n",
    "--     (3,1,34),(3,4,61),(3,5,44),(4,2,55),(4,3,61),(4,5,93),\n",
    "--     (5,1,78),(5,2,32),(5,3,44),(5,4,93)]\n",
    "aristas :: (Ix v,Num p, Eq p) => Grafo v p -> [(v,v,p)]\n",
    "aristas g@(G _ e) = [(v1,v2,extrae(e!(v1,v2))) \n",
    "                     | v1 <- nodos g, \n",
    "                       v2 <- nodos g,\n",
    "                       aristaEn g (v1,v2)]\n",
    "  where extrae (Just w) = w"
   ]
  },
  {
   "cell_type": "markdown",
   "metadata": {},
   "source": [
    "+ Ejemplos"
   ]
  },
  {
   "cell_type": "code",
   "execution_count": 21,
   "metadata": {},
   "outputs": [
    {
     "data": {
      "text/plain": [
       "G ND (array ((1,1),(5,5)) [((1,1),Nothing),((1,2),Just 12),((1,3),Just 34),((1,4),Nothing),((1,5),Just 78),((2,1),Just 12),((2,2),Nothing),((2,3),Nothing),((2,4),Just 55),((2,5),Just 32),((3,1),Just 34),((3,2),Nothing),((3,3),Nothing),((3,4),Just 61),((3,5),Just 44),((4,1),Nothing),((4,2),Just 55),((4,3),Just 61),((4,4),Nothing),((4,5),Just 93),((5,1),Just 78),((5,2),Just 32),((5,3),Just 44),((5,4),Just 93),((5,5),Nothing)])"
      ]
     },
     "metadata": {},
     "output_type": "display_data"
    }
   ],
   "source": [
    "ejGrafoND :: Grafo Int Int\n",
    "ejGrafoND = creaGrafo ND (1,5) [(1,2,12),(1,3,34),(1,5,78),\n",
    "                                (2,4,55),(2,5,32),\n",
    "                                (3,4,61),(3,5,44),\n",
    "                                (4,5,93)]\n",
    "ejGrafoND                                "
   ]
  },
  {
   "cell_type": "code",
   "execution_count": 22,
   "metadata": {},
   "outputs": [
    {
     "data": {
      "text/plain": [
       "G D (array ((1,1),(5,5)) [((1,1),Nothing),((1,2),Just 12),((1,3),Just 34),((1,4),Nothing),((1,5),Just 78),((2,1),Nothing),((2,2),Nothing),((2,3),Nothing),((2,4),Just 55),((2,5),Just 32),((3,1),Nothing),((3,2),Nothing),((3,3),Nothing),((3,4),Just 61),((3,5),Just 44),((4,1),Nothing),((4,2),Nothing),((4,3),Nothing),((4,4),Nothing),((4,5),Just 93),((5,1),Nothing),((5,2),Nothing),((5,3),Nothing),((5,4),Nothing),((5,5),Nothing)])"
      ]
     },
     "metadata": {},
     "output_type": "display_data"
    }
   ],
   "source": [
    "ejGrafoD :: Grafo Int Int\n",
    "ejGrafoD = creaGrafo D (1,5) [(1,2,12),(1,3,34),(1,5,78),\n",
    "                              (2,4,55),(2,5,32),\n",
    "                              (3,4,61),(3,5,44),\n",
    "                              (4,5,93)]\n",
    "ejGrafoD                              "
   ]
  },
  {
   "cell_type": "code",
   "execution_count": 23,
   "metadata": {},
   "outputs": [
    {
     "data": {
      "text/plain": [
       "True"
      ]
     },
     "metadata": {},
     "output_type": "display_data"
    }
   ],
   "source": [
    "dirigido ejGrafoD   "
   ]
  },
  {
   "cell_type": "code",
   "execution_count": 24,
   "metadata": {},
   "outputs": [
    {
     "data": {
      "text/plain": [
       "False"
      ]
     },
     "metadata": {},
     "output_type": "display_data"
    }
   ],
   "source": [
    "dirigido ejGrafoND  "
   ]
  },
  {
   "cell_type": "code",
   "execution_count": 25,
   "metadata": {},
   "outputs": [
    {
     "data": {
      "text/plain": [
       "[2,3,5]"
      ]
     },
     "metadata": {},
     "output_type": "display_data"
    }
   ],
   "source": [
    "adyacentes ejGrafoND 4  "
   ]
  },
  {
   "cell_type": "code",
   "execution_count": 26,
   "metadata": {},
   "outputs": [
    {
     "data": {
      "text/plain": [
       "[5]"
      ]
     },
     "metadata": {},
     "output_type": "display_data"
    }
   ],
   "source": [
    "adyacentes ejGrafoD  4  "
   ]
  },
  {
   "cell_type": "code",
   "execution_count": 27,
   "metadata": {},
   "outputs": [
    {
     "data": {
      "text/plain": [
       "[1,2,3,4,5]"
      ]
     },
     "metadata": {},
     "output_type": "display_data"
    }
   ],
   "source": [
    "nodos ejGrafoND  "
   ]
  },
  {
   "cell_type": "code",
   "execution_count": 28,
   "metadata": {},
   "outputs": [
    {
     "data": {
      "text/plain": [
       "[1,2,3,4,5]"
      ]
     },
     "metadata": {},
     "output_type": "display_data"
    }
   ],
   "source": [
    "nodos ejGrafoD   "
   ]
  },
  {
   "cell_type": "code",
   "execution_count": 29,
   "metadata": {},
   "outputs": [
    {
     "data": {
      "text/plain": [
       "78"
      ]
     },
     "metadata": {},
     "output_type": "display_data"
    }
   ],
   "source": [
    "peso 1 5 ejGrafoND  "
   ]
  },
  {
   "cell_type": "code",
   "execution_count": 30,
   "metadata": {},
   "outputs": [
    {
     "data": {
      "text/plain": [
       "78"
      ]
     },
     "metadata": {},
     "output_type": "display_data"
    }
   ],
   "source": [
    "peso 1 5 ejGrafoD   "
   ]
  },
  {
   "cell_type": "code",
   "execution_count": 31,
   "metadata": {},
   "outputs": [
    {
     "data": {
      "text/plain": [
       "True"
      ]
     },
     "metadata": {},
     "output_type": "display_data"
    }
   ],
   "source": [
    "aristaEn ejGrafoND (5,1)  "
   ]
  },
  {
   "cell_type": "code",
   "execution_count": 32,
   "metadata": {},
   "outputs": [
    {
     "data": {
      "text/plain": [
       "False"
      ]
     },
     "metadata": {},
     "output_type": "display_data"
    }
   ],
   "source": [
    "aristaEn ejGrafoND (4,1)  "
   ]
  },
  {
   "cell_type": "code",
   "execution_count": 33,
   "metadata": {},
   "outputs": [
    {
     "data": {
      "text/plain": [
       "False"
      ]
     },
     "metadata": {},
     "output_type": "display_data"
    }
   ],
   "source": [
    "aristaEn ejGrafoD  (5,1)  "
   ]
  },
  {
   "cell_type": "code",
   "execution_count": 34,
   "metadata": {},
   "outputs": [
    {
     "data": {
      "text/plain": [
       "True"
      ]
     },
     "metadata": {},
     "output_type": "display_data"
    }
   ],
   "source": [
    "aristaEn ejGrafoD  (1,5)  "
   ]
  },
  {
   "cell_type": "code",
   "execution_count": 35,
   "metadata": {},
   "outputs": [
    {
     "data": {
      "text/plain": [
       "[(1,2,12),(1,3,34),(1,5,78),(2,1,12),(2,4,55),(2,5,32),(3,1,34),(3,4,61),(3,5,44),(4,2,55),(4,3,61),(4,5,93),(5,1,78),(5,2,32),(5,3,44),(5,4,93)]"
      ]
     },
     "metadata": {},
     "output_type": "display_data"
    }
   ],
   "source": [
    "aristas ejGrafoND"
   ]
  },
  {
   "cell_type": "code",
   "execution_count": 36,
   "metadata": {},
   "outputs": [
    {
     "data": {
      "text/plain": [
       "[(1,2,12),(1,3,34),(1,5,78),(2,4,55),(2,5,32),(3,4,61),(3,5,44),(4,5,93)]"
      ]
     },
     "metadata": {},
     "output_type": "display_data"
    }
   ],
   "source": [
    "aristas ejGrafoD"
   ]
  },
  {
   "cell_type": "markdown",
   "metadata": {},
   "source": [
    "+ Eliminación del módulo"
   ]
  },
  {
   "cell_type": "code",
   "execution_count": 37,
   "metadata": {},
   "outputs": [],
   "source": [
    ":m - GrafoConMatrizDeAdyacencia"
   ]
  },
  {
   "cell_type": "markdown",
   "metadata": {},
   "source": [
    "# Recorridos en profundidad y en anchura"
   ]
  },
  {
   "cell_type": "markdown",
   "metadata": {},
   "source": [
    "## Recorrido en profundidad"
   ]
  },
  {
   "cell_type": "code",
   "execution_count": 38,
   "metadata": {},
   "outputs": [],
   "source": [
    "module RecorridoEnProfundidad where\n",
    "\n",
    "-- ---------------------------------------------------------------------\n",
    "-- Librerías auxiliares                                               --\n",
    "-- ---------------------------------------------------------------------\n",
    "\n",
    "-- Nota: Elegir una implementación de los grafos.\n",
    "import GrafoConVectorDeAdyacencia\n",
    "-- import GrafoConMatrizDeAdyacencia\n",
    "\n",
    "import Data.Ix\n",
    "\n",
    "-- ---------------------------------------------------------------------\n",
    "-- Ejemplo de grafo                                                   --\n",
    "-- ---------------------------------------------------------------------\n",
    "\n",
    "-- g es el grafo\n",
    "--    +---> 2 <---+\n",
    "--    |           |\n",
    "--    |           |\n",
    "--    1 --> 3 --> 6 --> 5\n",
    "--    |                 |\n",
    "--    |                 |\n",
    "--    +---> 4 <---------+\n",
    "\n",
    "ejG :: Grafo Integer Integer\n",
    "ejG = creaGrafo D (1,6) \n",
    "                  [(1,2,0),(1,3,0),(1,4,0),(3,6,0),(5,4,0),(6,2,0),(6,5,0)]\n",
    "\n",
    "-- ---------------------------------------------------------------------\n",
    "-- Recorrido en profundidad                                            --\n",
    "-- ---------------------------------------------------------------------\n",
    "\n",
    "-- (recorridoEnProfundidad i g) es el recorrido en profundidad del grafo g\n",
    "-- desde el vértice i. Por ejemplo,\n",
    "--    recorridoEnProfundidad 1 ejG  ==  [1,2,3,6,5,4]\n",
    "recorridoEnProfundidad :: (Num p, Ix v) => v -> Grafo v p -> [v]\n",
    "recorridoEnProfundidad i g = rp [i] []\n",
    "  where \n",
    "    rp [] vis    = vis\n",
    "    rp (c:cs) vis \n",
    "        | c `elem` vis = rp cs vis\n",
    "        | otherwise    = rp (adyacentes g c ++ cs) (vis ++ [c])\n",
    "\n",
    "-- Traza del cálculo de (recorridoEnProfundidad 1 ejG)\n",
    "--    recorridoEnProfundidad 1 ejG\n",
    "--    = rp [1]     []\n",
    "--    = rp [2,3,4] [1]\n",
    "--    = rp [3,4]   [1,2]\n",
    "--    = rp [6,4]   [1,2,3]\n",
    "--    = rp [2,5,4] [1,2,3,6]\n",
    "--    = rp [5,4]   [1,2,3,6]\n",
    "--    = rp [4,4]   [1,2,3,6,5]\n",
    "--    = rp [4]     [1,2,3,6,5,4]\n",
    "--    = rp []      [1,2,3,6,5,4]\n",
    "--    = [1,2,3,6,5,4]\n",
    "\n",
    "-- ---------------------------------------------------------------------\n",
    "-- Recorrido en profundidad con acumuladores                           --\n",
    "-- ---------------------------------------------------------------------\n",
    "\n",
    "-- (recorridoEnProfundidad' i g) es el recorrido en profundidad del\n",
    "-- grafo g desde el vértice i, usando la lista de los visitados como\n",
    "-- acumulador. Por ejemplo, \n",
    "--    recorridoEnProfundidad' 1 ejG  ==  [1,2,3,6,5,4]\n",
    "recorridoEnProfundidad' :: (Num p, Ix v) => v -> Grafo v p -> [v]\n",
    "recorridoEnProfundidad' i g = reverse (rp [i] [])\n",
    "  where\n",
    "    rp [] vis     = vis\n",
    "    rp (c:cs) vis \n",
    "        | c `elem` vis = rp cs vis\n",
    "        | otherwise    = rp (adyacentes g c ++ cs) (c:vis)\n",
    "\n",
    "-- Traza del cálculo de (recorridoEnProfundidad' 1 ejG)\n",
    "--    RecorridoEnProfundidad' 1 ejG\n",
    "--    = reverse (rp [1]     [])\n",
    "--    = reverse (rp [2,3,4] [1])\n",
    "--    = reverse (rp [3,4]   [2,1])\n",
    "--    = reverse (rp [6,4]   [3,2,1])\n",
    "--    = reverse (rp [2,5,4] [6,3,2,1])\n",
    "--    = reverse (rp [5,4]   [6,3,2,1])\n",
    "--    = reverse (rp [4,4]   [5,6,3,2,1])\n",
    "--    = reverse (rp [4]     [4,5,6,3,2,1])\n",
    "--    = reverse (rp []      [4,5,6,3,2,1])\n",
    "--    = reverse [4,5,6,3,2,1]\n",
    "--    = [1,2,3,6,5,4]"
   ]
  },
  {
   "cell_type": "code",
   "execution_count": 39,
   "metadata": {},
   "outputs": [
    {
     "data": {
      "text/plain": [
       "[1,2,6,3,5,4]"
      ]
     },
     "metadata": {},
     "output_type": "display_data"
    },
    {
     "data": {
      "text/plain": [
       "[1,2,6,3,5,4]"
      ]
     },
     "metadata": {},
     "output_type": "display_data"
    }
   ],
   "source": [
    "recorridoEnProfundidad  1 ejG \n",
    "recorridoEnProfundidad' 1 ejG"
   ]
  },
  {
   "cell_type": "code",
   "execution_count": 40,
   "metadata": {},
   "outputs": [],
   "source": [
    ":m - RecorridoEnProfundidad "
   ]
  },
  {
   "cell_type": "markdown",
   "metadata": {},
   "source": [
    "## Recorrido en anchura"
   ]
  },
  {
   "cell_type": "code",
   "execution_count": 41,
   "metadata": {},
   "outputs": [],
   "source": [
    "module RecorridoEnAnchura where\n",
    "\n",
    "import Data.Ix\n",
    "\n",
    "-- ---------------------------------------------------------------------\n",
    "-- Librerías auxiliares                                               --\n",
    "-- ---------------------------------------------------------------------\n",
    "\n",
    "-- Nota: Elegir una implementación de los grafos.\n",
    "import GrafoConVectorDeAdyacencia\n",
    "-- import GrafoConMatrizDeAdyacencia\n",
    "\n",
    "-- ---------------------------------------------------------------------\n",
    "-- Ejemplo de grafo                                                   --\n",
    "-- ---------------------------------------------------------------------\n",
    "\n",
    "-- ejG es el grafo\n",
    "--    +---> 2 <---+\n",
    "--    |           |\n",
    "--    |           |\n",
    "--    1 --> 3 --> 6 --> 5\n",
    "--    |                 |\n",
    "--    |                 |\n",
    "--    +---> 4 <---------+\n",
    "ejG :: Grafo Integer Integer\n",
    "ejG = creaGrafo D (1,6) \n",
    "                  [(1,2,0),(1,3,0),(1,4,0),(3,6,0),(5,4,0),(6,2,0),(6,5,0)]\n",
    "\n",
    "-- ---------------------------------------------------------------------\n",
    "-- Recorrido en anchura con colas                                      --\n",
    "-- ---------------------------------------------------------------------\n",
    "\n",
    "-- (recorridoEnAnchura i g) es el recorrido en anchura del grafo g\n",
    "-- desde el vértice i, usando colas. Por ejemplo, \n",
    "--    recorridoEnAnchura 1 ejG  ==  [1,4,3,2,6,5]\n",
    "recorridoEnAnchura :: (Num p, Ix v) => v -> Grafo v p -> [v]\n",
    "recorridoEnAnchura i g = reverse (ra [i] [])\n",
    "  where \n",
    "    ra [] vis    = vis\n",
    "    ra (c:cs) vis \n",
    "        | c `elem` vis = ra cs vis\n",
    "        | otherwise    = ra (cs ++ adyacentes g c) (c:vis)\n",
    "\n",
    "-- Traza del cálculo de (recorridoEnProfundidad 1 ejG)\n",
    "--    RecorridoEnAnchura 1 ejG\n",
    "--    = ra [1]     []\n",
    "--    = ra [2,3,4] [1]\n",
    "--    = ra [3,4]   [2,1]\n",
    "--    = ra [4,6]   [3,2,1]\n",
    "--    = ra [6]     [4,3,2,1]\n",
    "--    = ra [2,5]   [6,4,3,2,1]\n",
    "--    = ra [5]     [6,4,3,2,1]\n",
    "--    = ra [4]     [5,6,4,3,2,1]\n",
    "--    = ra []      [5,6,4,3,2,1]\n",
    "--    = [1,2,3,4,6,5]"
   ]
  },
  {
   "cell_type": "code",
   "execution_count": 42,
   "metadata": {},
   "outputs": [
    {
     "data": {
      "text/plain": [
       "[1,2,3,4,6,5]"
      ]
     },
     "metadata": {},
     "output_type": "display_data"
    }
   ],
   "source": [
    "recorridoEnAnchura 1 ejG "
   ]
  },
  {
   "cell_type": "markdown",
   "metadata": {},
   "source": [
    "# Árboles de expansión mínimos\n",
    "\n",
    "+ Sea G = (V,A) un grafo conexo no orientado en el que cada arista tiene un peso\n",
    "  no negativo. Un *árbol de expansión mínimo* de G es un subgrafo G' = (V,A') que\n",
    "  conecta todos los vértices de G y tal que la suma de sus pesos es mínima.\n",
    "\n",
    "+ *Aplicación:* Si los vértices representan ciudades y el coste de una arista\n",
    "  {a,b} es el construir una carretera de a a b, entonces un árbol de\n",
    "  expansión mínimo representa el modo de enlazar todas las ciudades mediante\n",
    "  una red de carreteras de coste mínimo.\n",
    "\n",
    "+ Terminología de algoritmos voraces: Sea G = (V,A) un grafo y T un\n",
    "  conjunto de aristas de G. \n",
    "  + T es una *solución* si es un grafo de expansión.\n",
    "  + T es *completable* si no tiene ciclos.\n",
    "  + T es *prometedor* si es completable y puede ser completado hasta llegar\n",
    "    a una solución óptima.\n",
    "  + Una arista *toca* un conjunto de vértices B si exactamente uno de sus\n",
    "    extremos pertenece a B.\n",
    "\n",
    "+ *Teorema:* Sea G = (V,A) un grafo conexo no orientado cuyas aristas tienen un\n",
    "  peso asociado. Sea B un subjconjunto propio del conjunto de vértices V y T un\n",
    "  conjunto prometedor de aristas tal que ninguna arista de T toca a B. Sea e\n",
    "  una arista de peso mínimo de entre todas las que tocan a B. Entonces,\n",
    "  (T ∪ {e}) es prometedor."
   ]
  },
  {
   "cell_type": "markdown",
   "metadata": {},
   "source": [
    "## Los algoritmo de Kruskal y de Prim\n",
    "\n",
    "Para los ejemplos se considera el siguiente grafo:\n",
    "\n",
    "```sesion\n",
    "     1       2 \n",
    " 1 ----- 2 ----- 3\n",
    " |      /|      /| \n",
    " |     / |     / | \n",
    " |    /  |    /  | \n",
    "4|   /6  |4  /5  |6\n",
    " |  /    |  /    | \n",
    " | /     | /     | \n",
    " |/      |/      | \n",
    " 4 ----- 5 ----- 6\n",
    "  \\  3   |   8  /\n",
    "   \\     |     /\n",
    "    \\    |    /\n",
    "    4\\   |7  /3\n",
    "      \\  |  /\n",
    "       \\ | / \n",
    "        \\|/\n",
    "         7\n",
    "```\n",
    "\n",
    "+ Aplicación del algoritmo de Kruskal al grafo anterior:\n",
    "\n",
    "```sesion\n",
    "Etapa Arista Componentes conexas\n",
    "0            {1} {2} {3} {4} {5} {6} {7}\n",
    "1     {1,2}  {1,2} {3} {4} {5} {6} {7}\n",
    "2     {2,3}  {1,2,3} {4} {5} {6} {7}\n",
    "3     {4,5}  {1,2,3} {4,5} {6} {7}\n",
    "4     {6,7}  {1,2,3} {4,5} {6,7}\n",
    "5     {1,4}  {1,2,3,4,5} {6,7}\n",
    "6     {2,5}  arista rechazada\n",
    "7     {4,7}  {1,2,3,4,5,6,7}\n",
    "```\n",
    "\n",
    "+ El árbol de expansión mínimo contiene las aristas no rechazadas:\n",
    "\n",
    "```sesion\n",
    "{1,2}, {2,3}, {4,5}, {6,7}, {1,4} y {4,7}.                                 \n",
    "```"
   ]
  },
  {
   "cell_type": "markdown",
   "metadata": {},
   "source": [
    "+ Para los algoritmos se usan los TAD de grafo y de tablas. La librería con todos los TAD estudiados es [I1M](http://hackage.haskell.org/package/I1M-0.0.2)"
   ]
  },
  {
   "cell_type": "markdown",
   "metadata": {},
   "source": [
    "* El módulo con los algoritmos de Kruskal y de Prim "
   ]
  },
  {
   "cell_type": "code",
   "execution_count": 1,
   "metadata": {},
   "outputs": [
    {
     "data": {
      "text/html": [
       "<style>/* Styles used for the Hoogle display in the pager */\n",
       ".hoogle-doc {\n",
       "display: block;\n",
       "padding-bottom: 1.3em;\n",
       "padding-left: 0.4em;\n",
       "}\n",
       ".hoogle-code {\n",
       "display: block;\n",
       "font-family: monospace;\n",
       "white-space: pre;\n",
       "}\n",
       ".hoogle-text {\n",
       "display: block;\n",
       "}\n",
       ".hoogle-name {\n",
       "color: green;\n",
       "font-weight: bold;\n",
       "}\n",
       ".hoogle-head {\n",
       "font-weight: bold;\n",
       "}\n",
       ".hoogle-sub {\n",
       "display: block;\n",
       "margin-left: 0.4em;\n",
       "}\n",
       ".hoogle-package {\n",
       "font-weight: bold;\n",
       "font-style: italic;\n",
       "}\n",
       ".hoogle-module {\n",
       "font-weight: bold;\n",
       "}\n",
       ".hoogle-class {\n",
       "font-weight: bold;\n",
       "}\n",
       ".get-type {\n",
       "color: green;\n",
       "font-weight: bold;\n",
       "font-family: monospace;\n",
       "display: block;\n",
       "white-space: pre-wrap;\n",
       "}\n",
       ".show-type {\n",
       "color: green;\n",
       "font-weight: bold;\n",
       "font-family: monospace;\n",
       "margin-left: 1em;\n",
       "}\n",
       ".mono {\n",
       "font-family: monospace;\n",
       "display: block;\n",
       "}\n",
       ".err-msg {\n",
       "color: red;\n",
       "font-style: italic;\n",
       "font-family: monospace;\n",
       "white-space: pre;\n",
       "display: block;\n",
       "}\n",
       "#unshowable {\n",
       "color: red;\n",
       "font-weight: bold;\n",
       "}\n",
       ".err-msg.in.collapse {\n",
       "padding-top: 0.7em;\n",
       "}\n",
       ".highlight-code {\n",
       "white-space: pre;\n",
       "font-family: monospace;\n",
       "}\n",
       ".suggestion-warning { \n",
       "font-weight: bold;\n",
       "color: rgb(200, 130, 0);\n",
       "}\n",
       ".suggestion-error { \n",
       "font-weight: bold;\n",
       "color: red;\n",
       "}\n",
       ".suggestion-name {\n",
       "font-weight: bold;\n",
       "}\n",
       "</style><div class=\"suggestion-name\" style=\"clear:both;\">Use infix</div><div class=\"suggestion-row\" style=\"float: left;\"><div class=\"suggestion-warning\">Found:</div><div class=\"highlight-code\" id=\"haskell\">elem u t</div></div><div class=\"suggestion-row\" style=\"float: left;\"><div class=\"suggestion-warning\">Why Not:</div><div class=\"highlight-code\" id=\"haskell\">u `elem` t</div></div><div class=\"suggestion-name\" style=\"clear:both;\">Use infix</div><div class=\"suggestion-row\" style=\"float: left;\"><div class=\"suggestion-warning\">Found:</div><div class=\"highlight-code\" id=\"haskell\">elem v r</div></div><div class=\"suggestion-row\" style=\"float: left;\"><div class=\"suggestion-warning\">Why Not:</div><div class=\"highlight-code\" id=\"haskell\">v `elem` r</div></div>"
      ],
      "text/plain": [
       "Line 95: Use infix\n",
       "Found:\n",
       "elem u t\n",
       "Why not:\n",
       "u `elem` tLine 96: Use infix\n",
       "Found:\n",
       "elem v r\n",
       "Why not:\n",
       "v `elem` r"
      ]
     },
     "metadata": {},
     "output_type": "display_data"
    }
   ],
   "source": [
    "module AlgoritmoDeKruskal where\n",
    "\n",
    "-- ---------------------------------------------------------------------\n",
    "-- Importaciones                                                      --\n",
    "-- ---------------------------------------------------------------------\n",
    "\n",
    "import I1M.Grafo\n",
    "import I1M.Tabla\n",
    "\n",
    "import Data.List\n",
    "import Data.Ix\n",
    "\n",
    "-- ---------------------------------------------------------------------\n",
    "-- Ejemplos                                                           --\n",
    "-- ---------------------------------------------------------------------\n",
    "\n",
    "g1 :: Grafo Int Int    \n",
    "g1 = creaGrafo D (1,5) [(1,2,12),(1,3,34),(1,5,78),\n",
    "                        (2,4,55),(2,5,32),\n",
    "                        (3,4,61),(3,5,44),\n",
    "                        (4,5,93)]\n",
    "\n",
    "g2 :: Grafo Int Int    \n",
    "g2 = creaGrafo D (1,5) [(1,2,13),(1,3,11),(1,5,78),\n",
    "                        (2,4,12),(2,5,32),\n",
    "                        (3,4,14),(3,5,44),\n",
    "                        (4,5,93)]\n",
    "\n",
    "-- ---------------------------------------------------------------------\n",
    "-- Algoritmo de Kruskal                                               --\n",
    "-- ---------------------------------------------------------------------\n",
    "\n",
    "-- (kruskal g) es el árbol de expansión mínimo del grafo g calculado\n",
    "-- mediante el algoritmo de Kruskal. Por ejemplo,\n",
    "--    kruskal g1  ==  [(55,2,4),(34,1,3),(32,2,5),(12,1,2)]\n",
    "--    kruskal g2  ==  [(32,2,5),(13,1,2),(12,2,4),(11,1,3)]\n",
    "kruskal :: (Ix v, Num p, Ord p) => Grafo v p -> [(p,v,v)]\n",
    "kruskal g = kruskal' cola                           -- Cola de prioridad\n",
    "                     (tabla [(x,x) | x <- nodos g]) -- Tabla de raices\n",
    "                     []                             -- Árbol de expansión\n",
    "                     (length (nodos g) - 1)         -- Aristas por\n",
    "                                                    -- colocar\n",
    "  where\n",
    "    cola = sort [(p,x,y) | (x,y,p) <- aristas g]\n",
    "    kruskal' ((p,x,y):as) t ae n \n",
    "      | n==0        = ae\n",
    "      | actualizado = kruskal' as t' ((p,x,y):ae) (n-1)\n",
    "      | otherwise   = kruskal' as t  ae           n\n",
    "      where (actualizado,t') = buscaActualiza (x,y) t\n",
    "\n",
    "-- (raiz t n) es la raíz de n en la tabla t. Por ejemplo,\n",
    "--    raiz (tabla [(1,1),(3,1),(4,3),(5,4),(2,6),(6,6)]) 5  == 1\n",
    "--    raiz (tabla [(1,1),(3,1),(4,3),(5,4),(2,6),(6,6)]) 2  == 6\n",
    "raiz:: Eq n => Tabla n n -> n -> n\n",
    "raiz t x | v == x    = v\n",
    "         | otherwise = raiz t v\n",
    "  where v = valor t x\n",
    "\n",
    "-- (buscaActualiza a t) es el par formado por False y la tabla t, si los\n",
    "-- dos vértices de la arista a tienen la misma raíz en t y el par\n",
    "-- formado por True y la tabla obtenida añadiéndole a t la arista\n",
    "-- formada por el vértice de a de mayor raíz y la raíz del vértice de\n",
    "-- a de menor raíz. Por ejemplo,\n",
    "--    ghci> let t = tabla [(1,1),(2,2),(3,1),(4,1)]\n",
    "--    ghci> buscaActualiza (2,3) t\n",
    "--    (True,Tbl [(1,1),(2,1),(3,1),(4,1)])\n",
    "--    ghci> buscaActualiza (3,4) t\n",
    "--    (False,Tbl [(1,1),(2,2),(3,1),(4,1)])\n",
    "buscaActualiza :: (Eq n, Ord n) => (n,n) -> Tabla n n -> (Bool,Tabla n n)\n",
    "buscaActualiza (x,y) t \n",
    "  | x' == y'  = (False, t) \n",
    "  | y' <  x'  = (True, modifica (x,y') t)\n",
    "  | otherwise = (True, modifica (y,x') t)\n",
    "  where x' = raiz t x \n",
    "        y' = raiz t y\n",
    "\n",
    "-- ---------------------------------------------------------------------\n",
    "-- El algoritmo de Prim                                                  --\n",
    "-- ---------------------------------------------------------------------\n",
    "\n",
    "-- (prim g) es el árbol de expansión mínimo del grafo g calculado\n",
    "-- mediante el algoritmo de Prim. Por ejemplo,\n",
    "--    prim g1  ==  [(55,2,4),(34,1,3),(32,2,5),(12,1,2)]\n",
    "--    prim g2  ==  [(32,2,5),(12,2,4),(13,1,2),(11,1,3)]\n",
    "prim :: (Ix v, Num p, Ord p) => Grafo v p -> [(p,v,v)]\n",
    "prim g = prim' [n]              -- Nodos colocados\n",
    "               ns               -- Nodos por colocar \n",
    "               []               -- Árbol de expansión\n",
    "               (aristas g)      -- Aristas del grafo\n",
    "  where\n",
    "    (n:ns) = nodos g\n",
    "    prim' _ [] ae _  = ae\n",
    "    prim' t r  ae as = prim' (v':t) (delete v' r) (e:ae) as\n",
    "      where e@(_,_, v') = minimum [(c,u,v)| (u,v,c) <- as,\n",
    "                                             elem u t, \n",
    "                                             elem v r]"
   ]
  },
  {
   "cell_type": "markdown",
   "metadata": {},
   "source": [
    "+ Ejemplos"
   ]
  },
  {
   "cell_type": "code",
   "execution_count": 2,
   "metadata": {},
   "outputs": [
    {
     "data": {
      "text/plain": [
       "[(55,2,4),(34,1,3),(32,2,5),(12,1,2)]"
      ]
     },
     "metadata": {},
     "output_type": "display_data"
    }
   ],
   "source": [
    "kruskal g1"
   ]
  },
  {
   "cell_type": "code",
   "execution_count": 3,
   "metadata": {},
   "outputs": [
    {
     "data": {
      "text/plain": [
       "[(32,2,5),(13,1,2),(12,2,4),(11,1,3)]"
      ]
     },
     "metadata": {},
     "output_type": "display_data"
    }
   ],
   "source": [
    "kruskal g2"
   ]
  },
  {
   "cell_type": "code",
   "execution_count": 47,
   "metadata": {},
   "outputs": [
    {
     "data": {
      "text/plain": [
       "[(55,2,4),(34,1,3),(32,2,5),(12,1,2)]"
      ]
     },
     "metadata": {},
     "output_type": "display_data"
    }
   ],
   "source": [
    "prim g1"
   ]
  },
  {
   "cell_type": "code",
   "execution_count": 48,
   "metadata": {},
   "outputs": [
    {
     "data": {
      "text/plain": [
       "[(32,2,5),(12,2,4),(13,1,2),(11,1,3)]"
      ]
     },
     "metadata": {},
     "output_type": "display_data"
    }
   ],
   "source": [
    "prim g2"
   ]
  },
  {
   "cell_type": "markdown",
   "metadata": {},
   "source": [
    "> **Nota** Se borran los ficheros de los módulos usados"
   ]
  },
  {
   "cell_type": "code",
   "execution_count": 49,
   "metadata": {},
   "outputs": [
    {
     "data": {
      "text/plain": []
     },
     "metadata": {},
     "output_type": "display_data"
    }
   ],
   "source": [
    ":! rm -f *.hs *.hi *.o *.dyn_*"
   ]
  },
  {
   "cell_type": "markdown",
   "metadata": {},
   "source": [
    "# Bibliografía\n",
    "\n",
    "+ F. Rabhi y G. Lapalme\n",
    "  [Algorithms: A functional programming approach](https://www.iro.umontreal.ca/~lapalme/Algorithms-functional.html)\n",
    "    + Cap. 7. Graph algorithms.\n",
    "+ [Graph algorithms](https://en.wikipedia.org/wiki/List_of_algorithms#Graph_algorithms) en Wikipedia\n",
    "+ [The Stony Brook algorithm repository](http://www3.cs.stonybrook.edu/~algorith/):\n",
    "     + [Graph Problems: polynomial-time problems](http://www3.cs.stonybrook.edu/~algorith/major_section/1.4.shtml).\n",
    "     + [Graph problems: hard problems](http://www3.cs.stonybrook.edu/~algorith/major_section/1.5.shtml)."
   ]
  }
 ],
 "metadata": {
  "kernelspec": {
   "display_name": "Haskell",
   "language": "haskell",
   "name": "haskell"
  },
  "language_info": {
   "codemirror_mode": "ihaskell",
   "file_extension": ".hs",
   "name": "haskell",
   "pygments_lexer": "Haskell",
   "version": "8.6.5"
  }
 },
 "nbformat": 4,
 "nbformat_minor": 4
}
