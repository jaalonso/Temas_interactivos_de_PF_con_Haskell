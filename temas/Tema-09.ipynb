{
 "cells": [
  {
   "cell_type": "markdown",
   "metadata": {},
   "source": [
    "# Tema 9: Declaraciones de tipos y clases\n",
    "\n",
    "[José A. Alonso](https://www.cs.us.es/~jalonso)  \n",
    "[Departamento de Ciencias de la Computación e I.A.](https://www.cs.us.es)  \n",
    "[Universidad de Sevilla](http://www.us.es)  \n",
    "Sevilla, 5 de agosto de 2019"
   ]
  },
  {
   "cell_type": "markdown",
   "metadata": {},
   "source": [
    "> __Notas:__ \n",
    "+ La versión interactiva de este tema se encuentra en [Binder](https://mybinder.org/v2/gh/jaalonso/Temas_interactivos_de_PF_con_Haskell/master?urlpath=lab/tree/temas/Tema-08.ipynb).\n",
    "+ Se desactiva el [corrector estilo de Haskell](https://github.com/gibiansky/IHaskell/wiki#opt-no-lint)."
   ]
  },
  {
   "cell_type": "code",
   "execution_count": 1,
   "metadata": {},
   "outputs": [],
   "source": [
    ":opt no-lint"
   ]
  },
  {
   "cell_type": "markdown",
   "metadata": {},
   "source": [
    "**Librerías auxiliares**\n",
    "\n",
    "+ En este tema se usan las siguientes librerías:"
   ]
  },
  {
   "cell_type": "code",
   "execution_count": 2,
   "metadata": {},
   "outputs": [],
   "source": [
    "import Test.QuickCheck\n",
    "import Data.List (nub)"
   ]
  },
  {
   "cell_type": "markdown",
   "metadata": {},
   "source": [
    "Declaraciones de tipos\n",
    "======================\n",
    "\n",
    "**Declaraciones de tipos como sinónimos**\n",
    "\n",
    "+ Se puede definir un nuevo nombre para un tipo existente mediante una\n",
    "  *declaración de tipo*.\n",
    "\n",
    "+ Ejemplo: Las cadenas son listas de caracteres. \n",
    "\n",
    "```haskell\n",
    "type String = [Char]  \n",
    "```\n",
    "\n",
    "+ El nombre del tipo tiene que empezar por mayúscula.\n",
    "\n",
    "**Declaraciones de tipos nuevos**\n",
    "\n",
    "+ Las declaraciones de tipos pueden usarse para facilitar la lectura de\n",
    "  tipos.\n",
    "\n",
    "+ Las posiciones son pares de enteros."
   ]
  },
  {
   "cell_type": "code",
   "execution_count": 3,
   "metadata": {},
   "outputs": [],
   "source": [
    "type Pos = (Int,Int)"
   ]
  },
  {
   "cell_type": "markdown",
   "metadata": {},
   "source": [
    "+ `origen` es la posición (0,0)."
   ]
  },
  {
   "cell_type": "code",
   "execution_count": 4,
   "metadata": {},
   "outputs": [],
   "source": [
    "origen :: Pos\n",
    "origen = (0,0)"
   ]
  },
  {
   "cell_type": "markdown",
   "metadata": {},
   "source": [
    "+ `(izquierda p)` es la posición a la izquierda de la posición `p`. Por\n",
    "  ejemplo,\n",
    "\n",
    "```sesion\n",
    "izquierda (3,5)  ==  (2,5)  \n",
    "```"
   ]
  },
  {
   "cell_type": "code",
   "execution_count": 5,
   "metadata": {},
   "outputs": [],
   "source": [
    "izquierda :: Pos -> Pos\n",
    "izquierda (x,y) = (x-1,y)  "
   ]
  },
  {
   "cell_type": "code",
   "execution_count": 6,
   "metadata": {},
   "outputs": [
    {
     "data": {
      "text/plain": [
       "(2,5)"
      ]
     },
     "metadata": {},
     "output_type": "display_data"
    }
   ],
   "source": [
    "izquierda (3,5)"
   ]
  },
  {
   "cell_type": "markdown",
   "metadata": {},
   "source": [
    "**Declaraciones de tipos parametrizadas**\n",
    "\n",
    "+ Las declaraciones de tipos pueden tener parámetros. Por ejemplo,  \n",
    "  `Par a` es el tipo de pares de elementos de tipo `a`"
   ]
  },
  {
   "cell_type": "code",
   "execution_count": 7,
   "metadata": {},
   "outputs": [],
   "source": [
    "type Par a = (a,a)  "
   ]
  },
  {
   "cell_type": "markdown",
   "metadata": {},
   "source": [
    "+ `(multiplica p)` es el producto del par de enteros `p`. Por ejemplo,\n",
    "\n",
    "```sesion\n",
    "multiplica (2,5)  ==  10  \n",
    "```"
   ]
  },
  {
   "cell_type": "code",
   "execution_count": 8,
   "metadata": {},
   "outputs": [],
   "source": [
    "multiplica :: Par Int -> Int\n",
    "multiplica (x,y) = x*y"
   ]
  },
  {
   "cell_type": "code",
   "execution_count": 9,
   "metadata": {},
   "outputs": [
    {
     "data": {
      "text/plain": [
       "10"
      ]
     },
     "metadata": {},
     "output_type": "display_data"
    }
   ],
   "source": [
    "multiplica (2,5)"
   ]
  },
  {
   "cell_type": "markdown",
   "metadata": {},
   "source": [
    "+ `(copia x)` es el par formado con dos copias de `x`. Por ejemplo,\n",
    "\n",
    "```sesion\n",
    "copia 5  ==  (5,5)  \n",
    "```"
   ]
  },
  {
   "cell_type": "code",
   "execution_count": 10,
   "metadata": {},
   "outputs": [],
   "source": [
    "copia :: a -> Par a\n",
    "copia x = (x,x)"
   ]
  },
  {
   "cell_type": "code",
   "execution_count": 11,
   "metadata": {},
   "outputs": [
    {
     "data": {
      "text/plain": [
       "(5,5)"
      ]
     },
     "metadata": {},
     "output_type": "display_data"
    }
   ],
   "source": [
    "copia 5"
   ]
  },
  {
   "cell_type": "markdown",
   "metadata": {},
   "source": [
    "**Declaraciones anidadas de tipos**\n",
    "\n",
    "Las declaraciones de tipos pueden anidarse. Por ejemplo,\n",
    "\n",
    "+ Las posiciones son pares de enteros."
   ]
  },
  {
   "cell_type": "code",
   "execution_count": 12,
   "metadata": {},
   "outputs": [],
   "source": [
    "type Pos = (Int,Int)  "
   ]
  },
  {
   "cell_type": "markdown",
   "metadata": {},
   "source": [
    "+ Los movimientos son funciones que va de una posición a otra."
   ]
  },
  {
   "cell_type": "code",
   "execution_count": 13,
   "metadata": {},
   "outputs": [],
   "source": [
    "type Movimiento = Pos -> Pos  "
   ]
  },
  {
   "cell_type": "markdown",
   "metadata": {},
   "source": [
    "+ Las declaraciones de tipo no pueden ser recursivas. Por ejemplo, el siguiente\n",
    "  código es erróneo.\n",
    "+ Al intentar cargarlo da el mensaje de error  "
   ]
  },
  {
   "cell_type": "code",
   "execution_count": 14,
   "metadata": {},
   "outputs": [
    {
     "ename": "",
     "evalue": "",
     "header": "MessageHeader {mhIdentifiers = [\"0f3f601d-cc9e-4b57-9e49-d9eb3e93f465\"], mhParentHeader = Just (MessageHeader {mhIdentifiers = [\"0f3f601d-cc9e-4b57-9e49-d9eb3e93f465\"], mhParentHeader = Nothing, mhMetadata = Metadata (fromList [(\"deletedCells\",Array []),(\"cellId\",String \"426f595b-7809-4813-b946-3ec0c3f6c0d3\")]), mhMessageId = UUID {uuidToString = \"c67f8a9a-e91e-4023-9ce7-1d09bfc3b460\"}, mhSessionId = UUID {uuidToString = \"0f3f601d-cc9e-4b57-9e49-d9eb3e93f465\"}, mhUsername = \"\", mhMsgType = ExecuteRequestMessage}), mhMetadata = Metadata (fromList []), mhMessageId = UUID {uuidToString = \"f5254cc7-f351-483e-ab54-8f52bdfdab2a\"}, mhSessionId = UUID {uuidToString = \"0f3f601d-cc9e-4b57-9e49-d9eb3e93f465\"}, mhUsername = \"\", mhMsgType = ExecuteErrorMessage}",
     "output_type": "error",
     "traceback": [
      "<interactive>:1:1: error: Cycle in type synonym declarations: <interactive>:1:1-26: type Arbol = (Int, [Arbol])"
     ]
    }
   ],
   "source": [
    "type Arbol = (Int,[Arbol])  "
   ]
  },
  {
   "cell_type": "markdown",
   "metadata": {},
   "source": [
    "Definiciones de tipos de datos\n",
    "==============================\n",
    "\n",
    "**Definición de tipos con data**\n",
    "\n",
    "+ En Haskell pueden definirse nuevos tipos mediante `data`.\n",
    "\n",
    "+ El tipo de los booleanos está formado por dos valores para representar lo\n",
    "  falso y lo verdadero.\n",
    "  \n",
    "```  \n",
    "data Bool = False | True \n",
    "```\n",
    "\n",
    "+ El símbolo `|` se lee como \"o\".\n",
    "\n",
    "+ Los valores `False` y `True` se llaman los *constructores* del tipo `Bool`.\n",
    "\n",
    "+ Los nombres de los constructores tienen que empezar por mayúscula.\n",
    "\n",
    "**Uso de los valores de los tipos definidos**\n",
    "\n",
    "+ Los valores de los tipos definidos pueden usarse como los de los\n",
    "  predefinidos.\n",
    "\n",
    "+ Definición del tipo de movimientos:"
   ]
  },
  {
   "cell_type": "code",
   "execution_count": 15,
   "metadata": {},
   "outputs": [],
   "source": [
    "data Mov = Izquierda | Derecha | Arriba | Abajo  "
   ]
  },
  {
   "cell_type": "markdown",
   "metadata": {},
   "source": [
    "+ Uso como argumento: `(movimiento m p)` es la posición obtenida\n",
    "  aplicando el movimiento `m` a la posición `p`. Por ejemplo,\n",
    "\n",
    "```sesion\n",
    "movimiento Arriba (2,5)  == (2,6)\n",
    "```"
   ]
  },
  {
   "cell_type": "code",
   "execution_count": 16,
   "metadata": {},
   "outputs": [],
   "source": [
    "movimiento :: Mov -> Pos -> Pos\n",
    "movimiento Izquierda (x,y) = (x-1,y)\n",
    "movimiento Derecha   (x,y) = (x+1,y)\n",
    "movimiento Arriba    (x,y) = (x,y+1)\n",
    "movimiento Abajo     (x,y) = (x,y-1)"
   ]
  },
  {
   "cell_type": "code",
   "execution_count": 17,
   "metadata": {},
   "outputs": [
    {
     "data": {
      "text/plain": [
       "(2,6)"
      ]
     },
     "metadata": {},
     "output_type": "display_data"
    }
   ],
   "source": [
    "movimiento Arriba (2,5)"
   ]
  },
  {
   "cell_type": "markdown",
   "metadata": {},
   "source": [
    "+ Uso en listas: `(movimientos ms p)` es la posición obtenida aplicando la\n",
    "  lista de movimientos `ms` a la posición `p`. Por ejemplo,\n",
    "\n",
    "```sesion\n",
    "movimientos [Arriba, Izquierda] (2,5)  ==  (1,6)  \n",
    "```"
   ]
  },
  {
   "cell_type": "code",
   "execution_count": 18,
   "metadata": {},
   "outputs": [],
   "source": [
    "movimientos :: [Mov] -> Pos -> Pos\n",
    "movimientos []     p = p\n",
    "movimientos (m:ms) p = movimientos ms (movimiento m p)"
   ]
  },
  {
   "cell_type": "code",
   "execution_count": 19,
   "metadata": {},
   "outputs": [
    {
     "data": {
      "text/plain": [
       "(1,6)"
      ]
     },
     "metadata": {},
     "output_type": "display_data"
    }
   ],
   "source": [
    "movimientos [Arriba, Izquierda] (2,5) "
   ]
  },
  {
   "cell_type": "markdown",
   "metadata": {},
   "source": [
    "+ Uso como valor: `(opuesto m)` es el movimiento opuesto de `m`.\n",
    "\n",
    "```sesion\n",
    "movimiento (opuesto Arriba) (2,5)  == (2,4)\n",
    "```"
   ]
  },
  {
   "cell_type": "code",
   "execution_count": 20,
   "metadata": {},
   "outputs": [],
   "source": [
    "opuesto :: Mov -> Mov\n",
    "opuesto Izquierda = Derecha\n",
    "opuesto Derecha   = Izquierda\n",
    "opuesto Arriba    = Abajo\n",
    "opuesto Abajo     = Arriba"
   ]
  },
  {
   "cell_type": "code",
   "execution_count": 21,
   "metadata": {},
   "outputs": [
    {
     "data": {
      "text/plain": [
       "(2,4)"
      ]
     },
     "metadata": {},
     "output_type": "display_data"
    }
   ],
   "source": [
    "movimiento (opuesto Arriba) (2,5)"
   ]
  },
  {
   "cell_type": "markdown",
   "metadata": {},
   "source": [
    "**Definición de tipo con constructores con parámetros**\n",
    "\n",
    "+ Los constructores en las definiciones de tipos pueden tener parámetros.\n",
    "\n",
    "+ Ejemplo de definición"
   ]
  },
  {
   "cell_type": "code",
   "execution_count": 22,
   "metadata": {},
   "outputs": [],
   "source": [
    "data Figura = Circulo Float | Rect Float Float"
   ]
  },
  {
   "cell_type": "markdown",
   "metadata": {},
   "source": [
    "+ Tipos de los constructores:"
   ]
  },
  {
   "cell_type": "code",
   "execution_count": 23,
   "metadata": {},
   "outputs": [
    {
     "data": {
      "text/html": [
       "<style>/* Styles used for the Hoogle display in the pager */\n",
       ".hoogle-doc {\n",
       "display: block;\n",
       "padding-bottom: 1.3em;\n",
       "padding-left: 0.4em;\n",
       "}\n",
       ".hoogle-code {\n",
       "display: block;\n",
       "font-family: monospace;\n",
       "white-space: pre;\n",
       "}\n",
       ".hoogle-text {\n",
       "display: block;\n",
       "}\n",
       ".hoogle-name {\n",
       "color: green;\n",
       "font-weight: bold;\n",
       "}\n",
       ".hoogle-head {\n",
       "font-weight: bold;\n",
       "}\n",
       ".hoogle-sub {\n",
       "display: block;\n",
       "margin-left: 0.4em;\n",
       "}\n",
       ".hoogle-package {\n",
       "font-weight: bold;\n",
       "font-style: italic;\n",
       "}\n",
       ".hoogle-module {\n",
       "font-weight: bold;\n",
       "}\n",
       ".hoogle-class {\n",
       "font-weight: bold;\n",
       "}\n",
       ".get-type {\n",
       "color: green;\n",
       "font-weight: bold;\n",
       "font-family: monospace;\n",
       "display: block;\n",
       "white-space: pre-wrap;\n",
       "}\n",
       ".show-type {\n",
       "color: green;\n",
       "font-weight: bold;\n",
       "font-family: monospace;\n",
       "margin-left: 1em;\n",
       "}\n",
       ".mono {\n",
       "font-family: monospace;\n",
       "display: block;\n",
       "}\n",
       ".err-msg {\n",
       "color: red;\n",
       "font-style: italic;\n",
       "font-family: monospace;\n",
       "white-space: pre;\n",
       "display: block;\n",
       "}\n",
       "#unshowable {\n",
       "color: red;\n",
       "font-weight: bold;\n",
       "}\n",
       ".err-msg.in.collapse {\n",
       "padding-top: 0.7em;\n",
       "}\n",
       ".highlight-code {\n",
       "white-space: pre;\n",
       "font-family: monospace;\n",
       "}\n",
       ".suggestion-warning { \n",
       "font-weight: bold;\n",
       "color: rgb(200, 130, 0);\n",
       "}\n",
       ".suggestion-error { \n",
       "font-weight: bold;\n",
       "color: red;\n",
       "}\n",
       ".suggestion-name {\n",
       "font-weight: bold;\n",
       "}\n",
       "</style><span class='get-type'>Circulo :: Float -> Figura</span>"
      ],
      "text/plain": [
       "Circulo :: Float -> Figura"
      ]
     },
     "metadata": {},
     "output_type": "display_data"
    }
   ],
   "source": [
    ":type Circulo"
   ]
  },
  {
   "cell_type": "code",
   "execution_count": 24,
   "metadata": {},
   "outputs": [
    {
     "data": {
      "text/html": [
       "<style>/* Styles used for the Hoogle display in the pager */\n",
       ".hoogle-doc {\n",
       "display: block;\n",
       "padding-bottom: 1.3em;\n",
       "padding-left: 0.4em;\n",
       "}\n",
       ".hoogle-code {\n",
       "display: block;\n",
       "font-family: monospace;\n",
       "white-space: pre;\n",
       "}\n",
       ".hoogle-text {\n",
       "display: block;\n",
       "}\n",
       ".hoogle-name {\n",
       "color: green;\n",
       "font-weight: bold;\n",
       "}\n",
       ".hoogle-head {\n",
       "font-weight: bold;\n",
       "}\n",
       ".hoogle-sub {\n",
       "display: block;\n",
       "margin-left: 0.4em;\n",
       "}\n",
       ".hoogle-package {\n",
       "font-weight: bold;\n",
       "font-style: italic;\n",
       "}\n",
       ".hoogle-module {\n",
       "font-weight: bold;\n",
       "}\n",
       ".hoogle-class {\n",
       "font-weight: bold;\n",
       "}\n",
       ".get-type {\n",
       "color: green;\n",
       "font-weight: bold;\n",
       "font-family: monospace;\n",
       "display: block;\n",
       "white-space: pre-wrap;\n",
       "}\n",
       ".show-type {\n",
       "color: green;\n",
       "font-weight: bold;\n",
       "font-family: monospace;\n",
       "margin-left: 1em;\n",
       "}\n",
       ".mono {\n",
       "font-family: monospace;\n",
       "display: block;\n",
       "}\n",
       ".err-msg {\n",
       "color: red;\n",
       "font-style: italic;\n",
       "font-family: monospace;\n",
       "white-space: pre;\n",
       "display: block;\n",
       "}\n",
       "#unshowable {\n",
       "color: red;\n",
       "font-weight: bold;\n",
       "}\n",
       ".err-msg.in.collapse {\n",
       "padding-top: 0.7em;\n",
       "}\n",
       ".highlight-code {\n",
       "white-space: pre;\n",
       "font-family: monospace;\n",
       "}\n",
       ".suggestion-warning { \n",
       "font-weight: bold;\n",
       "color: rgb(200, 130, 0);\n",
       "}\n",
       ".suggestion-error { \n",
       "font-weight: bold;\n",
       "color: red;\n",
       "}\n",
       ".suggestion-name {\n",
       "font-weight: bold;\n",
       "}\n",
       "</style><span class='get-type'>Rect :: Float -> Float -> Figura</span>"
      ],
      "text/plain": [
       "Rect :: Float -> Float -> Figura"
      ]
     },
     "metadata": {},
     "output_type": "display_data"
    }
   ],
   "source": [
    ":type Rect"
   ]
  },
  {
   "cell_type": "markdown",
   "metadata": {},
   "source": [
    "+ Uso del tipo como valor: `(cuadrado n)` es el cuadrado de lado `n`."
   ]
  },
  {
   "cell_type": "code",
   "execution_count": 25,
   "metadata": {},
   "outputs": [],
   "source": [
    "cuadrado :: Float -> Figura\n",
    "cuadrado n = Rect n n"
   ]
  },
  {
   "cell_type": "markdown",
   "metadata": {},
   "source": [
    "+ Uso del tipo como argumento: `(area f)` es el área de la figura `f`. Por\n",
    "  ejemplo,\n",
    "\n",
    "```sesion\n",
    "area (Circulo 1)   ==  3.1415927\n",
    "area (Circulo 2)   ==  12.566371\n",
    "area (Rect 2 5)    ==  10.0\n",
    "area (cuadrado 3)  ==  9.0\n",
    "```"
   ]
  },
  {
   "cell_type": "code",
   "execution_count": 26,
   "metadata": {},
   "outputs": [],
   "source": [
    "area :: Figura -> Float\n",
    "area (Circulo r) = pi*r^2\n",
    "area (Rect x y)  = x*y"
   ]
  },
  {
   "cell_type": "code",
   "execution_count": 27,
   "metadata": {},
   "outputs": [
    {
     "data": {
      "text/plain": [
       "3.1415927"
      ]
     },
     "metadata": {},
     "output_type": "display_data"
    }
   ],
   "source": [
    "area (Circulo 1)   "
   ]
  },
  {
   "cell_type": "code",
   "execution_count": 28,
   "metadata": {},
   "outputs": [
    {
     "data": {
      "text/plain": [
       "12.566371"
      ]
     },
     "metadata": {},
     "output_type": "display_data"
    }
   ],
   "source": [
    "area (Circulo 2)   "
   ]
  },
  {
   "cell_type": "code",
   "execution_count": 29,
   "metadata": {},
   "outputs": [
    {
     "data": {
      "text/plain": [
       "10.0"
      ]
     },
     "metadata": {},
     "output_type": "display_data"
    }
   ],
   "source": [
    "area (Rect 2 5)    "
   ]
  },
  {
   "cell_type": "code",
   "execution_count": 30,
   "metadata": {},
   "outputs": [
    {
     "data": {
      "text/plain": [
       "9.0"
      ]
     },
     "metadata": {},
     "output_type": "display_data"
    }
   ],
   "source": [
    "area (cuadrado 3)  "
   ]
  },
  {
   "cell_type": "markdown",
   "metadata": {},
   "source": [
    "**Definición de tipos con parámetros**\n",
    "\n",
    "+ Los tipos definidos pueden tener parámetros.\n",
    "\n",
    "+ Ejemplo de tipo con parámetro\n",
    "\n",
    "```haskell\n",
    "data Maybe a = Nothing | Just a  \n",
    "```\n",
    "\n",
    "+ `(divisionSegura m n)` es la división de `m` entre `n` si `n` no es cero y\n",
    "  nada en caso contrario. Por ejemplo,\n",
    "\n",
    "```sesion\n",
    "divisionSegura 6 3  ==  Just 2\n",
    "divisionSegura 6 0  ==  Nothing\n",
    "```"
   ]
  },
  {
   "cell_type": "code",
   "execution_count": 31,
   "metadata": {},
   "outputs": [],
   "source": [
    "divisionSegura :: Int -> Int -> Maybe Int\n",
    "divisionSegura _ 0 = Nothing\n",
    "divisionSegura m n = Just (m `div` n)"
   ]
  },
  {
   "cell_type": "code",
   "execution_count": 32,
   "metadata": {},
   "outputs": [
    {
     "data": {
      "text/plain": [
       "Just 2"
      ]
     },
     "metadata": {},
     "output_type": "display_data"
    }
   ],
   "source": [
    "divisionSegura 6 3  "
   ]
  },
  {
   "cell_type": "code",
   "execution_count": 33,
   "metadata": {},
   "outputs": [
    {
     "data": {
      "text/plain": [
       "Nothing"
      ]
     },
     "metadata": {},
     "output_type": "display_data"
    }
   ],
   "source": [
    "divisionSegura 6 0  "
   ]
  },
  {
   "cell_type": "markdown",
   "metadata": {},
   "source": [
    "+ `(headSegura xs)` es la cabeza de `xs` si `xs` es no vacía y nada en caso\n",
    "  contrario. Por ejemplo,\n",
    "\n",
    "```sesion\n",
    "headSegura [2,3,5]  ==  Just 2\n",
    "headSegura []       ==  Nothing\n",
    "```"
   ]
  },
  {
   "cell_type": "code",
   "execution_count": 34,
   "metadata": {},
   "outputs": [],
   "source": [
    "headSegura :: [a] -> Maybe a\n",
    "headSegura [] = Nothing\n",
    "headSegura xs = Just (head xs)"
   ]
  },
  {
   "cell_type": "code",
   "execution_count": 35,
   "metadata": {},
   "outputs": [
    {
     "data": {
      "text/plain": [
       "Just 2"
      ]
     },
     "metadata": {},
     "output_type": "display_data"
    }
   ],
   "source": [
    "headSegura [2,3,5]  "
   ]
  },
  {
   "cell_type": "code",
   "execution_count": 36,
   "metadata": {},
   "outputs": [
    {
     "data": {
      "text/plain": [
       "Nothing"
      ]
     },
     "metadata": {},
     "output_type": "display_data"
    }
   ],
   "source": [
    "headSegura []      "
   ]
  },
  {
   "cell_type": "markdown",
   "metadata": {},
   "source": [
    "Definición de tipos recursivos\n",
    "==============================\n",
    "\n",
    "**Definición de tipos recursivos: Los naturales**\n",
    "\n",
    "+ Los tipos definidos con `data` pueden ser recursivos.\n",
    "\n",
    "+ Los naturales se construyen con el cero y la función sucesor."
   ]
  },
  {
   "cell_type": "code",
   "execution_count": 37,
   "metadata": {},
   "outputs": [],
   "source": [
    "data Nat = Cero | Suc Nat\n",
    "           deriving Show"
   ]
  },
  {
   "cell_type": "markdown",
   "metadata": {},
   "source": [
    "+ Tipos de los constructores:"
   ]
  },
  {
   "cell_type": "code",
   "execution_count": 38,
   "metadata": {},
   "outputs": [
    {
     "data": {
      "text/html": [
       "<style>/* Styles used for the Hoogle display in the pager */\n",
       ".hoogle-doc {\n",
       "display: block;\n",
       "padding-bottom: 1.3em;\n",
       "padding-left: 0.4em;\n",
       "}\n",
       ".hoogle-code {\n",
       "display: block;\n",
       "font-family: monospace;\n",
       "white-space: pre;\n",
       "}\n",
       ".hoogle-text {\n",
       "display: block;\n",
       "}\n",
       ".hoogle-name {\n",
       "color: green;\n",
       "font-weight: bold;\n",
       "}\n",
       ".hoogle-head {\n",
       "font-weight: bold;\n",
       "}\n",
       ".hoogle-sub {\n",
       "display: block;\n",
       "margin-left: 0.4em;\n",
       "}\n",
       ".hoogle-package {\n",
       "font-weight: bold;\n",
       "font-style: italic;\n",
       "}\n",
       ".hoogle-module {\n",
       "font-weight: bold;\n",
       "}\n",
       ".hoogle-class {\n",
       "font-weight: bold;\n",
       "}\n",
       ".get-type {\n",
       "color: green;\n",
       "font-weight: bold;\n",
       "font-family: monospace;\n",
       "display: block;\n",
       "white-space: pre-wrap;\n",
       "}\n",
       ".show-type {\n",
       "color: green;\n",
       "font-weight: bold;\n",
       "font-family: monospace;\n",
       "margin-left: 1em;\n",
       "}\n",
       ".mono {\n",
       "font-family: monospace;\n",
       "display: block;\n",
       "}\n",
       ".err-msg {\n",
       "color: red;\n",
       "font-style: italic;\n",
       "font-family: monospace;\n",
       "white-space: pre;\n",
       "display: block;\n",
       "}\n",
       "#unshowable {\n",
       "color: red;\n",
       "font-weight: bold;\n",
       "}\n",
       ".err-msg.in.collapse {\n",
       "padding-top: 0.7em;\n",
       "}\n",
       ".highlight-code {\n",
       "white-space: pre;\n",
       "font-family: monospace;\n",
       "}\n",
       ".suggestion-warning { \n",
       "font-weight: bold;\n",
       "color: rgb(200, 130, 0);\n",
       "}\n",
       ".suggestion-error { \n",
       "font-weight: bold;\n",
       "color: red;\n",
       "}\n",
       ".suggestion-name {\n",
       "font-weight: bold;\n",
       "}\n",
       "</style><span class='get-type'>Cero :: Nat</span>"
      ],
      "text/plain": [
       "Cero :: Nat"
      ]
     },
     "metadata": {},
     "output_type": "display_data"
    }
   ],
   "source": [
    ":type Cero"
   ]
  },
  {
   "cell_type": "code",
   "execution_count": 39,
   "metadata": {},
   "outputs": [
    {
     "data": {
      "text/html": [
       "<style>/* Styles used for the Hoogle display in the pager */\n",
       ".hoogle-doc {\n",
       "display: block;\n",
       "padding-bottom: 1.3em;\n",
       "padding-left: 0.4em;\n",
       "}\n",
       ".hoogle-code {\n",
       "display: block;\n",
       "font-family: monospace;\n",
       "white-space: pre;\n",
       "}\n",
       ".hoogle-text {\n",
       "display: block;\n",
       "}\n",
       ".hoogle-name {\n",
       "color: green;\n",
       "font-weight: bold;\n",
       "}\n",
       ".hoogle-head {\n",
       "font-weight: bold;\n",
       "}\n",
       ".hoogle-sub {\n",
       "display: block;\n",
       "margin-left: 0.4em;\n",
       "}\n",
       ".hoogle-package {\n",
       "font-weight: bold;\n",
       "font-style: italic;\n",
       "}\n",
       ".hoogle-module {\n",
       "font-weight: bold;\n",
       "}\n",
       ".hoogle-class {\n",
       "font-weight: bold;\n",
       "}\n",
       ".get-type {\n",
       "color: green;\n",
       "font-weight: bold;\n",
       "font-family: monospace;\n",
       "display: block;\n",
       "white-space: pre-wrap;\n",
       "}\n",
       ".show-type {\n",
       "color: green;\n",
       "font-weight: bold;\n",
       "font-family: monospace;\n",
       "margin-left: 1em;\n",
       "}\n",
       ".mono {\n",
       "font-family: monospace;\n",
       "display: block;\n",
       "}\n",
       ".err-msg {\n",
       "color: red;\n",
       "font-style: italic;\n",
       "font-family: monospace;\n",
       "white-space: pre;\n",
       "display: block;\n",
       "}\n",
       "#unshowable {\n",
       "color: red;\n",
       "font-weight: bold;\n",
       "}\n",
       ".err-msg.in.collapse {\n",
       "padding-top: 0.7em;\n",
       "}\n",
       ".highlight-code {\n",
       "white-space: pre;\n",
       "font-family: monospace;\n",
       "}\n",
       ".suggestion-warning { \n",
       "font-weight: bold;\n",
       "color: rgb(200, 130, 0);\n",
       "}\n",
       ".suggestion-error { \n",
       "font-weight: bold;\n",
       "color: red;\n",
       "}\n",
       ".suggestion-name {\n",
       "font-weight: bold;\n",
       "}\n",
       "</style><span class='get-type'>Suc :: Nat -> Nat</span>"
      ],
      "text/plain": [
       "Suc :: Nat -> Nat"
      ]
     },
     "metadata": {},
     "output_type": "display_data"
    }
   ],
   "source": [
    ":type Suc"
   ]
  },
  {
   "cell_type": "markdown",
   "metadata": {},
   "source": [
    "+ Ejemplos de naturales:\n",
    "\n",
    "```sesion\n",
    "Cero\n",
    "Suc Cero\n",
    "Suc (Suc Cero)  \n",
    "Suc (Suc (Suc Cero))\n",
    "```\n",
    "\n",
    "**Definiciones con tipos recursivos**\n",
    "\n",
    "+ `(nat2int n)` es el número entero correspondiente al número natural `n`. Por\n",
    "  ejemplo,\n",
    "\n",
    "```sesion\n",
    "nat2int (Suc (Suc (Suc Cero)))  ==  3\n",
    "```"
   ]
  },
  {
   "cell_type": "code",
   "execution_count": 40,
   "metadata": {},
   "outputs": [],
   "source": [
    "nat2int :: Nat -> Int\n",
    "nat2int Cero    = 0\n",
    "nat2int (Suc n) = 1 + nat2int n"
   ]
  },
  {
   "cell_type": "code",
   "execution_count": 41,
   "metadata": {},
   "outputs": [
    {
     "data": {
      "text/plain": [
       "3"
      ]
     },
     "metadata": {},
     "output_type": "display_data"
    }
   ],
   "source": [
    "nat2int (Suc (Suc (Suc Cero))) "
   ]
  },
  {
   "cell_type": "markdown",
   "metadata": {},
   "source": [
    "+ `(int2nat n)` es el número natural correspondiente al número\n",
    "  entero `n`. Por ejemplo,\n",
    "\n",
    "```sesion\n",
    "int2nat 3  ==  Suc (Suc (Suc Cero))  \n",
    "```"
   ]
  },
  {
   "cell_type": "code",
   "execution_count": 42,
   "metadata": {},
   "outputs": [],
   "source": [
    "int2nat :: Int -> Nat\n",
    "int2nat 0 = Cero\n",
    "int2nat n = Suc (int2nat (n-1))"
   ]
  },
  {
   "cell_type": "code",
   "execution_count": 43,
   "metadata": {},
   "outputs": [
    {
     "data": {
      "text/plain": [
       "Suc (Suc (Suc Cero))"
      ]
     },
     "metadata": {},
     "output_type": "display_data"
    }
   ],
   "source": [
    "int2nat 3 "
   ]
  },
  {
   "cell_type": "markdown",
   "metadata": {},
   "source": [
    "+ `(suma m n)` es la suma de los número naturales `m` y\n",
    "  `n`. Por ejemplo, \n",
    "\n",
    "```sesion\n",
    "ghci> suma (Suc (Suc Cero)) (Suc Cero)  \n",
    "Suc (Suc (Suc Cero))  \n",
    "```"
   ]
  },
  {
   "cell_type": "code",
   "execution_count": 44,
   "metadata": {},
   "outputs": [],
   "source": [
    "suma :: Nat -> Nat -> Nat\n",
    "suma Cero    n = n\n",
    "suma (Suc m) n = Suc (suma m n)"
   ]
  },
  {
   "cell_type": "code",
   "execution_count": 45,
   "metadata": {},
   "outputs": [
    {
     "data": {
      "text/plain": [
       "Suc (Suc (Suc Cero))"
      ]
     },
     "metadata": {},
     "output_type": "display_data"
    }
   ],
   "source": [
    "suma (Suc (Suc Cero)) (Suc Cero)  "
   ]
  },
  {
   "cell_type": "markdown",
   "metadata": {},
   "source": [
    "+ Ejemplo de cálculo:\n",
    "\n",
    "```sesion\n",
    "suma (Suc (Suc Cero)) (Suc Cero)\n",
    "= Suc (suma (Suc Cero) (Suc Cero))  \n",
    "= Suc (Suc (suma Cero (Suc Cero)))  \n",
    "= Suc (Suc (Suc Cero))  \n",
    "```\n",
    "\n",
    "**Tipo recursivo con parámetro: Las listas**\n",
    "\n",
    "+ Definición del tipo lista:"
   ]
  },
  {
   "cell_type": "code",
   "execution_count": 46,
   "metadata": {},
   "outputs": [],
   "source": [
    "data Lista a = Nil | Cons a (Lista a)"
   ]
  },
  {
   "cell_type": "markdown",
   "metadata": {},
   "source": [
    "+ `(longitud xs)` es la longitud de la lista `xs`. Por ejemplo,\n",
    "\n",
    "```sesion\n",
    "longitud (Cons 2 (Cons 3 (Cons 5 Nil)))  ==  3  \n",
    "```"
   ]
  },
  {
   "cell_type": "code",
   "execution_count": 47,
   "metadata": {},
   "outputs": [],
   "source": [
    "longitud :: Lista a -> Int\n",
    "longitud Nil         = 0\n",
    "longitud (Cons _ xs) = 1 + longitud xs"
   ]
  },
  {
   "cell_type": "code",
   "execution_count": 48,
   "metadata": {},
   "outputs": [
    {
     "data": {
      "text/plain": [
       "3"
      ]
     },
     "metadata": {},
     "output_type": "display_data"
    }
   ],
   "source": [
    "longitud (Cons 2 (Cons 3 (Cons 5 Nil)))"
   ]
  },
  {
   "cell_type": "markdown",
   "metadata": {},
   "source": [
    "**Definición de tipos recursivos: Los árboles binarios**\n",
    "\n",
    "+ Ejemplo de árbol binario:\n",
    "\n",
    "```sesion\n",
    "     5 \n",
    "    / \\\n",
    "   /   \\\n",
    "  3     7\n",
    " / \\   / \\  \n",
    "1   4 6   9  \n",
    "```\n",
    "\n",
    "+ Definición del tipo de árboles binarios:"
   ]
  },
  {
   "cell_type": "code",
   "execution_count": 49,
   "metadata": {},
   "outputs": [],
   "source": [
    "data Arbol = Hoja Int | Nodo Arbol Int Arbol"
   ]
  },
  {
   "cell_type": "markdown",
   "metadata": {},
   "source": [
    "+ Representación del ejemplo"
   ]
  },
  {
   "cell_type": "code",
   "execution_count": 50,
   "metadata": {},
   "outputs": [],
   "source": [
    "ejArbol = Nodo (Nodo (Hoja 1) 3 (Hoja 4)) \n",
    "               5 \n",
    "               (Nodo (Hoja 6) 7 (Hoja 9))"
   ]
  },
  {
   "cell_type": "markdown",
   "metadata": {},
   "source": [
    "**Definiciones sobre árboles binarios**\n",
    "\n",
    "+ `(ocurre m a)` se verifica si `m` ocurre en el árbol `a`. Por ejemplo,\n",
    "\n",
    "```sesion\n",
    "ocurre 4  ejArbol  ==  True\n",
    "ocurre 10 ejArbol  ==  False\n",
    "```"
   ]
  },
  {
   "cell_type": "code",
   "execution_count": 51,
   "metadata": {},
   "outputs": [],
   "source": [
    "ocurre :: Int -> Arbol -> Bool\n",
    "ocurre m (Hoja n)     = m == n\n",
    "ocurre m (Nodo i n d) = m == n || ocurre m i || ocurre m d"
   ]
  },
  {
   "cell_type": "code",
   "execution_count": 52,
   "metadata": {},
   "outputs": [
    {
     "data": {
      "text/plain": [
       "True"
      ]
     },
     "metadata": {},
     "output_type": "display_data"
    }
   ],
   "source": [
    "ocurre 4  ejArbol  "
   ]
  },
  {
   "cell_type": "code",
   "execution_count": 53,
   "metadata": {},
   "outputs": [
    {
     "data": {
      "text/plain": [
       "False"
      ]
     },
     "metadata": {},
     "output_type": "display_data"
    }
   ],
   "source": [
    "ocurre 10 ejArbol"
   ]
  },
  {
   "cell_type": "markdown",
   "metadata": {},
   "source": [
    "+ `(aplana a)` es la lista obtenida aplanando el árbol `a`. Por ejemplo,  \n",
    "\n",
    "```sesion\n",
    "aplana ejArbol  ==  [1,3,4,5,6,7,9]  \n",
    "```"
   ]
  },
  {
   "cell_type": "code",
   "execution_count": 54,
   "metadata": {},
   "outputs": [],
   "source": [
    "aplana :: Arbol -> [Int]\n",
    "aplana (Hoja n)     = [n]\n",
    "aplana (Nodo i n d) = aplana i ++ [n] ++ aplana d"
   ]
  },
  {
   "cell_type": "code",
   "execution_count": 55,
   "metadata": {},
   "outputs": [
    {
     "data": {
      "text/plain": [
       "[1,3,4,5,6,7,9]"
      ]
     },
     "metadata": {},
     "output_type": "display_data"
    }
   ],
   "source": [
    "aplana ejArbol"
   ]
  },
  {
   "cell_type": "markdown",
   "metadata": {},
   "source": [
    "**Definiciones sobre árboles binarios**\n",
    "\n",
    "+ Un árbol es ordenado si el valor de cada nodo es mayor que los de su subárbol\n",
    "  izquierdo y menor que los de su subárbol derecho.\n",
    "\n",
    "+ El árbol del ejemplo es ordenado.\n",
    "\n",
    "+ `(ocurreEnArbolOrdenado m a)` se verifica si `m` ocurre en el árbol ordenado\n",
    "  `a`. Por ejemplo,\n",
    "\n",
    "```sesion\n",
    "ocurreEnArbolOrdenado 4  ejArbol  ==  True\n",
    "ocurreEnArbolOrdenado 10 ejArbol  ==  False\n",
    "```"
   ]
  },
  {
   "cell_type": "code",
   "execution_count": 56,
   "metadata": {},
   "outputs": [],
   "source": [
    "ocurreEnArbolOrdenado :: Int -> Arbol -> Bool\n",
    "ocurreEnArbolOrdenado m (Hoja n)  =  m == n\n",
    "ocurreEnArbolOrdenado m (Nodo i n d)\n",
    "     | m == n      =  True\n",
    "     | m < n       =  ocurreEnArbolOrdenado m i\n",
    "     | otherwise   =  ocurreEnArbolOrdenado m d"
   ]
  },
  {
   "cell_type": "code",
   "execution_count": 57,
   "metadata": {},
   "outputs": [
    {
     "data": {
      "text/plain": [
       "True"
      ]
     },
     "metadata": {},
     "output_type": "display_data"
    }
   ],
   "source": [
    "ocurreEnArbolOrdenado 4  ejArbol  "
   ]
  },
  {
   "cell_type": "code",
   "execution_count": 58,
   "metadata": {},
   "outputs": [
    {
     "data": {
      "text/plain": [
       "False"
      ]
     },
     "metadata": {},
     "output_type": "display_data"
    }
   ],
   "source": [
    "ocurreEnArbolOrdenado 10 ejArbol"
   ]
  },
  {
   "cell_type": "markdown",
   "metadata": {},
   "source": [
    "**Definiciones de distintos tipos de árboles**\n",
    "\n",
    "+ Árboles binarios con valores en las hojas:\n",
    "\n",
    "```haskell\n",
    "data Arbol a = Hoja a | Nodo (Arbol a) (Arbol a)  \n",
    "```\n",
    "\n",
    "+ Árboles binarios con valores en los nodos:\n",
    "\n",
    "```haskell\n",
    "data Arbol a = Hoja | Nodo (Arbol a) a (Arbol a)\n",
    "```\n",
    "\n",
    "+ Árboles binarios con valores en las hojas y en los nodos:\n",
    "\n",
    "```haskell\n",
    "data Arbol a b = Hoja a | Nodo (Arbol a b) b (Arbol a b)  \n",
    "```\n",
    "\n",
    "+ Árboles con un número variable de sucesores:\n",
    "\n",
    "```haskell\n",
    "data Arbol a = Nodo a [Arbol a]  \n",
    "```"
   ]
  },
  {
   "cell_type": "markdown",
   "metadata": {},
   "source": [
    "Sistema de decisión de tautologías\n",
    "==================================\n",
    "\n",
    "**Sintaxis de la lógica proposicional**\n",
    "\n",
    "+ Definición de fórmula proposicional:\n",
    "    + Las variables proposicionales son fórmulas.\n",
    "    + Si $F$ es una fórmula, entonces $\\neg F$ también lo es.\n",
    "    + Si $F$ y $G$ son fórmulas, entonces $F \\land G$ y $F \\to G$ también\n",
    "      lo son.\n",
    "\n",
    "+ Tipo de dato de fórmulas proposicionales:"
   ]
  },
  {
   "cell_type": "code",
   "execution_count": 59,
   "metadata": {},
   "outputs": [],
   "source": [
    "data FProp = Const Bool\n",
    "           | Var Char\n",
    "           | Neg FProp\n",
    "           | Conj FProp FProp\n",
    "           | Impl FProp FProp\n",
    "           deriving Show"
   ]
  },
  {
   "cell_type": "markdown",
   "metadata": {},
   "source": [
    "+ Ejemplos de fórmulas proposicionales:\n",
    "    + A ∧ ¬A\n",
    "    + (A ∧ B) → A\n",
    "    + A → (A ∧ B)\n",
    "    + (A → (A → B)) → B"
   ]
  },
  {
   "cell_type": "code",
   "execution_count": 60,
   "metadata": {},
   "outputs": [],
   "source": [
    "p1, p2, p3, p4 :: FProp\n",
    "p1 = Conj (Var 'A') (Neg (Var 'A'))\n",
    "p2 = Impl (Conj (Var 'A') (Var 'B')) (Var 'A')\n",
    "p3 = Impl (Var 'A') (Conj (Var 'A') (Var 'B'))\n",
    "p4 = Impl (Conj (Var 'A') (Impl (Var 'A') (Var 'B'))) \n",
    "          (Var 'B')"
   ]
  },
  {
   "cell_type": "markdown",
   "metadata": {},
   "source": [
    "**Semántica de la lógica proposicional**\n",
    "\n",
    "+ Tabla de verdad de la negación:\n",
    "\n",
    " | i | ¬i |\n",
    " |---|----|\n",
    " | T | F  |\n",
    " | F | T  |\n",
    "\n",
    "+ Tablas de verdad de la conjunción y el condicional:\n",
    "\n",
    " | i | j | i ∧ j | i → j |\n",
    " |---|---|-------|-------|\n",
    " | T | T | T     | T     | \n",
    " | T | F | F     | F     |\n",
    " | F | T | F     | T     |\n",
    " | F | F | F     | T     |\n",
    "\n",
    "+ Tabla de verdad para (A → B) ∨ (B → A):\n",
    "\n",
    " | A | B | A → B | B → A | (A → B) ∨ (B → A) |\n",
    " |---|---|-------|-------|-------------------|\n",
    " | T | T | T     | T     | T                 |\n",
    " | T | F | F     | T     | T                 |\n",
    " | F | T | T     | F     | T                 |\n",
    " | F | F | T     | T     | T                 |\n",
    "\n",
    "+ Las interpretaciones son listas formadas por el nombre de una variable\n",
    "  proposicional y un valor de verdad."
   ]
  },
  {
   "cell_type": "code",
   "execution_count": 61,
   "metadata": {},
   "outputs": [],
   "source": [
    "type Interpretacion = [(Char, Bool)]"
   ]
  },
  {
   "cell_type": "markdown",
   "metadata": {},
   "source": [
    "+ `(busca c t)` es el valor del primer elemento de la lista de asociación `t`\n",
    "  cuya clave es `c`. Por ejemplo,\n",
    "\n",
    "```sesion\n",
    "busca 2 [(1,'a'),(3,'d'),(2,'c')]  ==  'c'  \n",
    "```"
   ]
  },
  {
   "cell_type": "code",
   "execution_count": 62,
   "metadata": {},
   "outputs": [],
   "source": [
    "busca :: Eq c => c -> [(c,v)] -> v\n",
    "busca c t = head [v | (c',v) <- t, c == c']"
   ]
  },
  {
   "cell_type": "code",
   "execution_count": 63,
   "metadata": {},
   "outputs": [
    {
     "data": {
      "text/plain": [
       "'c'"
      ]
     },
     "metadata": {},
     "output_type": "display_data"
    }
   ],
   "source": [
    "busca 2 [(1,'a'),(3,'d'),(2,'c')]"
   ]
  },
  {
   "cell_type": "markdown",
   "metadata": {},
   "source": [
    "+ `(valor i p)` es el valor de la fórmula `p` en la interpretación `i`. Por\n",
    "    ejemplo,\n",
    "\n",
    "```sesion\n",
    "valor [('A',False),('B',True)] p3  ==  True\n",
    "valor [('A',True),('B',False)] p3  ==  False\n",
    "```"
   ]
  },
  {
   "cell_type": "code",
   "execution_count": 64,
   "metadata": {},
   "outputs": [],
   "source": [
    "valor :: Interpretacion -> FProp -> Bool\n",
    "valor _ (Const b)  = b\n",
    "valor i (Var x)    = busca x i\n",
    "valor i (Neg p)    = not (valor i p)\n",
    "valor i (Conj p q) = valor i p && valor i q\n",
    "valor i (Impl p q) = valor i p <= valor i q"
   ]
  },
  {
   "cell_type": "code",
   "execution_count": 65,
   "metadata": {},
   "outputs": [
    {
     "data": {
      "text/plain": [
       "True"
      ]
     },
     "metadata": {},
     "output_type": "display_data"
    }
   ],
   "source": [
    "valor [('A',False),('B',True)] p3  "
   ]
  },
  {
   "cell_type": "code",
   "execution_count": 66,
   "metadata": {},
   "outputs": [
    {
     "data": {
      "text/plain": [
       "False"
      ]
     },
     "metadata": {},
     "output_type": "display_data"
    }
   ],
   "source": [
    "valor [('A',True),('B',False)] p3"
   ]
  },
  {
   "cell_type": "markdown",
   "metadata": {},
   "source": [
    "+ `(variables p)` es la lista de los nombres de las variables de `p`.\n",
    "\n",
    "```sesion\n",
    "variables p3  ==  \"AAB\"\n",
    "```"
   ]
  },
  {
   "cell_type": "code",
   "execution_count": 67,
   "metadata": {},
   "outputs": [],
   "source": [
    "variables :: FProp -> [Char]\n",
    "variables (Const _)  = []\n",
    "variables (Var x)    = [x]\n",
    "variables (Neg p)    = variables p\n",
    "variables (Conj p q) = variables p ++ variables q\n",
    "variables (Impl p q) = variables p ++ variables q"
   ]
  },
  {
   "cell_type": "code",
   "execution_count": 68,
   "metadata": {},
   "outputs": [
    {
     "data": {
      "text/plain": [
       "\"AAB\""
      ]
     },
     "metadata": {},
     "output_type": "display_data"
    }
   ],
   "source": [
    "variables p3"
   ]
  },
  {
   "cell_type": "markdown",
   "metadata": {},
   "source": [
    "+ `(interpretacionesVar n)` es la lista de las interpretaciones con `n`\n",
    "  variables. Por ejemplo,\n",
    "\n",
    "```sesion\n",
    "ghci> interpretacionesVar 2\n",
    "[[False,False],\n",
    " [False,True],\n",
    " [True,False],\n",
    " [True,True]]\n",
    "```"
   ]
  },
  {
   "cell_type": "code",
   "execution_count": 69,
   "metadata": {},
   "outputs": [],
   "source": [
    "interpretacionesVar :: Int -> [[Bool]]\n",
    "interpretacionesVar 0 = [[]]\n",
    "interpretacionesVar n = \n",
    "    map (False:) bss ++ map (True:) bss\n",
    "    where bss = interpretacionesVar (n-1)"
   ]
  },
  {
   "cell_type": "code",
   "execution_count": 70,
   "metadata": {},
   "outputs": [
    {
     "data": {
      "text/plain": [
       "[[False,False],[False,True],[True,False],[True,True]]"
      ]
     },
     "metadata": {},
     "output_type": "display_data"
    }
   ],
   "source": [
    "interpretacionesVar 2"
   ]
  },
  {
   "cell_type": "markdown",
   "metadata": {},
   "source": [
    "+ `(interpretaciones p)` es la lista de las interpretaciones de la fórmula\n",
    "  `p`. Por ejemplo,\n",
    "\n",
    "```sesion\n",
    "ghci> interpretaciones p3\n",
    "[[('A',False),('B',False)],\n",
    " [('A',False),('B',True)],\n",
    " [('A',True),('B',False)],\n",
    " [('A',True),('B',True)]]\n",
    "```"
   ]
  },
  {
   "cell_type": "code",
   "execution_count": 71,
   "metadata": {},
   "outputs": [],
   "source": [
    "interpretaciones :: FProp -> [Interpretacion]\n",
    "interpretaciones p =  \n",
    "    [zip vs i | i <- interpretacionesVar (length vs)]\n",
    "    where vs = nub (variables p)"
   ]
  },
  {
   "cell_type": "code",
   "execution_count": 72,
   "metadata": {},
   "outputs": [
    {
     "data": {
      "text/plain": [
       "[[('A',False),('B',False)],[('A',False),('B',True)],[('A',True),('B',False)],[('A',True),('B',True)]]"
      ]
     },
     "metadata": {},
     "output_type": "display_data"
    }
   ],
   "source": [
    "interpretaciones p3"
   ]
  },
  {
   "cell_type": "code",
   "execution_count": 73,
   "metadata": {},
   "outputs": [
    {
     "data": {
      "text/plain": [
       "[('A',False),('B',False)]\n",
       "[('A',False),('B',True)]\n",
       "[('A',True),('B',False)]\n",
       "[('A',True),('B',True)]"
      ]
     },
     "metadata": {},
     "output_type": "display_data"
    }
   ],
   "source": [
    "mapM_ print (interpretaciones p3)"
   ]
  },
  {
   "cell_type": "markdown",
   "metadata": {},
   "source": [
    "**Decisión de tautología**\n",
    "\n",
    "+ `(esTautologia p)` se verifica si la fórmula `p` es una tautología. Por\n",
    "  ejemplo,\n",
    "\n",
    "```sesion\n",
    "esTautologia p1  ==  False\n",
    "esTautologia p2  ==  True\n",
    "esTautologia p3  ==  False\n",
    "esTautologia p4  ==  True\n",
    "```"
   ]
  },
  {
   "cell_type": "code",
   "execution_count": 74,
   "metadata": {},
   "outputs": [],
   "source": [
    "esTautologia :: FProp -> Bool\n",
    "esTautologia p = \n",
    "    and [valor i p | i <- interpretaciones p]"
   ]
  },
  {
   "cell_type": "code",
   "execution_count": 75,
   "metadata": {},
   "outputs": [
    {
     "data": {
      "text/plain": [
       "False"
      ]
     },
     "metadata": {},
     "output_type": "display_data"
    }
   ],
   "source": [
    "esTautologia p1  "
   ]
  },
  {
   "cell_type": "code",
   "execution_count": 76,
   "metadata": {},
   "outputs": [
    {
     "data": {
      "text/plain": [
       "True"
      ]
     },
     "metadata": {},
     "output_type": "display_data"
    }
   ],
   "source": [
    "esTautologia p2  "
   ]
  },
  {
   "cell_type": "code",
   "execution_count": 77,
   "metadata": {},
   "outputs": [
    {
     "data": {
      "text/plain": [
       "False"
      ]
     },
     "metadata": {},
     "output_type": "display_data"
    }
   ],
   "source": [
    "esTautologia p3  "
   ]
  },
  {
   "cell_type": "code",
   "execution_count": 78,
   "metadata": {},
   "outputs": [
    {
     "data": {
      "text/plain": [
       "True"
      ]
     },
     "metadata": {},
     "output_type": "display_data"
    }
   ],
   "source": [
    "esTautologia p4  "
   ]
  },
  {
   "cell_type": "markdown",
   "metadata": {},
   "source": [
    "Máquina abstracta de cálculo aritmético\n",
    "=======================================\n",
    "\n",
    "**Evaluación de expresiones aritméticas**\n",
    "\n",
    "+ Una expresión aritmética es un número entero o la suma de dos expresiones."
   ]
  },
  {
   "cell_type": "code",
   "execution_count": 79,
   "metadata": {},
   "outputs": [],
   "source": [
    "data Expr =  Num Int | Suma Expr Expr  "
   ]
  },
  {
   "cell_type": "markdown",
   "metadata": {},
   "source": [
    "+ `(valorEA x)` es el valor de la expresión aritmética `x`.\n",
    "\n",
    "```sesion\n",
    "valorEA (Suma (Suma (Num 2) (Num 3)) (Num 4))  ==  9  \n",
    "```"
   ]
  },
  {
   "cell_type": "code",
   "execution_count": 80,
   "metadata": {},
   "outputs": [],
   "source": [
    "valorEA :: Expr -> Int\n",
    "valorEA (Num n)    = n\n",
    "valorEA (Suma x y) = valorEA x + valorEA y"
   ]
  },
  {
   "cell_type": "code",
   "execution_count": 81,
   "metadata": {},
   "outputs": [
    {
     "data": {
      "text/plain": [
       "9"
      ]
     },
     "metadata": {},
     "output_type": "display_data"
    }
   ],
   "source": [
    "valorEA (Suma (Suma (Num 2) (Num 3)) (Num 4))"
   ]
  },
  {
   "cell_type": "markdown",
   "metadata": {},
   "source": [
    "+ Cálculo:\n",
    "\n",
    "```sesion\n",
    "  valorEA (Suma (Suma (Num 2) (Num 3)) (Num 4))\n",
    "= (valorEA (Suma (Num 2) (Num 3))) + (valorEA (Num 4))\n",
    "= (valorEA (Suma (Num 2) (Num 3))) + 4\n",
    "= (valorEA (Num 2) + (valorEA (Num 3))) + 4\n",
    "= (2 + 3) + 4\n",
    "= 9\n",
    "```\n",
    "\n",
    "**Máquina de cálculo aritmético**\n",
    "\n",
    "+ Las operaciones son meter una expresión en la pila o sumar un número con el\n",
    "  primero de la pila."
   ]
  },
  {
   "cell_type": "code",
   "execution_count": 82,
   "metadata": {},
   "outputs": [],
   "source": [
    "data Op =  METE Expr | SUMA Int  "
   ]
  },
  {
   "cell_type": "markdown",
   "metadata": {},
   "source": [
    "+ La pila de control de la máquina abstracta es una lista de operaciones."
   ]
  },
  {
   "cell_type": "code",
   "execution_count": 83,
   "metadata": {},
   "outputs": [],
   "source": [
    "type PControl = [Op]  "
   ]
  },
  {
   "cell_type": "markdown",
   "metadata": {},
   "source": [
    "+ `(eval x p)` evalúa la expresión `x` con la pila de control `p`. Por ejemplo,\n",
    "\n",
    "```sesion\n",
    "eval (Suma (Suma (Num 2) (Num 3)) (Num 4)) []  ==  9\n",
    "eval (Suma (Num 2) (Num 3)) [METE (Num 4)]     ==  9\n",
    "eval (Num 3) [SUMA 2, METE (Num 4)]            ==  9\n",
    "eval (Num 4) [SUMA 5]                          ==  9\n",
    "```\n",
    "\n",
    "+ `(ejec p n)` ejecuta la lista de control `p` sobre el entero `n`. Por\n",
    "  ejemplo,\n",
    "\n",
    "```sesion\n",
    "ejec [METE (Num 3), METE (Num 4)] 2  ==  9\n",
    "ejec [SUMA 2, METE (Num 4)]       3  ==  9\n",
    "ejec [METE (Num 4)]               5  ==  9\n",
    "ejec [SUMA 5]                     4  ==  9\n",
    "ejec []                           9  ==  9\n",
    "```"
   ]
  },
  {
   "cell_type": "code",
   "execution_count": 84,
   "metadata": {},
   "outputs": [],
   "source": [
    "eval :: Expr -> PControl -> Int\n",
    "eval (Num n)    p = ejec p n\n",
    "eval (Suma x y) p = eval x (METE y : p)\n",
    "\n",
    "ejec :: PControl -> Int -> Int\n",
    "ejec []           n = n\n",
    "ejec (METE y : p) n = eval y (SUMA n : p)\n",
    "ejec (SUMA n : p) m = ejec p (n+m)"
   ]
  },
  {
   "cell_type": "code",
   "execution_count": 85,
   "metadata": {},
   "outputs": [
    {
     "data": {
      "text/plain": [
       "9"
      ]
     },
     "metadata": {},
     "output_type": "display_data"
    }
   ],
   "source": [
    "eval (Suma (Suma (Num 2) (Num 3)) (Num 4)) []  "
   ]
  },
  {
   "cell_type": "code",
   "execution_count": 86,
   "metadata": {},
   "outputs": [
    {
     "data": {
      "text/plain": [
       "9"
      ]
     },
     "metadata": {},
     "output_type": "display_data"
    }
   ],
   "source": [
    "eval (Suma (Num 2) (Num 3)) [METE (Num 4)]     "
   ]
  },
  {
   "cell_type": "code",
   "execution_count": 87,
   "metadata": {},
   "outputs": [
    {
     "data": {
      "text/plain": [
       "9"
      ]
     },
     "metadata": {},
     "output_type": "display_data"
    }
   ],
   "source": [
    "eval (Num 3) [SUMA 2, METE (Num 4)]            "
   ]
  },
  {
   "cell_type": "code",
   "execution_count": 88,
   "metadata": {},
   "outputs": [
    {
     "data": {
      "text/plain": [
       "9"
      ]
     },
     "metadata": {},
     "output_type": "display_data"
    }
   ],
   "source": [
    "eval (Num 4) [SUMA 5]                          "
   ]
  },
  {
   "cell_type": "code",
   "execution_count": 89,
   "metadata": {},
   "outputs": [
    {
     "data": {
      "text/plain": [
       "9"
      ]
     },
     "metadata": {},
     "output_type": "display_data"
    }
   ],
   "source": [
    "ejec [METE (Num 3), METE (Num 4)] 2  "
   ]
  },
  {
   "cell_type": "code",
   "execution_count": 90,
   "metadata": {},
   "outputs": [
    {
     "data": {
      "text/plain": [
       "9"
      ]
     },
     "metadata": {},
     "output_type": "display_data"
    }
   ],
   "source": [
    "ejec [SUMA 2, METE (Num 4)]       3  "
   ]
  },
  {
   "cell_type": "code",
   "execution_count": 91,
   "metadata": {},
   "outputs": [
    {
     "data": {
      "text/plain": [
       "9"
      ]
     },
     "metadata": {},
     "output_type": "display_data"
    }
   ],
   "source": [
    "ejec [METE (Num 4)]               5  "
   ]
  },
  {
   "cell_type": "code",
   "execution_count": 92,
   "metadata": {},
   "outputs": [
    {
     "data": {
      "text/plain": [
       "9"
      ]
     },
     "metadata": {},
     "output_type": "display_data"
    }
   ],
   "source": [
    "ejec [SUMA 5]                     4  "
   ]
  },
  {
   "cell_type": "code",
   "execution_count": 93,
   "metadata": {},
   "outputs": [
    {
     "data": {
      "text/plain": [
       "9"
      ]
     },
     "metadata": {},
     "output_type": "display_data"
    }
   ],
   "source": [
    "ejec []                           9  "
   ]
  },
  {
   "cell_type": "markdown",
   "metadata": {},
   "source": [
    "+ `(evalua e)` evalúa la expresión aritmética `e` con la máquina abstracta. Por\n",
    "  ejemplo,\n",
    "\n",
    "```sesion\n",
    "evalua (Suma (Suma (Num 2) (Num 3)) (Num 4))  ==  9  \n",
    "```"
   ]
  },
  {
   "cell_type": "code",
   "execution_count": 94,
   "metadata": {},
   "outputs": [],
   "source": [
    "evalua :: Expr -> Int\n",
    "evalua e = eval e []"
   ]
  },
  {
   "cell_type": "code",
   "execution_count": 95,
   "metadata": {},
   "outputs": [
    {
     "data": {
      "text/plain": [
       "9"
      ]
     },
     "metadata": {},
     "output_type": "display_data"
    }
   ],
   "source": [
    "evalua (Suma (Suma (Num 2) (Num 3)) (Num 4))"
   ]
  },
  {
   "cell_type": "markdown",
   "metadata": {},
   "source": [
    "+ Evaluación:\n",
    "\n",
    "```sesion\n",
    "eval (Suma (Suma (Num 2) (Num 3)) (Num 4)) []\n",
    "= eval (Suma (Num 2) (Num 3)) [METE (Num 4)]\n",
    "= eval (Num 2) [METE (Num 3), METE (Num 4)]\n",
    "= ejec [METE (Num 3), METE (Num 4)] 2\n",
    "= eval (Num 3) [SUMA 2, METE (Num 4)]\n",
    "= ejec [SUMA 2, METE (Num 4)] 3\n",
    "= ejec [METE (Num 4)] (2+3)\n",
    "= ejec [METE (Num 4)] 5\n",
    "= eval (Num 4) [SUMA 5]\n",
    "= ejec [SUMA 5] 4\n",
    "= ejec [] (5+4)\n",
    "= ejec [] 9\n",
    "= 9\n",
    "```\n",
    "\n",
    "Declaraciones de clases y de instancias\n",
    "=======================================\n",
    "\n",
    "**Declaraciones de clases**\n",
    "\n",
    "+ Las clases se declaran mediante el mecanismo `class`.\n",
    "\n",
    "+ Ejemplo de declaración de clases:\n",
    "\n",
    "```haskell\n",
    "class Eq a where\n",
    "    (==), (/=) :: a -> a -> Bool\n",
    "\n",
    "    -- Minimal complete definition: (==) or (/=)\n",
    "    x == y = not (x/=y)\n",
    "    x /= y = not (x==y)\n",
    "```\n",
    "\n",
    "**Declaraciones de instancias**\n",
    "\n",
    "+ Las instancias se declaran mediante el mecanismo `instance`.\n",
    "\n",
    "+ Ejemplo de declaración de instancia:\n",
    "\n",
    "```haskell\n",
    "instance Eq Bool where\n",
    "    False == False = True\n",
    "    True  == True  = True\n",
    "    _     == _     = False\n",
    "```\n",
    "\n",
    "**Extensiones de clases**\n",
    "\n",
    "+ Las clases pueden extenderse mediante el mecanismo `class`.\n",
    "\n",
    "+ Ejemplo de extensión de clases:\n",
    "\n",
    "```haskell\n",
    "class (Eq a) => Ord a where\n",
    "    compare                :: a -> a -> Ordering\n",
    "    (<), (<=), (>=), (>)   :: a -> a -> Bool\n",
    "    max, min               :: a -> a -> a\n",
    "\n",
    "    -- Minimal complete definition: (<=) or compare\n",
    "    -- using compare can be more efficient for complex types\n",
    "    compare x y | x==y      = EQ\n",
    "                | x<=y      = LT\n",
    "                | otherwise = GT\n",
    "\n",
    "    x <= y                  = compare x y /= GT\n",
    "    x <  y                  = compare x y == LT\n",
    "    x >= y                  = compare x y /= LT\n",
    "    x >  y                  = compare x y == GT\n",
    "\n",
    "    max x y   | x <= y      = y\n",
    "              | otherwise   = x\n",
    "    min x y   | x <= y      = x\n",
    "              | otherwise   = y\n",
    "```\n",
    "\n",
    "**Instancias de clases extendidas**\n",
    "\n",
    "+ Las instancias de las clases extendidas pueden declararse mediante el\n",
    "  mecanismo `instance`.\n",
    "\n",
    "+ Ejemplo de declaración de instancia:\n",
    "\n",
    "```haskell\n",
    "instance Ord Bool where\n",
    "     False <= _     = True\n",
    "     True  <= True  = True\n",
    "     True  <= False = False\n",
    "```\n",
    "\n",
    "**Clases derivadas**\n",
    "\n",
    "+ Al definir un nuevo tipo con `data` puede declarse como instancia de clases\n",
    "  mediante el mecanismo `deriving`.\n",
    "\n",
    "+ Ejemplo de clases derivadas:\n",
    "\n",
    "```haskell\n",
    "data Bool = False | True\n",
    "    deriving (Eq, Ord, Read, Show)\n",
    "```\n",
    "\n",
    "+ Comprobación:"
   ]
  },
  {
   "cell_type": "code",
   "execution_count": 96,
   "metadata": {},
   "outputs": [
    {
     "data": {
      "text/plain": [
       "True"
      ]
     },
     "metadata": {},
     "output_type": "display_data"
    }
   ],
   "source": [
    "False == False        "
   ]
  },
  {
   "cell_type": "code",
   "execution_count": 97,
   "metadata": {},
   "outputs": [
    {
     "data": {
      "text/plain": [
       "True"
      ]
     },
     "metadata": {},
     "output_type": "display_data"
    }
   ],
   "source": [
    "False < True          "
   ]
  },
  {
   "cell_type": "code",
   "execution_count": 98,
   "metadata": {},
   "outputs": [
    {
     "data": {
      "text/plain": [
       "\"False\""
      ]
     },
     "metadata": {},
     "output_type": "display_data"
    }
   ],
   "source": [
    "show False            "
   ]
  },
  {
   "cell_type": "code",
   "execution_count": 99,
   "metadata": {},
   "outputs": [
    {
     "data": {
      "text/plain": [
       "False"
      ]
     },
     "metadata": {},
     "output_type": "display_data"
    }
   ],
   "source": [
    "read \"False\" :: Bool  "
   ]
  },
  {
   "cell_type": "markdown",
   "metadata": {},
   "source": [
    "+ Para derivar un tipo cuyos constructores tienen argumentos como derivado, los\n",
    "  tipos de los argumentos tienen que ser instancias de las clases derivadas.\n",
    "\n",
    "+ Ejemplo:"
   ]
  },
  {
   "cell_type": "code",
   "execution_count": 100,
   "metadata": {},
   "outputs": [],
   "source": [
    "data Figura = Circulo Float | Rect Float Float\n",
    "              deriving (Eq, Ord, Show)"
   ]
  },
  {
   "cell_type": "markdown",
   "metadata": {},
   "source": [
    "+ Se cumple que `Float` es instancia de `Eq`, `Ord` y `Show`."
   ]
  },
  {
   "cell_type": "code",
   "execution_count": 101,
   "metadata": {},
   "outputs": [
    {
     "data": {},
     "metadata": {},
     "output_type": "display_data"
    },
    {
     "data": {
      "text/html": [
       "<div style='background: rgb(247, 247, 247);'><form><textarea id='code'>data Float = GHC.Types.F# GHC.Prim.Float# \t-- Defined in ‘GHC.Types’\n",
       "instance Eq Float -- Defined in ‘GHC.Classes’\n",
       "instance Ord Float -- Defined in ‘GHC.Classes’\n",
       "instance Show Float -- Defined in ‘GHC.Float’\n",
       "instance Read Float -- Defined in ‘GHC.Read’\n",
       "instance Enum Float -- Defined in ‘GHC.Float’\n",
       "instance Floating Float -- Defined in ‘GHC.Float’\n",
       "instance Fractional Float -- Defined in ‘GHC.Float’\n",
       "instance Num Float -- Defined in ‘GHC.Float’\n",
       "instance Real Float -- Defined in ‘GHC.Float’\n",
       "instance RealFloat Float -- Defined in ‘GHC.Float’\n",
       "instance RealFrac Float -- Defined in ‘GHC.Float’\n",
       "instance Arbitrary Float -- Defined in ‘Test.QuickCheck.Arbitrary’\n",
       "instance CoArbitrary Float -- Defined in ‘Test.QuickCheck.Arbitrary’\n",
       "instance [safe] Function Float -- Defined in ‘Test.QuickCheck.Function’\n",
       "</textarea></form></div><script>CodeMirror.fromTextArea(document.getElementById('code'), {mode: 'haskell', readOnly: 'nocursor'});</script>"
      ],
      "text/plain": [
       "data Float = GHC.Types.F# GHC.Prim.Float# \t-- Defined in ‘GHC.Types’\n",
       "instance Eq Float -- Defined in ‘GHC.Classes’\n",
       "instance Ord Float -- Defined in ‘GHC.Classes’\n",
       "instance Show Float -- Defined in ‘GHC.Float’\n",
       "instance Read Float -- Defined in ‘GHC.Read’\n",
       "instance Enum Float -- Defined in ‘GHC.Float’\n",
       "instance Floating Float -- Defined in ‘GHC.Float’\n",
       "instance Fractional Float -- Defined in ‘GHC.Float’\n",
       "instance Num Float -- Defined in ‘GHC.Float’\n",
       "instance Real Float -- Defined in ‘GHC.Float’\n",
       "instance RealFloat Float -- Defined in ‘GHC.Float’\n",
       "instance RealFrac Float -- Defined in ‘GHC.Float’\n",
       "instance Arbitrary Float -- Defined in ‘Test.QuickCheck.Arbitrary’\n",
       "instance CoArbitrary Float -- Defined in ‘Test.QuickCheck.Arbitrary’\n",
       "instance [safe] Function Float -- Defined in ‘Test.QuickCheck.Function’"
      ]
     },
     "metadata": {},
     "output_type": "display_data"
    }
   ],
   "source": [
    ":info Float"
   ]
  },
  {
   "cell_type": "markdown",
   "metadata": {},
   "source": [
    "Bibliografía\n",
    "============\n",
    "\n",
    "+ J. Burget *The algebra (and calculus!) of algebraic data types*.\n",
    "  http://bit.ly/1NqvlTp  \n",
    "\n",
    "+ G. Hutton. *Programming in Haskell*. Cambridge University Press, 2007. \n",
    "    + Cap. 10: Declaring types and classes.\n",
    "\n",
    "+ B.C. Ruiz, F. Gutiérrez, P. Guerrero y J.E. Gallardo. *Razonando con\n",
    "  Haskell*. Thompson, 2004.\n",
    "    + Cap. 4: Definición de tipos.\n",
    "    + Cap. 5: El sistema de clases de Haskell.\n",
    "\n",
    "+ S. Thompson. *Haskell: The Craft of Functional Programming*, Second Edition.\n",
    "  Addison-Wesley, 1999.\n",
    "    + Cap. 12: Overloading and type classes.\n",
    "    + Cap. 13: Checking types.\n",
    "    + Cap. 14: Algebraic types.\n",
    "\n",
    "+ [Algebraic data types](http://learn.hfm.io/datatypes.html). "
   ]
  }
 ],
 "metadata": {
  "kernelspec": {
   "display_name": "Haskell",
   "language": "haskell",
   "name": "haskell"
  },
  "language_info": {
   "codemirror_mode": "ihaskell",
   "file_extension": ".hs",
   "name": "haskell",
   "pygments_lexer": "Haskell",
   "version": "8.6.5"
  }
 },
 "nbformat": 4,
 "nbformat_minor": 4
}
