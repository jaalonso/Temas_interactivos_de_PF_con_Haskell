{
 "cells": [
  {
   "cell_type": "markdown",
   "metadata": {},
   "source": [
    "<span style=\"font-size:2em; color:blue\">\n",
    "    Tema 26: Análisis de la complejidad de los algoritmos\n",
    "</span>  \n",
    "\n",
    "----------\n",
    "\n",
    "[José A. Alonso](https://www.cs.us.es/~jalonso)  \n",
    "[Departamento de Ciencias de la Computación e I.A.](https://www.cs.us.es)  \n",
    "[Universidad de Sevilla](http://www.us.es)  \n",
    "Sevilla, 22 de agosto de 2019"
   ]
  },
  {
   "cell_type": "markdown",
   "metadata": {},
   "source": [
    "> __Notas:__ \n",
    "+ La versión interactiva de este tema se encuentra en [Binder](https://mybinder.org/v2/gh/jaalonso/Temas_interactivos_de_PF_con_Haskell/master?urlpath=lab/tree/temas/Tema-26.ipynb).\n",
    "+ Se desactiva el [corrector estilo de Haskell](https://github.com/gibiansky/IHaskell/wiki#opt-no-lint)."
   ]
  },
  {
   "cell_type": "code",
   "execution_count": 1,
   "metadata": {},
   "outputs": [],
   "source": [
    ":opt no-lint"
   ]
  },
  {
   "cell_type": "markdown",
   "metadata": {},
   "source": [
    "# La notación de Landau"
   ]
  },
  {
   "cell_type": "markdown",
   "metadata": {},
   "source": [
    "## Definición de O(g)\n",
    "\n",
    "+ La función f pertenece a la clase de complejidad de g (en símbolos, \n",
    "  f ∈ O(g)) si existe un c y un n₀ tales que para todo n ≥ nₒ se tiene que\n",
    "  |f(n)| ≤ c|g(n)|\n",
    "+ f ∈ O(g) syss ∃c∃nₒ∀n(n ≥ n₀ → |f(n)| ≤ c|g(n)|)\n",
    "+ f ∈ O(g) syss\n",
    "\n",
    "```sesion\n",
    "limsup   |f(x)/g(x)| < ∞\n",
    "x → ∞\n",
    "```\n",
    "\n",
    "+ Intuitivamente, sólo se considera el término más importante y se ignoran los\n",
    "  factores constantes.\n",
    "\n",
    "+ Ejemplos:\n",
    "    + 3n²+5n-7 ∈ O(n²).\n",
    "    + O(2g(n)) = O(g(n))\n",
    "    + O(log n) = O(ln n)\n",
    "    + O(3n²+5n-7) = O(n²)\n",
    "    + O(n²) ⊂ O(n³)\n",
    "    + O(2ⁿ) ⊂ O(3ⁿ)\n",
    "\n",
    "## Propiedades\n",
    "\n",
    "+ Si g ∈ O(f) y h ∈ O(f), entonces g+h ∈ O(f)\n",
    "\n",
    "+ Si f ∈ O(g) y g ∈ O(h), entonces f ∈ O(h)\n",
    "\n",
    "+ f+g ∈ O(max(f,g))\n",
    "\n",
    "+ O(f+g) = O(max(f,g))\n",
    "\n",
    "+ Si f ∈ O(f') y g ∈ O(g'), entonces f+g ∈ O(f'+g')\n",
    "\n",
    "+ Si f ∈ O(f') y g ∈ O(g'), entonces f.g ∈ O(f'.g')\n",
    "\n",
    "+ Si f ∈ O(g) y a ∈ ℜ⁺-{0}, entonces a.f ∈ O(g)\n",
    "\n",
    "+ Si f ∈ O(g) y n ≥ 1, entonces fⁿ ∈ O(gⁿ)"
   ]
  },
  {
   "cell_type": "markdown",
   "metadata": {
    "toc-hr-collapsed": true
   },
   "source": [
    "# Órdenes de complejidad"
   ]
  },
  {
   "cell_type": "markdown",
   "metadata": {},
   "source": [
    "## Principales órdenes de complejidad\n",
    "\n",
    "> | Orden      | Nombre      |\n",
    "> |------------|-------------|\n",
    "> | O(1)       | constante   |\n",
    "> | O(log n)   | logarítmica |\n",
    "> | O(n)       | lineal      |\n",
    "> | O(n log n) | casi lineal |\n",
    "> | O(n²)      | cuadrática  |\n",
    "> | O(n³)      | cúbica      |\n",
    "> | O(a^n)     | exponencial |"
   ]
  },
  {
   "cell_type": "markdown",
   "metadata": {},
   "source": [
    "## Tasas de crecimiento\n",
    "\n",
    "![](fig/ordenes.png)"
   ]
  },
  {
   "cell_type": "markdown",
   "metadata": {},
   "source": [
    "## Jerarquía de complejidad\n",
    "\n",
    "+ O(1) ⊂ O(log n) ⊂ O(n) ⊂ O(n log n) ⊂ O(n²) ⊂ O(n³) ⊂ O(2ⁿ)"
   ]
  },
  {
   "cell_type": "markdown",
   "metadata": {},
   "source": [
    "## Efectos de duplicaciones\n",
    "\n",
    "+ Efecto de duplicar el dato de entrada\n",
    "\n",
    "> | T(n)    | n = 100 | n = 200          |\n",
    "> |---------|---------|------------------|\n",
    "> | log(n)  | 1 h.    | 1.15 h.          |\n",
    "> | n       | 1 h.    | 2 h.             |\n",
    "> | nlog(n) | 1 h.    | 2.30 h.          |\n",
    "> | n²      | 1 h.    | 4 h.             |\n",
    "> | n³      | 1 h.    | 8 h.             |\n",
    "> | 2ⁿ      | 1 h.    | 1.27*10³⁰ h.     |\n",
    "\n",
    "+ Efecto de duplicar el tiempo disponible\n",
    "\n",
    "> | T(n)    | t = 1h  | t = 2h    |\n",
    "> |---------|---------|-----------|\n",
    "> | log(n)  | n = 100 | n = 10000 |\n",
    "> | n       | n = 100 | n = 200   |\n",
    "> | nlog(n) | n = 100 | n = 178   |\n",
    "> | n²      | n = 100 | n = 141   |\n",
    "> | n³      | n = 100 | n = 126   |\n",
    "> | 2ⁿ      | n = 100 | n = 101   |"
   ]
  },
  {
   "cell_type": "markdown",
   "metadata": {
    "toc-hr-collapsed": true
   },
   "source": [
    "# Ejemplo de función con complejidad lineal O(n)"
   ]
  },
  {
   "cell_type": "markdown",
   "metadata": {},
   "source": [
    "## Especificación de la función suma\n",
    "\n",
    "+ (suma n) es la suma de los números de 1 hasta n. Por ejemplo,\n",
    "\n",
    "```sesion\n",
    "suma 5  ==  15\n",
    "```"
   ]
  },
  {
   "cell_type": "markdown",
   "metadata": {},
   "source": [
    "## Definición recursiva de la función suma"
   ]
  },
  {
   "cell_type": "code",
   "execution_count": 2,
   "metadata": {},
   "outputs": [],
   "source": [
    "suma :: Integer -> Integer\n",
    "suma 0 = 0\n",
    "suma n = n + suma (n-1) "
   ]
  },
  {
   "cell_type": "markdown",
   "metadata": {},
   "source": [
    "## Estadísticas de la función suma\n",
    "\n",
    "+ El tiempo necesario para calcular (suma n) para n se recoge en la siguiente tabla\n",
    "\n",
    "~~~\n",
    "+--------+------+\n",
    "| n      | segs |\n",
    "|--------|------|\n",
    "| 100000 | 0.06 |\n",
    "| 200000 | 0.12 |\n",
    "| 300000 | 0.17 |\n",
    "| 400000 | 0.24 |\n",
    "| 500000 | 0.29 |\n",
    "| 600000 | 0.38 |\n",
    "| 700000 | 0.40 |\n",
    "| 800000 | 0.52 |\n",
    "+--------+------+\n",
    "~~~\n",
    "\n",
    "+ En la tabla se observa que hay una relación lineal entre n y el tiempo\n",
    "  necesario para calcular (suma n)."
   ]
  },
  {
   "cell_type": "markdown",
   "metadata": {},
   "source": [
    "Se puede medir el tiempo de evaluación con la función`tiempo` definida como sigue"
   ]
  },
  {
   "cell_type": "code",
   "execution_count": 3,
   "metadata": {},
   "outputs": [],
   "source": [
    "import System.TimeIt (timeIt)\n",
    "import Control.Exception (evaluate)\n",
    "\n",
    "tiempo :: a -> IO a\n",
    "tiempo = timeIt . evaluate"
   ]
  },
  {
   "cell_type": "markdown",
   "metadata": {},
   "source": [
    "El tiempo necesario para calcular (suma n) se puede medir como sigue"
   ]
  },
  {
   "cell_type": "code",
   "execution_count": 4,
   "metadata": {},
   "outputs": [
    {
     "data": {
      "text/plain": [
       "CPU time:   0.06s\n",
       "CPU time:   0.13s\n",
       "CPU time:   0.33s\n",
       "CPU time:   0.22s\n",
       "CPU time:   0.28s\n",
       "CPU time:   0.49s\n",
       "CPU time:   0.38s\n",
       "CPU time:   0.61s"
      ]
     },
     "metadata": {},
     "output_type": "display_data"
    }
   ],
   "source": [
    "sequence_ [tiempo (suma (100000 * n)) | n <- [1..8]]"
   ]
  },
  {
   "cell_type": "markdown",
   "metadata": {},
   "source": [
    "## Ecuaciones de coste de la función suma\n",
    "\n",
    "+ El tiempo necesario para calcular (suma n) es proporcional al número T(n) de\n",
    "  operaciones elementales necesarias para evaluar la expresión.\n",
    "\n",
    "+ Las ecuaciones para calcular T(n) son\n",
    "\n",
    "```sesion\n",
    "T(1)   = 1\n",
    "T(n+1) = 1 + T(n)\n",
    "```\n",
    "\n",
    "+ Nota: Las ecuaciones de coste son ecuaciones en recurrencia que se pueden\n",
    "  resolver con [Wolfram Alpha](http://bit.ly/1aFsIjl). "
   ]
  },
  {
   "cell_type": "markdown",
   "metadata": {},
   "source": [
    "## Demostración de que suma ∈ O(n) (es decir, es de coste lineal)\n",
    "\n",
    "+ Basta comprobar que T(n) = n cumple las ecuaciones del coste de la función\n",
    "  suma. \n",
    "\n",
    "```sesion\n",
    "T(1)   = 1       [por definición de T]\n",
    "T(n+1) = 1+T(n)  [por definición de T]\n",
    "       = 1+n     [por hipótesis de inducción]\n",
    "       = n+1     [por álgebra]\n",
    "```"
   ]
  },
  {
   "cell_type": "markdown",
   "metadata": {
    "toc-hr-collapsed": true
   },
   "source": [
    "# Ejemplo de función con complejidad constante O(1)"
   ]
  },
  {
   "cell_type": "markdown",
   "metadata": {},
   "source": [
    "## Definición de la función suma mediante la fórmula"
   ]
  },
  {
   "cell_type": "code",
   "execution_count": 5,
   "metadata": {},
   "outputs": [],
   "source": [
    "suma2 :: Integer -> Integer\n",
    "suma2 n = n*(n+1) `div` 2"
   ]
  },
  {
   "cell_type": "markdown",
   "metadata": {},
   "source": [
    "## Estadísticas de la función suma2\n",
    "\n",
    "+ El tiempo necesario para calcular (suma2 n) se recoge en la siguiente tabla\n",
    "\n",
    "~~~\n",
    "+--------+-------+\n",
    "| n      | segs. |\n",
    "|--------|-------|\n",
    "| 100000 | 0.01  |\n",
    "| 200000 | 0.01  |\n",
    "| 300000 | 0.01  |\n",
    "| 400000 | 0.01  |\n",
    "| 500000 | 0.01  |\n",
    "| 600000 | 0.01  |\n",
    "| 700000 | 0.01  |\n",
    "| 800000 | 0.01  |\n",
    "+--------+-------+\n",
    "~~~\n",
    "\n",
    "+ En la tabla se observa que hay una relación conatante entre n y el tiempo\n",
    "  necesario para calcular (suma2 n):\n",
    "\n",
    "```sesion\n",
    "tiempo(suma n) ≈ 0.01\n",
    "```"
   ]
  },
  {
   "cell_type": "markdown",
   "metadata": {},
   "source": [
    "El tiempo necesario para calcular (suma2 n) se puede medir como sigue"
   ]
  },
  {
   "cell_type": "code",
   "execution_count": 6,
   "metadata": {},
   "outputs": [
    {
     "data": {
      "text/plain": [
       "CPU time:   0.00s\n",
       "CPU time:   0.00s\n",
       "CPU time:   0.00s\n",
       "CPU time:   0.00s\n",
       "CPU time:   0.00s\n",
       "CPU time:   0.00s\n",
       "CPU time:   0.00s\n",
       "CPU time:   0.00s"
      ]
     },
     "metadata": {},
     "output_type": "display_data"
    }
   ],
   "source": [
    "sequence_ [tiempo (suma2 (100000 * n)) | n <- [1..8]]"
   ]
  },
  {
   "cell_type": "markdown",
   "metadata": {},
   "source": [
    "## Ecuaciones de coste de la función suma2\n",
    "\n",
    "+ Si T(n) es el tiempo necesario para calcular (suma2 n), entonces\n",
    "\n",
    "```sesion\n",
    "T(1) = 1\n",
    "```"
   ]
  },
  {
   "cell_type": "markdown",
   "metadata": {},
   "source": [
    "## Demostración de que suma2 ∈ O(1) (es decir, es de coste constante).\n",
    "\n",
    "+ Es inmediato, a partir de su ecuación de coste."
   ]
  },
  {
   "cell_type": "markdown",
   "metadata": {
    "toc-hr-collapsed": true
   },
   "source": [
    "# Ejemplo de función con complejidad cuadrática O(n²)"
   ]
  },
  {
   "cell_type": "markdown",
   "metadata": {},
   "source": [
    "## Especificación de la función sumaDeSumas\n",
    "\n",
    "+ (sumaDeSumas n) es la suma de las sumas de 0 a n; es decir,\n",
    "\n",
    "```sesion\n",
    "sumaDeSumas n = (suma 0) + (suma 1) + ... + (suma n)\n",
    "```"
   ]
  },
  {
   "cell_type": "markdown",
   "metadata": {},
   "source": [
    "## Definición recursiva de la función sumaDeSumas"
   ]
  },
  {
   "cell_type": "code",
   "execution_count": 7,
   "metadata": {},
   "outputs": [],
   "source": [
    "sumaDeSumas :: Integer -> Integer\n",
    "sumaDeSumas 0 = 0\n",
    "sumaDeSumas n = suma n + sumaDeSumas (n-1)"
   ]
  },
  {
   "cell_type": "markdown",
   "metadata": {},
   "source": [
    "## Estadísticas de la función sumaDeSumas\n",
    "\n",
    "+ El tiempo necesario para calcular (sumaDeSumas n) para n en [100,200..600] se \n",
    "recoge en la siguiente tabla\n",
    "\n",
    "~~~\n",
    "+------+------+\n",
    "| n    | segs |\n",
    "|------|------|\n",
    "| 1000 | 0.20 |\n",
    "| 1100 | 0.24 |\n",
    "| 1200 | 0.30 |\n",
    "| 1300 | 0.35 |\n",
    "| 1400 | 0.40 |\n",
    "| 1500 | 0.46 |\n",
    "| 1600 | 0.52 |\n",
    "+------+------+\n",
    "~~~"
   ]
  },
  {
   "cell_type": "markdown",
   "metadata": {},
   "source": [
    "El tiempo necesario para calcular (sumaDesuma n) se puede medir como sigue"
   ]
  },
  {
   "cell_type": "code",
   "execution_count": 8,
   "metadata": {},
   "outputs": [
    {
     "data": {
      "text/plain": [
       "CPU time:   0.18s\n",
       "CPU time:   0.21s\n",
       "CPU time:   0.25s\n",
       "CPU time:   0.30s\n",
       "CPU time:   0.34s\n",
       "CPU time:   0.39s"
      ]
     },
     "metadata": {},
     "output_type": "display_data"
    }
   ],
   "source": [
    "sequence_ [tiempo (sumaDeSumas (1000 + 100 * n)) | n <- [0..5]]"
   ]
  },
  {
   "cell_type": "markdown",
   "metadata": {},
   "source": [
    "## Gráfica de coste de sumaDeSumas\n",
    "\n",
    "> ![](fig/sumaDeSumas.png)"
   ]
  },
  {
   "cell_type": "markdown",
   "metadata": {},
   "source": [
    "## Ecuaciones de coste de la función sumaDeSumas\n",
    "\n",
    "+ Si T(n) es el tiempo necesario para calcular (sumaDeSumas n), entonces\n",
    "\n",
    "```sesion\n",
    " T(1)   = 1\n",
    " T(n+1) = T(suma(n+1))+T(n)\n",
    "        = n+1+T(n)\n",
    "```\n",
    "\n",
    "+ Nota: Las ecuaciones de coste se pueden resolver con\n",
    "  [Wolfram Alpha](http://bit.ly/18blHoH). "
   ]
  },
  {
   "cell_type": "markdown",
   "metadata": {},
   "source": [
    "## Demostración de que sumaDeSumas ∈ O(n²) (es decir, es de coste cuadrático)\n",
    "\n",
    "+ Basta demostrar que para la función sumaDeSumas, T(n) ≤ n².\n",
    "+ Se demuestra por inducción.\n",
    "+ Caso base:\n",
    "\n",
    "```sesion\n",
    "T(1) = 1 ≤ 1²\n",
    "```\n",
    "\n",
    "+ Caso inductivo:\n",
    "    + Suponemos la hipótesis de inducción: T(n) ≤ n².\n",
    "    + Hay que demostrar que T(n+1) ≤ (n+1)².\n",
    "    + Demostración:\n",
    "\n",
    "```sesion\n",
    "T(n+1) \n",
    "= n+1+T(n)     [por coste de sumaDeSumas.2]\n",
    "≤ n+1+n²       [por hip. de inducción]\n",
    "≤ n²+2n+1      [por álgebra]\n",
    "= (n+1)²       [por álgebra]\n",
    "```"
   ]
  },
  {
   "cell_type": "markdown",
   "metadata": {
    "toc-hr-collapsed": true
   },
   "source": [
    "# Ejemplo de función con complejidad exponencial O(2ⁿ)"
   ]
  },
  {
   "cell_type": "markdown",
   "metadata": {},
   "source": [
    "## Especificación de la función raiz\n",
    "\n",
    "+ (raiz x n) es el n-ésimo término de la sucesión x(n) que calcula la raíz\n",
    "  cuadrada de x por el método de Herón; es decir, \n",
    "\n",
    "```sesion\n",
    "x(0)   = 1\n",
    "x(n+1) = (x/x(n) + x(n))/2\n",
    "```\n",
    "\n",
    "Por ejemplo,\n",
    "\n",
    "```sesion\n",
    "ghci> raiz 9 5\n",
    "3.0\n",
    "ghci> raiz 16 5\n",
    "4.0000005\n",
    "ghci> raiz 16 10\n",
    "4.0\n",
    "```"
   ]
  },
  {
   "cell_type": "markdown",
   "metadata": {},
   "source": [
    "## Definición recursiva de la función raiz"
   ]
  },
  {
   "cell_type": "code",
   "execution_count": 9,
   "metadata": {},
   "outputs": [],
   "source": [
    "raiz :: Float -> Int -> Float\n",
    "raiz x 0 = 1 \n",
    "raiz x n = (x / (raiz x (n-1)) + (raiz x (n-1))) / 2.0"
   ]
  },
  {
   "cell_type": "markdown",
   "metadata": {},
   "source": [
    "## Estadísticas de la función raiz\n",
    "\n",
    "+ El tiempo necesario para calcular (raiz 100 n) se recoge en la siguiente tabla\n",
    "\n",
    "~~~\n",
    "+----+------+\n",
    "| n  | segs |\n",
    "|----|------|\n",
    "| 15 | 0.03 |\n",
    "| 16 | 0.06 |\n",
    "| 17 | 0.12 |\n",
    "| 18 | 0.23 |\n",
    "| 19 | 0.46 |\n",
    "| 20 | 0.90 |\n",
    "| 21 | 1.79 |\n",
    "+----+------+\n",
    "~~~\n",
    "\n",
    "+ En la tabla se observa que por cada número que aumenta n se duplica el tiempo. \n",
    "  Por tanto la relación entre n y el tiempo necesario para\n",
    "  calcular (raiz 100 n) es del orden 2ⁿ"
   ]
  },
  {
   "cell_type": "markdown",
   "metadata": {},
   "source": [
    "El tiempo necesario para calcular (raiz 100 n) se puede medir como sigue"
   ]
  },
  {
   "cell_type": "code",
   "execution_count": 10,
   "metadata": {},
   "outputs": [
    {
     "data": {
      "text/plain": [
       "CPU time:   0.03s\n",
       "CPU time:   0.06s\n",
       "CPU time:   0.12s\n",
       "CPU time:   0.24s\n",
       "CPU time:   0.48s\n",
       "CPU time:   0.95s\n",
       "CPU time:   1.89s"
      ]
     },
     "metadata": {},
     "output_type": "display_data"
    }
   ],
   "source": [
    "sequence_ [tiempo (raiz 100 n) | n <- [15..21]]"
   ]
  },
  {
   "cell_type": "markdown",
   "metadata": {},
   "source": [
    "## Ecuaciones de coste de la función raiz\n",
    "\n",
    "+ Si T(n) es el tiempo necesario para calcular (raiz a x n), entonces\n",
    "\n",
    "```sesion\n",
    "T(0)   = 1\n",
    "T(n+1) = 2*T(n)\n",
    "```\n",
    "\n",
    "+ Nota: Las ecuaciones de coste se pueden resolver con\n",
    "  [Wolfram Alpha](http://bit.ly/18blSQM). "
   ]
  },
  {
   "cell_type": "markdown",
   "metadata": {},
   "source": [
    "## Demostración de que raiz ∈ O(2ⁿ) (es decir, es de coste exponencial)\n",
    "\n",
    "+ Basta demostrar que para la función raiz, T(n) = 2ⁿ.\n",
    "+ Se demuestra por inducción.\n",
    "+ Caso base:\n",
    "\n",
    "```sesion\n",
    "T(0) = 1 = 2^0\n",
    "```\n",
    "+ Caso inductivo:\n",
    "    + Suponemos la hipótesis de inducción: T(n) = 2ⁿ\n",
    "    + Hay que demostrar que T(n+1) = 2^(n+1).\n",
    "    + Demostración\n",
    "\n",
    "```sesion\n",
    "T(n+1) \n",
    "= 2*T(n)   [por coste de raiz]\n",
    "= 2*2ⁿ     [por hip. de inducción]\n",
    "= 2^(n+1)  [por álgebra]\n",
    "```"
   ]
  },
  {
   "cell_type": "markdown",
   "metadata": {},
   "source": [
    "# Ejemplo de función con complejidad logarítmica O(log n)"
   ]
  },
  {
   "cell_type": "markdown",
   "metadata": {},
   "source": [
    "## Especificación de la función potencia\n",
    "\n",
    "+ (potencia x n) es x^n, calculada usando las propiedades\n",
    "\n",
    "```sesion\n",
    "x^n = (x*x)^(n/2),   si n es par\n",
    "x^n = x*(x*x)^(n/2), si n es impar\n",
    "```"
   ]
  },
  {
   "cell_type": "markdown",
   "metadata": {},
   "source": [
    "## Definición recursiva de la función potencia"
   ]
  },
  {
   "cell_type": "code",
   "execution_count": 11,
   "metadata": {},
   "outputs": [],
   "source": [
    "potencia :: Integer -> Integer -> Integer\n",
    "potencia x 0 = 1\n",
    "potencia x n | even n    = potencia (x*x) (div n 2)\n",
    "             | otherwise = x * potencia (x*x) (div n 2)"
   ]
  },
  {
   "cell_type": "markdown",
   "metadata": {},
   "source": [
    "## Estadísticas de la función potencia\n",
    "\n",
    "+ El tiempo necesario para calcular (potencia 2 n) se recoge en la siguiente tabla\n",
    "\n",
    "~~~\n",
    "+------+------+\n",
    "|  n   | segs |\n",
    "|------|------|\n",
    "| 2^18 | 0.02 |\n",
    "| 2^19 | 0.03 |\n",
    "| 2^20 | 0.05 |\n",
    "| 2^21 | 0.12 |\n",
    "| 2^22 | 0.30 |\n",
    "+------+------+\n",
    "~~~"
   ]
  },
  {
   "cell_type": "markdown",
   "metadata": {},
   "source": [
    "El tiempo necesario para calcular (potencia 2 n) se puede medir como sigue"
   ]
  },
  {
   "cell_type": "code",
   "execution_count": 12,
   "metadata": {},
   "outputs": [
    {
     "data": {
      "text/plain": [
       "CPU time:   0.01s\n",
       "CPU time:   0.02s\n",
       "CPU time:   0.04s\n",
       "CPU time:   0.11s\n",
       "CPU time:   0.31s"
      ]
     },
     "metadata": {},
     "output_type": "display_data"
    }
   ],
   "source": [
    "sequence_ [tiempo (length (show (potencia 2 (2^n)))) | n <- [18..22]]"
   ]
  },
  {
   "cell_type": "markdown",
   "metadata": {},
   "source": [
    "## Ecuaciones de coste de la función potencia\n",
    "\n",
    "+ Si T(n) es el tiempo necesario para calcular (potencia a n), entonces\n",
    "\n",
    "```sesion\n",
    "T(1) = 1\n",
    "T(n) = 1 + T(n/2)\n",
    "```"
   ]
  },
  {
   "cell_type": "markdown",
   "metadata": {},
   "source": [
    "## Demostración de que potencia ∈ O(log n) (es decir, es de coste logarítmico)\n",
    "\n",
    "+ Basta demostrar que para la función potencia, T(n) = 1 + log n (logaritmo en\n",
    "  base 2).\n",
    "+ Se demuestra por inducción.\n",
    "+ Caso base:\n",
    "\n",
    "```sesion\n",
    "T(1) = 1 = 1 + log 1\n",
    "```\n",
    "\n",
    "+ Caso inductivo:\n",
    "\n",
    "```sesion\n",
    "T(n) \n",
    "= 1 + T(n/2)           [por coste de potencia]\n",
    "= 1 + (1 + log(n/2))   [por hipótesis de inducción]\n",
    "= 1 + (1 + log n - 1)  [por álgebra]\n",
    "= 1 + log n            [por álgebra]\n",
    "```"
   ]
  },
  {
   "cell_type": "markdown",
   "metadata": {},
   "source": [
    "# Complejidad de la función inversa"
   ]
  },
  {
   "cell_type": "markdown",
   "metadata": {},
   "source": [
    "## Especificación de la función inversa\n",
    "\n",
    "+ (inversa xs) es la lista obtenida escribiendo los elementos de xs en orden\n",
    "  inverso. Por ejemplo,\n",
    "\n",
    "```sesion\n",
    "inversa [3,2,5,7] ==  [7,5,2,3]\n",
    "```"
   ]
  },
  {
   "cell_type": "markdown",
   "metadata": {},
   "source": [
    "## Primera definición de inversa: inversa1"
   ]
  },
  {
   "cell_type": "code",
   "execution_count": 13,
   "metadata": {},
   "outputs": [],
   "source": [
    "inversa1 :: [a] -> [a]\n",
    "inversa1 []     = []\n",
    "inversa1 (x:xs) = inversa1 xs ++ [x]"
   ]
  },
  {
   "cell_type": "markdown",
   "metadata": {},
   "source": [
    "## Coste de inversa1\n",
    "\n",
    "+ Las ecuaciones del coste de inversa1 son\n",
    "\n",
    "```sesion\n",
    "T(0)   = 1\n",
    "T(n+1) = T(n) + n + 1\n",
    "```\n",
    "\n",
    "+ Por tanto, inversa1 ∈ O(n²)\n",
    "\n",
    "+ Nota: Las ecuaciones de coste se pueden resolver con\n",
    "  [Wolfram Alpha](http://bit.ly/1FIIqDy). "
   ]
  },
  {
   "cell_type": "markdown",
   "metadata": {},
   "source": [
    "## Segunda definición de inversa: inversa2"
   ]
  },
  {
   "cell_type": "code",
   "execution_count": 14,
   "metadata": {},
   "outputs": [],
   "source": [
    "inversa2 :: [a] -> [a]\n",
    "inversa2 xs = aux [] xs\n",
    "    where aux ys []     = ys\n",
    "          aux ys (x:xs) = aux (x:ys) xs"
   ]
  },
  {
   "cell_type": "markdown",
   "metadata": {},
   "source": [
    "## Coste de inversa2\n",
    "\n",
    "+ Las ecuaciones del coste de inversa2 son\n",
    "\n",
    "```sesion\n",
    "T(0)   = 1\n",
    "T(n+1) = 1 + T(n) \n",
    "```\n",
    "\n",
    "+ Por tanto, inversa1 ∈ O(n)\n",
    "\n",
    "+ Nota: Las ecuaciones de coste se pueden resolver con\n",
    "  [Wolfram Alpha](http://bit.ly/18bkQ7x). "
   ]
  },
  {
   "cell_type": "markdown",
   "metadata": {},
   "source": [
    "## Comparación gráfica de costes de inversa1 e inversa2\n",
    "\n",
    "> ![](fig/inversa.png)"
   ]
  },
  {
   "cell_type": "markdown",
   "metadata": {},
   "source": [
    "# Apéndices"
   ]
  },
  {
   "cell_type": "markdown",
   "metadata": {},
   "source": [
    "## Algunas recurrencias simples para el cálculo de coste\n",
    "\n",
    "    +--------------------+------------+-------------+\n",
    "    | Ecuaciones         | Orden      | Ejemplo     |\n",
    "    |--------------------|------------|-------------|\n",
    "    | T(1) = k           | O(1)       | suma2       |\n",
    "    |--------------------|------------|-------------|\n",
    "    | T(1)   = k         | O(n)       | suma        |\n",
    "    | T(n+1) = T(n)+k'   |            |             |\n",
    "    |--------------------|------------|-------------|\n",
    "    | T(1)   = k         | O(n²)      | sumaDeSumas |\n",
    "    | T(n+1) = T(n)+n    |            |             |\n",
    "    |--------------------|------------|-------------|\n",
    "    | T(1)   = k         | O(log(n))  | potencia    |\n",
    "    | T(n)   = T(n/2)+k' |            |             |\n",
    "    |--------------------|------------|-------------|\n",
    "    | T(0)   = k         | O(2ⁿ)      | raiz        |\n",
    "    | T(n+1) = 2T(n)+k'  |            |             |\n",
    "    |--------------------|------------|-------------|\n",
    "    | T(1)   = k         | O(nlog(n)) | ordenación  |\n",
    "    | T(n)   = 2T(n/2)+n |            | por mezcla  |\n",
    "    +--------------------+------------+-------------+"
   ]
  },
  {
   "cell_type": "markdown",
   "metadata": {},
   "source": [
    "## Teorema maestro para el cálculo de coste\n",
    "\n",
    "> ![](fig/teorema_fundamental.png)\n",
    "\n",
    "+ Demostración en la página 16 de los\n",
    "  [Apuntes sobre el cálculo de la eficiencia de los algoritmos](http://bit.ly/1DFiHw6)\n",
    "  de J.L. Balcázar."
   ]
  },
  {
   "cell_type": "markdown",
   "metadata": {},
   "source": [
    "## Complejidades de los algoritmos habituales\n",
    "\n",
    "+ En [esta página](http://bigocheatsheet.com) se muestra las complejidades de\n",
    "  los algoritmos habituales."
   ]
  },
  {
   "cell_type": "markdown",
   "metadata": {},
   "source": [
    "# Bibliografía\n",
    "\n",
    "+ J.L. Balcázar\n",
    "  [Apuntes sobre el cálculo de la eficiencia de los algoritmos](http://bit.ly/1DFiHw6). \n",
    "\n",
    "+ R. Bird [Thinking functionally with Haskell](http://bit.ly/18Ao9X1).\n",
    "    + Cap. 7: Efficiency.\n",
    "\n",
    "+ M. Clarkson [Data structures and functional programming](http://bit.ly/1aHT6Jv)\n",
    "    + Reasoning about performance:\n",
    "      [Efficiency](http://bit.ly/1aHTo31),\n",
    "      [recurrences](http://bit.ly/1aHTA2g),\n",
    "      [amortized analysis](http://bit.ly/1aHTEPt) y\n",
    "      [recurrences, part 2](http://bit.ly/1aHTOX2). \n",
    "\n",
    "+ R. Peña\n",
    "  [Diseño de programas (formalismo y abstracción)](http://bit.ly/17JU4Dj)\n",
    "    + Cap. 1: La eficiencia de los algoritmos. \n",
    "\n",
    "+ F. Rabhi y G. Lapalme\n",
    "  [Algorithms: A functional programming approach](http://bit.ly/1G5Zh6Y).\n",
    "    + Cap. 3: The efficiency of functional programs.\n",
    "\n",
    "+ S. Thompson\n",
    "  [Haskell: the craft of functional programming](http://bit.ly/1zPhSgj).\n",
    "    + Cap. 20: Time and space behaviour.\n",
    "\n",
    "+ Wikipedia:\n",
    "    + [Análisis de algoritmos](http://bit.ly/1BsCsYF).\n",
    "    + [Big O notation](http://bit.ly/1DFleWZ).\n",
    "    + [Notación de Landau](http://bit.ly/1DFl3uX).\n",
    "    + [Teorema maestro](http://bit.ly/1BsCkbv).\n",
    "\n",
    "+ R. Pattis\n",
    "  [Complexity of Python operations](http://bit.ly/1NHJTy3)"
   ]
  }
 ],
 "metadata": {
  "kernelspec": {
   "display_name": "Haskell",
   "language": "haskell",
   "name": "haskell"
  },
  "language_info": {
   "codemirror_mode": "ihaskell",
   "file_extension": ".hs",
   "name": "haskell",
   "pygments_lexer": "Haskell",
   "version": "8.6.5"
  },
  "toc-autonumbering": true
 },
 "nbformat": 4,
 "nbformat_minor": 4
}
