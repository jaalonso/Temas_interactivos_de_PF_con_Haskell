{
 "cells": [
  {
   "cell_type": "markdown",
   "metadata": {},
   "source": [
    "<span style=\"font-size:2em; color:blue\">\n",
    "    Tema 24: Técnicas de diseño ascendente de algoritmos\n",
    "</span>  \n",
    "\n",
    "----------\n",
    "\n",
    "[José A. Alonso](https://www.cs.us.es/~jalonso)  \n",
    "[Departamento de Ciencias de la Computación e I.A.](https://www.cs.us.es)  \n",
    "[Universidad de Sevilla](http://www.us.es)  \n",
    "Sevilla, 20 de agosto de 2019"
   ]
  },
  {
   "cell_type": "markdown",
   "metadata": {},
   "source": [
    "> __Notas:__ \n",
    "+ La versión interactiva de este tema se encuentra en [Binder](https://mybinder.org/v2/gh/jaalonso/Temas_interactivos_de_PF_con_Haskell/master?urlpath=lab/tree/temas/Tema-24.ipynb).\n",
    "+ Se desactiva el [corrector estilo de Haskell](https://github.com/gibiansky/IHaskell/wiki#opt-no-lint)."
   ]
  },
  {
   "cell_type": "code",
   "execution_count": 1,
   "metadata": {},
   "outputs": [],
   "source": [
    ":opt no-lint"
   ]
  },
  {
   "cell_type": "markdown",
   "metadata": {},
   "source": [
    "# Programación dinámica"
   ]
  },
  {
   "cell_type": "markdown",
   "metadata": {},
   "source": [
    "## Introducción a la programación dinámica\n",
    "\n",
    "**Divide y vencerás vs programación dinámica**\n",
    "\n",
    "+ Inconveniente de la técnica divide y vencerás: la posibilidad de crear\n",
    "  idénticos supbroblemas y repetición del trabajo.\n",
    "\n",
    "+ Idea de la programación dinámica: resolver primero los subproblemas menores,\n",
    "  guardar los resultados y usar los resultados de los subproblemas intermedios\n",
    "  para resolver los mayores.\n",
    " \n",
    "**Cálculo de Fibonacci por divide y vencerás**\n",
    "\n",
    "+ Definición de Fibonacci por divide y vencerás."
   ]
  },
  {
   "cell_type": "code",
   "execution_count": 2,
   "metadata": {},
   "outputs": [],
   "source": [
    "fib 0 = 0\n",
    "fib 1 = 1\n",
    "fib n = fib (n-1) + fib (n-2)"
   ]
  },
  {
   "cell_type": "markdown",
   "metadata": {},
   "source": [
    "+ Cálculo de (fib 4) por divide y vencerás\n",
    "\n",
    "```sesion\n",
    "                      fib 4\n",
    "                     /     \\\n",
    "              +-----+       +--+ \n",
    "              |                |\n",
    "            fib 3             fib 2 \n",
    "           /     \\           /     \\\n",
    "      fib 2       fib 1 fib 1       fib 0\n",
    "     /     \\\n",
    "fib 1       fib 0\n",
    "```\n",
    "\n",
    "+ Calcula 2 veces (fib 2) y 3 veces (fib 1) y (fib 0).\n",
    "\n",
    "**Cálculo de Fibonacci por programación dinámica**\n",
    "\n",
    "+ Cálculo de (fib 4) por programación dinámica\n",
    "\n",
    "```sesion\n",
    "fib 0\n",
    " |    fib 1\n",
    " |     |\n",
    " +-----+=== fib 2    \n",
    "       |     |\n",
    "       +-----+=== fib 3\n",
    "             |     |\n",
    "             +-----+=== fib 4\n",
    "```"
   ]
  },
  {
   "cell_type": "markdown",
   "metadata": {},
   "source": [
    "## El patrón de la programación dinámica"
   ]
  },
  {
   "cell_type": "markdown",
   "metadata": {},
   "source": [
    "**Nota:** Usa el TAD Tabla de la librería \n",
    "[I1M](http://hackage.haskell.org/package/I1M-0.0.2)."
   ]
  },
  {
   "cell_type": "code",
   "execution_count": 3,
   "metadata": {},
   "outputs": [],
   "source": [
    "module Dinamica (module I1M.Tabla, dinamica)  where\n",
    "\n",
    "import I1M.Tabla\n",
    "import Data.Array\n",
    "\n",
    "dinamica :: Ix i => (Tabla i v -> i -> v) -> (i,i) -> Tabla i v\n",
    "dinamica calcula cotas = t\n",
    "  where t = tabla [(i,calcula t i) | i <- range cotas]"
   ]
  },
  {
   "cell_type": "markdown",
   "metadata": {},
   "source": [
    "+ Notas: \n",
    "    + `(calcula t i)` es el valor del índice `i` calculado a partir de los\n",
    "      anteriores que ya se encuentran en la tabla `t`.\n",
    "    + `cotas` son las cotas de la matriz `t` en la que se almacenan los valores\n",
    "      calculados."
   ]
  },
  {
   "cell_type": "markdown",
   "metadata": {},
   "source": [
    "# Fibonacci como ejemplo de programación dinámica"
   ]
  },
  {
   "cell_type": "markdown",
   "metadata": {},
   "source": [
    "## Definición de Fibonacci mediante programación dinámica\n",
    "\n",
    "+ Importación del patrón de programación dinámica"
   ]
  },
  {
   "cell_type": "code",
   "execution_count": 4,
   "metadata": {},
   "outputs": [],
   "source": [
    "import Dinamica\n",
    "\n",
    "-- ---------------------------------------------------------------------\n",
    "-- Fibonacci como ejemplo de programación dinámica.                   --\n",
    "-- ---------------------------------------------------------------------\n",
    "\n",
    "-- (fib n) es el n-ésimo término de la sucesión de Fibonacci, calculado\n",
    "-- mediante programación dinámica. Por ejemplo, \n",
    "--    fib 8  ==  21\n",
    "fib :: Int -> Integer\n",
    "fib n = valor t n\n",
    "  where t = dinamica calculaFib (cotasFib n) \n",
    "\n",
    "-- (calculaFib t i) es el valor de i-ésimo término de la sucesión de\n",
    "-- Fibonacci calculado mediante la tabla t que contiene los\n",
    "-- anteriores. Por ejemplo,\n",
    "--    calculaFib (tabla []) 0                                     ==  0\n",
    "--    calculaFib (tabla [(0,0)]) 1                                ==  1\n",
    "--    calculaFib (tabla [(0,0),(1,1)]) 2                          ==  1\n",
    "--    calculaFib (tabla [(0,0),(1,1),(2,1)]) 3                    ==  2\n",
    "--    calculaFib (tabla [(0,0),(1,1),(2,1),(3,2)]) 4              ==  3\n",
    "--    calculaFib (tabla [(0,0),(1,1),(2,1),(3,2),(4,3)]) 5        ==  5\n",
    "--    calculaFib (tabla [(0,0),(1,1),(2,1),(3,2),(4,3),(5,5)]) 6  ==  8\n",
    "-- Además,\n",
    "--    ghci> dinamica calculaFib (0,8)\n",
    "--    Tbl [(0,0),(1,1),(2,1),(3,2),(4,3),(5,5),(6,8),(7,13),(8,21)]\n",
    "calculaFib :: Tabla Int Integer -> Int -> Integer\n",
    "calculaFib _ 0 = 0\n",
    "calculaFib _ 1 = 1\n",
    "calculaFib t i = valor t (i-1) + valor t (i-2)\n",
    "\n",
    "-- (cotasFib n) son las cotas del vector que se necesita para calcular\n",
    "-- el n-ésimo término de la sucesión de Fibonacci mediante programación\n",
    "-- dinámica. \n",
    "cotasFib :: Int -> (Int,Int)\n",
    "cotasFib n = (0,n)\n",
    "\n",
    "-- ---------------------------------------------------------------------\n",
    "-- Fibonacci mediante divide y vencerás                               --\n",
    "-- ---------------------------------------------------------------------\n",
    "\n",
    "-- (fibR n) es el n-ésimo término de la sucesión de Fibonacci calculado\n",
    "-- mediante divide y vencerás. Por ejemplo, \n",
    "--    fibR 8  ==  21\n",
    "fibR :: Int -> Integer\n",
    "fibR 0 = 0\n",
    "fibR 1 = 1\n",
    "fibR n = fibR (n-1) + fibR (n-2)\n",
    "\n",
    "-- Comparación\n",
    "--    ghci> fib 20\n",
    "--    6765\n",
    "--    (0.01 secs, 524824 bytes)\n",
    "--    ghci> fibR 20\n",
    "--    6765\n",
    "--    (0.06 secs, 2165236 bytes)\n",
    "--    ghci> fib 30\n",
    "--    832040\n",
    "--    (0.01 secs, 0 bytes)\n",
    "--    ghci> fibR 30\n",
    "--    832040\n",
    "--    (6.46 secs, 222602404 bytes)\n",
    "\n",
    "-- ---------------------------------------------------------------------\n",
    "-- Fibonacci mediante programación dinámica con listas infinitas      --\n",
    "-- ---------------------------------------------------------------------\n",
    "\n",
    "-- fibs es la lista de los términos de la sucesión de Fibonacci. Por\n",
    "-- ejemplo, \n",
    "--    take 10 fibs  ==  [0,1,1,2,3,5,8,13,21,34]\n",
    "fibs :: [Integer]\n",
    "fibs = 0:1:[x+y | (x,y) <- zip fibs (tail fibs)]\n",
    "\n",
    "-- (fib' n) es el n-ésimo término de la sucesión de Fibonacci, calculado\n",
    "-- a partir de fibs. Por ejemplo, \n",
    "--    fib' 8  ==  21\n",
    "fib' :: Int -> Integer\n",
    "fib' n = fibs!!n\n",
    "\n",
    "-- Comparaciones:\n",
    "--    ghci> fib 30\n",
    "--    832040\n",
    "--    (0.02 secs, 524808 bytes)\n",
    "--    ghci> fib' 30\n",
    "--    832040\n",
    "--    (0.01 secs, 542384 bytes)"
   ]
  },
  {
   "cell_type": "code",
   "execution_count": 5,
   "metadata": {},
   "outputs": [
    {
     "data": {
      "text/plain": [
       "21"
      ]
     },
     "metadata": {},
     "output_type": "display_data"
    },
    {
     "data": {
      "text/plain": [
       "21"
      ]
     },
     "metadata": {},
     "output_type": "display_data"
    },
    {
     "data": {
      "text/plain": [
       "21"
      ]
     },
     "metadata": {},
     "output_type": "display_data"
    }
   ],
   "source": [
    "fib 8\n",
    "fibR 8\n",
    "fib' 8"
   ]
  },
  {
   "cell_type": "markdown",
   "metadata": {},
   "source": [
    "Se puede medir el tiempo de evaluación con la función`tiempo` definida como sigue"
   ]
  },
  {
   "cell_type": "code",
   "execution_count": 6,
   "metadata": {},
   "outputs": [],
   "source": [
    "import System.TimeIt (timeIt)\n",
    "import Control.Exception (evaluate)\n",
    "\n",
    "tiempo :: a -> IO a\n",
    "tiempo = timeIt . evaluate"
   ]
  },
  {
   "cell_type": "code",
   "execution_count": 7,
   "metadata": {},
   "outputs": [
    {
     "data": {
      "text/plain": [
       "CPU time:   0.00s\n",
       "832040"
      ]
     },
     "metadata": {},
     "output_type": "display_data"
    },
    {
     "data": {
      "text/plain": [
       "CPU time:   0.86s\n",
       "832040"
      ]
     },
     "metadata": {},
     "output_type": "display_data"
    },
    {
     "data": {
      "text/plain": [
       "CPU time:   0.00s\n",
       "832040"
      ]
     },
     "metadata": {},
     "output_type": "display_data"
    }
   ],
   "source": [
    "tiempo (fib  30)\n",
    "tiempo (fibR 30)\n",
    "tiempo (fib' 30)"
   ]
  },
  {
   "cell_type": "code",
   "execution_count": 8,
   "metadata": {},
   "outputs": [
    {
     "data": {
      "text/plain": [
       "CPU time:   0.00s\n",
       "176023680645013966468226945392411250770384383304492191886725992896575345044216019675"
      ]
     },
     "metadata": {},
     "output_type": "display_data"
    },
    {
     "data": {
      "text/plain": [
       "CPU time:   0.00s\n",
       "176023680645013966468226945392411250770384383304492191886725992896575345044216019675"
      ]
     },
     "metadata": {},
     "output_type": "display_data"
    }
   ],
   "source": [
    "tiempo (fib  400)\n",
    "tiempo (fib' 400)"
   ]
  },
  {
   "cell_type": "markdown",
   "metadata": {},
   "source": [
    "# Producto de cadenas de matrices (PCM)"
   ]
  },
  {
   "cell_type": "markdown",
   "metadata": {},
   "source": [
    "## Descripción del problema PCM\n",
    "\n",
    "+ Para multiplicar una matriz de orden m x p y otra de orden p x n se necesitan\n",
    "  m x n x p multiplicaciones de elementos.\n",
    "  \n",
    "+ El problema del producto de una cadena de matrices (en inglés, \"matrix chain\n",
    "  multiplication\") consiste en dada una sucesión de matrices encontrar la\n",
    "  manera de multiplicarlas usando el menor número de productos de elementos.\n",
    "  \n",
    "+ Ejemplo: Dada la sucesión de matrices  \n",
    "  A (30 x 1), B (1 x 40), C (40 x 10), D (10 x 25)  \n",
    "  las productos necesarios en las posibles asociaciones son \n",
    "\n",
    "```sesion\n",
    "((AB)C)D  30 x  1 x 40 + 30 x 40 x 10 + 30 x 10 x 25 = 20700\n",
    "A(B(CD))  40 x 10 x 25 +  1 x 40 x 25 + 30 x  1 x 25 = 11750\n",
    "(AB)(CD)  30 x  1 x 40 + 40 x 10 x 25 + 30 x 40 x 25 = 41200\n",
    "A((BC)D)   1 x 40 x 10 +  1 x 10 x 25 + 30 x  1 x 25 =  1400 \n",
    "(A(BC))D   1 x 40 x 10 + 30 x  1 x 10 + 30 x 10 x 25 =  8200 \n",
    "```"
   ]
  },
  {
   "cell_type": "markdown",
   "metadata": {},
   "source": [
    "## El algoritmo del PCM\n",
    "\n",
    "+ El PCM correspondiente a la sucesión d(0), ...,d(n) consiste en encontrar la\n",
    "  manera de multiplicar una sucesión de matrices A(1), ...,A(n) (tal que el\n",
    "  orden de A(i) es d(i-1) x d(i)) usando el menor número de productos de\n",
    "  elementos.\n",
    "\n",
    "+ Sea c(i,j) el mínimo número de multiplicaciones necesarias para\n",
    "  multiplicar la cadena A(i), ..., A(j) (1 ≤ i ≤ j ≤ n).\n",
    "\n",
    "+ Relación de recurrencia de c(i,j):\n",
    "\n",
    "```sesion\n",
    "c(i,i) = 0\n",
    "c(i,j) = minimo {c(i,k)+c(k+1,j)+d(i-1)*d(k)*d(j) | i ≤ k < j} \n",
    "```\n",
    "  \n",
    "+ La solución del problema es c(1,n).\n",
    "\n",
    "**El algoritmo del PCM**\n",
    "\n",
    "![](fig/PCM.png)"
   ]
  },
  {
   "cell_type": "markdown",
   "metadata": {},
   "source": [
    "## Solución del PCM mediante programación dinámica"
   ]
  },
  {
   "cell_type": "code",
   "execution_count": 9,
   "metadata": {},
   "outputs": [],
   "source": [
    "module ProductoDeCadenaDeMatrices where\n",
    "\n",
    "-- ---------------------------------------------------------------------\n",
    "-- Descripción del problema                                           --\n",
    "-- ---------------------------------------------------------------------\n",
    "\n",
    "-- Para multiplicar una matriz de orden m*p y otra de orden p*n se\n",
    "-- necesitan mnp multiplicaciones de elementos.\n",
    "\n",
    "-- El problema del producto de una cadena de matrices (en inglés,\n",
    "-- \"matrix chain multiplication\") consiste en dada una sucesión de\n",
    "-- matrices encontrar la manera de multiplicarlas usando el menor número\n",
    "-- de productos de elementos.   \n",
    "\n",
    "-- Ejemplo: Dada la sucesión de matrices\n",
    "--    A (30 x 1), B (1 x 40), C (40 x 10), D (10 x 25)\n",
    "-- las productos necesarios en las posibles asociaciones son\n",
    "--    ((AB)C)D  30 x  1 x 40 + 30 x 40 x 10 + 30 x 10 x 25 = 20700\n",
    "--    A{B{CD))  40 x 10 x 25 +  1 x 40 x 25 + 30 x  1 x 25 = 11750\n",
    "--    (AB)(CD)  30 x  1 x 40 + 40 x 10 x 25 + 30 x 40 x 25 = 41200\n",
    "--    A((BC)D)   1 x 40 x 10 +  1 x 10 x 25 + 30 x  1 x 25 =  1400 \n",
    "--    (A(BC))D  1  x 40 x 10 + 30 x  1 x 10 + 30 x 10 x 25 =  8200 \n",
    "\n",
    "-- ---------------------------------------------------------------------\n",
    "-- El algoritmo                                                       --\n",
    "-- ---------------------------------------------------------------------\n",
    "\n",
    "-- Sea ds=[d_0,...,d_n)] una sucesión de números naturales.\n",
    "\n",
    "-- A_1,...,A_n es una cadena de matrices de tipo ds si para cada i, A_i es\n",
    "-- una matriz de orden d_(i-1)xd_i.\n",
    "\n",
    "-- c(i,j) es el mínimo número de multiplicaciones para multiplicar la\n",
    "-- cadena Ai,...,Aj (1<=i<=j<=n).\n",
    "\n",
    "-- Relación de recurrencia de c(i,j):\n",
    "-- + c(i,i) = 0\n",
    "-- + c(i,j) = min { c(i,k)+c(k+1,j)+d_(i-1)*d_k*d_j | i<=k<=j}\n",
    "\n",
    "-- La solución del problema es c(1,n).\n",
    "\n",
    "-- ---------------------------------------------------------------------\n",
    "-- Importación de librerías auxiliares                                --\n",
    "-- ---------------------------------------------------------------------\n",
    "\n",
    "import Dinamica\n",
    "\n",
    "-- ---------------------------------------------------------------------\n",
    "-- Solución mediante programación dinámica                            --\n",
    "-- ---------------------------------------------------------------------\n",
    "\n",
    "-- Cadena representa el producto de una cadena de matrices. Por ejemplo,\n",
    "--    ghci> P (A 1) (P (A 2) (A 3))\n",
    "--    (A1*(A2*A3))\n",
    "--    ghci> P (P (A 1) (A 2)) (A 3)\n",
    "--    ((A1*A2)*A3)\n",
    "data Cadena = A Int \n",
    "            | P Cadena Cadena\n",
    "\n",
    "instance Show Cadena where\n",
    "  show (A x)     = \"A\" ++ show x\n",
    "  show (P p1 p2) = concat [\"(\", show p1, \"*\", show p2, \")\"]\n",
    "\n",
    "-- Los índices de la matriz de cálculo son de la forma (i,j) y sus\n",
    "-- valores (v,k) donde v es el mínimo número de multiplicaciones\n",
    "-- necesarias para multiplicar la cadena Ai,...,Aj y k es la posición\n",
    "-- donde dividir la cadena de forma óptima.\n",
    "type IndicePCM = (Int,Int)\n",
    "type ValorPCM  = (Int,Int)\n",
    "\n",
    "-- (pcm ds) es la el par formado por el número de multiplicaciones\n",
    "-- elementales de la cadena óptima para multiplicar las matrices A1, A2, ...\n",
    "-- tales que sus dimensiones son (d1*d2), (d2*d3), ... donde [d1,d2,...]\n",
    "-- es ds y la cadena. Por ejemplo,  \n",
    "--    ghci> pcm [30,1,40,10,25]\n",
    "--    (1400,(A1*((A2*A3)*A4)))\n",
    "pcm :: [Int] -> (Int, Cadena)\n",
    "pcm ds = (v, cadena t 1 n)\n",
    "  where n     = length ds - 1\n",
    "        t     = dinamica (calculaPCM ds) (cotasPCM n)\n",
    "        (v,_) = valor t (1,n)\n",
    "\n",
    "-- (calculaPCM ds t (i,j)) es el valor del índice (i,j) calculado a\n",
    "-- partir de la lista ds de dimensiones de las matrices y la tabla t de\n",
    "-- valores previamente calculados.\n",
    "calculaPCM :: [Int] -> Tabla IndicePCM ValorPCM -> IndicePCM -> ValorPCM\n",
    "calculaPCM ds t (i,j) \n",
    "  | i == j    = (0,i)\n",
    "  | otherwise = minimum [(fst(valor t (i,k)) \n",
    "                          + fst(valor t (k+1,j)) \n",
    "                          + ds!!(i-1) * ds!!k * ds!!j, k) \n",
    "                         | k <- [i..j-1]]\n",
    "\n",
    "-- (cotasPCM n) son las cotas de los índices para el producto de una\n",
    "-- cadena de n matrices.\n",
    "cotasPCM :: Int -> (IndicePCM,IndicePCM)\n",
    "cotasPCM n = ((1,1),(n,n)) \n",
    "\n",
    "-- (cadena t i j) es la cadena que resultar de agrupar las matrices\n",
    "-- Ai,...,Aj según los valores de la tabla t.\n",
    "cadena :: Tabla IndicePCM ValorPCM -> Int -> Int -> Cadena\n",
    "cadena t i j \n",
    "  | i == j-1  = P (A i) (A j)\n",
    "  | k == i    = P (A i) (cadena t (i+1) j)\n",
    "  | k == j-1  = P (cadena t i (j-1)) (A j)\n",
    "  | otherwise = P (cadena t i (k-1)) (cadena t k j)\n",
    "  where (_,k) = valor t (i,j)\n",
    "\n",
    "-- (pcm' ds) es la lista de los índices y valores usados en el cálculo\n",
    "-- de la cadena óptima para multiplicar las matrices A1, A2, ... tales\n",
    "-- que sus dimensiones son (d1*d2), (d2*d3), ... donde [d1,d2,...] es\n",
    "-- ds. Por ejemplo,   \n",
    "--    ghci> pcm' [30,1,40,10,25]\n",
    "--    [((1,1),(0,1)),((1,2),(1200,1)),((1,3),(700,1)),((1,4),(1400,1)),\n",
    "--     ((2,2),(0,2)),((2,3),(400,2)),((2,4),(650,3)),\n",
    "--     ((3,3),(0,3)),((3,4),(10000,3)),\n",
    "--     ((4,4),(0,4))]\n",
    "pcm' :: [Int] -> [((Int, Int), ValorPCM)]\n",
    "pcm' ds = [((i,j),valor t (i,j)) | i <- [1..n], j <- [i..n]] \n",
    "    where n = length ds - 1\n",
    "          t = dinamica (calculaPCM ds) (cotasPCM n)\n",
    "\n",
    "-- ---------------------------------------------------------------------\n",
    "-- Solución mediante divide y vencerás                                --\n",
    "-- ---------------------------------------------------------------------\n",
    "\n",
    "-- (pcmDyV ds) es la el par formado por el número de multiplicaciones\n",
    "-- elementales de la cadena óptima para multiplicar las matrices \n",
    "-- A1, A2, ...tales que sus dimensiones son (d1*d2), (d2*d3), ... donde\n",
    "-- [d1,d2,...] es ds y la cadena, calculada mediante divide y\n",
    "-- vencerás. Por ejemplo,   \n",
    "--    ghci> pcmDyV [30,1,40,10,25]\n",
    "--    (1040,(A1*((A2*A3)*A4)))\n",
    "pcmDyV :: [Int] -> (Int, Cadena)\n",
    "pcmDyV ds = cadenaDyV ds 1 n\n",
    "  where n = length ds - 1\n",
    "         \n",
    "-- (cadenaDyV ds i j) es el par formado por el número de\n",
    "-- multiplicaciones elementales de la cadena óptima para multiplicar las\n",
    "-- matrices  Ai, ..., Aj tales que sus dimensiones son \n",
    "-- (di*d_(i+1)), ... (d_(j-1)*dj), donde [d1,d2,...] es ds y la cadena,\n",
    "-- calculada mediante divide y vencerás. Por ejemplo,   \n",
    "--    cadenaDyV [30,1,40,10,25] 1 4  ==  (1040,(A1*((A2*A3)*A4)))\n",
    "--    cadenaDyV [30,1,40,10,25] 2 4  ==  (290,((A2*A3)*A4))\n",
    "cadenaDyV :: [Int] -> Int -> Int -> (Int, Cadena)\n",
    "cadenaDyV ds i j \n",
    "  | i == j    = (0, A i)\n",
    "  | i == j-1  = (ds!!1*ds!!2, P (A i) (A j))\n",
    "  | k == i    = (v, P (A i) (subcadena (i+1) j))\n",
    "  | k == j-1  = (v, P (subcadena i (j-1)) (A j))\n",
    "  | otherwise = (v, P (subcadena i (k-1)) (subcadena k j))\n",
    "  where (v,k) = minimum [(valor' i k' \n",
    "                          + valor' (k'+1) j \n",
    "                          + ds!!(i-1) * ds!!k' * ds!!j\n",
    "                         , k') \n",
    "                         | k' <- [i..j-1]]\n",
    "        valor' p q    = fst (cadenaDyV ds p q)\n",
    "        subcadena p q = snd (cadenaDyV ds p q)\n",
    "\n",
    "-- ---------------------------------------------------------------------\n",
    "-- Comparación de las soluciones                                      --\n",
    "-- ---------------------------------------------------------------------\n",
    "\n",
    "--    ghci> :set +s\n",
    "--    ghci> fst (pcm [1..20])\n",
    "--    2658\n",
    "--    (0.80 secs, 39158964 bytes)\n",
    "--    ghci> fst (pcmDyV [1..20])\n",
    "--    1374\n",
    "--    (2871.47 secs, 133619742764 bytes)"
   ]
  },
  {
   "cell_type": "code",
   "execution_count": 10,
   "metadata": {},
   "outputs": [
    {
     "data": {
      "text/plain": [
       "(1400,(A1*((A2*A3)*A4)))"
      ]
     },
     "metadata": {},
     "output_type": "display_data"
    }
   ],
   "source": [
    "pcm [30,1,40,10,25]"
   ]
  },
  {
   "cell_type": "code",
   "execution_count": 11,
   "metadata": {},
   "outputs": [
    {
     "data": {
      "text/plain": [
       "((1,1),(0,1))\n",
       "((1,2),(1200,1))\n",
       "((1,3),(700,1))\n",
       "((1,4),(1400,1))\n",
       "((2,2),(0,2))\n",
       "((2,3),(400,2))\n",
       "((2,4),(650,3))\n",
       "((3,3),(0,3))\n",
       "((3,4),(10000,3))\n",
       "((4,4),(0,4))"
      ]
     },
     "metadata": {},
     "output_type": "display_data"
    }
   ],
   "source": [
    "mapM_ print (pcm' [30,1,40,10,25])"
   ]
  },
  {
   "cell_type": "code",
   "execution_count": 12,
   "metadata": {},
   "outputs": [
    {
     "data": {
      "text/plain": [
       "(1040,(A1*((A2*A3)*A4)))"
      ]
     },
     "metadata": {},
     "output_type": "display_data"
    }
   ],
   "source": [
    "pcmDyV [30,1,40,10,25]"
   ]
  },
  {
   "cell_type": "code",
   "execution_count": 13,
   "metadata": {},
   "outputs": [
    {
     "data": {
      "text/plain": [
       "(1040,(A1*((A2*A3)*A4)))"
      ]
     },
     "metadata": {},
     "output_type": "display_data"
    }
   ],
   "source": [
    "cadenaDyV [30,1,40,10,25] 1 4"
   ]
  },
  {
   "cell_type": "code",
   "execution_count": 14,
   "metadata": {},
   "outputs": [
    {
     "data": {
      "text/plain": [
       "(290,((A2*A3)*A4))"
      ]
     },
     "metadata": {},
     "output_type": "display_data"
    }
   ],
   "source": [
    "cadenaDyV [30,1,40,10,25] 2 4"
   ]
  },
  {
   "cell_type": "code",
   "execution_count": 15,
   "metadata": {},
   "outputs": [],
   "source": [
    "import System.TimeIt (timeIt)\n",
    "import Control.Exception (evaluate)\n",
    "\n",
    "tiempo :: a -> IO a\n",
    "tiempo = timeIt . evaluate"
   ]
  },
  {
   "cell_type": "code",
   "execution_count": 16,
   "metadata": {},
   "outputs": [
    {
     "data": {
      "text/plain": [
       "CPU time:   0.00s\n",
       "1358"
      ]
     },
     "metadata": {},
     "output_type": "display_data"
    },
    {
     "data": {
      "text/plain": [
       "CPU time:   0.59s\n",
       "714"
      ]
     },
     "metadata": {},
     "output_type": "display_data"
    }
   ],
   "source": [
    "tiempo (fst (pcm [1..16]))\n",
    "tiempo (fst (pcmDyV [1..16]))"
   ]
  },
  {
   "cell_type": "markdown",
   "metadata": {},
   "source": [
    "# Árboles binarios de búsqueda optimales (ABBO)"
   ]
  },
  {
   "cell_type": "markdown",
   "metadata": {},
   "source": [
    "## Descripción del problema de ABBO\n",
    "\n",
    "+ Para cada clave c(i), sea p(i) la probabilidad de acceso a c(i).\n",
    "\n",
    "+ Un árbol binario de búsqueda es optimal (ABBO) si la media del número\n",
    "  de comparaciones para todas las claves  \n",
    "  a(T) = Σ d(i)p(i)  \n",
    "  donde d(i) es la distancia de la clave c(i) a la raíz (es decir, el\n",
    "  número de comparaciones necesarias para llegar a c(i)), es mínima. "
   ]
  },
  {
   "cell_type": "markdown",
   "metadata": {},
   "source": [
    "## El algoritmo del ABBO\n",
    "\n",
    "+ Sea c(i,j) el mínimo valor a(T) cuando el árbol T contiene las\n",
    "  claves c(i), ...,c(j).\n",
    "\n",
    "+ Relación de recurrencia para calcular c(i,j):\n",
    "    + Si i > j, c(i,j) = 0.\n",
    "    + Si i = j, c(i,j) = p(i).\n",
    "    + Si i < j,   \n",
    "      c(i,j) = min [c(i,k-1) + sum [p(l) | i ≤ l ≤  k-1] + (c(k+1,j) + sum [p(l) | k+1 ≤ l ≤ j] + p(k) | i ≤ k ≤ j]\n",
    "+ El tercer caso puede simplificarse   \n",
    "  c(i,j) = min [c(i,k-1) + c(k+1,j) | i ≤ k ≤ j] + sum [p(l) | i ≤ l ≤ j]"
   ]
  },
  {
   "cell_type": "markdown",
   "metadata": {},
   "source": [
    "## Solución del ABBO mediante programación dinámica"
   ]
  },
  {
   "cell_type": "code",
   "execution_count": 17,
   "metadata": {},
   "outputs": [],
   "source": [
    "module ArbolBusquedaBinariaOptimal where\n",
    "\n",
    "-- ---------------------------------------------------------------------\n",
    "-- Importación de librerías auxiliares                                --\n",
    "-- ---------------------------------------------------------------------\n",
    "\n",
    "import Dinamica\n",
    "import Data.Array\n",
    "\n",
    "-- En la matriz de cálculo del ABBO el valor (v,k) correspondiente al\n",
    "-- índice (i,j) indica que v es el mínimo valor a(T) cuando el árbol T\n",
    "-- contiene las claves c(i), ..., c(j) y que la división óptima se\n",
    "-- obtiene dividiendo las claves en dos mediante c(k). \n",
    "type Indice = (Int,Int)\n",
    "type Valor  = (Float,Int)\n",
    "\n",
    "-- (ABB a) es el tipo de los árboles binarios de búsqueda sobre a.\n",
    "data ABB a = Vacio\n",
    "           | Nodo a (ABB a) (ABB a)\n",
    "  deriving Show\n",
    "\n",
    "-- (abbo cs ps) es el par formado por un ABBO correspondiente a la lista\n",
    "-- de claves cs cuyas correspondientes probabilidades de acceso son los\n",
    "-- elementos de la lista ps y por su valor. Por ejemplo,\n",
    "--    ghci> abbo ([1,3,4,8,10,11,15],[0.22,0.18,0.20,0.05,0.25,0.02,0.08])\n",
    "--    (Nodo 4 (Nodo 1 Vacio \n",
    "--                    (Nodo 3 Vacio Vacio)) \n",
    "--            (Nodo 10 \n",
    "--                  (Nodo 8 Vacio Vacio) \n",
    "--                  (Nodo 15 \n",
    "--                        (Nodo 11 Vacio Vacio) \n",
    "--                        Vacio)),\n",
    "--    2.15)\n",
    "abbo :: ([Int], [Float]) -> (ABB Int, Float)\n",
    "abbo pb = (solucion c t (1,n) , fst (valor t (1,n)))\n",
    "    where (cs,ps) = pb\n",
    "          n       = length ps\n",
    "          c       = listArray (1,n) cs\n",
    "          p       = listArray (1,n) ps\n",
    "          t       = dinamica (calcula p) (cotas n) \n",
    "\n",
    "-- (calcula p t (i,j)) es el valor del índice (i,j) donde p es el vector\n",
    "-- de probabilidades y t es la tabla calculada hasta el momento.\n",
    "calcula :: Array Int Float -> Tabla Indice Valor -> Indice -> Valor\n",
    "calcula p t (i,j) \n",
    "  | i > j     = (0.0,0)\n",
    "  | i == j    = (p!i,i)\n",
    "  | otherwise = suma1 (minimum [(fst(valor t (i,k-1)) \n",
    "                                + fst(valor t (k+1,j)), k) \n",
    "                                | k <- [i..j]])\n",
    "                      (sumaSegmento i j p)\n",
    "  where suma1 (x,y) z = (x+z,y)\n",
    "\n",
    "-- (sumaSegmento i j p) es la suma de los valores de los elementos del\n",
    "-- vector p desde la posición i a la j. Por ejemplo,\n",
    "--    ghci> sumaSegmento 2 4 (array (1,5) [(i,fromIntegral i/2) | i <- [1..5]])\n",
    "--    4.5\n",
    "sumaSegmento :: Int -> Int -> Array Int Float -> Float\n",
    "sumaSegmento i j p = sum [p!l | l <- [i..j]]\n",
    "\n",
    "-- (cotas n) son las cotas de la matriz revesaria para resolver el\n",
    "-- problema del árbol de búsqueda minimal óptimo con n claves.\n",
    "cotas :: Int -> ((Int,Int),(Int,Int))\n",
    "cotas n = ((1,0),(n+1,n))\n",
    "\n",
    "-- (solucion cs c (i,j)) es el ABBO correspondiente a las claves\n",
    "-- c(i),...,c(j) a partir de la tabla de cálculo t.\n",
    "solucion :: Array Int Int -> Tabla Indice Valor -> Indice -> ABB Int\n",
    "solucion cs t (i,j)\n",
    "  | i > j     = Vacio\n",
    "  | i == j    = Nodo c Vacio Vacio\n",
    "  | otherwise = Nodo c (solucion cs t (i,k-1))\n",
    "                       (solucion cs t (k+1,j))\n",
    "  where (_,k) = valor t (i,j)\n",
    "        c     = cs ! k"
   ]
  },
  {
   "cell_type": "code",
   "execution_count": 18,
   "metadata": {},
   "outputs": [
    {
     "data": {
      "text/plain": [
       "(Nodo 4 (Nodo 1 Vacio (Nodo 3 Vacio Vacio)) (Nodo 10 (Nodo 8 Vacio Vacio) (Nodo 15 (Nodo 11 Vacio Vacio) Vacio)),2.15)"
      ]
     },
     "metadata": {},
     "output_type": "display_data"
    }
   ],
   "source": [
    "abbo ([1,3,4,8,10,11,15],[0.22,0.18,0.20,0.05,0.25,0.02,0.08])"
   ]
  },
  {
   "cell_type": "markdown",
   "metadata": {},
   "source": [
    "# Caminos mínimos entre todos los pares de nodos de un grafo(CM)"
   ]
  },
  {
   "cell_type": "markdown",
   "metadata": {},
   "source": [
    "## Descripción del problema\n",
    "\n",
    "+ Cálculo de los caminos de coste mínimo entre todos los pares de nodos de un\n",
    "  grafo no dirigido.\n",
    "\n",
    "+ Notación:\n",
    "    + c(i,j) es el mínimo coste del camino del vértice i al j.\n",
    "    + p(i,j) = \n",
    "      + 0, si i = j,\n",
    "      + peso del arco entre i y j, si i =/= j y hay arco de i a j,\n",
    "      + infinito, en otro caso.\n",
    "    + c(i,j,k) es el mínimo coste del camino del vértice i al j,\n",
    "      usando los vértices 1, ...,k.\n",
    "\n",
    "+ Relación de recurrencia para calcular c(i,j):\n",
    "     + c(i,j,0) = p(i,j)\n",
    "     + c(i,j,k) = min {c(i,j,k-1)), c(i,k,k-1)+c(k,j,k-1)} \n",
    "\n",
    "+ El algoritmo se conoce como el algoritmo de Floyd."
   ]
  },
  {
   "cell_type": "markdown",
   "metadata": {},
   "source": [
    "## Solución del problema de los caminos mínimos (CM)"
   ]
  },
  {
   "cell_type": "markdown",
   "metadata": {},
   "source": [
    "**Nota:** Usa el TAD Grafo de la librería de \n",
    "[I1M](http://hackage.haskell.org/package/I1M-0.0.2)"
   ]
  },
  {
   "cell_type": "code",
   "execution_count": 19,
   "metadata": {},
   "outputs": [],
   "source": [
    "module CaminosMinimos where\n",
    "-- ---------------------------------------------------------------------\n",
    "-- Importación de librerías auxiliares                                --\n",
    "-- ---------------------------------------------------------------------\n",
    "\n",
    "import Dinamica\n",
    "import I1M.Grafo\n",
    "\n",
    "-- ---------------------------------------------------------------------\n",
    "-- Solución mediante programación dinámica                            --\n",
    "-- ---------------------------------------------------------------------\n",
    "\n",
    "-- Ejemplos de grafos (el 1º es el de la página 189)\n",
    "ej1Grafo :: Grafo Int Int\n",
    "ej1Grafo = creaGrafo ND (1,6) \n",
    "                     [(i,j,(v!!(i-1))!!(j-1)) | i <- [1..6], j <- [1..6]]\n",
    "\n",
    "v :: [[Int]]\n",
    "v = [[  0,  4,  1,  6,100,100],\n",
    "     [  4,  0,  1,100,  5,100],\n",
    "     [  1,  1,  0,100,  8,  2],\n",
    "     [  6,100,100,  0,100,  2],\n",
    "     [100,  5,  8,100,  0,  5],\n",
    "     [100,100,  2,  2,  5,  0]]\n",
    "\n",
    "ej2Grafo :: Grafo Int Int\n",
    "ej2Grafo = creaGrafo ND (1,6) \n",
    "                     [(i,j,(v'!!(i-1))!!(j-1)) |i<-[1..6],j<-[1..6]]\n",
    "\n",
    "v' :: [[Int]]\n",
    "v' = [[  0,  4,100,100,100,  2],\n",
    "      [  1,  0,  3,  4,100,100],\n",
    "      [  6,  3,  0,  7,100,100],\n",
    "      [  6,100,100,  0,  2,100],\n",
    "      [100,100,100,  5,  0,100],\n",
    "      [100,100,100,  2,  3,  0]]\n",
    "\n",
    "-- En la matriz del cálculo del camino mínimo, los índices son de la\n",
    "-- forma (i,j,k) y los valores de la forma (v,xs) representando que el\n",
    "-- camino mínimo desde el vértice i al j usando los vértices 1,...,k\n",
    "-- tiene un coste v y está fomado por los vértices xs.\n",
    "type IndiceCM = (Int,Int,Int)\n",
    "type ValorCM  = (Int,[Int])\n",
    "\n",
    "-- (caminosMinimos g) es la lista de los caminos mínimos entre todos los\n",
    "-- nodos del grafo g junto con sus costes. Por ejemplo,\n",
    "--    ghci> caminosMinimos ej1Grafo\n",
    "--    [((1,2),(2,[1,3,2])),  ((1,3),(1,[1,3])),  ((1,4),(5,[1,3,6,4])),\n",
    "--     ((1,5),(7,[1,3,2,5])),((1,6),(3,[1,3,6])),((2,3),(1,[2,3])),\n",
    "--     ((2,4),(5,[2,3,6,4])),((2,5),(5,[2,5])),  ((2,6),(3,[2,3,6])),\n",
    "--     ((3,4),(4,[3,6,4])),  ((3,5),(6,[3,2,5])),((3,6),(2,[3,6])),\n",
    "--     ((4,5),(7,[4,6,5])),  ((4,6),(2,[4,6])),  ((5,6),(5,[5,6]))]\n",
    "--    ghci> caminosMinimos ej2Grafo\n",
    "--    [((1,2),(4,[1,2])),  ((1,3),(7,[1,2,3])),((1,4),(4,[1,6,4])),\n",
    "--     ((1,5),(5,[1,6,5])),((1,6),(2,[1,6])),  ((2,3),(3,[2,3])),\n",
    "--     ((2,4),(4,[2,4])),  ((2,5),(6,[2,4,5])),((2,6),(3,[2,1,6])),\n",
    "--     ((3,4),(7,[3,4])),  ((3,5),(9,[3,4,5])),((3,6),(6,[3,2,1,6])),\n",
    "--     ((4,5),(2,[4,5])),  ((4,6),(8,[4,1,6])),((5,6),(13,[5,4,1,6]))]\n",
    "caminosMinimos :: (Grafo Int Int) -> [((Int,Int), ValorCM)]\n",
    "caminosMinimos g = \n",
    "  [((i,j), valor t (i,j,n)) | i <- [1..n], j <- [i+1..n]]\n",
    "  where n = length (nodos g)\n",
    "        t = dinamica (calculaCM g) (cotasCM n) \n",
    "\n",
    "-- (calculaCM g t (i,j,k)) es el valor del camino mínimo desde el vértice\n",
    "-- i al j usando los vértices 1,...,k del grafo g y la tabla t de los\n",
    "-- valores anteriores al índice (i,j,k).\n",
    "calculaCM :: (Grafo Int Int) -> Tabla IndiceCM ValorCM -> IndiceCM -> ValorCM\n",
    "calculaCM g t (i,j,k)\n",
    "  | k==0      = (peso i j g , if i==j then [i] else [i,j])\n",
    "  | v1<=v2    = (v1,p)  \n",
    "  | otherwise = (v2,p1++p2)\n",
    "  where (v1,p)   = valor t (i,j,k-1)\n",
    "        (a,p1)   = valor t (i,k,k-1)\n",
    "        (b,_:p2) = valor t (k,j,k-1)\n",
    "        v2 = a+b\n",
    "\n",
    "-- (cotasCM n) son las cotasCM de la matriz para resolver el problema de los\n",
    "-- caminos mínimos en un grafo con n nodos.\n",
    "cotasCM :: Int -> ((Int,Int,Int),(Int,Int,Int))\n",
    "cotasCM n = ((1,1,0),(n,n,n))"
   ]
  },
  {
   "cell_type": "code",
   "execution_count": 20,
   "metadata": {},
   "outputs": [
    {
     "data": {
      "text/plain": [
       "((1,2),(2,[1,3,2]))\n",
       "((1,3),(1,[1,3]))\n",
       "((1,4),(5,[1,3,6,4]))\n",
       "((1,5),(7,[1,3,2,5]))\n",
       "((1,6),(3,[1,3,6]))\n",
       "((2,3),(1,[2,3]))\n",
       "((2,4),(5,[2,3,6,4]))\n",
       "((2,5),(5,[2,5]))\n",
       "((2,6),(3,[2,3,6]))\n",
       "((3,4),(4,[3,6,4]))\n",
       "((3,5),(6,[3,2,5]))\n",
       "((3,6),(2,[3,6]))\n",
       "((4,5),(7,[4,6,5]))\n",
       "((4,6),(2,[4,6]))\n",
       "((5,6),(5,[5,6]))"
      ]
     },
     "metadata": {},
     "output_type": "display_data"
    }
   ],
   "source": [
    "mapM_ print (caminosMinimos ej1Grafo)"
   ]
  },
  {
   "cell_type": "code",
   "execution_count": 21,
   "metadata": {},
   "outputs": [
    {
     "data": {
      "text/plain": [
       "((1,2),(1,[1,2]))\n",
       "((1,3),(4,[1,2,3]))\n",
       "((1,4),(6,[1,4]))\n",
       "((1,5),(11,[1,4,5]))\n",
       "((1,6),(8,[1,4,6]))\n",
       "((2,3),(3,[2,3]))\n",
       "((2,4),(10,[2,1,4]))\n",
       "((2,5),(15,[2,1,4,5]))\n",
       "((2,6),(12,[2,1,4,6]))\n",
       "((3,4),(13,[3,2,1,4]))\n",
       "((3,5),(18,[3,2,1,4,5]))\n",
       "((3,6),(15,[3,2,1,4,6]))\n",
       "((4,5),(5,[4,5]))\n",
       "((4,6),(2,[4,6]))\n",
       "((5,6),(3,[5,6]))"
      ]
     },
     "metadata": {},
     "output_type": "display_data"
    }
   ],
   "source": [
    "mapM_ print (caminosMinimos ej2Grafo)"
   ]
  },
  {
   "cell_type": "markdown",
   "metadata": {},
   "source": [
    "+ Se puede observar el cálculo de la solución como sigue:\n",
    "\n",
    "~~~\n",
    "ghci> dinamica (calculaCM ej1Grafo) (cotasCM 6)\n",
    "Tbl [\n",
    "((1,1,0),(0,[1])),       ((1,1,1),(0,[1])),      ((1,1,2),(0,[1])),\n",
    "((1,1,3),(0,[1])),       ((1,1,4),(0,[1])),      ((1,1,5),(0,[1])),\n",
    "((1,1,6),(0,[1])),       ((1,2,0),(4,[1,2])),    ((1,2,1),(4,[1,2])),\n",
    "((1,2,2),(4,[1,2])),     ((1,2,3),(2,[1,3,2])),  ((1,2,4),(2,[1,3,2])),\n",
    "((1,2,5),(2,[1,3,2])),   ((1,2,6),(2,[1,3,2])),  ((1,3,0),(1,[1,3])),\n",
    "((1,3,1),(1,[1,3])),     ((1,3,2),(1,[1,3])),    ((1,3,3),(1,[1,3])),\n",
    "((1,3,4),(1,[1,3])),     ((1,3,5),(1,[1,3])),    ((1,3,6),(1,[1,3])),\n",
    "((1,4,0),(6,[1,4])),     ((1,4,1),(6,[1,4])),    ((1,4,2),(6,[1,4])),\n",
    "((1,4,3),(6,[1,4])),     ((1,4,4),(6,[1,4])),    ((1,4,5),(6,[1,4])),\n",
    "((1,4,6),(5,[1,3,6,4])), ((1,5,0),(100,[1,5])),  ((1,5,1),(100,[1,5])),\n",
    "((1,5,2),(9,[1,2,5])),   ((1,5,3),(7,[1,3,2,5])),((1,5,4),(7,[1,3,2,5])),\n",
    "((1,5,5),(7,[1,3,2,5])), ((1,5,6),(7,[1,3,2,5])),((1,6,0),(100,[1,6])),\n",
    "((1,6,1),(100,[1,6])),   ((1,6,2),(100,[1,6])),  ((1,6,3),(3,[1,3,6])),\n",
    "((1,6,4),(3,[1,3,6])),   ((1,6,5),(3,[1,3,6])),  ((1,6,6),(3,[1,3,6])),\n",
    "((2,1,0),(4,[2,1])),     ((2,1,1),(4,[2,1])),    ((2,1,2),(4,[2,1])),\n",
    "((2,1,3),(2,[2,3,1])),   ((2,1,4),(2,[2,3,1])),  ((2,1,5),(2,[2,3,1])),\n",
    "((2,1,6),(2,[2,3,1])),   ((2,2,0),(0,[2])),      ((2,2,1),(0,[2])),\n",
    "((2,2,2),(0,[2])),       ((2,2,3),(0,[2])),      ((2,2,4),(0,[2])),\n",
    "((2,2,5),(0,[2])),       ((2,2,6),(0,[2])),      ((2,3,0),(1,[2,3])),\n",
    "((2,3,1),(1,[2,3])),     ((2,3,2),(1,[2,3])),    ((2,3,3),(1,[2,3])),\n",
    "((2,3,4),(1,[2,3])),     ((2,3,5),(1,[2,3])),    ((2,3,6),(1,[2,3])),\n",
    "((2,4,0),(100,[2,4])),   ((2,4,1),(10,[2,1,4])), ((2,4,2),(10,[2,1,4])),\n",
    "((2,4,3),(8,[2,3,1,4])), ((2,4,4),(8,[2,3,1,4])),((2,4,5),(8,[2,3,1,4])),\n",
    "((2,4,6),(5,[2,3,6,4])), ((2,5,0),(5,[2,5])),    ((2,5,1),(5,[2,5])),\n",
    "((2,5,2),(5,[2,5])),     ((2,5,3),(5,[2,5])),    ((2,5,4),(5,[2,5])),\n",
    "((2,5,5),(5,[2,5])),     ((2,5,6),(5,[2,5])),    ((2,6,0),(100,[2,6])),\n",
    "((2,6,1),(100,[2,6])),   ((2,6,2),(100,[2,6])),  ((2,6,3),(3,[2,3,6])),\n",
    "((2,6,4),(3,[2,3,6])),   ((2,6,5),(3,[2,3,6])),  ((2,6,6),(3,[2,3,6])),\n",
    "((3,1,0),(1,[3,1])),     ((3,1,1),(1,[3,1])),    ((3,1,2),(1,[3,1])),\n",
    "((3,1,3),(1,[3,1])),     ((3,1,4),(1,[3,1])),    ((3,1,5),(1,[3,1])),\n",
    "((3,1,6),(1,[3,1])),     ((3,2,0),(1,[3,2])),    ((3,2,1),(1,[3,2])),\n",
    "((3,2,2),(1,[3,2])),     ((3,2,3),(1,[3,2])),    ((3,2,4),(1,[3,2])),\n",
    "((3,2,5),(1,[3,2])),     ((3,2,6),(1,[3,2])),    ((3,3,0),(0,[3])),\n",
    "((3,3,1),(0,[3])),       ((3,3,2),(0,[3])),      ((3,3,3),(0,[3])),\n",
    "((3,3,4),(0,[3])),       ((3,3,5),(0,[3])),      ((3,3,6),(0,[3])),\n",
    "((3,4,0),(100,[3,4])),   ((3,4,1),(7,[3,1,4])),  ((3,4,2),(7,[3,1,4])),\n",
    "((3,4,3),(7,[3,1,4])),   ((3,4,4),(7,[3,1,4])),  ((3,4,5),(7,[3,1,4])),\n",
    "((3,4,6),(4,[3,6,4])),   ((3,5,0),(8,[3,5])),    ((3,5,1),(8,[3,5])),\n",
    "((3,5,2),(6,[3,2,5])),   ((3,5,3),(6,[3,2,5])),  ((3,5,4),(6,[3,2,5])),\n",
    "((3,5,5),(6,[3,2,5])),   ((3,5,6),(6,[3,2,5])),  ((3,6,0),(2,[3,6])),\n",
    "((3,6,1),(2,[3,6])),     ((3,6,2),(2,[3,6])),    ((3,6,3),(2,[3,6])),\n",
    "((3,6,4),(2,[3,6])),     ((3,6,5),(2,[3,6])),    ((3,6,6),(2,[3,6])),\n",
    "((4,1,0),(6,[4,1])),     ((4,1,1),(6,[4,1])),    ((4,1,2),(6,[4,1])),\n",
    "((4,1,3),(6,[4,1])),     ((4,1,4),(6,[4,1])),    ((4,1,5),(6,[4,1])),\n",
    "((4,1,6),(5,[4,6,3,1])), ((4,2,0),(100,[4,2])),  ((4,2,1),(10,[4,1,2])),\n",
    "((4,2,2),(10,[4,1,2])),  ((4,2,3),(8,[4,1,3,2])),((4,2,4),(8,[4,1,3,2])),\n",
    "((4,2,5),(8,[4,1,3,2])), ((4,2,6),(5,[4,6,3,2])),((4,3,0),(100,[4,3])),\n",
    "((4,3,1),(7,[4,1,3])),   ((4,3,2),(7,[4,1,3])),  ((4,3,3),(7,[4,1,3])),\n",
    "((4,3,4),(7,[4,1,3])),   ((4,3,5),(7,[4,1,3])),  ((4,3,6),(4,[4,6,3])),\n",
    "((4,4,0),(0,[4])),       ((4,4,1),(0,[4])),      ((4,4,2),(0,[4])),\n",
    "((4,4,3),(0,[4])),       ((4,4,4),(0,[4])),      ((4,4,5),(0,[4])),\n",
    "((4,4,6),(0,[4])),       ((4,5,0),(100,[4,5])),  ((4,5,1),(100,[4,5])),\n",
    "((4,5,2),(15,[4,1,2,5])),((4,5,3),(13,[4,1,3,2,5])),((4,5,4),(13,[4,1,3,2,5])),\n",
    "((4,5,5),(13,[4,1,3,2,5])),((4,5,6),(7,[4,6,5])),((4,6,0),(2,[4,6])),\n",
    "((4,6,1),(2,[4,6])),     ((4,6,2),(2,[4,6])),    ((4,6,3),(2,[4,6])),\n",
    "((4,6,4),(2,[4,6])),     ((4,6,5),(2,[4,6])),    ((4,6,6),(2,[4,6])),\n",
    "((5,1,0),(100,[5,1])),   ((5,1,1),(100,[5,1])),  ((5,1,2),(9,[5,2,1])),\n",
    "((5,1,3),(7,[5,2,3,1])), ((5,1,4),(7,[5,2,3,1])),((5,1,5),(7,[5,2,3,1])),\n",
    "((5,1,6),(7,[5,2,3,1])), ((5,2,0),(5,[5,2])),    ((5,2,1),(5,[5,2])),\n",
    "((5,2,2),(5,[5,2])),     ((5,2,3),(5,[5,2])),    ((5,2,4),(5,[5,2])),\n",
    "((5,2,5),(5,[5,2])),     ((5,2,6),(5,[5,2])),    ((5,3,0),(8,[5,3])),\n",
    "((5,3,1),(8,[5,3])),     ((5,3,2),(6,[5,2,3])),  ((5,3,3),(6,[5,2,3])),\n",
    "((5,3,4),(6,[5,2,3])),   ((5,3,5),(6,[5,2,3])),  ((5,3,6),(6,[5,2,3])),\n",
    "((5,4,0),(100,[5,4])),   ((5,4,1),(100,[5,4])),  ((5,4,2),(15,[5,2,1,4])),\n",
    "((5,4,3),(13,[5,2,3,1,4])),((5,4,4),(13,[5,2,3,1,4])),((5,4,5),(13,[5,2,3,1,4])),\n",
    "((5,4,6),(7,[5,6,4])),   ((5,5,0),(0,[5])),      ((5,5,1),(0,[5])),\n",
    "((5,5,2),(0,[5])),       ((5,5,3),(0,[5])),      ((5,5,4),(0,[5])),\n",
    "((5,5,5),(0,[5])),       ((5,5,6),(0,[5])),      ((5,6,0),(5,[5,6])),\n",
    "((5,6,1),(5,[5,6])),     ((5,6,2),(5,[5,6])),    ((5,6,3),(5,[5,6])),\n",
    "((5,6,4),(5,[5,6])),     ((5,6,5),(5,[5,6])),    ((5,6,6),(5,[5,6])),\n",
    "((6,1,0),(100,[6,1])),   ((6,1,1),(100,[6,1])),  ((6,1,2),(100,[6,1])),\n",
    "((6,1,3),(3,[6,3,1])),   ((6,1,4),(3,[6,3,1])),  ((6,1,5),(3,[6,3,1])),\n",
    "((6,1,6),(3,[6,3,1])),   ((6,2,0),(100,[6,2])),  ((6,2,1),(100,[6,2])),\n",
    "((6,2,2),(100,[6,2])),   ((6,2,3),(3,[6,3,2])),  ((6,2,4),(3,[6,3,2])),\n",
    "((6,2,5),(3,[6,3,2])),   ((6,2,6),(3,[6,3,2])),  ((6,3,0),(2,[6,3])),\n",
    "((6,3,1),(2,[6,3])),     ((6,3,2),(2,[6,3])),    ((6,3,3),(2,[6,3])),\n",
    "((6,3,4),(2,[6,3])),     ((6,3,5),(2,[6,3])),    ((6,3,6),(2,[6,3])),\n",
    "((6,4,0),(2,[6,4])),     ((6,4,1),(2,[6,4])),    ((6,4,2),(2,[6,4])),\n",
    "((6,4,3),(2,[6,4])),     ((6,4,4),(2,[6,4])),    ((6,4,5),(2,[6,4])),\n",
    "((6,4,6),(2,[6,4])),     ((6,5,0),(5,[6,5])),    ((6,5,1),(5,[6,5])),\n",
    "((6,5,2),(5,[6,5])),     ((6,5,3),(5,[6,5])),    ((6,5,4),(5,[6,5])),\n",
    "((6,5,5),(5,[6,5])),     ((6,5,6),(5,[6,5])),    ((6,6,0),(0,[6])),\n",
    "((6,6,1),(0,[6])),       ((6,6,2),(0,[6])),      ((6,6,3),(0,[6])),\n",
    "((6,6,4),(0,[6])),       ((6,6,5),(0,[6])),      ((6,6,6),(0,[6]))]\n",
    "~~~"
   ]
  },
  {
   "cell_type": "markdown",
   "metadata": {},
   "source": [
    "# Problema del viajante (PV)"
   ]
  },
  {
   "cell_type": "markdown",
   "metadata": {},
   "source": [
    "## Descripción del problema\n",
    "\n",
    "+ Dado un grafo no dirigido con pesos encontrar una camino en el grafo que\n",
    "  visite todos los nodos exactamente una vez y cuyo coste sea mínimo.\n",
    "\n",
    "+ Notación:\n",
    "    + Los vértices del grafo son 1,2, ...,n.\n",
    "    + $p(i,j) = \n",
    "           \\left\\{\n",
    "               \\begin{array}{ll}\n",
    "                0, & \\mbox{si i=j} \\\\\n",
    "                \\mbox{peso del arco entre i y j,} \n",
    "                 & \\mbox{si i\\not=j y hay arco de i a j} \\\\\n",
    "                \\infty, &\\mbox{en otro caso}\n",
    "               \\end{array}\n",
    "           \\right.$\n",
    "    + El vértice inicial y final es el n.\n",
    "    + c(i,S) es el camino más corto que comienza en i, termina en n\n",
    "      y pasa exactamente una vez por cada uno de los vértices del conjunto S.\n",
    "\n",
    "+ Relación de recurrencia de c(i,S):\n",
    "     + c(i,∅) = p(i,n(, si i ≠ n.\n",
    "     + c(i,S) = min {p(i,j)+c_(j,S-{j}} : j ∈ S\\}, si i ≠ n, i ∉ S.\n",
    "\n",
    "+ La solución es c(n,{1,...,n-1}}."
   ]
  },
  {
   "cell_type": "markdown",
   "metadata": {},
   "source": [
    "## Solución del problema del viajante (PV)"
   ]
  },
  {
   "cell_type": "code",
   "execution_count": 22,
   "metadata": {},
   "outputs": [],
   "source": [
    "module ProblemaDelViajante where\n",
    "\n",
    "-- ---------------------------------------------------------------------\n",
    "-- Librerías auxiliares                                               --\n",
    "-- ---------------------------------------------------------------------\n",
    "\n",
    "import Dinamica\n",
    "import I1M.Grafo\n",
    "\n",
    "-- ---------------------------------------------------------------------\n",
    "-- Implementación de conjuntos de enteros como números enteros        --\n",
    "-- ---------------------------------------------------------------------\n",
    "\n",
    "-- Los conjuntos se representan por números enteros.\n",
    "type Conj = Int\n",
    "\n",
    "-- (conj2Lista c) es la lista de los elementos del conjunto c. Por\n",
    "-- ejemplo, \n",
    "--   conj2Lista 24  ==  [3,4]\n",
    "--   conj2Lista 30  ==  [1,2,3,4]\n",
    "--   conj2Lista 22  ==  [1,2,4]\n",
    "conj2Lista :: Conj -> [Int]\n",
    "conj2Lista s = c2l s 0\n",
    "  where \n",
    "    c2l 0 _             = []\n",
    "    c2l n i | odd n     = i : c2l (n `div` 2) (i+1)\n",
    "            | otherwise = c2l (n `div` 2) (i+1)\n",
    "\n",
    "-- maxConj es el máximo número que puede pertenecer al conjunto. Depende\n",
    "-- de la implementación de Haskell. Por ejemplo,\n",
    "--    maxConj  ==  29\n",
    "maxConj :: Int\n",
    "maxConj = \n",
    "  truncate (logBase 2 (fromIntegral maxInt)) - 1\n",
    "  where maxInt = maxBound::Int\n",
    "\n",
    "-- vacio es el conjunto vacío.\n",
    "vacio :: Conj\n",
    "vacio = 0\n",
    "\n",
    "-- (esVacio c) se verifica si c es el conjunto vacío.\n",
    "esVacio :: Conj -> Bool\n",
    "esVacio n = n == 0\n",
    "\n",
    "-- (conjCompleto n) es el conjunto de los números desde 1 hasta n.\n",
    "conjCompleto :: Int -> Conj\n",
    "conjCompleto n\n",
    "  | (n>=0) && (n<=maxConj) = 2^(n+1)-2\n",
    "  | otherwise = error (\"conjCompleto:\" ++ show n)\n",
    "\n",
    "-- (inserta x c) es el conjunto obtenido añadiendo el elemento x al\n",
    "-- conjunto c. \n",
    "inserta :: Int -> Conj -> Conj\n",
    "inserta i s\n",
    "  | (i>=0) && (i<=maxConj) = d'*e+m\n",
    "  | otherwise              = error (\"inserta: elemento ilegal =\" ++\n",
    "                                    show i)\n",
    "  where (d,m) = divMod s e\n",
    "        e     = 2^i\n",
    "        d'    = if odd d then d else d+1\n",
    "\n",
    "-- (elimina x c) es el conjunto obtenido eliminando el elemento x\n",
    "-- del conjunto c. \n",
    "elimina :: Int -> Conj -> Conj\n",
    "elimina i s = d'*e+m\n",
    "  where (d,m) = divMod s e\n",
    "        e = 2^i\n",
    "        d' = if odd d then d-1 else d\n",
    "\n",
    "-- ---------------------------------------------------------------------\n",
    "-- Ejemplos de grafos                                                 --\n",
    "-- ---------------------------------------------------------------------\n",
    "\n",
    "-- Se usarán los siguientes ejemplos de grafos, generados a partir de la\n",
    "-- lista ded adyaciencia, donde se ha puesto un peso de 100 entre los\n",
    "-- nodos que no están unidos por un arco.\n",
    "\n",
    "-- e1 es el grafo (de la página 192):\n",
    "-- \n",
    "--       4       5\n",
    "--    +----- 2 -----+\n",
    "--    |      |1     |\n",
    "--    |  1   |   8  |\n",
    "--    1----- 3 -----5\n",
    "--    |        \\2  /\n",
    "--    |  6     2\\ /5\n",
    "--    +----- 4 --6\n",
    "-- \n",
    "ej1 :: Grafo Int Int\n",
    "ej1 = creaGrafo ND (1,6) [(i,j,(v1!!(i-1))!!(j-1)) |i<-[1..6],j<-[1..6]]\n",
    "v1 :: [[Int]]\n",
    "v1 = [[  0,  4,  1,  6,100,100],\n",
    "      [  4,  0,  1,100,  5,100],\n",
    "      [  1,  1,  0,100,  8,  2],\n",
    "      [  6,100,100,  0,100,  2],\n",
    "      [100,  5,  8,100,  0,  5],\n",
    "      [100,100,  2,  2,  5,  0]]\n",
    "\n",
    "ej2 :: Grafo Int Int\n",
    "ej2 = creaGrafo ND (1,6) [(i,j,(v'!!(i-1))!!(j-1)) |i<-[1..6],j<-[1..6]]\n",
    "v' :: [[Int]]\n",
    "v' =  [[  0,  3, 10, 11,  7, 25],\n",
    "       [  3,  0,  6, 12,  8, 26],\n",
    "       [ 10,  6,  0,  9,  4, 20],\n",
    "       [ 11, 12,  9,  0,  5, 15],\n",
    "       [  7,  8,  4,  5,  0, 18],\n",
    "       [ 25, 26, 20, 15, 18,  0]]\n",
    "\n",
    "-- ---------------------------------------------------------------------\n",
    "-- Solución mediante programación dinámica                            --\n",
    "-- ---------------------------------------------------------------------\n",
    "\n",
    "-- Los índices de la matriz de cálculo son de la forma (i,S) y sus\n",
    "-- valores (v,xs) donde xs es el camino mínimo desde i hasta n visitando\n",
    "-- cada vértice de S exactamente una vez y v es el coste de xs.\n",
    "type IndicePV = (Int,Conj)\n",
    "type ValorPV  = (Int,[Int])\n",
    "\n",
    "-- (viajante g) es el par (v,xs) donde xs es el camino de menor coste\n",
    "-- que pasa exactamente una vez por todos los nodos del grafo g\n",
    "-- empezando en su último nodo y v es su coste. Por ejemplo,\n",
    "--    ghci> viajante ej1\n",
    "--    (20,[6,4,1,3,2,5,6])\n",
    "--    ghci> viajante ej2\n",
    "--    (56,[6,3,2,1,5,4,6])\n",
    "viajante :: Grafo Int Int -> (Int,[Int])\n",
    "viajante g = valor t (n,conjCompleto (n-1))\n",
    "  where n = length (nodos g)\n",
    "        t = dinamica (calculaPV g n) (cotasPV n)\n",
    "\n",
    "-- (calculaPV g n t (i,k)) es el valor del camino mínimo en el grafo g\n",
    "-- desde i hasta n visitando cada nodo del conjunto k exactamente una\n",
    "-- vez calculado usando la tabla t.\n",
    "calculaPV :: Grafo Int Int -> Int -> Tabla IndicePV ValorPV \n",
    "           -> IndicePV -> ValorPV \n",
    "calculaPV g n t (i,k) \n",
    "  | esVacio k = (peso i n g,[i,n])\n",
    "  | otherwise = minimum [sumaPrim (valor t (j, elimina j k))\n",
    "                                  (peso i j g)\n",
    "                        | j <- conj2Lista k]\n",
    "  where sumaPrim (v,xs) v' = (v+v',i:xs)\n",
    "\n",
    "-- (cotasPV n) son las cotas de la matriz de cálculo del problema del\n",
    "-- viajante en un grafo con n nodos.\n",
    "cotasPV :: Int -> ((Int,Conj),(Int,Conj))\n",
    "cotasPV n = ((1,vacio),(n,conjCompleto n))"
   ]
  },
  {
   "cell_type": "code",
   "execution_count": 23,
   "metadata": {},
   "outputs": [
    {
     "data": {
      "text/plain": [
       "(20,[6,4,1,3,2,5,6])"
      ]
     },
     "metadata": {},
     "output_type": "display_data"
    }
   ],
   "source": [
    "viajante ej1"
   ]
  },
  {
   "cell_type": "code",
   "execution_count": 24,
   "metadata": {},
   "outputs": [
    {
     "data": {
      "text/plain": [
       "(56,[6,3,2,1,5,4,6])"
      ]
     },
     "metadata": {},
     "output_type": "display_data"
    }
   ],
   "source": [
    "viajante ej2"
   ]
  },
  {
   "cell_type": "code",
   "execution_count": 25,
   "metadata": {},
   "outputs": [
    {
     "data": {
      "text/plain": [
       "[(1,(100,[1,6])),(2,(104,[2,1,6])),(3,(105,[3,1,2,6])),(4,(13,[4,1,2,3,6])),(5,(15,[5,2,3,1,4,6])),(6,(20,[6,4,1,3,2,5,6]))]"
      ]
     },
     "metadata": {},
     "output_type": "display_data"
    }
   ],
   "source": [
    "ejCalculo = [(i,valor t (i,conjCompleto (i-1))) | i <- [1..6]]\n",
    "  where t = dinamica (calculaPV ej1 6) (cotasPV 6)\n",
    "\n",
    "ejCalculo"
   ]
  },
  {
   "cell_type": "code",
   "execution_count": 26,
   "metadata": {},
   "outputs": [
    {
     "data": {
      "text/plain": []
     },
     "metadata": {},
     "output_type": "display_data"
    }
   ],
   "source": [
    ":! rm -f *.hs *.hi *.o *.dyn_*"
   ]
  },
  {
   "cell_type": "markdown",
   "metadata": {},
   "source": [
    "# Bibliografía\n",
    "\n",
    "+ F. Rabhi y G. Lapalme\n",
    "  [Algorithms: A functional programming approach](https://www.iro.umontreal.ca/~lapalme/Algorithms-functional.html)\n",
    "    + Cap. 8. 8 Top-down design techniques.\n",
    "+ T. Sutton [Dynamic programming in Haskell](https://speakerdeck.com/thsutton/dynamic-programming-in-haskell)."
   ]
  }
 ],
 "metadata": {
  "kernelspec": {
   "display_name": "Haskell",
   "language": "haskell",
   "name": "haskell"
  },
  "language_info": {
   "codemirror_mode": "ihaskell",
   "file_extension": ".hs",
   "name": "haskell",
   "pygments_lexer": "Haskell",
   "version": "8.6.5"
  }
 },
 "nbformat": 4,
 "nbformat_minor": 4
}
