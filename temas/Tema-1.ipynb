{
 "cells": [
  {
   "cell_type": "markdown",
   "metadata": {},
   "source": [
    "# Tema 1: Introducción a la programación funcional\n",
    "[José A. Alonso](https://www.cs.us.es/~jalonso) (Univ. de Sevilla, 25 de julio de 2019)"
   ]
  },
  {
   "cell_type": "markdown",
   "metadata": {},
   "source": [
    "> __Nota de Jupyter:__ Se desactiva el [corrector estilo de Haskell](https://github.com/gibiansky/IHaskell/wiki#opt-no-lint)."
   ]
  },
  {
   "cell_type": "code",
   "execution_count": 1,
   "metadata": {},
   "outputs": [],
   "source": [
    ":opt no-lint"
   ]
  },
  {
   "cell_type": "markdown",
   "metadata": {},
   "source": [
    "Funciones \n",
    "=========\n",
    "\n",
    "Funciones en Haskell \n",
    "--------------------\n",
    "\n",
    "+ En *Haskell*, una *función* es una *aplicación* que toma uno o más\n",
    "  *argumentos* y devuelve un *valor*.\n",
    "\n",
    "+ En Haskell, las funciones se definen mediante *ecuaciones* formadas por el\n",
    "  *nombre de la función*, los *nombres de los argumentos* y el *cuerpo* que\n",
    "  especifica cómo se calcula el valor a partir de los argumentos.\n",
    "\n",
    "+ Ejemplo de definición de función en Haskell:"
   ]
  },
  {
   "cell_type": "code",
   "execution_count": 2,
   "metadata": {},
   "outputs": [],
   "source": [
    "doble x = x + x"
   ]
  },
  {
   "cell_type": "markdown",
   "metadata": {},
   "source": [
    "+ Ejemplo de evaluación: "
   ]
  },
  {
   "cell_type": "code",
   "execution_count": 3,
   "metadata": {},
   "outputs": [
    {
     "data": {
      "text/plain": [
       "6"
      ]
     },
     "metadata": {},
     "output_type": "display_data"
    }
   ],
   "source": [
    "doble 3"
   ]
  },
  {
   "cell_type": "markdown",
   "metadata": {},
   "source": [
    "+ Proceso de evaluación:\n",
    "\n",
    "```sesion\n",
    "doble 3 \n",
    "= 3 + 3   [def. de doble] \n",
    "= 6       [def. de +] \n",
    "```\n",
    "\n",
    "Evaluaciones de funciones en Haskell \n",
    "------------------------------------\n",
    "\n",
    "+ Ejemplo de evaluación anidada impaciente:\n",
    "\n",
    "```sesion\n",
    "doble (doble 3)  \n",
    "= doble (3 + 3)   [def. de doble]  \n",
    "= doble 6         [def. de +]      \n",
    "= 6 + 6           [def. de doble]  \n",
    "= 12              [def. de +]\n",
    "```\n",
    "\n",
    "+ Ejemplo de evaluación anidada perezosa:\n",
    "\n",
    "```sesion\n",
    "doble (doble 3) \n",
    "= (doble 3) + (doble 3)    [def. de doble] \n",
    "= (3 +3) + (doble 3)       [def. de doble] \n",
    "= 6 + (doble 3)            [def. de +] \n",
    "= 6 + (3 + 3)              [def. de doble] \n",
    "= 6 + 6                    [def. de +] \n",
    "= 12                       [def. de +]\n",
    "```\n",
    "\n",
    "Comprobación de propiedades\n",
    "---------------------------"
   ]
  },
  {
   "cell_type": "markdown",
   "metadata": {},
   "source": [
    "+ Para usar QuickCheck hay que importarlo, escribiendo al principio del\n",
    "  fichero"
   ]
  },
  {
   "cell_type": "code",
   "execution_count": 4,
   "metadata": {},
   "outputs": [],
   "source": [
    "import Test.QuickCheck"
   ]
  },
  {
   "cell_type": "markdown",
   "metadata": {},
   "source": [
    "+ Propiedad: El doble de x más y es el doble de x más el doble de y\n",
    "\n",
    "+ Expresión de la propiedad:"
   ]
  },
  {
   "cell_type": "code",
   "execution_count": 5,
   "metadata": {},
   "outputs": [],
   "source": [
    "prop_doble x y = doble (x+y) == doble x + doble y "
   ]
  },
  {
   "cell_type": "markdown",
   "metadata": {},
   "source": [
    " + Comprobación de la propiedad con QuickCheck:"
   ]
  },
  {
   "cell_type": "code",
   "execution_count": 6,
   "metadata": {},
   "outputs": [
    {
     "data": {
      "text/plain": [
       "+++ OK, passed 100 tests."
      ]
     },
     "metadata": {},
     "output_type": "display_data"
    }
   ],
   "source": [
    "quickCheck prop_doble"
   ]
  },
  {
   "cell_type": "markdown",
   "metadata": {},
   "source": [
    "Refutación de propiedades\n",
    "-------------------------\n",
    "\n",
    "+ Propiedad: El producto de dos números cualesquiera es distinto de su\n",
    "  suma. \n",
    "\n",
    "+ Expresión de la propiedad:"
   ]
  },
  {
   "cell_type": "code",
   "execution_count": 7,
   "metadata": {},
   "outputs": [],
   "source": [
    "prop_prod_suma x y = x*y /= x+y"
   ]
  },
  {
   "cell_type": "markdown",
   "metadata": {},
   "source": [
    "+ Refutación de la propiedad con QuickCheck:"
   ]
  },
  {
   "cell_type": "code",
   "execution_count": 8,
   "metadata": {},
   "outputs": [
    {
     "data": {
      "text/plain": [
       "*** Failed! Falsifiable (after 1 test):\n",
       "0\n",
       "0"
      ]
     },
     "metadata": {},
     "output_type": "display_data"
    }
   ],
   "source": [
    "quickCheck prop_prod_suma"
   ]
  },
  {
   "cell_type": "markdown",
   "metadata": {},
   "source": [
    "+ Refinamiento: El producto de dos números no nulos cualequiera es\n",
    "  distinto de su suma."
   ]
  },
  {
   "cell_type": "code",
   "execution_count": 9,
   "metadata": {},
   "outputs": [],
   "source": [
    "prop_prod_suma' x y = x /= 0 && y /= 0 ==> x*y /= x+y"
   ]
  },
  {
   "cell_type": "markdown",
   "metadata": {},
   "source": [
    "+ Refutación de la propiedad con QuickCheck (volver a evaluar hasta que encuentre un contraejemplo):"
   ]
  },
  {
   "cell_type": "code",
   "execution_count": 10,
   "metadata": {},
   "outputs": [
    {
     "data": {
      "text/plain": [
       "+++ OK, passed 100 tests; 15 discarded."
      ]
     },
     "metadata": {},
     "output_type": "display_data"
    }
   ],
   "source": [
    "quickCheck prop_prod_suma'"
   ]
  },
  {
   "cell_type": "markdown",
   "metadata": {},
   "source": [
    "Programación funcional\n",
    "======================\n",
    "\n",
    "Programación funcional y programación imperativa\n",
    "------------------------------------------------\n",
    "\n",
    "+ La *programación funcional* es un estilo de programación cuyo\n",
    "  método básico de computación es la aplicación de funciones a sus\n",
    "  argumentos.\n",
    "\n",
    "+ Un *lenguaje de programación funcional* es uno que soporta y\n",
    "  potencia el estilo funcional.\n",
    "\n",
    "+ La *programación imperativa* es un estilo de programación en el\n",
    "  que los programas están formados por instrucciones que especifican cómo se\n",
    "  ha de calcular el resultado.\n",
    "\n",
    "+ Ejemplo de problema para diferenciar los estilos de programación: *Sumar los\n",
    "  n primeros números.* \n",
    "\n",
    "Solución mediante programación imperativa\n",
    "-----------------------------------------\n",
    "\n",
    "+ Programa\n",
    "\n",
    "```python\n",
    "def suma(n):\n",
    "    contador = 0\n",
    "    total    = 0 \n",
    "    while contador < n:\n",
    "        contador = contador + 1 \n",
    "        total    = total + contador \n",
    "    return total\n",
    "```\n",
    "\n",
    "+ Evaluación de suma(4):\n",
    "\n",
    "```sesion\n",
    "|contador | total |\n",
    "|---------|-------|\n",
    "|0        | 0     |\n",
    "|1        | 1     |\n",
    "|2        | 3     |\n",
    "|3        | 6     |\n",
    "|4        | 10    |\n",
    "```\n",
    "\n",
    "Solución mediante programación funcional\n",
    "----------------------------------------\n",
    "\n",
    "+ Programa: \n"
   ]
  },
  {
   "cell_type": "code",
   "execution_count": 11,
   "metadata": {},
   "outputs": [],
   "source": [
    "suma n = sum [1..n]"
   ]
  },
  {
   "cell_type": "markdown",
   "metadata": {},
   "source": [
    "+ Evaluación de suma 4:"
   ]
  },
  {
   "cell_type": "code",
   "execution_count": 12,
   "metadata": {},
   "outputs": [
    {
     "data": {
      "text/plain": [
       "10"
      ]
     },
     "metadata": {},
     "output_type": "display_data"
    }
   ],
   "source": [
    "suma 4"
   ]
  },
  {
   "cell_type": "markdown",
   "metadata": {},
   "source": [
    "+ Proceso de evaluación de suma 4:\n",
    "\n",
    "```sesion\n",
    "suma 4 \n",
    "= sum [1..4]        [def. de suma] \n",
    "= sum [1, 2, 3, 4]  [def. de [..]] \n",
    "= 1 + 2 + 3 + 4     [def. de sum] \n",
    "= 10                [def. de +]\n",
    "```\n",
    "\n",
    "Rasgos característicos de Haskell\n",
    "=================================\n",
    "\n",
    "+ Programas concisos.\n",
    "+ Sistema potente de tipos.\n",
    "+ Listas por comprensión.\n",
    "+ Funciones recursivas.\n",
    "+ Funciones de orden superior.\n",
    "+ Razonamiento sobre programas.\n",
    "+ Evaluación perezosa.\n",
    "+ Efectos monádicos.\n",
    "\n",
    "Antecedentes históricos\n",
    "=======================\n",
    "\n",
    "+ 1930s: Alonzo Church desarrolla el lambda cálculo (teoría básica de\n",
    "  los lenguajes funcionales). \n",
    "+ 1950s: John McCarthy desarrolla el Lisp (lenguaje funcional con\n",
    "  asignaciones). \n",
    "+ 1960s: Peter Landin desarrolla ISWIN (lenguaje funcional puro). \n",
    "+ 1970s: John Backus desarrolla FP (lenguaje funcional con orden\n",
    "  superior). \n",
    "+ 1970s: Robin Milner desarrolla ML (lenguaje funcional con tipos\n",
    "  polimórficos e inferencia de tipos). \n",
    "+ 1980s: David Turner desarrolla Miranda (lenguaje funcional perezoso).\n",
    "+ 1987: Un comité comienza el desarrollo de Haskell.\n",
    "+ 2003: El comité publica el \"Haskell Report\".\n",
    "\n",
    "Presentación de Haskell\n",
    "=======================\n",
    "\n",
    "Ejemplo de recursión sobre listas\n",
    "---------------------------------\n",
    "\n",
    "+ Especificación: (sum xs) es la suma de los elementos de xs. \n",
    "\n",
    "+ Ejemplo: sum [2,3,7] == 12\n",
    "\n",
    "+ Definición:\n"
   ]
  },
  {
   "cell_type": "code",
   "execution_count": 13,
   "metadata": {},
   "outputs": [],
   "source": [
    "sum []     = 0\n",
    "sum (x:xs) = x + sum xs"
   ]
  },
  {
   "cell_type": "markdown",
   "metadata": {},
   "source": [
    "+ Evaluación:"
   ]
  },
  {
   "cell_type": "code",
   "execution_count": 14,
   "metadata": {},
   "outputs": [
    {
     "data": {
      "text/plain": [
       "12"
      ]
     },
     "metadata": {},
     "output_type": "display_data"
    }
   ],
   "source": [
    "sum [2,3,7]"
   ]
  },
  {
   "cell_type": "markdown",
   "metadata": {},
   "source": [
    "+ Cálculo:\n",
    "\n",
    "```sesion\n",
    "sum [2,3,7] \n",
    "= 2 + sum [3,7]           [def. de sum] \n",
    "= 2 + (3 + sum [7])       [def. de sum] \n",
    "= 2 + (3 + (7 + sum []))  [def. de sum] \n",
    "= 2 + (3 + (7 + 0))       [def. de sum] \n",
    "= 12                      [def. de +] \n",
    "```\n",
    "\n",
    "+ Tipo de sum: Num a => [a] -> a"
   ]
  },
  {
   "cell_type": "markdown",
   "metadata": {},
   "source": [
    "Ejemplo con listas de comprensión\n",
    "---------------------------------\n",
    "\n",
    "+ Especificación: (ordena xs) es la lista obtenida ordenando xs mediante el\n",
    "algoritmo de ordenación rápida.\n",
    "\n",
    "+ Ejemplo:\n",
    "\n",
    "```sesion\n",
    "ordena [4,6,2,5,3] == [2,3,4,5,6]\n",
    "ordena \"deacb\"     == \"abcde\"\n",
    "```\n",
    "\n",
    "+ Definición:"
   ]
  },
  {
   "cell_type": "code",
   "execution_count": 15,
   "metadata": {},
   "outputs": [],
   "source": [
    "ordena :: Ord a => [a] -> [a]\n",
    "ordena [] = []\n",
    "ordena (x:xs) = \n",
    "    (ordena menores) ++ [x] ++ (ordena mayores)\n",
    "    where menores = [a | a <- xs, a <= x]\n",
    "          mayores = [b | b <- xs, b > x]"
   ]
  },
  {
   "cell_type": "markdown",
   "metadata": {},
   "source": [
    "+ Evaluación:"
   ]
  },
  {
   "cell_type": "code",
   "execution_count": null,
   "metadata": {},
   "outputs": [
    {
     "data": {
      "text/plain": [
       "[2,3,4,6]"
      ]
     },
     "metadata": {},
     "output_type": "display_data"
    }
   ],
   "source": [
    "ordena [4,6,2,3]"
   ]
  },
  {
   "cell_type": "markdown",
   "metadata": {},
   "source": [
    "Evaluación del ejemplo con listas de comprensión\n",
    "------------------------------------------------\n",
    "\n",
    "```sesion\n",
    "ordena [4,6,2,3] \n",
    "= (ordena [2,3]) ++ [4] ++ (ordena [6])  \n",
    "  [def. ordena] \n",
    "= ((ordena []) ++ [2] ++ (ordena [3])) ++ [4] ++ (ordena [6]) \n",
    "  [def. ordena] \n",
    "= ([] ++ [2] ++ (ordena [3])) ++ [4] ++ (ordena [6]) \n",
    "  [def. ordena] \n",
    "= ([2] ++ (ordena [3])) ++ [4] ++ (ordena [6,5]) \n",
    "  [def. ++] \n",
    "= ([2] ++ ((ordena []) ++ [3] ++ [])) ++ [4] ++ (ordena [6]) \n",
    "  [def. ordena] \n",
    "= ([2] ++ ([] ++ [3] ++ [])) ++ [4] ++ (ordena [6]) \n",
    "  [def. ordena] \n",
    "= ([2] ++ [3]) ++ [4] ++ (ordena [6]) \n",
    "  [def. ++] \n",
    "= [2,3] ++ [4] ++ (ordena [6]) \n",
    "  [def. ++] \n",
    "= [2,3,4] ++ (ordena [6]) \n",
    "  [def. ++] \n",
    "= [2,3,4] ++ ((ordena []) ++ [6] ++ (ordena [])) \n",
    "  [def. ordena] \n",
    "= [2,3,4] ++ ((ordena []) ++ [6] ++ (ordena [])) \n",
    "  [def. ordena] \n",
    "= [2,3,4] ++ ([] ++ [6] ++ []) \n",
    "  [def. ordena] \n",
    "= [2,3,4,6]\n",
    "  [def. ++]\n",
    "```\n",
    "\n",
    "Bibliografía\n",
    "============\n",
    "\n",
    "+ R. Bird. *Introducción a la programación funcional con Haskell*. Prentice\n",
    "  Hall, 2000. \n",
    "    + Cap. 1: Conceptos fundamentales.\n",
    "  \n",
    "+ G. Hutton *Programming in Haskell*. Cambridge University Press, 2007.\n",
    "    + Cap. 1: Introduction.\n",
    "  \n",
    "+ B. O'Sullivan, D. Stewart y J. Goerzen *Real World Haskell*. O'Reilly, 2008.\n",
    "    + Cap. 1: Getting started.\n",
    "  \n",
    "+ B.C. Ruiz, F. Gutiérrez, P. Guerrero y J.E. Gallardo. *Razonando con\n",
    "  Haskell*. Thompson, 2004. \n",
    "    + Cap. 1: Programación funcional.\n",
    "  \n",
    "+ S. Thompson. *Haskell: The craft of functional programming*, Second\n",
    "  Edition. Addison-Wesley, 1999. \n",
    "    + Cap. 1: Introducing functional programming."
   ]
  }
 ],
 "metadata": {
  "kernelspec": {
   "display_name": "Haskell",
   "language": "haskell",
   "name": "haskell"
  },
  "language_info": {
   "codemirror_mode": "ihaskell",
   "file_extension": ".hs",
   "name": "haskell",
   "pygments_lexer": "Haskell",
   "version": "8.6.5"
  }
 },
 "nbformat": 4,
 "nbformat_minor": 4
}
