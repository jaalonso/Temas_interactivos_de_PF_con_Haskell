{
 "cells": [
  {
   "cell_type": "markdown",
   "metadata": {},
   "source": [
    "# Tema 15: El TAD de las colas\n",
    "\n",
    "[José A. Alonso](https://www.cs.us.es/~jalonso)  \n",
    "[Departamento de Ciencias de la Computación e I.A.](https://www.cs.us.es)  \n",
    "[Universidad de Sevilla](http://www.us.es)  \n",
    "Sevilla, 11 de agosto de 2019"
   ]
  },
  {
   "cell_type": "markdown",
   "metadata": {},
   "source": [
    "> __Notas:__ \n",
    "+ La versión interactiva de este tema se encuentra en [Binder](https://mybinder.org/v2/gh/jaalonso/Temas_interactivos_de_PF_con_Haskell/master?urlpath=lab/tree/temas/Tema-15.ipynb).\n",
    "+ Se desactiva el [corrector estilo de Haskell](https://github.com/gibiansky/IHaskell/wiki#opt-no-lint)."
   ]
  },
  {
   "cell_type": "code",
   "execution_count": 1,
   "metadata": {},
   "outputs": [],
   "source": [
    ":opt no-lint"
   ]
  },
  {
   "cell_type": "markdown",
   "metadata": {},
   "source": [
    "Especificación del TAD de las colas\n",
    "===================================\n",
    "\n",
    "Signatura del TAD de las colas\n",
    "------------------------------\n",
    "\n",
    "**Descripción informal de las colas**\n",
    "\n",
    "+ Una *cola* es una estructura de datos, caracterizada por ser una secuencia de\n",
    "  elementos en la que la operación de inserción se realiza por un extremo (el\n",
    "  posterior o final) y la operación de extracción por el otro (el anterior o\n",
    "  frente).\n",
    "\n",
    "+ Las colas también se llaman estructuras FIFO (del inglés First In First Out),\n",
    "  debido a que el primer elemento en entrar será también el primero en salir.\n",
    "\n",
    "+ Analogía con las colas del cine.\n",
    "\n",
    "**Signatura del TAD colas**\n",
    "\n",
    "+ Signatura:\n",
    "\n",
    "```sesion\n",
    "vacia   :: Cola a\n",
    "inserta :: a -> Cola a -> Cola a\n",
    "primero :: Cola a -> a\n",
    "resto   :: Cola a -> Cola a\n",
    "esVacia :: Cola a -> Bool\n",
    "valida  :: Cola a -> Bool\n",
    "```\n",
    "\n",
    "+ Descripción de las operaciones:\n",
    "    + `vacia` es la cola vacía.\n",
    "    + `(inserta x c)` es la cola obtenida añadiendo `x` al final de `c`.\n",
    "    + `(primero c)` es el primero de la cola `c`.\n",
    "    + `(resto c)` es la cola obtenida eliminando el primero de `c`.\n",
    "    + `(esVacia c)` se verifica si `c` es la cola vacía.\n",
    "    + `(valida c)` se verifica si `c` representa una cola válida.\n",
    "\n",
    "Propiedades del TAD de las colas\n",
    "--------------------------------\n",
    "\n",
    "**Propiedades del TAD de las colas**\n",
    "\n",
    "+ `primero (inserta x vacia) == x`\n",
    "\n",
    "+ Si `c` es una cola no vacía, entonces `primero (inserta x c) == primero c`,\n",
    "\n",
    "+ `resto (inserta x vacia) == vacia`\n",
    "\n",
    "+ Si `c` es una cola no vacía, entonces `resto (inserta x c) == inserta x\n",
    "  (resto c)`\n",
    "\n",
    "+ `esVacia vacia`\n",
    "\n",
    "+ `not (esVacia (inserta x c))`\n",
    "\n",
    "Implementaciones del TAD de las colas\n",
    "=====================================\n",
    "\n",
    "Implementación de las colas mediante listas\n",
    "-------------------------------------------\n",
    "\n",
    "Está en el fichero [ColaConListas.hs](codigos/ColaConListas.hs)."
   ]
  },
  {
   "cell_type": "code",
   "execution_count": 2,
   "metadata": {},
   "outputs": [],
   "source": [
    "module ColaConListas \n",
    "    (Cola,\n",
    "     vacia,   -- Cola a\n",
    "     inserta, -- a -> Cola a -> Cola a\n",
    "     primero, -- Cola a -> a\n",
    "     resto,   -- Cola a -> Cola a\n",
    "     esVacia, -- Cola a -> Bool\n",
    "     valida   -- Cola a -> Bool\n",
    "    ) where\n",
    "\n",
    "-- Colas como listas:\n",
    "newtype Cola a = C [a]\n",
    "    deriving (Show, Eq)\n",
    "\n",
    "-- Ejemplo de cola\n",
    "--    ghci> c1\n",
    "--    C [10,9,8,7,6,5,4,3,2,1]\n",
    "c1 = foldr inserta vacia [1..10]\n",
    "\n",
    "-- vacia es la cola vacía. Por ejemplo,\n",
    "--    ghci> vacia\n",
    "--    C []\n",
    "vacia :: Cola a\n",
    "vacia = C []\n",
    "\n",
    "-- (inserta x c) es la cola obtenida añadiendo x al final de la cola\n",
    "-- c. Por ejemplo,\n",
    "--    inserta 12 c1  ==  C [10,9,8,7,6,5,4,3,2,1,12]\n",
    "inserta :: a -> Cola a -> Cola a\n",
    "inserta x (C c) = C (c ++ [x])\n",
    "\n",
    "-- Nota: La operación inserta usa O(n) pasos.\n",
    "\n",
    "-- (primero c) es el primer elemento de la cola c. Por ejemplo,\n",
    "--    primero c1  ==  10\n",
    "primero :: Cola a -> a\n",
    "primero (C (x:_)) = x\n",
    "primero (C [])    = error \"primero: cola vacia\"\n",
    "\n",
    "-- (resto c) es la cola obtenida eliminando el primer elemento de la\n",
    "-- cola c. Por ejemplo,\n",
    "--    resto c1  ==  C [9,8,7,6,5,4,3,2,1]\n",
    "resto :: Cola a -> Cola a\n",
    "resto (C (_:xs)) = C xs\n",
    "resto (C [])     = error \"resto: cola vacia\"\n",
    "\n",
    "-- (esVacia c) se verifica si c es la cola vacía. Por ejemplo,\n",
    "--    esVacia c1     ==  False\n",
    "--    esVacia vacia  ==  True\n",
    "esVacia :: Cola a -> Bool\n",
    "esVacia (C xs)  = null xs\n",
    "\n",
    "-- (valida c) se verifica si c representa una cola válida. Con esta\n",
    "-- representación, todas las colas son válidas.\n",
    "valida :: Cola a -> Bool\n",
    "valida c = True"
   ]
  },
  {
   "cell_type": "markdown",
   "metadata": {},
   "source": [
    "+ Ejemplos"
   ]
  },
  {
   "cell_type": "code",
   "execution_count": 3,
   "metadata": {},
   "outputs": [],
   "source": [
    "c1 = foldr inserta vacia [1..10]"
   ]
  },
  {
   "cell_type": "code",
   "execution_count": 4,
   "metadata": {},
   "outputs": [
    {
     "data": {
      "text/plain": [
       "C [10,9,8,7,6,5,4,3,2,1]"
      ]
     },
     "metadata": {},
     "output_type": "display_data"
    }
   ],
   "source": [
    "c1"
   ]
  },
  {
   "cell_type": "code",
   "execution_count": 5,
   "metadata": {},
   "outputs": [
    {
     "data": {
      "text/plain": [
       "C []"
      ]
     },
     "metadata": {},
     "output_type": "display_data"
    }
   ],
   "source": [
    "vacia"
   ]
  },
  {
   "cell_type": "code",
   "execution_count": 6,
   "metadata": {},
   "outputs": [
    {
     "data": {
      "text/plain": [
       "C [10,9,8,7,6,5,4,3,2,1,12]"
      ]
     },
     "metadata": {},
     "output_type": "display_data"
    }
   ],
   "source": [
    "inserta 12 c1"
   ]
  },
  {
   "cell_type": "code",
   "execution_count": 7,
   "metadata": {},
   "outputs": [
    {
     "data": {
      "text/plain": [
       "10"
      ]
     },
     "metadata": {},
     "output_type": "display_data"
    }
   ],
   "source": [
    "primero c1"
   ]
  },
  {
   "cell_type": "code",
   "execution_count": 8,
   "metadata": {},
   "outputs": [
    {
     "data": {
      "text/plain": [
       "C [9,8,7,6,5,4,3,2,1]"
      ]
     },
     "metadata": {},
     "output_type": "display_data"
    }
   ],
   "source": [
    "resto c1"
   ]
  },
  {
   "cell_type": "code",
   "execution_count": 9,
   "metadata": {},
   "outputs": [
    {
     "data": {
      "text/plain": [
       "False"
      ]
     },
     "metadata": {},
     "output_type": "display_data"
    }
   ],
   "source": [
    "esVacia c1"
   ]
  },
  {
   "cell_type": "code",
   "execution_count": 10,
   "metadata": {},
   "outputs": [
    {
     "data": {
      "text/plain": [
       "True"
      ]
     },
     "metadata": {},
     "output_type": "display_data"
    }
   ],
   "source": [
    "esVacia vacia"
   ]
  },
  {
   "cell_type": "markdown",
   "metadata": {},
   "source": [
    "+ Se borra la primera implementación"
   ]
  },
  {
   "cell_type": "code",
   "execution_count": 11,
   "metadata": {},
   "outputs": [],
   "source": [
    ":m - ColaConListas"
   ]
  },
  {
   "cell_type": "code",
   "execution_count": 12,
   "metadata": {},
   "outputs": [
    {
     "ename": "",
     "evalue": "",
     "header": "MessageHeader {mhIdentifiers = [\"59a2cc43-e18b-40ac-bf23-b4e856fc6ca4\"], mhParentHeader = Just (MessageHeader {mhIdentifiers = [\"59a2cc43-e18b-40ac-bf23-b4e856fc6ca4\"], mhParentHeader = Nothing, mhMetadata = Metadata (fromList [(\"deletedCells\",Array []),(\"cellId\",String \"e7747ebc-8570-43f3-8ca7-113901b0b343\")]), mhMessageId = UUID {uuidToString = \"17685bc0-576f-40af-b2b1-238ce3236417\"}, mhSessionId = UUID {uuidToString = \"59a2cc43-e18b-40ac-bf23-b4e856fc6ca4\"}, mhUsername = \"\", mhMsgType = ExecuteRequestMessage}), mhMetadata = Metadata (fromList []), mhMessageId = UUID {uuidToString = \"72eeecc6-913e-4220-be44-bc89dc1a0a46\"}, mhSessionId = UUID {uuidToString = \"59a2cc43-e18b-40ac-bf23-b4e856fc6ca4\"}, mhUsername = \"\", mhMsgType = ExecuteErrorMessage}",
     "output_type": "error",
     "traceback": [
      "<interactive>:1:1: error: Variable not in scope: esVacia :: t0 -> t\n<interactive>:1:9: error: Variable not in scope: vacia"
     ]
    }
   ],
   "source": [
    "esVacia vacia"
   ]
  },
  {
   "cell_type": "markdown",
   "metadata": {},
   "source": [
    "Implementación de las colas mediante pares de listas\n",
    "----------------------------------------------------\n",
    "\n",
    "**Las colas como pares de listas**\n",
    "\n",
    "+ En esta implementación, una cola `c` se representa mediante un par de listas\n",
    "  `(xs,ys)` de modo que los elementos de `c` son, en ese orden, los elementos\n",
    "  de la lista `xs++(reverse ys)`.\n",
    "\n",
    "+ Al dividir la lista en dos parte e invertir la segunda de ellas, esperamos\n",
    "  hacer más eficiente las operaciones sobre las colas.\n",
    "\n",
    "+ Impondremos también una restricción adicional sobre la representación: las\n",
    "  colas serán representadas mediante pares `(xs,ys)` tales que si `xs` es\n",
    "  vacía, entonces `ys` será también vacía.\n",
    "\n",
    "+ Esta restricción ha de mantenerse por las operaciones que crean colas.\n",
    "\n",
    "**Implementación de las colas como pares de listas**\n",
    "\n",
    "Está en el fichero [ColaConDosListas.hs](codigos/ColaConDosListas.hs)."
   ]
  },
  {
   "cell_type": "code",
   "execution_count": 13,
   "metadata": {},
   "outputs": [],
   "source": [
    "module ColaConDosListas\n",
    "    (Cola,\n",
    "     vacia,   -- Cola a\n",
    "     inserta, -- a -> Cola a -> Cola a\n",
    "     primero, -- Cola a -> a\n",
    "     resto,   -- Cola a -> Cola a\n",
    "     esVacia, -- Cola a -> Bool\n",
    "     valida   -- Cola a -> Bool\n",
    "    ) where\n",
    "\n",
    "-- Las colas como pares listas.\n",
    "newtype Cola a = C ([a],[a])\n",
    "    -- deriving Show\n",
    "\n",
    "-- Procedimiento de escritura de colas como pares de listas.\n",
    "instance (Show a) => Show (Cola a) where\n",
    "  showsPrec _ (C (xs,ys)) cad =\n",
    "    showString \"C \" (showList (xs ++ reverse ys) cad)\n",
    "\n",
    "-- Ejemplo de cola: c1 es la cola obtenida añadiéndole a la cola \n",
    "-- vacía los números del 1 al 10. Por ejemplo,\n",
    "--    ghci> c1\n",
    "--    C [10,9,8,7,6,5,4,3,2,1]\n",
    "c1 :: Cola Int\n",
    "c1 = foldr inserta vacia [1..10]\n",
    "\n",
    "-- vacia es la cola vacía. Por ejemplo,\n",
    "--    ghci> vacia\n",
    "--    C []\n",
    "vacia :: Cola a\n",
    "vacia  = C ([],[])\n",
    "\n",
    "-- (inserta x c) es la cola obtenida añadiendo x al final de la cola\n",
    "-- c. Por ejemplo,\n",
    "--    inserta 12 c1  ==  C [10,9,8,7,6,5,4,3,2,1,12]\n",
    "inserta :: a -> Cola a -> Cola a\n",
    "inserta y (C (xs,ys)) = C (normaliza (xs,y:ys))\n",
    "\n",
    "-- (normaliza p) es la cola obtenida al normalizar el par de listas\n",
    "-- p. Por ejemplo,  \n",
    "--    normaliza ([],[2,5,3])   ==  ([3,5,2],[])\n",
    "--    normaliza ([4],[2,5,3])  ==  ([4],[2,5,3])\n",
    "normaliza :: ([a],[a]) -> ([a],[a])\n",
    "normaliza ([], ys) = (reverse ys, [])\n",
    "normaliza p        = p\n",
    "\n",
    "-- (primero c) es el primer elemento de la cola c. Por ejemplo,\n",
    "--    primero c1  ==  10\n",
    "primero  :: Cola a -> a\n",
    "primero (C (x:_,_)) = x\n",
    "primero _           = error \"primero: cola vacia\"\n",
    "\n",
    "-- (resto c) es la cola obtenida eliminando el primer elemento de la\n",
    "-- cola c. Por ejemplo,\n",
    "--    resto c1  ==  C [9,8,7,6,5,4,3,2,1]\n",
    "resto  :: Cola a -> Cola a\n",
    "resto (C ([],[]))   = error \"resto: cola vacia\"\n",
    "resto (C (_:xs,ys)) = C (normaliza (xs,ys))\n",
    "\n",
    "-- (esVacia c) se verifica si c es la cola vacía. Por ejemplo,\n",
    "--    esVacia c1     ==  False\n",
    "--    esVacia vacia  ==  True\n",
    "esVacia :: Cola a -> Bool\n",
    "esVacia (C (xs,_)) = null xs\n",
    "\n",
    "-- (valida c) se verifica si la cola c es válida; es decir, si\n",
    "-- su primer elemento es vacío entonces también lo es el segundo. Por\n",
    "-- ejemplo, \n",
    "--    valida (C ([2],[5]))  ==  True\n",
    "--    valida (C ([2],[]))   ==  True\n",
    "--    valida (C ([],[5]))   ==  False\n",
    "valida:: Cola a -> Bool\n",
    "valida (C (xs,ys)) = not (null xs) || null ys\n",
    "\n",
    "-- ---------------------------------------------------------------------\n",
    "-- Igualdad de colas                                                  --\n",
    "-- ---------------------------------------------------------------------\n",
    "\n",
    "-- (elementos c) es la lista de los elementos de la cola c en el orden de\n",
    "-- la cola. Por ejemplo, \n",
    "--    elementos (C ([3,2],[5,4,7]))  ==  [3,2,7,4,5]\n",
    "elementos :: Cola a -> [a]\n",
    "elementos (C (xs,ys)) = xs ++ reverse ys\n",
    "\n",
    "-- (igualColas c1 c2) se verifica si las colas c1 y c2 son iguales. Por\n",
    "-- ejemplo, \n",
    "--    igualColas (C ([3,2],[5,4,7])) (C ([3],[5,4,7,2]))   ==  True\n",
    "--    igualColas (C ([3,2],[5,4,7])) (C ([],[5,4,7,2,3]))  ==  False\n",
    "igualColas :: Eq a => Cola a -> Cola a -> Bool\n",
    "igualColas c c' = \n",
    "  valida c && valida c' && elementos c == elementos c'\n",
    "\n",
    "instance (Eq a) => Eq (Cola a) where\n",
    "  (==) = igualColas"
   ]
  },
  {
   "cell_type": "markdown",
   "metadata": {},
   "source": [
    "+ Ejemplos"
   ]
  },
  {
   "cell_type": "code",
   "execution_count": 14,
   "metadata": {},
   "outputs": [],
   "source": [
    "c1 = foldr inserta vacia [1..10]"
   ]
  },
  {
   "cell_type": "code",
   "execution_count": 15,
   "metadata": {},
   "outputs": [
    {
     "data": {
      "text/plain": [
       "C [10,9,8,7,6,5,4,3,2,1]"
      ]
     },
     "metadata": {},
     "output_type": "display_data"
    }
   ],
   "source": [
    "c1"
   ]
  },
  {
   "cell_type": "code",
   "execution_count": 16,
   "metadata": {},
   "outputs": [
    {
     "data": {
      "text/plain": [
       "C []"
      ]
     },
     "metadata": {},
     "output_type": "display_data"
    }
   ],
   "source": [
    "vacia"
   ]
  },
  {
   "cell_type": "code",
   "execution_count": 17,
   "metadata": {},
   "outputs": [
    {
     "data": {
      "text/plain": [
       "C [10,9,8,7,6,5,4,3,2,1,12]"
      ]
     },
     "metadata": {},
     "output_type": "display_data"
    }
   ],
   "source": [
    "inserta 12 c1"
   ]
  },
  {
   "cell_type": "code",
   "execution_count": 18,
   "metadata": {},
   "outputs": [
    {
     "data": {
      "text/plain": [
       "10"
      ]
     },
     "metadata": {},
     "output_type": "display_data"
    }
   ],
   "source": [
    "primero c1  "
   ]
  },
  {
   "cell_type": "code",
   "execution_count": 19,
   "metadata": {},
   "outputs": [
    {
     "data": {
      "text/plain": [
       "C [9,8,7,6,5,4,3,2,1]"
      ]
     },
     "metadata": {},
     "output_type": "display_data"
    }
   ],
   "source": [
    "resto c1"
   ]
  },
  {
   "cell_type": "code",
   "execution_count": 20,
   "metadata": {},
   "outputs": [
    {
     "data": {
      "text/plain": [
       "False"
      ]
     },
     "metadata": {},
     "output_type": "display_data"
    }
   ],
   "source": [
    "esVacia c1"
   ]
  },
  {
   "cell_type": "code",
   "execution_count": 21,
   "metadata": {},
   "outputs": [
    {
     "data": {
      "text/plain": [
       "True"
      ]
     },
     "metadata": {},
     "output_type": "display_data"
    }
   ],
   "source": [
    "esVacia vacia"
   ]
  },
  {
   "cell_type": "markdown",
   "metadata": {},
   "source": [
    "+ Se borra la 2ª implementación"
   ]
  },
  {
   "cell_type": "code",
   "execution_count": 22,
   "metadata": {},
   "outputs": [],
   "source": [
    ":m - ColaConDosListas"
   ]
  },
  {
   "cell_type": "markdown",
   "metadata": {},
   "source": [
    "Comprobación de las implementaciones con QuickCheck\n",
    "==================================================="
   ]
  },
  {
   "cell_type": "code",
   "execution_count": 23,
   "metadata": {},
   "outputs": [],
   "source": [
    "{-# LANGUAGE FlexibleInstances #-}\n",
    "\n",
    "module ColaPropiedades where\n",
    "\n",
    "-- Hay que elegir una implementación del TAD colas:\n",
    "import ColaConListas\n",
    "-- import ColaConDosListas\n",
    "\n",
    "import Test.QuickCheck\n",
    "\n",
    "-- ---------------------------------------------------------------------\n",
    "-- Generador de colas                                          --\n",
    "-- ---------------------------------------------------------------------\n",
    "\n",
    "-- genCola es un generador de colas de enteros. Por ejemplo,\n",
    "--    ghci> sample genCola\n",
    "--    C ([],[])\n",
    "--    C ([],[])\n",
    "--    C ([],[])\n",
    "--    C ([],[])\n",
    "--    C ([7,8,4,3,7],[5,3,3])\n",
    "--    C ([],[])\n",
    "--    C ([1],[13])\n",
    "--    C ([18,28],[12,21,28,28,3,18,14])\n",
    "--    C ([47],[64,45,7])\n",
    "--    C ([8],[])\n",
    "--    C ([42,112,178,175,107],[])\n",
    "genCola :: Gen (Cola Int)\n",
    "genCola = frequency [(1, return vacia),\n",
    "                     (30, do n <- choose (10,100)\n",
    "                             xs <- vectorOf n arbitrary\n",
    "                             return (creaCola xs))]\n",
    "          where creaCola = foldr inserta vacia\n",
    "\n",
    "-- El tipo pila es una instancia del arbitrario.\n",
    "instance Arbitrary (Cola Int) where\n",
    "  arbitrary = genCola\n",
    "\n",
    "-- Propiedad. Todo los elementos generados por genCola son colas\n",
    "-- válidas. \n",
    "prop_genCola_correcto :: Cola Int -> Bool\n",
    "prop_genCola_correcto c = valida c\n",
    "\n",
    "-- Comprobación.\n",
    "--    ghci> quickCheck prop_genCola_correcto\n",
    "--    +++ OK, passed 100 tests.\n",
    "\n",
    "-- ---------------------------------------------------------------------\n",
    "-- Propiedades\n",
    "-- ---------------------------------------------------------------------\n",
    "\n",
    "-- Propiedad. El primero de la cola obtenida añadiendo x a la cola vacía\n",
    "-- es x. \n",
    "prop_primero_inserta_vacia :: Int -> Bool\n",
    "prop_primero_inserta_vacia x = \n",
    "  primero (inserta x vacia) == x\n",
    "\n",
    "-- Comprobación.\n",
    "--    > quickCheck prop_primero_inserta_vacia\n",
    "--    +++ OK, passed 100 tests.\n",
    "\n",
    "-- Propiedad. Si una cola no está vacía, su primer elemento no varía al\n",
    "-- añadirle un elemento. \n",
    "prop_primero_inserta_no_vacia :: Cola Int -> Int -> Int -> Bool\n",
    "prop_primero_inserta_no_vacia c x y =\n",
    "  primero (inserta x c') == primero c'\n",
    "  where c' = inserta y vacia\n",
    "\n",
    "-- Comprobación.\n",
    "--    > quickCheck prop_primero_inserta_no_vacia\n",
    "--    +++ OK, passed 100 tests.\n",
    "\n",
    "-- Propiedad. El resto de la cola obtenida insertando un elemento en la\n",
    "-- cola vacía es la cola vacía.  \n",
    "prop_resto_inserta_vacia :: Int -> Bool\n",
    "prop_resto_inserta_vacia x = \n",
    "  resto (inserta x vacia) == vacia\n",
    "\n",
    "-- Comprobación.\n",
    "--    > quickCheck prop_resto_inserta_vacia\n",
    "--    +++ OK, passed 100 tests.\n",
    "\n",
    "-- Propiedad. Las operaciones de inserta y resto conmutan.\n",
    "prop_resto_inserta_en_no_vacia :: Cola Int -> Int -> Int -> Bool\n",
    "prop_resto_inserta_en_no_vacia c x y =\n",
    "  resto (inserta x c') == inserta x (resto c')\n",
    "  where c' = inserta y c\n",
    "\n",
    "-- Comprobación.\n",
    "--    > quickCheck prop_resto_inserta_en_no_vacia\n",
    "--    +++ OK, passed 100 tests.\n",
    "\n",
    "-- Propiedad. vacia es una cola vacía.\n",
    "prop_vacia_es_vacia :: Bool\n",
    "prop_vacia_es_vacia = \n",
    "  esVacia vacia\n",
    "\n",
    "-- Comprobación.\n",
    "--    > quickCheck prop_vacia_es_vacia\n",
    "--    +++ OK, passed 100 tests.\n",
    "\n",
    "-- Propiedad. La cola obtenida insertando un elemento no es vacía.\n",
    "prop_inserta_no_es_vacia :: Int -> Cola Int -> Bool\n",
    "prop_inserta_no_es_vacia x c = \n",
    "  not (esVacia (inserta x c))\n",
    "\n",
    "-- Comprobación\n",
    "--    > quickCheck prop_inserta_no_es_vacia\n",
    "--    +++ OK, passed 100 tests.\n",
    "\n",
    "-- ---------------------------------------------------------------------\n",
    "-- Propiedades de la normalización                                    --\n",
    "-- ---------------------------------------------------------------------\n",
    "\n",
    "-- Propiedad. La cola vacía es válida.\n",
    "prop_valida_vacia :: Bool\n",
    "prop_valida_vacia = valida vacia\n",
    "\n",
    "-- Comprobación\n",
    "--    ghci> quickCheck prop_valida_vacia\n",
    "--    +++ OK, passed 100 tests.\n",
    "\n",
    "-- Propiedad. Al añadirle un elemento a una cola válida se obtiene otra\n",
    "-- cola válida. \n",
    "prop_valida_inserta :: Cola Int -> Int -> Property\n",
    "prop_valida_inserta c x =\n",
    "  valida c ==> valida (inserta x c)\n",
    "\n",
    "-- Comprobación.\n",
    "--    ghci> quickCheck prop_valida_inserta\n",
    "--    +++ OK, passed 100 tests.\n",
    "\n",
    "-- Propiedad. El resto de una cola válida y no vacía es una cola válida. \n",
    "prop_valida_resto :: Cola Int -> Property\n",
    "prop_valida_resto c =\n",
    "  valida c && not (esVacia c) ==> valida (resto c)\n",
    "\n",
    "-- Comprobación\n",
    "--    ghci> quickCheck prop_valida_resto\n",
    "--    +++ OK, passed 100 tests."
   ]
  },
  {
   "cell_type": "markdown",
   "metadata": {},
   "source": [
    "Comprobación de las propiedades\n",
    "-------------------------------"
   ]
  },
  {
   "cell_type": "code",
   "execution_count": 24,
   "metadata": {},
   "outputs": [
    {
     "data": {
      "text/plain": [
       "+++ OK, passed 100 tests."
      ]
     },
     "metadata": {},
     "output_type": "display_data"
    },
    {
     "data": {
      "text/plain": [
       "+++ OK, passed 100 tests."
      ]
     },
     "metadata": {},
     "output_type": "display_data"
    },
    {
     "data": {
      "text/plain": [
       "+++ OK, passed 100 tests."
      ]
     },
     "metadata": {},
     "output_type": "display_data"
    },
    {
     "data": {
      "text/plain": [
       "+++ OK, passed 100 tests."
      ]
     },
     "metadata": {},
     "output_type": "display_data"
    },
    {
     "data": {
      "text/plain": [
       "+++ OK, passed 1 test."
      ]
     },
     "metadata": {},
     "output_type": "display_data"
    },
    {
     "data": {
      "text/plain": [
       "+++ OK, passed 100 tests."
      ]
     },
     "metadata": {},
     "output_type": "display_data"
    },
    {
     "data": {
      "text/plain": [
       "+++ OK, passed 1 test."
      ]
     },
     "metadata": {},
     "output_type": "display_data"
    },
    {
     "data": {
      "text/plain": [
       "+++ OK, passed 100 tests."
      ]
     },
     "metadata": {},
     "output_type": "display_data"
    },
    {
     "data": {
      "text/plain": [
       "+++ OK, passed 100 tests; 3 discarded."
      ]
     },
     "metadata": {},
     "output_type": "display_data"
    }
   ],
   "source": [
    "import Test.QuickCheck\n",
    "quickCheck prop_primero_inserta_vacia\n",
    "quickCheck prop_primero_inserta_no_vacia\n",
    "quickCheck prop_resto_inserta_vacia\n",
    "quickCheck prop_resto_inserta_en_no_vacia\n",
    "quickCheck prop_vacia_es_vacia\n",
    "quickCheck prop_inserta_no_es_vacia\n",
    "quickCheck prop_valida_vacia\n",
    "quickCheck prop_valida_inserta\n",
    "quickCheck prop_valida_resto"
   ]
  },
  {
   "cell_type": "markdown",
   "metadata": {},
   "source": [
    "> **Nota** Se borran los ficheros de los módulos usados"
   ]
  },
  {
   "cell_type": "code",
   "execution_count": 25,
   "metadata": {},
   "outputs": [
    {
     "data": {
      "text/plain": []
     },
     "metadata": {},
     "output_type": "display_data"
    }
   ],
   "source": [
    ":! rm -f *.hs *.hi *.o *.dyn_*"
   ]
  },
  {
   "cell_type": "markdown",
   "metadata": {},
   "source": [
    "Referencias\n",
    "===========\n",
    "\n",
    "+ F. Rabhi y G. Lapalme\n",
    "  [Algorithms: A functional programming approach](http://bit.ly/1mWBqiI)\n",
    "    + Cap. 5.3. Queues.\n",
    "+ WikiBooks, [Data structures primer](http://bit.ly/1mWAQRY)."
   ]
  }
 ],
 "metadata": {
  "kernelspec": {
   "display_name": "Haskell",
   "language": "haskell",
   "name": "haskell"
  },
  "language_info": {
   "codemirror_mode": "ihaskell",
   "file_extension": ".hs",
   "name": "haskell",
   "pygments_lexer": "Haskell",
   "version": "8.6.5"
  }
 },
 "nbformat": 4,
 "nbformat_minor": 4
}
